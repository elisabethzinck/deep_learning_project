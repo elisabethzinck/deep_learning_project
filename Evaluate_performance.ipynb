{
  "nbformat": 4,
  "nbformat_minor": 0,
  "metadata": {
    "colab": {
      "name": "Evaluate performance.ipynb",
      "provenance": [],
      "collapsed_sections": [],
      "authorship_tag": "ABX9TyN85J3mSh+LqMepBIU2Wg8w",
      "include_colab_link": true
    },
    "kernelspec": {
      "name": "python3",
      "display_name": "Python 3"
    },
    "accelerator": "GPU"
  },
  "cells": [
    {
      "cell_type": "markdown",
      "metadata": {
        "id": "view-in-github",
        "colab_type": "text"
      },
      "source": [
        "<a href=\"https://colab.research.google.com/github/elisabethzinck/deep_learning_project/blob/master/Evaluate_performance.ipynb\" target=\"_parent\"><img src=\"https://colab.research.google.com/assets/colab-badge.svg\" alt=\"Open In Colab\"/></a>"
      ]
    },
    {
      "cell_type": "markdown",
      "metadata": {
        "id": "jXwxvaKzza5f"
      },
      "source": [
        "# Set up things"
      ]
    },
    {
      "cell_type": "code",
      "metadata": {
        "colab": {
          "base_uri": "https://localhost:8080/"
        },
        "id": "NW3aq6D5yotn",
        "outputId": "6d1e1fc1-2d31-48dd-e868-b556fa9df582"
      },
      "source": [
        "import torch\n",
        "\n",
        "# If there's a GPU available...\n",
        "if torch.cuda.is_available():    \n",
        "\n",
        "    # Tell PyTorch to use the GPU.    \n",
        "    device = torch.device(\"cuda\")\n",
        "\n",
        "    print('There are %d GPU(s) available.' % torch.cuda.device_count())\n",
        "\n",
        "    print('We will use the GPU:', torch.cuda.get_device_name(0))\n",
        "\n",
        "# If not...\n",
        "else:\n",
        "    print('No GPU available, using the CPU instead.')\n",
        "    device = torch.device(\"cpu\")"
      ],
      "execution_count": 1,
      "outputs": [
        {
          "output_type": "stream",
          "text": [
            "There are 1 GPU(s) available.\n",
            "We will use the GPU: Tesla T4\n"
          ],
          "name": "stdout"
        }
      ]
    },
    {
      "cell_type": "code",
      "metadata": {
        "colab": {
          "base_uri": "https://localhost:8080/"
        },
        "id": "JUk3RJavyuh_",
        "outputId": "4bcf9e26-23d9-435b-8d60-453a06d13e00"
      },
      "source": [
        "! pip install datasets\n",
        "! pip install transformers"
      ],
      "execution_count": 2,
      "outputs": [
        {
          "output_type": "stream",
          "text": [
            "Collecting datasets\n",
            "\u001b[?25l  Downloading https://files.pythonhosted.org/packages/1a/38/0c24dce24767386123d528d27109024220db0e7a04467b658d587695241a/datasets-1.1.3-py3-none-any.whl (153kB)\n",
            "\r\u001b[K     |██▏                             | 10kB 23.8MB/s eta 0:00:01\r\u001b[K     |████▎                           | 20kB 30.2MB/s eta 0:00:01\r\u001b[K     |██████▍                         | 30kB 21.4MB/s eta 0:00:01\r\u001b[K     |████████▌                       | 40kB 17.4MB/s eta 0:00:01\r\u001b[K     |██████████▋                     | 51kB 12.6MB/s eta 0:00:01\r\u001b[K     |████████████▉                   | 61kB 13.9MB/s eta 0:00:01\r\u001b[K     |███████████████                 | 71kB 13.5MB/s eta 0:00:01\r\u001b[K     |█████████████████               | 81kB 13.4MB/s eta 0:00:01\r\u001b[K     |███████████████████▏            | 92kB 13.1MB/s eta 0:00:01\r\u001b[K     |█████████████████████▎          | 102kB 12.7MB/s eta 0:00:01\r\u001b[K     |███████████████████████▌        | 112kB 12.7MB/s eta 0:00:01\r\u001b[K     |█████████████████████████▋      | 122kB 12.7MB/s eta 0:00:01\r\u001b[K     |███████████████████████████▊    | 133kB 12.7MB/s eta 0:00:01\r\u001b[K     |█████████████████████████████▉  | 143kB 12.7MB/s eta 0:00:01\r\u001b[K     |████████████████████████████████| 153kB 12.7MB/s eta 0:00:01\r\u001b[K     |████████████████████████████████| 163kB 12.7MB/s \n",
            "\u001b[?25hRequirement already satisfied: requests>=2.19.0 in /usr/local/lib/python3.6/dist-packages (from datasets) (2.23.0)\n",
            "Requirement already satisfied: tqdm<4.50.0,>=4.27 in /usr/local/lib/python3.6/dist-packages (from datasets) (4.41.1)\n",
            "Requirement already satisfied: dataclasses; python_version < \"3.7\" in /usr/local/lib/python3.6/dist-packages (from datasets) (0.8)\n",
            "Requirement already satisfied: numpy>=1.17 in /usr/local/lib/python3.6/dist-packages (from datasets) (1.18.5)\n",
            "Collecting pyarrow>=0.17.1\n",
            "\u001b[?25l  Downloading https://files.pythonhosted.org/packages/d7/e1/27958a70848f8f7089bff8d6ebe42519daf01f976d28b481e1bfd52c8097/pyarrow-2.0.0-cp36-cp36m-manylinux2014_x86_64.whl (17.7MB)\n",
            "\u001b[K     |████████████████████████████████| 17.7MB 210kB/s \n",
            "\u001b[?25hRequirement already satisfied: pandas in /usr/local/lib/python3.6/dist-packages (from datasets) (1.1.4)\n",
            "Requirement already satisfied: multiprocess in /usr/local/lib/python3.6/dist-packages (from datasets) (0.70.11.1)\n",
            "Requirement already satisfied: dill in /usr/local/lib/python3.6/dist-packages (from datasets) (0.3.3)\n",
            "Collecting xxhash\n",
            "\u001b[?25l  Downloading https://files.pythonhosted.org/packages/f7/73/826b19f3594756cb1c6c23d2fbd8ca6a77a9cd3b650c9dec5acc85004c38/xxhash-2.0.0-cp36-cp36m-manylinux2010_x86_64.whl (242kB)\n",
            "\u001b[K     |████████████████████████████████| 245kB 40.3MB/s \n",
            "\u001b[?25hRequirement already satisfied: certifi>=2017.4.17 in /usr/local/lib/python3.6/dist-packages (from requests>=2.19.0->datasets) (2020.11.8)\n",
            "Requirement already satisfied: idna<3,>=2.5 in /usr/local/lib/python3.6/dist-packages (from requests>=2.19.0->datasets) (2.10)\n",
            "Requirement already satisfied: chardet<4,>=3.0.2 in /usr/local/lib/python3.6/dist-packages (from requests>=2.19.0->datasets) (3.0.4)\n",
            "Requirement already satisfied: urllib3!=1.25.0,!=1.25.1,<1.26,>=1.21.1 in /usr/local/lib/python3.6/dist-packages (from requests>=2.19.0->datasets) (1.24.3)\n",
            "Requirement already satisfied: python-dateutil>=2.7.3 in /usr/local/lib/python3.6/dist-packages (from pandas->datasets) (2.8.1)\n",
            "Requirement already satisfied: pytz>=2017.2 in /usr/local/lib/python3.6/dist-packages (from pandas->datasets) (2018.9)\n",
            "Requirement already satisfied: six>=1.5 in /usr/local/lib/python3.6/dist-packages (from python-dateutil>=2.7.3->pandas->datasets) (1.15.0)\n",
            "Installing collected packages: pyarrow, xxhash, datasets\n",
            "  Found existing installation: pyarrow 0.14.1\n",
            "    Uninstalling pyarrow-0.14.1:\n",
            "      Successfully uninstalled pyarrow-0.14.1\n",
            "Successfully installed datasets-1.1.3 pyarrow-2.0.0 xxhash-2.0.0\n",
            "Collecting transformers\n",
            "\u001b[?25l  Downloading https://files.pythonhosted.org/packages/99/84/7bc03215279f603125d844bf81c3fb3f2d50fe8e511546eb4897e4be2067/transformers-4.0.0-py3-none-any.whl (1.4MB)\n",
            "\u001b[K     |████████████████████████████████| 1.4MB 12.3MB/s \n",
            "\u001b[?25hCollecting tokenizers==0.9.4\n",
            "\u001b[?25l  Downloading https://files.pythonhosted.org/packages/0f/1c/e789a8b12e28be5bc1ce2156cf87cb522b379be9cadc7ad8091a4cc107c4/tokenizers-0.9.4-cp36-cp36m-manylinux2010_x86_64.whl (2.9MB)\n",
            "\u001b[K     |████████████████████████████████| 2.9MB 46.2MB/s \n",
            "\u001b[?25hCollecting sacremoses\n",
            "\u001b[?25l  Downloading https://files.pythonhosted.org/packages/7d/34/09d19aff26edcc8eb2a01bed8e98f13a1537005d31e95233fd48216eed10/sacremoses-0.0.43.tar.gz (883kB)\n",
            "\u001b[K     |████████████████████████████████| 890kB 55.8MB/s \n",
            "\u001b[?25hRequirement already satisfied: numpy in /usr/local/lib/python3.6/dist-packages (from transformers) (1.18.5)\n",
            "Requirement already satisfied: packaging in /usr/local/lib/python3.6/dist-packages (from transformers) (20.4)\n",
            "Requirement already satisfied: tqdm>=4.27 in /usr/local/lib/python3.6/dist-packages (from transformers) (4.41.1)\n",
            "Requirement already satisfied: filelock in /usr/local/lib/python3.6/dist-packages (from transformers) (3.0.12)\n",
            "Requirement already satisfied: regex!=2019.12.17 in /usr/local/lib/python3.6/dist-packages (from transformers) (2019.12.20)\n",
            "Requirement already satisfied: requests in /usr/local/lib/python3.6/dist-packages (from transformers) (2.23.0)\n",
            "Requirement already satisfied: dataclasses; python_version < \"3.7\" in /usr/local/lib/python3.6/dist-packages (from transformers) (0.8)\n",
            "Requirement already satisfied: six in /usr/local/lib/python3.6/dist-packages (from sacremoses->transformers) (1.15.0)\n",
            "Requirement already satisfied: click in /usr/local/lib/python3.6/dist-packages (from sacremoses->transformers) (7.1.2)\n",
            "Requirement already satisfied: joblib in /usr/local/lib/python3.6/dist-packages (from sacremoses->transformers) (0.17.0)\n",
            "Requirement already satisfied: pyparsing>=2.0.2 in /usr/local/lib/python3.6/dist-packages (from packaging->transformers) (2.4.7)\n",
            "Requirement already satisfied: chardet<4,>=3.0.2 in /usr/local/lib/python3.6/dist-packages (from requests->transformers) (3.0.4)\n",
            "Requirement already satisfied: idna<3,>=2.5 in /usr/local/lib/python3.6/dist-packages (from requests->transformers) (2.10)\n",
            "Requirement already satisfied: urllib3!=1.25.0,!=1.25.1,<1.26,>=1.21.1 in /usr/local/lib/python3.6/dist-packages (from requests->transformers) (1.24.3)\n",
            "Requirement already satisfied: certifi>=2017.4.17 in /usr/local/lib/python3.6/dist-packages (from requests->transformers) (2020.11.8)\n",
            "Building wheels for collected packages: sacremoses\n",
            "  Building wheel for sacremoses (setup.py) ... \u001b[?25l\u001b[?25hdone\n",
            "  Created wheel for sacremoses: filename=sacremoses-0.0.43-cp36-none-any.whl size=893257 sha256=d24fe98df7e11d5d8668b41c76ca22e0a3483b78641dfc4d4634b98e23af3c6c\n",
            "  Stored in directory: /root/.cache/pip/wheels/29/3c/fd/7ce5c3f0666dab31a50123635e6fb5e19ceb42ce38d4e58f45\n",
            "Successfully built sacremoses\n",
            "Installing collected packages: tokenizers, sacremoses, transformers\n",
            "Successfully installed sacremoses-0.0.43 tokenizers-0.9.4 transformers-4.0.0\n"
          ],
          "name": "stdout"
        }
      ]
    },
    {
      "cell_type": "code",
      "metadata": {
        "id": "uDwyNx04y46D"
      },
      "source": [
        "# Import things to get data to work\n",
        "from datasets import load_from_disk\n",
        "import sys\n",
        "import os"
      ],
      "execution_count": 3,
      "outputs": []
    },
    {
      "cell_type": "markdown",
      "metadata": {
        "id": "EgOimibhzz9g"
      },
      "source": [
        "# Load data"
      ]
    },
    {
      "cell_type": "code",
      "metadata": {
        "colab": {
          "base_uri": "https://localhost:8080/"
        },
        "id": "hjGwxZrCzy5u",
        "outputId": "2d39b618-7a89-4c3b-b3ae-75bcfabdbd52"
      },
      "source": [
        "# Mount drive\n",
        "from google.colab import drive\n",
        "drive.mount('/content/drive', force_remount=True)"
      ],
      "execution_count": 4,
      "outputs": [
        {
          "output_type": "stream",
          "text": [
            "Mounted at /content/drive\n"
          ],
          "name": "stdout"
        }
      ]
    },
    {
      "cell_type": "code",
      "metadata": {
        "id": "8OdIQlhiz3l9"
      },
      "source": [
        "sys.path.append(os.path.join('/content/drive/My Drive/deep_learning_project'))\n",
        "train_path = 'drive/My Drive/deep_learning_project/train_small'\n",
        "val_path = 'drive/My Drive/deep_learning_project/validation_small'"
      ],
      "execution_count": 5,
      "outputs": []
    },
    {
      "cell_type": "code",
      "metadata": {
        "id": "_lNYehH2zTXQ"
      },
      "source": [
        "train_data = load_from_disk(train_path)\n",
        "validation_data = load_from_disk(val_path)"
      ],
      "execution_count": 6,
      "outputs": []
    },
    {
      "cell_type": "code",
      "metadata": {
        "colab": {
          "base_uri": "https://localhost:8080/"
        },
        "id": "8H3N70XN0Bpm",
        "outputId": "b01c7dd3-c446-4f73-f12f-84237b83f695"
      },
      "source": [
        "print(train_data[0])\n",
        "print(validation_data[0])"
      ],
      "execution_count": 7,
      "outputs": [
        {
          "output_type": "stream",
          "text": [
            "{'answer': 'york', 'paragraph': ['[P] judi dench', 'born in dorset and later moved to dublin where he was raised he met dench s mother while he was studying medicine at trinity college dublin dench attended the mount school a quaker independent secondary school in york and became a quaker her brothers one of whom was actor jeffery dench were born in tyldesley lancashire her niece emma dench is a roman historian and professor previously at birkbeck university of london and currently at harvard university career in britain dench has developed a reputation as one of the greatest actresses of the post war period primarily through her work in theatre which has been her forte throughout her career she has more than once been named number one in polls for britain s best actor early years'], 'question': ['[Q]', 'Where in England was Dame Judi Dench born?'], 'question_id': 'tc_3'}\n",
            "{'answer': 'coventry', 'paragraph': ['[P] england', 'camelot excalibur merlin and the knights of the round table such as lancelot these stories are most centrally brought together within geoffrey of monmouth s historia regum britanniae history of the kings of britain another early figure from british tradition king cole may have been based on a real figure from sub roman britain many of the tales and pseudo histories make up part of the wider matter of britain a collection of shared british folklore some folk figures are based on semi or actual historical people whose story has been passed down centuries lady godiva for instance was said to have ridden naked on horseback through coventry hereward the wake was a heroic english figure resisting the norman invasion herne the hunter is an equestrian ghost associated'], 'question': ['[Q]', 'Where in England was actor Nigel Hawthorne born?'], 'question_id': 'tc_586'}\n"
          ],
          "name": "stdout"
        }
      ]
    },
    {
      "cell_type": "markdown",
      "metadata": {
        "id": "2H8bWX-2zgBe"
      },
      "source": [
        "# Define functions"
      ]
    },
    {
      "cell_type": "code",
      "metadata": {
        "id": "sn9v0v6vyIp7"
      },
      "source": [
        "# Imports required to run functions\n",
        "import numpy as np\n",
        "from random import sample\n",
        "from sklearn.feature_extraction.text import TfidfVectorizer\n",
        "import torch\n",
        "from transformers import BertTokenizerFast, BertModel\n",
        "\n",
        "\n",
        "\n",
        "def get_top_k(similarity, question_ids, paragraph_ids, k):\n",
        "    \"\"\"\n",
        "    Return the top k documents for based on similarity matrix\n",
        "\n",
        "    Parameters\n",
        "    ----------\n",
        "    similarity : ndarray\n",
        "        similarity matrix with shape (n_questions, n_paragraphs)\n",
        "    question_ids : list of str\n",
        "        List of the question ids\n",
        "    paragraph_ids : list of str\n",
        "        List of the paragraph ids (corresponding to the question id that the \n",
        "                                   paragraph belongs to)\n",
        "    k : int\n",
        "        Number or paragraphs to return\n",
        "\n",
        "    Returns\n",
        "    -------\n",
        "    out : dict\n",
        "        keys are the question ids, and each element contains list of the ids of the\n",
        "        k nearest paragraphs\n",
        "    \"\"\"\n",
        "    n_questions = similarity.shape[0]\n",
        "    idxs = [np.argsort(similarity[row,:])[-k:][::-1] for row in range(n_questions)]\n",
        "    out = {question_ids[i]:np.array(paragraph_ids)[idxs[i]] for i in range(n_questions)}\n",
        "    return out\n",
        "\n",
        "def get_accuracy(top_k):\n",
        "    \"\"\" Returns accuracy. top_k is a dict as returned by get_top_k().  \"\"\"\n",
        "    n_correct = [(question in paragraphs) for question, paragraphs in top_k.items()]\n",
        "    accuracy = sum(n_correct)/len(top_k)*100\n",
        "    return accuracy\n",
        "\n",
        "\n",
        "def get_tfidf_similarity(questions, paragraphs):\n",
        "    \"\"\"\n",
        "    Returns a similarity matrix based on the distance in the tf-idf space\n",
        "\n",
        "    Parameters\n",
        "    ----------\n",
        "    questions : list of strings\n",
        "        Lists of all questions.\n",
        "    paragraphs : list of strings\n",
        "        Lists of all paragraphs\n",
        "    \n",
        "    Returns :\n",
        "    -------\n",
        "        Similarity matrix of dimension  \n",
        "        (number of questions, number of paragraphs). \n",
        "    \"\"\"\n",
        "    vectorizer = TfidfVectorizer(lowercase = False)\n",
        "    all_text = questions + paragraphs\n",
        "    vectorizer.fit(all_text)\n",
        "    similarity = vectorizer.transform(questions) * vectorizer.transform(paragraphs).T\n",
        "    return np.array(similarity.todense())\n",
        "\n",
        "def get_random_accuracy(k_list, n):\n",
        "    max_k = max(k_list)\n",
        "    top_k_list = [sample(range(n), max_k) for i in range(n)] # \n",
        "    accs = [None]*len(k_list)\n",
        "    for i, k in enumerate(k_list): \n",
        "        n_correct = [(1 in top_k[0:k]) for top_k in top_k_list]\n",
        "        accs[i] = sum(n_correct)/n*100\n",
        "    return(accs)\n",
        "\n",
        "def get_accuracy_vector(k_list, sim, question_ids, paragraph_ids):\n",
        "    accs = [None]*len(k_list)\n",
        "    for i, k in enumerate(k_list):\n",
        "        top_k = get_top_k(sim, question_ids, paragraph_ids, k)\n",
        "        accs[i] = get_accuracy(top_k)\n",
        "    return accs\n",
        "\n"
      ],
      "execution_count": 10,
      "outputs": []
    },
    {
      "cell_type": "code",
      "metadata": {
        "id": "QbTAcMUK3P_P"
      },
      "source": [
        "def get_BERT_similarity(questions, paragraphs, tokenizer_name = 'bert-base-uncased', finetuned = False, model_name = 'bert-base-uncased'):\n",
        "    \"\"\"\n",
        "    Returns a similarity matrix based on the distance in the BERT encoded space\n",
        "\n",
        "    Parameters\n",
        "    ----------\n",
        "    questions : list of strings\n",
        "        Lists of all questions.\n",
        "    paragraphs : list of strings\n",
        "        Lists of all paragraphs\n",
        "    tokenizer_name : string\n",
        "        What tokenizer to use. Options = ['bert-base-uncased', 'bert-large-uncased']\n",
        "    finetuned : bool\n",
        "        Whether to use models that we have finetuned or not\n",
        "    model_name : string\n",
        "        Name of model to use. Options = ['bert-base-uncased', 'bert-large-uncased', ']\n",
        "    \n",
        "    Returns :\n",
        "    -------\n",
        "        Similarity matrix of dimension  \n",
        "        (number of questions, number of paragraphs). \n",
        "    \"\"\"\n",
        "    # Define tokenizer \n",
        "    tokenizer = BertTokenizerFast.from_pretrained(tokenizer_name)\n",
        "\n",
        "    # Define model\n",
        "    if finetuned:\n",
        "      folder_path = 'drive/My Drive/deep_learning/BERT/'\n",
        "      model_path = folder_path + model_name\n",
        "      model = BertModel.from_pretrained(model_path)\n",
        "    else:\n",
        "      model = BertModel.from_pretrained(model_name)\n",
        "    \n",
        "    # Tokenize text\n",
        "    tokens_questions = tokenizer(questions, padding = True)\n",
        "    tokens_paragraphs = tokenizer(paragraphs, padding = True)\n",
        "\n",
        "    # Encode text\n",
        "    E_Q = encoder_BERT(model, tokens_questions)\n",
        "    E_P = encoder_BERT(model, tokens_paragraphs)\n",
        "\n",
        "    # Get similarity\n",
        "    sim = torch.matmul(E_Q, E_P.T).numpy()\n",
        "\n",
        "    return sim\n",
        "\n",
        "\n",
        "def encoder_BERT(model, tokenized_text):\n",
        "    tokens_tensor = torch.tensor(tokenized_text[\"input_ids\"])\n",
        "    segments_tensor = torch.tensor(tokenized_text[\"token_type_ids\"])\n",
        "    attention_tensor = torch.tensor(tokenized_text[\"attention_mask\"])\n",
        "    \n",
        "    #model = BertModel.from_pretrained('bert-base-uncased')\n",
        "    \n",
        "    model.eval()\n",
        "\n",
        "    with torch.no_grad():\n",
        "        outputs = model(input_ids=tokens_tensor, attention_mask=attention_tensor, token_type_ids=segments_tensor)\n",
        "        encoded_layers = outputs[0]\n",
        "    \n",
        "    return encoded_layers[:, 0, :]"
      ],
      "execution_count": 28,
      "outputs": []
    },
    {
      "cell_type": "markdown",
      "metadata": {
        "id": "uOaQr2XXzYbb"
      },
      "source": [
        "# Get evaluations"
      ]
    },
    {
      "cell_type": "code",
      "metadata": {
        "id": "ZtbziEp50s8z"
      },
      "source": [
        "import matplotlib.pyplot as plt\n",
        "from sklearn.preprocessing import StandardScaler"
      ],
      "execution_count": 12,
      "outputs": []
    },
    {
      "cell_type": "code",
      "metadata": {
        "id": "7rlApYPt0Stg"
      },
      "source": [
        "n = 1024\n",
        "k_list = [i+1 for i in range(int(n/4))]"
      ],
      "execution_count": 36,
      "outputs": []
    },
    {
      "cell_type": "code",
      "metadata": {
        "id": "xN3_NZrK0avT"
      },
      "source": [
        "data = validation_data.select(range(n))\n",
        "\n",
        "#%% Define inputs\n",
        "questions_BERT = data['question'][0:n]\n",
        "question_ids = data['question_id'][0:n]\n",
        "paragraphs_BERT = data['paragraph'][0:n]\n",
        "#%%\n",
        "questions = [entry[0] + ' ' + entry[1] for entry in questions_BERT]\n",
        "paragraphs = [entry[0] + ' ' + entry[1] for entry in paragraphs_BERT]"
      ],
      "execution_count": 37,
      "outputs": []
    },
    {
      "cell_type": "code",
      "metadata": {
        "id": "ynMJeyik04x3"
      },
      "source": [
        "tfidf_sim = get_tfidf_similarity(questions, paragraphs)\n"
      ],
      "execution_count": 38,
      "outputs": []
    },
    {
      "cell_type": "code",
      "metadata": {
        "id": "bP_GT93p07q1"
      },
      "source": [
        "# Default base model (no finetuning)\n",
        "sim_BERT = get_BERT_similarity(questions_BERT, paragraphs_BERT)\n",
        "#sim_BERT_normalized = StandardScaler().fit_transform(sim_BERT)"
      ],
      "execution_count": null,
      "outputs": []
    },
    {
      "cell_type": "code",
      "metadata": {
        "id": "zLKNkkqi4usp"
      },
      "source": [
        "# Fine tuned on train model\n",
        "sim_BERT_finetuned_train = get_BERT_similarity(questions_BERT, paragraphs_BERT, finetuned = True, model_name = '11layer-trained_on_train')"
      ],
      "execution_count": 29,
      "outputs": []
    },
    {
      "cell_type": "code",
      "metadata": {
        "id": "XMDTK9574La7"
      },
      "source": [
        "# Default large model (no finetuning) (wait)\n",
        "#sim_BERT_large = get_BERT_similarity(questions_BERT, paragraphs_BERT, tokenizer_name = 'bert-large-uncased', model_name = 'bert-large-uncased')"
      ],
      "execution_count": 18,
      "outputs": []
    },
    {
      "cell_type": "code",
      "metadata": {
        "id": "bgCNOEfO47vF"
      },
      "source": [
        "#%% Get accuracies for a range of ks\n",
        "acc_tfidf = get_accuracy_vector(k_list, tfidf_sim, question_ids, question_ids)\n",
        "acc_bert = get_accuracy_vector(k_list, sim_BERT, question_ids, question_ids)\n",
        "#acc_bert_normalized = get_accuracy_vector(k_list, sim_BERT_normalized, question_ids, question_ids)\n",
        "acc_bert_finedtuned_train = get_accuracy_vector(k_list, sim_BERT_finetuned_train, question_ids, question_ids)\n",
        "acc_random = get_random_accuracy(k_list, n)\n",
        "#acc_bert_large = DPR.get_accuracy_vector(k_list, sim_BERT_large, question_ids, question_ids)"
      ],
      "execution_count": 31,
      "outputs": []
    },
    {
      "cell_type": "code",
      "metadata": {
        "colab": {
          "base_uri": "https://localhost:8080/",
          "height": 283
        },
        "id": "BC6x08420dhM",
        "outputId": "f70dccab-90ae-49fd-ea7e-796c4b29831e"
      },
      "source": [
        "#%%\n",
        "plt.plot(k_list, acc_tfidf, label = 'tf-idf')\n",
        "plt.plot(k_list, acc_bert, label = 'BERT - untrained')\n",
        "plt.plot(k_list, acc_random, label = 'random')\n",
        "plt.plot(k_list, acc_bert_finedtuned_train, label = 'BERT - finetuned')\n",
        "#plt.plot(k_list, acc_bert_large, label = 'BERT LARGE INIT')\n",
        "plt.ylim((0,100))\n",
        "plt.legend()\n",
        "plt.xlabel('k')\n",
        "plt.ylabel('Accuracy')\n",
        "plt.show()"
      ],
      "execution_count": 35,
      "outputs": [
        {
          "output_type": "display_data",
          "data": {
            "image/png": "[encoded data removed]",
            "text/plain": [
              "<Figure size 432x288 with 1 Axes>"
            ]
          },
          "metadata": {
            "tags": [],
            "needs_background": "light"
          }
        }
      ]
    },
    {
      "cell_type": "code",
      "metadata": {
        "id": "hXIkt7slHkre"
      },
      "source": [
        "#%%\n",
        "plt.matshow(sim_BERT)\n",
        "plt.title('BERT similarity matrix')\n",
        "plt.matshow(tfidf_sim)\n",
        "plt.title('TF-IDF similarity matrix')\n",
        "plt.matshow(sim_BERT_normalized)\n",
        "plt.title('BERT similarity matrix - normalized')\n",
        "\n",
        "#%%\n",
        "plt.matshow(sim_BERT_large)"
      ],
      "execution_count": null,
      "outputs": []
    },
    {
      "cell_type": "code",
      "metadata": {
        "colab": {
          "base_uri": "https://localhost:8080/",
          "height": 292
        },
        "id": "2rgakeEfK2ov",
        "outputId": "c4e5e930-5de5-4cfd-ea67-3ce2fae6223c"
      },
      "source": [
        "plt.matshow(sim_BERT_finetuned_train)"
      ],
      "execution_count": 30,
      "outputs": [
        {
          "output_type": "execute_result",
          "data": {
            "text/plain": [
              "<matplotlib.image.AxesImage at 0x7fbcd81dc470>"
            ]
          },
          "metadata": {
            "tags": []
          },
          "execution_count": 30
        },
        {
          "output_type": "display_data",
          "data": {
            "image/png": "[encoded data removed]",
            "text/plain": [
              "<Figure size 288x288 with 1 Axes>"
            ]
          },
          "metadata": {
            "tags": [],
            "needs_background": "light"
          }
        }
      ]
    },
    {
      "cell_type": "code",
      "metadata": {
        "id": "x5ZT39hGK4LQ"
      },
      "source": [
        ""
      ],
      "execution_count": null,
      "outputs": []
    }
  ]
}