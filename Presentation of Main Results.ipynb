{
  "nbformat": 4,
  "nbformat_minor": 0,
  "metadata": {
    "accelerator": "GPU",
    "colab": {
      "name": "Presentation of Main Results.ipynb",
      "provenance": []
    },
    "kernelspec": {
      "display_name": "Python 3",
      "language": "python",
      "name": "python3"
    },
    "language_info": {
      "codemirror_mode": {
        "name": "ipython",
        "version": 3
      },
      "file_extension": ".py",
      "mimetype": "text/x-python",
      "name": "python",
      "nbconvert_exporter": "python",
      "pygments_lexer": "ipython3",
      "version": "3.8.5"
    },
    "widgets": {
      "application/vnd.jupyter.widget-state+json": {
        "0e46063a6c9045fd812a928c95fae359": {
          "model_module": "@jupyter-widgets/controls",
          "model_name": "HBoxModel",
          "state": {
            "_dom_classes": [],
            "_model_module": "@jupyter-widgets/controls",
            "_model_module_version": "1.5.0",
            "_model_name": "HBoxModel",
            "_view_count": null,
            "_view_module": "@jupyter-widgets/controls",
            "_view_module_version": "1.5.0",
            "_view_name": "HBoxView",
            "box_style": "",
            "children": [
              "IPY_MODEL_7b33c4efd3df46078403a8956ab8b9bf",
              "IPY_MODEL_04ca822300c1460da00c4d169ad509c6"
            ],
            "layout": "IPY_MODEL_a3899198bcd34142894f1b058a5e7b7d"
          }
        },
        "a3899198bcd34142894f1b058a5e7b7d": {
          "model_module": "@jupyter-widgets/base",
          "model_name": "LayoutModel",
          "state": {
            "_model_module": "@jupyter-widgets/base",
            "_model_module_version": "1.2.0",
            "_model_name": "LayoutModel",
            "_view_count": null,
            "_view_module": "@jupyter-widgets/base",
            "_view_module_version": "1.2.0",
            "_view_name": "LayoutView",
            "align_content": null,
            "align_items": null,
            "align_self": null,
            "border": null,
            "bottom": null,
            "display": null,
            "flex": null,
            "flex_flow": null,
            "grid_area": null,
            "grid_auto_columns": null,
            "grid_auto_flow": null,
            "grid_auto_rows": null,
            "grid_column": null,
            "grid_gap": null,
            "grid_row": null,
            "grid_template_areas": null,
            "grid_template_columns": null,
            "grid_template_rows": null,
            "height": null,
            "justify_content": null,
            "justify_items": null,
            "left": null,
            "margin": null,
            "max_height": null,
            "max_width": null,
            "min_height": null,
            "min_width": null,
            "object_fit": null,
            "object_position": null,
            "order": null,
            "overflow": null,
            "overflow_x": null,
            "overflow_y": null,
            "padding": null,
            "right": null,
            "top": null,
            "visibility": null,
            "width": null
          }
        },
        "7b33c4efd3df46078403a8956ab8b9bf": {
          "model_module": "@jupyter-widgets/controls",
          "model_name": "FloatProgressModel",
          "state": {
            "_dom_classes": [],
            "_model_module": "@jupyter-widgets/controls",
            "_model_module_version": "1.5.0",
            "_model_name": "FloatProgressModel",
            "_view_count": null,
            "_view_module": "@jupyter-widgets/controls",
            "_view_module_version": "1.5.0",
            "_view_name": "ProgressView",
            "bar_style": "success",
            "description": "100%",
            "description_tooltip": null,
            "layout": "IPY_MODEL_1943ab1df4854684b4523e20fa026e84",
            "max": 2000,
            "min": 0,
            "orientation": "horizontal",
            "style": "IPY_MODEL_bf47e1aecd804c94ac5fb242840c2636",
            "value": 2000
          }
        },
        "04ca822300c1460da00c4d169ad509c6": {
          "model_module": "@jupyter-widgets/controls",
          "model_name": "HTMLModel",
          "state": {
            "_dom_classes": [],
            "_model_module": "@jupyter-widgets/controls",
            "_model_module_version": "1.5.0",
            "_model_name": "HTMLModel",
            "_view_count": null,
            "_view_module": "@jupyter-widgets/controls",
            "_view_module_version": "1.5.0",
            "_view_name": "HTMLView",
            "description": "",
            "description_tooltip": null,
            "layout": "IPY_MODEL_589b5e9312ca4a4bb8aded11d3b6f1e9",
            "placeholder": "​",
            "style": "IPY_MODEL_74556b39f3e74a13ac9fb71f77b7474f",
            "value": " 2000/2000 [00:01&lt;00:00, 1933.19ex/s]"
          }
        },
        "bf47e1aecd804c94ac5fb242840c2636": {
          "model_module": "@jupyter-widgets/controls",
          "model_name": "ProgressStyleModel",
          "state": {
            "_model_module": "@jupyter-widgets/controls",
            "_model_module_version": "1.5.0",
            "_model_name": "ProgressStyleModel",
            "_view_count": null,
            "_view_module": "@jupyter-widgets/base",
            "_view_module_version": "1.2.0",
            "_view_name": "StyleView",
            "bar_color": null,
            "description_width": "initial"
          }
        },
        "1943ab1df4854684b4523e20fa026e84": {
          "model_module": "@jupyter-widgets/base",
          "model_name": "LayoutModel",
          "state": {
            "_model_module": "@jupyter-widgets/base",
            "_model_module_version": "1.2.0",
            "_model_name": "LayoutModel",
            "_view_count": null,
            "_view_module": "@jupyter-widgets/base",
            "_view_module_version": "1.2.0",
            "_view_name": "LayoutView",
            "align_content": null,
            "align_items": null,
            "align_self": null,
            "border": null,
            "bottom": null,
            "display": null,
            "flex": null,
            "flex_flow": null,
            "grid_area": null,
            "grid_auto_columns": null,
            "grid_auto_flow": null,
            "grid_auto_rows": null,
            "grid_column": null,
            "grid_gap": null,
            "grid_row": null,
            "grid_template_areas": null,
            "grid_template_columns": null,
            "grid_template_rows": null,
            "height": null,
            "justify_content": null,
            "justify_items": null,
            "left": null,
            "margin": null,
            "max_height": null,
            "max_width": null,
            "min_height": null,
            "min_width": null,
            "object_fit": null,
            "object_position": null,
            "order": null,
            "overflow": null,
            "overflow_x": null,
            "overflow_y": null,
            "padding": null,
            "right": null,
            "top": null,
            "visibility": null,
            "width": null
          }
        },
        "74556b39f3e74a13ac9fb71f77b7474f": {
          "model_module": "@jupyter-widgets/controls",
          "model_name": "DescriptionStyleModel",
          "state": {
            "_model_module": "@jupyter-widgets/controls",
            "_model_module_version": "1.5.0",
            "_model_name": "DescriptionStyleModel",
            "_view_count": null,
            "_view_module": "@jupyter-widgets/base",
            "_view_module_version": "1.2.0",
            "_view_name": "StyleView",
            "description_width": ""
          }
        },
        "589b5e9312ca4a4bb8aded11d3b6f1e9": {
          "model_module": "@jupyter-widgets/base",
          "model_name": "LayoutModel",
          "state": {
            "_model_module": "@jupyter-widgets/base",
            "_model_module_version": "1.2.0",
            "_model_name": "LayoutModel",
            "_view_count": null,
            "_view_module": "@jupyter-widgets/base",
            "_view_module_version": "1.2.0",
            "_view_name": "LayoutView",
            "align_content": null,
            "align_items": null,
            "align_self": null,
            "border": null,
            "bottom": null,
            "display": null,
            "flex": null,
            "flex_flow": null,
            "grid_area": null,
            "grid_auto_columns": null,
            "grid_auto_flow": null,
            "grid_auto_rows": null,
            "grid_column": null,
            "grid_gap": null,
            "grid_row": null,
            "grid_template_areas": null,
            "grid_template_columns": null,
            "grid_template_rows": null,
            "height": null,
            "justify_content": null,
            "justify_items": null,
            "left": null,
            "margin": null,
            "max_height": null,
            "max_width": null,
            "min_height": null,
            "min_width": null,
            "object_fit": null,
            "object_position": null,
            "order": null,
            "overflow": null,
            "overflow_x": null,
            "overflow_y": null,
            "padding": null,
            "right": null,
            "top": null,
            "visibility": null,
            "width": null
          }
        },
        "7717ad8856c34a36a90b87336db439a1": {
          "model_module": "@jupyter-widgets/controls",
          "model_name": "HBoxModel",
          "state": {
            "_dom_classes": [],
            "_model_module": "@jupyter-widgets/controls",
            "_model_module_version": "1.5.0",
            "_model_name": "HBoxModel",
            "_view_count": null,
            "_view_module": "@jupyter-widgets/controls",
            "_view_module_version": "1.5.0",
            "_view_name": "HBoxView",
            "box_style": "",
            "children": [
              "IPY_MODEL_51f49ae194e24873a05462f7c89eef50",
              "IPY_MODEL_7d67f72bb0d847d592069e8d4e338caf"
            ],
            "layout": "IPY_MODEL_4c7d4360df45485fbe3c82ae739bcc03"
          }
        },
        "4c7d4360df45485fbe3c82ae739bcc03": {
          "model_module": "@jupyter-widgets/base",
          "model_name": "LayoutModel",
          "state": {
            "_model_module": "@jupyter-widgets/base",
            "_model_module_version": "1.2.0",
            "_model_name": "LayoutModel",
            "_view_count": null,
            "_view_module": "@jupyter-widgets/base",
            "_view_module_version": "1.2.0",
            "_view_name": "LayoutView",
            "align_content": null,
            "align_items": null,
            "align_self": null,
            "border": null,
            "bottom": null,
            "display": null,
            "flex": null,
            "flex_flow": null,
            "grid_area": null,
            "grid_auto_columns": null,
            "grid_auto_flow": null,
            "grid_auto_rows": null,
            "grid_column": null,
            "grid_gap": null,
            "grid_row": null,
            "grid_template_areas": null,
            "grid_template_columns": null,
            "grid_template_rows": null,
            "height": null,
            "justify_content": null,
            "justify_items": null,
            "left": null,
            "margin": null,
            "max_height": null,
            "max_width": null,
            "min_height": null,
            "min_width": null,
            "object_fit": null,
            "object_position": null,
            "order": null,
            "overflow": null,
            "overflow_x": null,
            "overflow_y": null,
            "padding": null,
            "right": null,
            "top": null,
            "visibility": null,
            "width": null
          }
        },
        "51f49ae194e24873a05462f7c89eef50": {
          "model_module": "@jupyter-widgets/controls",
          "model_name": "FloatProgressModel",
          "state": {
            "_dom_classes": [],
            "_model_module": "@jupyter-widgets/controls",
            "_model_module_version": "1.5.0",
            "_model_name": "FloatProgressModel",
            "_view_count": null,
            "_view_module": "@jupyter-widgets/controls",
            "_view_module_version": "1.5.0",
            "_view_name": "ProgressView",
            "bar_style": "success",
            "description": "100%",
            "description_tooltip": null,
            "layout": "IPY_MODEL_99f0457c2fbe4d91bb95a3629c28862c",
            "max": 2,
            "min": 0,
            "orientation": "horizontal",
            "style": "IPY_MODEL_e6f1719766dc4c2d9d7abf281133a774",
            "value": 2
          }
        },
        "7d67f72bb0d847d592069e8d4e338caf": {
          "model_module": "@jupyter-widgets/controls",
          "model_name": "HTMLModel",
          "state": {
            "_dom_classes": [],
            "_model_module": "@jupyter-widgets/controls",
            "_model_module_version": "1.5.0",
            "_model_name": "HTMLModel",
            "_view_count": null,
            "_view_module": "@jupyter-widgets/controls",
            "_view_module_version": "1.5.0",
            "_view_name": "HTMLView",
            "description": "",
            "description_tooltip": null,
            "layout": "IPY_MODEL_00b28e0819df4090a1f5a0810e8d5ccd",
            "placeholder": "​",
            "style": "IPY_MODEL_543b62fc133044598099a74a5c8a1a43",
            "value": " 2/2 [10:44&lt;00:00, 322.21s/ba]"
          }
        },
        "e6f1719766dc4c2d9d7abf281133a774": {
          "model_module": "@jupyter-widgets/controls",
          "model_name": "ProgressStyleModel",
          "state": {
            "_model_module": "@jupyter-widgets/controls",
            "_model_module_version": "1.5.0",
            "_model_name": "ProgressStyleModel",
            "_view_count": null,
            "_view_module": "@jupyter-widgets/base",
            "_view_module_version": "1.2.0",
            "_view_name": "StyleView",
            "bar_color": null,
            "description_width": "initial"
          }
        },
        "99f0457c2fbe4d91bb95a3629c28862c": {
          "model_module": "@jupyter-widgets/base",
          "model_name": "LayoutModel",
          "state": {
            "_model_module": "@jupyter-widgets/base",
            "_model_module_version": "1.2.0",
            "_model_name": "LayoutModel",
            "_view_count": null,
            "_view_module": "@jupyter-widgets/base",
            "_view_module_version": "1.2.0",
            "_view_name": "LayoutView",
            "align_content": null,
            "align_items": null,
            "align_self": null,
            "border": null,
            "bottom": null,
            "display": null,
            "flex": null,
            "flex_flow": null,
            "grid_area": null,
            "grid_auto_columns": null,
            "grid_auto_flow": null,
            "grid_auto_rows": null,
            "grid_column": null,
            "grid_gap": null,
            "grid_row": null,
            "grid_template_areas": null,
            "grid_template_columns": null,
            "grid_template_rows": null,
            "height": null,
            "justify_content": null,
            "justify_items": null,
            "left": null,
            "margin": null,
            "max_height": null,
            "max_width": null,
            "min_height": null,
            "min_width": null,
            "object_fit": null,
            "object_position": null,
            "order": null,
            "overflow": null,
            "overflow_x": null,
            "overflow_y": null,
            "padding": null,
            "right": null,
            "top": null,
            "visibility": null,
            "width": null
          }
        },
        "543b62fc133044598099a74a5c8a1a43": {
          "model_module": "@jupyter-widgets/controls",
          "model_name": "DescriptionStyleModel",
          "state": {
            "_model_module": "@jupyter-widgets/controls",
            "_model_module_version": "1.5.0",
            "_model_name": "DescriptionStyleModel",
            "_view_count": null,
            "_view_module": "@jupyter-widgets/base",
            "_view_module_version": "1.2.0",
            "_view_name": "StyleView",
            "description_width": ""
          }
        },
        "00b28e0819df4090a1f5a0810e8d5ccd": {
          "model_module": "@jupyter-widgets/base",
          "model_name": "LayoutModel",
          "state": {
            "_model_module": "@jupyter-widgets/base",
            "_model_module_version": "1.2.0",
            "_model_name": "LayoutModel",
            "_view_count": null,
            "_view_module": "@jupyter-widgets/base",
            "_view_module_version": "1.2.0",
            "_view_name": "LayoutView",
            "align_content": null,
            "align_items": null,
            "align_self": null,
            "border": null,
            "bottom": null,
            "display": null,
            "flex": null,
            "flex_flow": null,
            "grid_area": null,
            "grid_auto_columns": null,
            "grid_auto_flow": null,
            "grid_auto_rows": null,
            "grid_column": null,
            "grid_gap": null,
            "grid_row": null,
            "grid_template_areas": null,
            "grid_template_columns": null,
            "grid_template_rows": null,
            "height": null,
            "justify_content": null,
            "justify_items": null,
            "left": null,
            "margin": null,
            "max_height": null,
            "max_width": null,
            "min_height": null,
            "min_width": null,
            "object_fit": null,
            "object_position": null,
            "order": null,
            "overflow": null,
            "overflow_x": null,
            "overflow_y": null,
            "padding": null,
            "right": null,
            "top": null,
            "visibility": null,
            "width": null
          }
        },
        "ada13be0e1b84922b1aa449e88252a04": {
          "model_module": "@jupyter-widgets/controls",
          "model_name": "HBoxModel",
          "state": {
            "_dom_classes": [],
            "_model_module": "@jupyter-widgets/controls",
            "_model_module_version": "1.5.0",
            "_model_name": "HBoxModel",
            "_view_count": null,
            "_view_module": "@jupyter-widgets/controls",
            "_view_module_version": "1.5.0",
            "_view_name": "HBoxView",
            "box_style": "",
            "children": [
              "IPY_MODEL_4f5c8f56d3e7416a8f1ea8b78a495b3a",
              "IPY_MODEL_904253841c52411ab745e271729196de"
            ],
            "layout": "IPY_MODEL_531484a82ce74b74bfd73ddb96f74fea"
          }
        },
        "531484a82ce74b74bfd73ddb96f74fea": {
          "model_module": "@jupyter-widgets/base",
          "model_name": "LayoutModel",
          "state": {
            "_model_module": "@jupyter-widgets/base",
            "_model_module_version": "1.2.0",
            "_model_name": "LayoutModel",
            "_view_count": null,
            "_view_module": "@jupyter-widgets/base",
            "_view_module_version": "1.2.0",
            "_view_name": "LayoutView",
            "align_content": null,
            "align_items": null,
            "align_self": null,
            "border": null,
            "bottom": null,
            "display": null,
            "flex": null,
            "flex_flow": null,
            "grid_area": null,
            "grid_auto_columns": null,
            "grid_auto_flow": null,
            "grid_auto_rows": null,
            "grid_column": null,
            "grid_gap": null,
            "grid_row": null,
            "grid_template_areas": null,
            "grid_template_columns": null,
            "grid_template_rows": null,
            "height": null,
            "justify_content": null,
            "justify_items": null,
            "left": null,
            "margin": null,
            "max_height": null,
            "max_width": null,
            "min_height": null,
            "min_width": null,
            "object_fit": null,
            "object_position": null,
            "order": null,
            "overflow": null,
            "overflow_x": null,
            "overflow_y": null,
            "padding": null,
            "right": null,
            "top": null,
            "visibility": null,
            "width": null
          }
        },
        "4f5c8f56d3e7416a8f1ea8b78a495b3a": {
          "model_module": "@jupyter-widgets/controls",
          "model_name": "FloatProgressModel",
          "state": {
            "_dom_classes": [],
            "_model_module": "@jupyter-widgets/controls",
            "_model_module_version": "1.5.0",
            "_model_name": "FloatProgressModel",
            "_view_count": null,
            "_view_module": "@jupyter-widgets/controls",
            "_view_module_version": "1.5.0",
            "_view_name": "ProgressView",
            "bar_style": "success",
            "description": "100%",
            "description_tooltip": null,
            "layout": "IPY_MODEL_33b2ff9e1e724d88b33903148319fe34",
            "max": 1417,
            "min": 0,
            "orientation": "horizontal",
            "style": "IPY_MODEL_c105e2cc46804f7ab948a245814a91e2",
            "value": 1417
          }
        },
        "904253841c52411ab745e271729196de": {
          "model_module": "@jupyter-widgets/controls",
          "model_name": "HTMLModel",
          "state": {
            "_dom_classes": [],
            "_model_module": "@jupyter-widgets/controls",
            "_model_module_version": "1.5.0",
            "_model_name": "HTMLModel",
            "_view_count": null,
            "_view_module": "@jupyter-widgets/controls",
            "_view_module_version": "1.5.0",
            "_view_name": "HTMLView",
            "description": "",
            "description_tooltip": null,
            "layout": "IPY_MODEL_da1d4a0d54484851b57949a448cbb7d5",
            "placeholder": "​",
            "style": "IPY_MODEL_507fe352c1f34fed8b24b07c7a6aedae",
            "value": " 1417/1417 [10:43&lt;00:00,  2.20ex/s]"
          }
        },
        "c105e2cc46804f7ab948a245814a91e2": {
          "model_module": "@jupyter-widgets/controls",
          "model_name": "ProgressStyleModel",
          "state": {
            "_model_module": "@jupyter-widgets/controls",
            "_model_module_version": "1.5.0",
            "_model_name": "ProgressStyleModel",
            "_view_count": null,
            "_view_module": "@jupyter-widgets/base",
            "_view_module_version": "1.2.0",
            "_view_name": "StyleView",
            "bar_color": null,
            "description_width": "initial"
          }
        },
        "33b2ff9e1e724d88b33903148319fe34": {
          "model_module": "@jupyter-widgets/base",
          "model_name": "LayoutModel",
          "state": {
            "_model_module": "@jupyter-widgets/base",
            "_model_module_version": "1.2.0",
            "_model_name": "LayoutModel",
            "_view_count": null,
            "_view_module": "@jupyter-widgets/base",
            "_view_module_version": "1.2.0",
            "_view_name": "LayoutView",
            "align_content": null,
            "align_items": null,
            "align_self": null,
            "border": null,
            "bottom": null,
            "display": null,
            "flex": null,
            "flex_flow": null,
            "grid_area": null,
            "grid_auto_columns": null,
            "grid_auto_flow": null,
            "grid_auto_rows": null,
            "grid_column": null,
            "grid_gap": null,
            "grid_row": null,
            "grid_template_areas": null,
            "grid_template_columns": null,
            "grid_template_rows": null,
            "height": null,
            "justify_content": null,
            "justify_items": null,
            "left": null,
            "margin": null,
            "max_height": null,
            "max_width": null,
            "min_height": null,
            "min_width": null,
            "object_fit": null,
            "object_position": null,
            "order": null,
            "overflow": null,
            "overflow_x": null,
            "overflow_y": null,
            "padding": null,
            "right": null,
            "top": null,
            "visibility": null,
            "width": null
          }
        },
        "507fe352c1f34fed8b24b07c7a6aedae": {
          "model_module": "@jupyter-widgets/controls",
          "model_name": "DescriptionStyleModel",
          "state": {
            "_model_module": "@jupyter-widgets/controls",
            "_model_module_version": "1.5.0",
            "_model_name": "DescriptionStyleModel",
            "_view_count": null,
            "_view_module": "@jupyter-widgets/base",
            "_view_module_version": "1.2.0",
            "_view_name": "StyleView",
            "description_width": ""
          }
        },
        "da1d4a0d54484851b57949a448cbb7d5": {
          "model_module": "@jupyter-widgets/base",
          "model_name": "LayoutModel",
          "state": {
            "_model_module": "@jupyter-widgets/base",
            "_model_module_version": "1.2.0",
            "_model_name": "LayoutModel",
            "_view_count": null,
            "_view_module": "@jupyter-widgets/base",
            "_view_module_version": "1.2.0",
            "_view_name": "LayoutView",
            "align_content": null,
            "align_items": null,
            "align_self": null,
            "border": null,
            "bottom": null,
            "display": null,
            "flex": null,
            "flex_flow": null,
            "grid_area": null,
            "grid_auto_columns": null,
            "grid_auto_flow": null,
            "grid_auto_rows": null,
            "grid_column": null,
            "grid_gap": null,
            "grid_row": null,
            "grid_template_areas": null,
            "grid_template_columns": null,
            "grid_template_rows": null,
            "height": null,
            "justify_content": null,
            "justify_items": null,
            "left": null,
            "margin": null,
            "max_height": null,
            "max_width": null,
            "min_height": null,
            "min_width": null,
            "object_fit": null,
            "object_position": null,
            "order": null,
            "overflow": null,
            "overflow_x": null,
            "overflow_y": null,
            "padding": null,
            "right": null,
            "top": null,
            "visibility": null,
            "width": null
          }
        },
        "d8c74996e7db44c6b73629207e5804f5": {
          "model_module": "@jupyter-widgets/controls",
          "model_name": "HBoxModel",
          "state": {
            "_dom_classes": [],
            "_model_module": "@jupyter-widgets/controls",
            "_model_module_version": "1.5.0",
            "_model_name": "HBoxModel",
            "_view_count": null,
            "_view_module": "@jupyter-widgets/controls",
            "_view_module_version": "1.5.0",
            "_view_name": "HBoxView",
            "box_style": "",
            "children": [
              "IPY_MODEL_0284969f9de0425b8112fe7a8b781eff",
              "IPY_MODEL_58358d79e0c245c1a014b74fa89a9c6f"
            ],
            "layout": "IPY_MODEL_1db3a6dc98f142829720be560ed53ecd"
          }
        },
        "1db3a6dc98f142829720be560ed53ecd": {
          "model_module": "@jupyter-widgets/base",
          "model_name": "LayoutModel",
          "state": {
            "_model_module": "@jupyter-widgets/base",
            "_model_module_version": "1.2.0",
            "_model_name": "LayoutModel",
            "_view_count": null,
            "_view_module": "@jupyter-widgets/base",
            "_view_module_version": "1.2.0",
            "_view_name": "LayoutView",
            "align_content": null,
            "align_items": null,
            "align_self": null,
            "border": null,
            "bottom": null,
            "display": null,
            "flex": null,
            "flex_flow": null,
            "grid_area": null,
            "grid_auto_columns": null,
            "grid_auto_flow": null,
            "grid_auto_rows": null,
            "grid_column": null,
            "grid_gap": null,
            "grid_row": null,
            "grid_template_areas": null,
            "grid_template_columns": null,
            "grid_template_rows": null,
            "height": null,
            "justify_content": null,
            "justify_items": null,
            "left": null,
            "margin": null,
            "max_height": null,
            "max_width": null,
            "min_height": null,
            "min_width": null,
            "object_fit": null,
            "object_position": null,
            "order": null,
            "overflow": null,
            "overflow_x": null,
            "overflow_y": null,
            "padding": null,
            "right": null,
            "top": null,
            "visibility": null,
            "width": null
          }
        },
        "0284969f9de0425b8112fe7a8b781eff": {
          "model_module": "@jupyter-widgets/controls",
          "model_name": "FloatProgressModel",
          "state": {
            "_dom_classes": [],
            "_model_module": "@jupyter-widgets/controls",
            "_model_module_version": "1.5.0",
            "_model_name": "FloatProgressModel",
            "_view_count": null,
            "_view_module": "@jupyter-widgets/controls",
            "_view_module_version": "1.5.0",
            "_view_name": "ProgressView",
            "bar_style": "success",
            "description": "100%",
            "description_tooltip": null,
            "layout": "IPY_MODEL_0a1fcaf34bdf41048577c3281c86c3ca",
            "max": 1417,
            "min": 0,
            "orientation": "horizontal",
            "style": "IPY_MODEL_7167eac9192a40bca1cc5685794e5112",
            "value": 1417
          }
        },
        "58358d79e0c245c1a014b74fa89a9c6f": {
          "model_module": "@jupyter-widgets/controls",
          "model_name": "HTMLModel",
          "state": {
            "_dom_classes": [],
            "_model_module": "@jupyter-widgets/controls",
            "_model_module_version": "1.5.0",
            "_model_name": "HTMLModel",
            "_view_count": null,
            "_view_module": "@jupyter-widgets/controls",
            "_view_module_version": "1.5.0",
            "_view_name": "HTMLView",
            "description": "",
            "description_tooltip": null,
            "layout": "IPY_MODEL_4b4b45f4f7b8423aaab46aa19a002fcf",
            "placeholder": "​",
            "style": "IPY_MODEL_3cd45110fa01471b819a2d672ae30534",
            "value": " 1417/1417 [10:16&lt;00:00,  2.30ex/s]"
          }
        },
        "7167eac9192a40bca1cc5685794e5112": {
          "model_module": "@jupyter-widgets/controls",
          "model_name": "ProgressStyleModel",
          "state": {
            "_model_module": "@jupyter-widgets/controls",
            "_model_module_version": "1.5.0",
            "_model_name": "ProgressStyleModel",
            "_view_count": null,
            "_view_module": "@jupyter-widgets/base",
            "_view_module_version": "1.2.0",
            "_view_name": "StyleView",
            "bar_color": null,
            "description_width": "initial"
          }
        },
        "0a1fcaf34bdf41048577c3281c86c3ca": {
          "model_module": "@jupyter-widgets/base",
          "model_name": "LayoutModel",
          "state": {
            "_model_module": "@jupyter-widgets/base",
            "_model_module_version": "1.2.0",
            "_model_name": "LayoutModel",
            "_view_count": null,
            "_view_module": "@jupyter-widgets/base",
            "_view_module_version": "1.2.0",
            "_view_name": "LayoutView",
            "align_content": null,
            "align_items": null,
            "align_self": null,
            "border": null,
            "bottom": null,
            "display": null,
            "flex": null,
            "flex_flow": null,
            "grid_area": null,
            "grid_auto_columns": null,
            "grid_auto_flow": null,
            "grid_auto_rows": null,
            "grid_column": null,
            "grid_gap": null,
            "grid_row": null,
            "grid_template_areas": null,
            "grid_template_columns": null,
            "grid_template_rows": null,
            "height": null,
            "justify_content": null,
            "justify_items": null,
            "left": null,
            "margin": null,
            "max_height": null,
            "max_width": null,
            "min_height": null,
            "min_width": null,
            "object_fit": null,
            "object_position": null,
            "order": null,
            "overflow": null,
            "overflow_x": null,
            "overflow_y": null,
            "padding": null,
            "right": null,
            "top": null,
            "visibility": null,
            "width": null
          }
        },
        "3cd45110fa01471b819a2d672ae30534": {
          "model_module": "@jupyter-widgets/controls",
          "model_name": "DescriptionStyleModel",
          "state": {
            "_model_module": "@jupyter-widgets/controls",
            "_model_module_version": "1.5.0",
            "_model_name": "DescriptionStyleModel",
            "_view_count": null,
            "_view_module": "@jupyter-widgets/base",
            "_view_module_version": "1.2.0",
            "_view_name": "StyleView",
            "description_width": ""
          }
        },
        "4b4b45f4f7b8423aaab46aa19a002fcf": {
          "model_module": "@jupyter-widgets/base",
          "model_name": "LayoutModel",
          "state": {
            "_model_module": "@jupyter-widgets/base",
            "_model_module_version": "1.2.0",
            "_model_name": "LayoutModel",
            "_view_count": null,
            "_view_module": "@jupyter-widgets/base",
            "_view_module_version": "1.2.0",
            "_view_name": "LayoutView",
            "align_content": null,
            "align_items": null,
            "align_self": null,
            "border": null,
            "bottom": null,
            "display": null,
            "flex": null,
            "flex_flow": null,
            "grid_area": null,
            "grid_auto_columns": null,
            "grid_auto_flow": null,
            "grid_auto_rows": null,
            "grid_column": null,
            "grid_gap": null,
            "grid_row": null,
            "grid_template_areas": null,
            "grid_template_columns": null,
            "grid_template_rows": null,
            "height": null,
            "justify_content": null,
            "justify_items": null,
            "left": null,
            "margin": null,
            "max_height": null,
            "max_width": null,
            "min_height": null,
            "min_width": null,
            "object_fit": null,
            "object_position": null,
            "order": null,
            "overflow": null,
            "overflow_x": null,
            "overflow_y": null,
            "padding": null,
            "right": null,
            "top": null,
            "visibility": null,
            "width": null
          }
        },
        "20dfa0db481c42c7931cc49e7097f232": {
          "model_module": "@jupyter-widgets/controls",
          "model_name": "HBoxModel",
          "state": {
            "_dom_classes": [],
            "_model_module": "@jupyter-widgets/controls",
            "_model_module_version": "1.5.0",
            "_model_name": "HBoxModel",
            "_view_count": null,
            "_view_module": "@jupyter-widgets/controls",
            "_view_module_version": "1.5.0",
            "_view_name": "HBoxView",
            "box_style": "",
            "children": [
              "IPY_MODEL_c459b6b1522945ce938d574e92051338",
              "IPY_MODEL_5410c6688d704744a38a5065f73cdec4"
            ],
            "layout": "IPY_MODEL_26c9f33d5ae9449aa241bb53b65271aa"
          }
        },
        "26c9f33d5ae9449aa241bb53b65271aa": {
          "model_module": "@jupyter-widgets/base",
          "model_name": "LayoutModel",
          "state": {
            "_model_module": "@jupyter-widgets/base",
            "_model_module_version": "1.2.0",
            "_model_name": "LayoutModel",
            "_view_count": null,
            "_view_module": "@jupyter-widgets/base",
            "_view_module_version": "1.2.0",
            "_view_name": "LayoutView",
            "align_content": null,
            "align_items": null,
            "align_self": null,
            "border": null,
            "bottom": null,
            "display": null,
            "flex": null,
            "flex_flow": null,
            "grid_area": null,
            "grid_auto_columns": null,
            "grid_auto_flow": null,
            "grid_auto_rows": null,
            "grid_column": null,
            "grid_gap": null,
            "grid_row": null,
            "grid_template_areas": null,
            "grid_template_columns": null,
            "grid_template_rows": null,
            "height": null,
            "justify_content": null,
            "justify_items": null,
            "left": null,
            "margin": null,
            "max_height": null,
            "max_width": null,
            "min_height": null,
            "min_width": null,
            "object_fit": null,
            "object_position": null,
            "order": null,
            "overflow": null,
            "overflow_x": null,
            "overflow_y": null,
            "padding": null,
            "right": null,
            "top": null,
            "visibility": null,
            "width": null
          }
        },
        "c459b6b1522945ce938d574e92051338": {
          "model_module": "@jupyter-widgets/controls",
          "model_name": "FloatProgressModel",
          "state": {
            "_dom_classes": [],
            "_model_module": "@jupyter-widgets/controls",
            "_model_module_version": "1.5.0",
            "_model_name": "FloatProgressModel",
            "_view_count": null,
            "_view_module": "@jupyter-widgets/controls",
            "_view_module_version": "1.5.0",
            "_view_name": "ProgressView",
            "bar_style": "success",
            "description": "Downloading: 100%",
            "description_tooltip": null,
            "layout": "IPY_MODEL_d83540bc48684c6ebe1388a133c42188",
            "max": 433,
            "min": 0,
            "orientation": "horizontal",
            "style": "IPY_MODEL_13608d7316bc49c0adb1a9f83cf09f02",
            "value": 433
          }
        },
        "5410c6688d704744a38a5065f73cdec4": {
          "model_module": "@jupyter-widgets/controls",
          "model_name": "HTMLModel",
          "state": {
            "_dom_classes": [],
            "_model_module": "@jupyter-widgets/controls",
            "_model_module_version": "1.5.0",
            "_model_name": "HTMLModel",
            "_view_count": null,
            "_view_module": "@jupyter-widgets/controls",
            "_view_module_version": "1.5.0",
            "_view_name": "HTMLView",
            "description": "",
            "description_tooltip": null,
            "layout": "IPY_MODEL_07de3014a4504360afd59c0e479b6158",
            "placeholder": "​",
            "style": "IPY_MODEL_a60a310d62b249c7ad2de0e2290b5c00",
            "value": " 433/433 [00:00&lt;00:00, 2.02kB/s]"
          }
        },
        "13608d7316bc49c0adb1a9f83cf09f02": {
          "model_module": "@jupyter-widgets/controls",
          "model_name": "ProgressStyleModel",
          "state": {
            "_model_module": "@jupyter-widgets/controls",
            "_model_module_version": "1.5.0",
            "_model_name": "ProgressStyleModel",
            "_view_count": null,
            "_view_module": "@jupyter-widgets/base",
            "_view_module_version": "1.2.0",
            "_view_name": "StyleView",
            "bar_color": null,
            "description_width": "initial"
          }
        },
        "d83540bc48684c6ebe1388a133c42188": {
          "model_module": "@jupyter-widgets/base",
          "model_name": "LayoutModel",
          "state": {
            "_model_module": "@jupyter-widgets/base",
            "_model_module_version": "1.2.0",
            "_model_name": "LayoutModel",
            "_view_count": null,
            "_view_module": "@jupyter-widgets/base",
            "_view_module_version": "1.2.0",
            "_view_name": "LayoutView",
            "align_content": null,
            "align_items": null,
            "align_self": null,
            "border": null,
            "bottom": null,
            "display": null,
            "flex": null,
            "flex_flow": null,
            "grid_area": null,
            "grid_auto_columns": null,
            "grid_auto_flow": null,
            "grid_auto_rows": null,
            "grid_column": null,
            "grid_gap": null,
            "grid_row": null,
            "grid_template_areas": null,
            "grid_template_columns": null,
            "grid_template_rows": null,
            "height": null,
            "justify_content": null,
            "justify_items": null,
            "left": null,
            "margin": null,
            "max_height": null,
            "max_width": null,
            "min_height": null,
            "min_width": null,
            "object_fit": null,
            "object_position": null,
            "order": null,
            "overflow": null,
            "overflow_x": null,
            "overflow_y": null,
            "padding": null,
            "right": null,
            "top": null,
            "visibility": null,
            "width": null
          }
        },
        "a60a310d62b249c7ad2de0e2290b5c00": {
          "model_module": "@jupyter-widgets/controls",
          "model_name": "DescriptionStyleModel",
          "state": {
            "_model_module": "@jupyter-widgets/controls",
            "_model_module_version": "1.5.0",
            "_model_name": "DescriptionStyleModel",
            "_view_count": null,
            "_view_module": "@jupyter-widgets/base",
            "_view_module_version": "1.2.0",
            "_view_name": "StyleView",
            "description_width": ""
          }
        },
        "07de3014a4504360afd59c0e479b6158": {
          "model_module": "@jupyter-widgets/base",
          "model_name": "LayoutModel",
          "state": {
            "_model_module": "@jupyter-widgets/base",
            "_model_module_version": "1.2.0",
            "_model_name": "LayoutModel",
            "_view_count": null,
            "_view_module": "@jupyter-widgets/base",
            "_view_module_version": "1.2.0",
            "_view_name": "LayoutView",
            "align_content": null,
            "align_items": null,
            "align_self": null,
            "border": null,
            "bottom": null,
            "display": null,
            "flex": null,
            "flex_flow": null,
            "grid_area": null,
            "grid_auto_columns": null,
            "grid_auto_flow": null,
            "grid_auto_rows": null,
            "grid_column": null,
            "grid_gap": null,
            "grid_row": null,
            "grid_template_areas": null,
            "grid_template_columns": null,
            "grid_template_rows": null,
            "height": null,
            "justify_content": null,
            "justify_items": null,
            "left": null,
            "margin": null,
            "max_height": null,
            "max_width": null,
            "min_height": null,
            "min_width": null,
            "object_fit": null,
            "object_position": null,
            "order": null,
            "overflow": null,
            "overflow_x": null,
            "overflow_y": null,
            "padding": null,
            "right": null,
            "top": null,
            "visibility": null,
            "width": null
          }
        },
        "d7ac3f5034f645c0a6b15e5b0a4d75cd": {
          "model_module": "@jupyter-widgets/controls",
          "model_name": "HBoxModel",
          "state": {
            "_dom_classes": [],
            "_model_module": "@jupyter-widgets/controls",
            "_model_module_version": "1.5.0",
            "_model_name": "HBoxModel",
            "_view_count": null,
            "_view_module": "@jupyter-widgets/controls",
            "_view_module_version": "1.5.0",
            "_view_name": "HBoxView",
            "box_style": "",
            "children": [
              "IPY_MODEL_74019386a3cd4774b46c7a581effe1d5",
              "IPY_MODEL_54208ff603c24a87a6cd4afeb79fa4e0"
            ],
            "layout": "IPY_MODEL_8daaccf0226c4c26a5b62dfad5e08bc3"
          }
        },
        "8daaccf0226c4c26a5b62dfad5e08bc3": {
          "model_module": "@jupyter-widgets/base",
          "model_name": "LayoutModel",
          "state": {
            "_model_module": "@jupyter-widgets/base",
            "_model_module_version": "1.2.0",
            "_model_name": "LayoutModel",
            "_view_count": null,
            "_view_module": "@jupyter-widgets/base",
            "_view_module_version": "1.2.0",
            "_view_name": "LayoutView",
            "align_content": null,
            "align_items": null,
            "align_self": null,
            "border": null,
            "bottom": null,
            "display": null,
            "flex": null,
            "flex_flow": null,
            "grid_area": null,
            "grid_auto_columns": null,
            "grid_auto_flow": null,
            "grid_auto_rows": null,
            "grid_column": null,
            "grid_gap": null,
            "grid_row": null,
            "grid_template_areas": null,
            "grid_template_columns": null,
            "grid_template_rows": null,
            "height": null,
            "justify_content": null,
            "justify_items": null,
            "left": null,
            "margin": null,
            "max_height": null,
            "max_width": null,
            "min_height": null,
            "min_width": null,
            "object_fit": null,
            "object_position": null,
            "order": null,
            "overflow": null,
            "overflow_x": null,
            "overflow_y": null,
            "padding": null,
            "right": null,
            "top": null,
            "visibility": null,
            "width": null
          }
        },
        "74019386a3cd4774b46c7a581effe1d5": {
          "model_module": "@jupyter-widgets/controls",
          "model_name": "FloatProgressModel",
          "state": {
            "_dom_classes": [],
            "_model_module": "@jupyter-widgets/controls",
            "_model_module_version": "1.5.0",
            "_model_name": "FloatProgressModel",
            "_view_count": null,
            "_view_module": "@jupyter-widgets/controls",
            "_view_module_version": "1.5.0",
            "_view_name": "ProgressView",
            "bar_style": "success",
            "description": "Downloading: 100%",
            "description_tooltip": null,
            "layout": "IPY_MODEL_21e15c6972f0439bb2c1d1ab6936abe1",
            "max": 231508,
            "min": 0,
            "orientation": "horizontal",
            "style": "IPY_MODEL_8138ca75b1864928b9143607206565b3",
            "value": 231508
          }
        },
        "54208ff603c24a87a6cd4afeb79fa4e0": {
          "model_module": "@jupyter-widgets/controls",
          "model_name": "HTMLModel",
          "state": {
            "_dom_classes": [],
            "_model_module": "@jupyter-widgets/controls",
            "_model_module_version": "1.5.0",
            "_model_name": "HTMLModel",
            "_view_count": null,
            "_view_module": "@jupyter-widgets/controls",
            "_view_module_version": "1.5.0",
            "_view_name": "HTMLView",
            "description": "",
            "description_tooltip": null,
            "layout": "IPY_MODEL_d2cbc0973e034d6aa741a5cea63f0dfe",
            "placeholder": "​",
            "style": "IPY_MODEL_0a53743549d34705bbd95ef26eeff16e",
            "value": " 232k/232k [00:02&lt;00:00, 82.5kB/s]"
          }
        },
        "8138ca75b1864928b9143607206565b3": {
          "model_module": "@jupyter-widgets/controls",
          "model_name": "ProgressStyleModel",
          "state": {
            "_model_module": "@jupyter-widgets/controls",
            "_model_module_version": "1.5.0",
            "_model_name": "ProgressStyleModel",
            "_view_count": null,
            "_view_module": "@jupyter-widgets/base",
            "_view_module_version": "1.2.0",
            "_view_name": "StyleView",
            "bar_color": null,
            "description_width": "initial"
          }
        },
        "21e15c6972f0439bb2c1d1ab6936abe1": {
          "model_module": "@jupyter-widgets/base",
          "model_name": "LayoutModel",
          "state": {
            "_model_module": "@jupyter-widgets/base",
            "_model_module_version": "1.2.0",
            "_model_name": "LayoutModel",
            "_view_count": null,
            "_view_module": "@jupyter-widgets/base",
            "_view_module_version": "1.2.0",
            "_view_name": "LayoutView",
            "align_content": null,
            "align_items": null,
            "align_self": null,
            "border": null,
            "bottom": null,
            "display": null,
            "flex": null,
            "flex_flow": null,
            "grid_area": null,
            "grid_auto_columns": null,
            "grid_auto_flow": null,
            "grid_auto_rows": null,
            "grid_column": null,
            "grid_gap": null,
            "grid_row": null,
            "grid_template_areas": null,
            "grid_template_columns": null,
            "grid_template_rows": null,
            "height": null,
            "justify_content": null,
            "justify_items": null,
            "left": null,
            "margin": null,
            "max_height": null,
            "max_width": null,
            "min_height": null,
            "min_width": null,
            "object_fit": null,
            "object_position": null,
            "order": null,
            "overflow": null,
            "overflow_x": null,
            "overflow_y": null,
            "padding": null,
            "right": null,
            "top": null,
            "visibility": null,
            "width": null
          }
        },
        "0a53743549d34705bbd95ef26eeff16e": {
          "model_module": "@jupyter-widgets/controls",
          "model_name": "DescriptionStyleModel",
          "state": {
            "_model_module": "@jupyter-widgets/controls",
            "_model_module_version": "1.5.0",
            "_model_name": "DescriptionStyleModel",
            "_view_count": null,
            "_view_module": "@jupyter-widgets/base",
            "_view_module_version": "1.2.0",
            "_view_name": "StyleView",
            "description_width": ""
          }
        },
        "d2cbc0973e034d6aa741a5cea63f0dfe": {
          "model_module": "@jupyter-widgets/base",
          "model_name": "LayoutModel",
          "state": {
            "_model_module": "@jupyter-widgets/base",
            "_model_module_version": "1.2.0",
            "_model_name": "LayoutModel",
            "_view_count": null,
            "_view_module": "@jupyter-widgets/base",
            "_view_module_version": "1.2.0",
            "_view_name": "LayoutView",
            "align_content": null,
            "align_items": null,
            "align_self": null,
            "border": null,
            "bottom": null,
            "display": null,
            "flex": null,
            "flex_flow": null,
            "grid_area": null,
            "grid_auto_columns": null,
            "grid_auto_flow": null,
            "grid_auto_rows": null,
            "grid_column": null,
            "grid_gap": null,
            "grid_row": null,
            "grid_template_areas": null,
            "grid_template_columns": null,
            "grid_template_rows": null,
            "height": null,
            "justify_content": null,
            "justify_items": null,
            "left": null,
            "margin": null,
            "max_height": null,
            "max_width": null,
            "min_height": null,
            "min_width": null,
            "object_fit": null,
            "object_position": null,
            "order": null,
            "overflow": null,
            "overflow_x": null,
            "overflow_y": null,
            "padding": null,
            "right": null,
            "top": null,
            "visibility": null,
            "width": null
          }
        },
        "e7e0e742a2854846bfc64d003d62140f": {
          "model_module": "@jupyter-widgets/controls",
          "model_name": "HBoxModel",
          "state": {
            "_dom_classes": [],
            "_model_module": "@jupyter-widgets/controls",
            "_model_module_version": "1.5.0",
            "_model_name": "HBoxModel",
            "_view_count": null,
            "_view_module": "@jupyter-widgets/controls",
            "_view_module_version": "1.5.0",
            "_view_name": "HBoxView",
            "box_style": "",
            "children": [
              "IPY_MODEL_648aa57dc8034f8c910ab272d537b002",
              "IPY_MODEL_7d127f5ebdc0410d86350461de94c685"
            ],
            "layout": "IPY_MODEL_f4c319b48dcf409da4eefd4464b1ee58"
          }
        },
        "f4c319b48dcf409da4eefd4464b1ee58": {
          "model_module": "@jupyter-widgets/base",
          "model_name": "LayoutModel",
          "state": {
            "_model_module": "@jupyter-widgets/base",
            "_model_module_version": "1.2.0",
            "_model_name": "LayoutModel",
            "_view_count": null,
            "_view_module": "@jupyter-widgets/base",
            "_view_module_version": "1.2.0",
            "_view_name": "LayoutView",
            "align_content": null,
            "align_items": null,
            "align_self": null,
            "border": null,
            "bottom": null,
            "display": null,
            "flex": null,
            "flex_flow": null,
            "grid_area": null,
            "grid_auto_columns": null,
            "grid_auto_flow": null,
            "grid_auto_rows": null,
            "grid_column": null,
            "grid_gap": null,
            "grid_row": null,
            "grid_template_areas": null,
            "grid_template_columns": null,
            "grid_template_rows": null,
            "height": null,
            "justify_content": null,
            "justify_items": null,
            "left": null,
            "margin": null,
            "max_height": null,
            "max_width": null,
            "min_height": null,
            "min_width": null,
            "object_fit": null,
            "object_position": null,
            "order": null,
            "overflow": null,
            "overflow_x": null,
            "overflow_y": null,
            "padding": null,
            "right": null,
            "top": null,
            "visibility": null,
            "width": null
          }
        },
        "648aa57dc8034f8c910ab272d537b002": {
          "model_module": "@jupyter-widgets/controls",
          "model_name": "FloatProgressModel",
          "state": {
            "_dom_classes": [],
            "_model_module": "@jupyter-widgets/controls",
            "_model_module_version": "1.5.0",
            "_model_name": "FloatProgressModel",
            "_view_count": null,
            "_view_module": "@jupyter-widgets/controls",
            "_view_module_version": "1.5.0",
            "_view_name": "ProgressView",
            "bar_style": "success",
            "description": "Downloading: 100%",
            "description_tooltip": null,
            "layout": "IPY_MODEL_6b079468f60148a9b43a5721cbbe5b2f",
            "max": 466062,
            "min": 0,
            "orientation": "horizontal",
            "style": "IPY_MODEL_0f195841848b4feab0c80a5ba004f65e",
            "value": 466062
          }
        },
        "7d127f5ebdc0410d86350461de94c685": {
          "model_module": "@jupyter-widgets/controls",
          "model_name": "HTMLModel",
          "state": {
            "_dom_classes": [],
            "_model_module": "@jupyter-widgets/controls",
            "_model_module_version": "1.5.0",
            "_model_name": "HTMLModel",
            "_view_count": null,
            "_view_module": "@jupyter-widgets/controls",
            "_view_module_version": "1.5.0",
            "_view_name": "HTMLView",
            "description": "",
            "description_tooltip": null,
            "layout": "IPY_MODEL_e01cf25b73f746e4ae12f42abec36b14",
            "placeholder": "​",
            "style": "IPY_MODEL_d4899116c14d42f0a18a0e4e928998d1",
            "value": " 466k/466k [00:00&lt;00:00, 483kB/s]"
          }
        },
        "0f195841848b4feab0c80a5ba004f65e": {
          "model_module": "@jupyter-widgets/controls",
          "model_name": "ProgressStyleModel",
          "state": {
            "_model_module": "@jupyter-widgets/controls",
            "_model_module_version": "1.5.0",
            "_model_name": "ProgressStyleModel",
            "_view_count": null,
            "_view_module": "@jupyter-widgets/base",
            "_view_module_version": "1.2.0",
            "_view_name": "StyleView",
            "bar_color": null,
            "description_width": "initial"
          }
        },
        "6b079468f60148a9b43a5721cbbe5b2f": {
          "model_module": "@jupyter-widgets/base",
          "model_name": "LayoutModel",
          "state": {
            "_model_module": "@jupyter-widgets/base",
            "_model_module_version": "1.2.0",
            "_model_name": "LayoutModel",
            "_view_count": null,
            "_view_module": "@jupyter-widgets/base",
            "_view_module_version": "1.2.0",
            "_view_name": "LayoutView",
            "align_content": null,
            "align_items": null,
            "align_self": null,
            "border": null,
            "bottom": null,
            "display": null,
            "flex": null,
            "flex_flow": null,
            "grid_area": null,
            "grid_auto_columns": null,
            "grid_auto_flow": null,
            "grid_auto_rows": null,
            "grid_column": null,
            "grid_gap": null,
            "grid_row": null,
            "grid_template_areas": null,
            "grid_template_columns": null,
            "grid_template_rows": null,
            "height": null,
            "justify_content": null,
            "justify_items": null,
            "left": null,
            "margin": null,
            "max_height": null,
            "max_width": null,
            "min_height": null,
            "min_width": null,
            "object_fit": null,
            "object_position": null,
            "order": null,
            "overflow": null,
            "overflow_x": null,
            "overflow_y": null,
            "padding": null,
            "right": null,
            "top": null,
            "visibility": null,
            "width": null
          }
        },
        "d4899116c14d42f0a18a0e4e928998d1": {
          "model_module": "@jupyter-widgets/controls",
          "model_name": "DescriptionStyleModel",
          "state": {
            "_model_module": "@jupyter-widgets/controls",
            "_model_module_version": "1.5.0",
            "_model_name": "DescriptionStyleModel",
            "_view_count": null,
            "_view_module": "@jupyter-widgets/base",
            "_view_module_version": "1.2.0",
            "_view_name": "StyleView",
            "description_width": ""
          }
        },
        "e01cf25b73f746e4ae12f42abec36b14": {
          "model_module": "@jupyter-widgets/base",
          "model_name": "LayoutModel",
          "state": {
            "_model_module": "@jupyter-widgets/base",
            "_model_module_version": "1.2.0",
            "_model_name": "LayoutModel",
            "_view_count": null,
            "_view_module": "@jupyter-widgets/base",
            "_view_module_version": "1.2.0",
            "_view_name": "LayoutView",
            "align_content": null,
            "align_items": null,
            "align_self": null,
            "border": null,
            "bottom": null,
            "display": null,
            "flex": null,
            "flex_flow": null,
            "grid_area": null,
            "grid_auto_columns": null,
            "grid_auto_flow": null,
            "grid_auto_rows": null,
            "grid_column": null,
            "grid_gap": null,
            "grid_row": null,
            "grid_template_areas": null,
            "grid_template_columns": null,
            "grid_template_rows": null,
            "height": null,
            "justify_content": null,
            "justify_items": null,
            "left": null,
            "margin": null,
            "max_height": null,
            "max_width": null,
            "min_height": null,
            "min_width": null,
            "object_fit": null,
            "object_position": null,
            "order": null,
            "overflow": null,
            "overflow_x": null,
            "overflow_y": null,
            "padding": null,
            "right": null,
            "top": null,
            "visibility": null,
            "width": null
          }
        },
        "d4232f82aca7438e9d14ce2f02b64372": {
          "model_module": "@jupyter-widgets/controls",
          "model_name": "HBoxModel",
          "state": {
            "_dom_classes": [],
            "_model_module": "@jupyter-widgets/controls",
            "_model_module_version": "1.5.0",
            "_model_name": "HBoxModel",
            "_view_count": null,
            "_view_module": "@jupyter-widgets/controls",
            "_view_module_version": "1.5.0",
            "_view_name": "HBoxView",
            "box_style": "",
            "children": [
              "IPY_MODEL_8c3bc34b325a489bab424df07222f8bd",
              "IPY_MODEL_d5446cc273a542698975993cc78a75ac"
            ],
            "layout": "IPY_MODEL_f7790b4976d04b4cb9b19b4462fc85d4"
          }
        },
        "f7790b4976d04b4cb9b19b4462fc85d4": {
          "model_module": "@jupyter-widgets/base",
          "model_name": "LayoutModel",
          "state": {
            "_model_module": "@jupyter-widgets/base",
            "_model_module_version": "1.2.0",
            "_model_name": "LayoutModel",
            "_view_count": null,
            "_view_module": "@jupyter-widgets/base",
            "_view_module_version": "1.2.0",
            "_view_name": "LayoutView",
            "align_content": null,
            "align_items": null,
            "align_self": null,
            "border": null,
            "bottom": null,
            "display": null,
            "flex": null,
            "flex_flow": null,
            "grid_area": null,
            "grid_auto_columns": null,
            "grid_auto_flow": null,
            "grid_auto_rows": null,
            "grid_column": null,
            "grid_gap": null,
            "grid_row": null,
            "grid_template_areas": null,
            "grid_template_columns": null,
            "grid_template_rows": null,
            "height": null,
            "justify_content": null,
            "justify_items": null,
            "left": null,
            "margin": null,
            "max_height": null,
            "max_width": null,
            "min_height": null,
            "min_width": null,
            "object_fit": null,
            "object_position": null,
            "order": null,
            "overflow": null,
            "overflow_x": null,
            "overflow_y": null,
            "padding": null,
            "right": null,
            "top": null,
            "visibility": null,
            "width": null
          }
        },
        "8c3bc34b325a489bab424df07222f8bd": {
          "model_module": "@jupyter-widgets/controls",
          "model_name": "FloatProgressModel",
          "state": {
            "_dom_classes": [],
            "_model_module": "@jupyter-widgets/controls",
            "_model_module_version": "1.5.0",
            "_model_name": "FloatProgressModel",
            "_view_count": null,
            "_view_module": "@jupyter-widgets/controls",
            "_view_module_version": "1.5.0",
            "_view_name": "ProgressView",
            "bar_style": "success",
            "description": "100%",
            "description_tooltip": null,
            "layout": "IPY_MODEL_5489a44368dc45678ca2bf668049f277",
            "max": 64,
            "min": 0,
            "orientation": "horizontal",
            "style": "IPY_MODEL_6fa436fb931a496bb67fe2dddb6ee95f",
            "value": 64
          }
        },
        "d5446cc273a542698975993cc78a75ac": {
          "model_module": "@jupyter-widgets/controls",
          "model_name": "HTMLModel",
          "state": {
            "_dom_classes": [],
            "_model_module": "@jupyter-widgets/controls",
            "_model_module_version": "1.5.0",
            "_model_name": "HTMLModel",
            "_view_count": null,
            "_view_module": "@jupyter-widgets/controls",
            "_view_module_version": "1.5.0",
            "_view_name": "HTMLView",
            "description": "",
            "description_tooltip": null,
            "layout": "IPY_MODEL_a8fd2ca5f17c4ddf8c1e11c56a164e12",
            "placeholder": "​",
            "style": "IPY_MODEL_422ba21a27514a3c891ba3ef40e8e632",
            "value": " 64/64 [00:28&lt;00:00,  2.26ba/s]"
          }
        },
        "6fa436fb931a496bb67fe2dddb6ee95f": {
          "model_module": "@jupyter-widgets/controls",
          "model_name": "ProgressStyleModel",
          "state": {
            "_model_module": "@jupyter-widgets/controls",
            "_model_module_version": "1.5.0",
            "_model_name": "ProgressStyleModel",
            "_view_count": null,
            "_view_module": "@jupyter-widgets/base",
            "_view_module_version": "1.2.0",
            "_view_name": "StyleView",
            "bar_color": null,
            "description_width": "initial"
          }
        },
        "5489a44368dc45678ca2bf668049f277": {
          "model_module": "@jupyter-widgets/base",
          "model_name": "LayoutModel",
          "state": {
            "_model_module": "@jupyter-widgets/base",
            "_model_module_version": "1.2.0",
            "_model_name": "LayoutModel",
            "_view_count": null,
            "_view_module": "@jupyter-widgets/base",
            "_view_module_version": "1.2.0",
            "_view_name": "LayoutView",
            "align_content": null,
            "align_items": null,
            "align_self": null,
            "border": null,
            "bottom": null,
            "display": null,
            "flex": null,
            "flex_flow": null,
            "grid_area": null,
            "grid_auto_columns": null,
            "grid_auto_flow": null,
            "grid_auto_rows": null,
            "grid_column": null,
            "grid_gap": null,
            "grid_row": null,
            "grid_template_areas": null,
            "grid_template_columns": null,
            "grid_template_rows": null,
            "height": null,
            "justify_content": null,
            "justify_items": null,
            "left": null,
            "margin": null,
            "max_height": null,
            "max_width": null,
            "min_height": null,
            "min_width": null,
            "object_fit": null,
            "object_position": null,
            "order": null,
            "overflow": null,
            "overflow_x": null,
            "overflow_y": null,
            "padding": null,
            "right": null,
            "top": null,
            "visibility": null,
            "width": null
          }
        },
        "422ba21a27514a3c891ba3ef40e8e632": {
          "model_module": "@jupyter-widgets/controls",
          "model_name": "DescriptionStyleModel",
          "state": {
            "_model_module": "@jupyter-widgets/controls",
            "_model_module_version": "1.5.0",
            "_model_name": "DescriptionStyleModel",
            "_view_count": null,
            "_view_module": "@jupyter-widgets/base",
            "_view_module_version": "1.2.0",
            "_view_name": "StyleView",
            "description_width": ""
          }
        },
        "a8fd2ca5f17c4ddf8c1e11c56a164e12": {
          "model_module": "@jupyter-widgets/base",
          "model_name": "LayoutModel",
          "state": {
            "_model_module": "@jupyter-widgets/base",
            "_model_module_version": "1.2.0",
            "_model_name": "LayoutModel",
            "_view_count": null,
            "_view_module": "@jupyter-widgets/base",
            "_view_module_version": "1.2.0",
            "_view_name": "LayoutView",
            "align_content": null,
            "align_items": null,
            "align_self": null,
            "border": null,
            "bottom": null,
            "display": null,
            "flex": null,
            "flex_flow": null,
            "grid_area": null,
            "grid_auto_columns": null,
            "grid_auto_flow": null,
            "grid_auto_rows": null,
            "grid_column": null,
            "grid_gap": null,
            "grid_row": null,
            "grid_template_areas": null,
            "grid_template_columns": null,
            "grid_template_rows": null,
            "height": null,
            "justify_content": null,
            "justify_items": null,
            "left": null,
            "margin": null,
            "max_height": null,
            "max_width": null,
            "min_height": null,
            "min_width": null,
            "object_fit": null,
            "object_position": null,
            "order": null,
            "overflow": null,
            "overflow_x": null,
            "overflow_y": null,
            "padding": null,
            "right": null,
            "top": null,
            "visibility": null,
            "width": null
          }
        },
        "97aa0a1d1eca49c4b772393c881ac17c": {
          "model_module": "@jupyter-widgets/controls",
          "model_name": "HBoxModel",
          "state": {
            "_dom_classes": [],
            "_model_module": "@jupyter-widgets/controls",
            "_model_module_version": "1.5.0",
            "_model_name": "HBoxModel",
            "_view_count": null,
            "_view_module": "@jupyter-widgets/controls",
            "_view_module_version": "1.5.0",
            "_view_name": "HBoxView",
            "box_style": "",
            "children": [
              "IPY_MODEL_ff20a48647ad4a99aea9a3f2ce3149c6",
              "IPY_MODEL_efac346acf074ca292058e181ed9db77"
            ],
            "layout": "IPY_MODEL_214298d47ee047d6abe657c5c59b1583"
          }
        },
        "214298d47ee047d6abe657c5c59b1583": {
          "model_module": "@jupyter-widgets/base",
          "model_name": "LayoutModel",
          "state": {
            "_model_module": "@jupyter-widgets/base",
            "_model_module_version": "1.2.0",
            "_model_name": "LayoutModel",
            "_view_count": null,
            "_view_module": "@jupyter-widgets/base",
            "_view_module_version": "1.2.0",
            "_view_name": "LayoutView",
            "align_content": null,
            "align_items": null,
            "align_self": null,
            "border": null,
            "bottom": null,
            "display": null,
            "flex": null,
            "flex_flow": null,
            "grid_area": null,
            "grid_auto_columns": null,
            "grid_auto_flow": null,
            "grid_auto_rows": null,
            "grid_column": null,
            "grid_gap": null,
            "grid_row": null,
            "grid_template_areas": null,
            "grid_template_columns": null,
            "grid_template_rows": null,
            "height": null,
            "justify_content": null,
            "justify_items": null,
            "left": null,
            "margin": null,
            "max_height": null,
            "max_width": null,
            "min_height": null,
            "min_width": null,
            "object_fit": null,
            "object_position": null,
            "order": null,
            "overflow": null,
            "overflow_x": null,
            "overflow_y": null,
            "padding": null,
            "right": null,
            "top": null,
            "visibility": null,
            "width": null
          }
        },
        "ff20a48647ad4a99aea9a3f2ce3149c6": {
          "model_module": "@jupyter-widgets/controls",
          "model_name": "FloatProgressModel",
          "state": {
            "_dom_classes": [],
            "_model_module": "@jupyter-widgets/controls",
            "_model_module_version": "1.5.0",
            "_model_name": "FloatProgressModel",
            "_view_count": null,
            "_view_module": "@jupyter-widgets/controls",
            "_view_module_version": "1.5.0",
            "_view_name": "ProgressView",
            "bar_style": "success",
            "description": "100%",
            "description_tooltip": null,
            "layout": "IPY_MODEL_9b28f9704512450eb71de21ea42d3cc8",
            "max": 8,
            "min": 0,
            "orientation": "horizontal",
            "style": "IPY_MODEL_e5d27af460b84ab6b401c61f784858a3",
            "value": 8
          }
        },
        "efac346acf074ca292058e181ed9db77": {
          "model_module": "@jupyter-widgets/controls",
          "model_name": "HTMLModel",
          "state": {
            "_dom_classes": [],
            "_model_module": "@jupyter-widgets/controls",
            "_model_module_version": "1.5.0",
            "_model_name": "HTMLModel",
            "_view_count": null,
            "_view_module": "@jupyter-widgets/controls",
            "_view_module_version": "1.5.0",
            "_view_name": "HTMLView",
            "description": "",
            "description_tooltip": null,
            "layout": "IPY_MODEL_6004aa5f00eb40eaa37c95c5eabae3fa",
            "placeholder": "​",
            "style": "IPY_MODEL_5345dabf11cc45e38d08295cb143f5a7",
            "value": " 8/8 [00:26&lt;00:00,  3.28s/ba]"
          }
        },
        "e5d27af460b84ab6b401c61f784858a3": {
          "model_module": "@jupyter-widgets/controls",
          "model_name": "ProgressStyleModel",
          "state": {
            "_model_module": "@jupyter-widgets/controls",
            "_model_module_version": "1.5.0",
            "_model_name": "ProgressStyleModel",
            "_view_count": null,
            "_view_module": "@jupyter-widgets/base",
            "_view_module_version": "1.2.0",
            "_view_name": "StyleView",
            "bar_color": null,
            "description_width": "initial"
          }
        },
        "9b28f9704512450eb71de21ea42d3cc8": {
          "model_module": "@jupyter-widgets/base",
          "model_name": "LayoutModel",
          "state": {
            "_model_module": "@jupyter-widgets/base",
            "_model_module_version": "1.2.0",
            "_model_name": "LayoutModel",
            "_view_count": null,
            "_view_module": "@jupyter-widgets/base",
            "_view_module_version": "1.2.0",
            "_view_name": "LayoutView",
            "align_content": null,
            "align_items": null,
            "align_self": null,
            "border": null,
            "bottom": null,
            "display": null,
            "flex": null,
            "flex_flow": null,
            "grid_area": null,
            "grid_auto_columns": null,
            "grid_auto_flow": null,
            "grid_auto_rows": null,
            "grid_column": null,
            "grid_gap": null,
            "grid_row": null,
            "grid_template_areas": null,
            "grid_template_columns": null,
            "grid_template_rows": null,
            "height": null,
            "justify_content": null,
            "justify_items": null,
            "left": null,
            "margin": null,
            "max_height": null,
            "max_width": null,
            "min_height": null,
            "min_width": null,
            "object_fit": null,
            "object_position": null,
            "order": null,
            "overflow": null,
            "overflow_x": null,
            "overflow_y": null,
            "padding": null,
            "right": null,
            "top": null,
            "visibility": null,
            "width": null
          }
        },
        "5345dabf11cc45e38d08295cb143f5a7": {
          "model_module": "@jupyter-widgets/controls",
          "model_name": "DescriptionStyleModel",
          "state": {
            "_model_module": "@jupyter-widgets/controls",
            "_model_module_version": "1.5.0",
            "_model_name": "DescriptionStyleModel",
            "_view_count": null,
            "_view_module": "@jupyter-widgets/base",
            "_view_module_version": "1.2.0",
            "_view_name": "StyleView",
            "description_width": ""
          }
        },
        "6004aa5f00eb40eaa37c95c5eabae3fa": {
          "model_module": "@jupyter-widgets/base",
          "model_name": "LayoutModel",
          "state": {
            "_model_module": "@jupyter-widgets/base",
            "_model_module_version": "1.2.0",
            "_model_name": "LayoutModel",
            "_view_count": null,
            "_view_module": "@jupyter-widgets/base",
            "_view_module_version": "1.2.0",
            "_view_name": "LayoutView",
            "align_content": null,
            "align_items": null,
            "align_self": null,
            "border": null,
            "bottom": null,
            "display": null,
            "flex": null,
            "flex_flow": null,
            "grid_area": null,
            "grid_auto_columns": null,
            "grid_auto_flow": null,
            "grid_auto_rows": null,
            "grid_column": null,
            "grid_gap": null,
            "grid_row": null,
            "grid_template_areas": null,
            "grid_template_columns": null,
            "grid_template_rows": null,
            "height": null,
            "justify_content": null,
            "justify_items": null,
            "left": null,
            "margin": null,
            "max_height": null,
            "max_width": null,
            "min_height": null,
            "min_width": null,
            "object_fit": null,
            "object_position": null,
            "order": null,
            "overflow": null,
            "overflow_x": null,
            "overflow_y": null,
            "padding": null,
            "right": null,
            "top": null,
            "visibility": null,
            "width": null
          }
        },
        "e3771a27db9b475cb0d3cce0d41404b0": {
          "model_module": "@jupyter-widgets/controls",
          "model_name": "HBoxModel",
          "state": {
            "_dom_classes": [],
            "_model_module": "@jupyter-widgets/controls",
            "_model_module_version": "1.5.0",
            "_model_name": "HBoxModel",
            "_view_count": null,
            "_view_module": "@jupyter-widgets/controls",
            "_view_module_version": "1.5.0",
            "_view_name": "HBoxView",
            "box_style": "",
            "children": [
              "IPY_MODEL_b6ac243c926a48ee9c177713360c8f8e",
              "IPY_MODEL_bb1f4309ee1e4c4dbf75d61665f154dc"
            ],
            "layout": "IPY_MODEL_663511e95c9a4141878cfad442dbde7d"
          }
        },
        "663511e95c9a4141878cfad442dbde7d": {
          "model_module": "@jupyter-widgets/base",
          "model_name": "LayoutModel",
          "state": {
            "_model_module": "@jupyter-widgets/base",
            "_model_module_version": "1.2.0",
            "_model_name": "LayoutModel",
            "_view_count": null,
            "_view_module": "@jupyter-widgets/base",
            "_view_module_version": "1.2.0",
            "_view_name": "LayoutView",
            "align_content": null,
            "align_items": null,
            "align_self": null,
            "border": null,
            "bottom": null,
            "display": null,
            "flex": null,
            "flex_flow": null,
            "grid_area": null,
            "grid_auto_columns": null,
            "grid_auto_flow": null,
            "grid_auto_rows": null,
            "grid_column": null,
            "grid_gap": null,
            "grid_row": null,
            "grid_template_areas": null,
            "grid_template_columns": null,
            "grid_template_rows": null,
            "height": null,
            "justify_content": null,
            "justify_items": null,
            "left": null,
            "margin": null,
            "max_height": null,
            "max_width": null,
            "min_height": null,
            "min_width": null,
            "object_fit": null,
            "object_position": null,
            "order": null,
            "overflow": null,
            "overflow_x": null,
            "overflow_y": null,
            "padding": null,
            "right": null,
            "top": null,
            "visibility": null,
            "width": null
          }
        },
        "b6ac243c926a48ee9c177713360c8f8e": {
          "model_module": "@jupyter-widgets/controls",
          "model_name": "FloatProgressModel",
          "state": {
            "_dom_classes": [],
            "_model_module": "@jupyter-widgets/controls",
            "_model_module_version": "1.5.0",
            "_model_name": "FloatProgressModel",
            "_view_count": null,
            "_view_module": "@jupyter-widgets/controls",
            "_view_module_version": "1.5.0",
            "_view_name": "ProgressView",
            "bar_style": "success",
            "description": "Downloading: 100%",
            "description_tooltip": null,
            "layout": "IPY_MODEL_37206b261279473aa227db2f89056319",
            "max": 440473133,
            "min": 0,
            "orientation": "horizontal",
            "style": "IPY_MODEL_e9e5f13c742b4107a6b2c82967930b89",
            "value": 440473133
          }
        },
        "bb1f4309ee1e4c4dbf75d61665f154dc": {
          "model_module": "@jupyter-widgets/controls",
          "model_name": "HTMLModel",
          "state": {
            "_dom_classes": [],
            "_model_module": "@jupyter-widgets/controls",
            "_model_module_version": "1.5.0",
            "_model_name": "HTMLModel",
            "_view_count": null,
            "_view_module": "@jupyter-widgets/controls",
            "_view_module_version": "1.5.0",
            "_view_name": "HTMLView",
            "description": "",
            "description_tooltip": null,
            "layout": "IPY_MODEL_4ab15b4b85794b87b2ff601fc0248194",
            "placeholder": "​",
            "style": "IPY_MODEL_ffad6ffa9aa54fdd99b78ca4edba226d",
            "value": " 440M/440M [01:14&lt;00:00, 5.93MB/s]"
          }
        },
        "e9e5f13c742b4107a6b2c82967930b89": {
          "model_module": "@jupyter-widgets/controls",
          "model_name": "ProgressStyleModel",
          "state": {
            "_model_module": "@jupyter-widgets/controls",
            "_model_module_version": "1.5.0",
            "_model_name": "ProgressStyleModel",
            "_view_count": null,
            "_view_module": "@jupyter-widgets/base",
            "_view_module_version": "1.2.0",
            "_view_name": "StyleView",
            "bar_color": null,
            "description_width": "initial"
          }
        },
        "37206b261279473aa227db2f89056319": {
          "model_module": "@jupyter-widgets/base",
          "model_name": "LayoutModel",
          "state": {
            "_model_module": "@jupyter-widgets/base",
            "_model_module_version": "1.2.0",
            "_model_name": "LayoutModel",
            "_view_count": null,
            "_view_module": "@jupyter-widgets/base",
            "_view_module_version": "1.2.0",
            "_view_name": "LayoutView",
            "align_content": null,
            "align_items": null,
            "align_self": null,
            "border": null,
            "bottom": null,
            "display": null,
            "flex": null,
            "flex_flow": null,
            "grid_area": null,
            "grid_auto_columns": null,
            "grid_auto_flow": null,
            "grid_auto_rows": null,
            "grid_column": null,
            "grid_gap": null,
            "grid_row": null,
            "grid_template_areas": null,
            "grid_template_columns": null,
            "grid_template_rows": null,
            "height": null,
            "justify_content": null,
            "justify_items": null,
            "left": null,
            "margin": null,
            "max_height": null,
            "max_width": null,
            "min_height": null,
            "min_width": null,
            "object_fit": null,
            "object_position": null,
            "order": null,
            "overflow": null,
            "overflow_x": null,
            "overflow_y": null,
            "padding": null,
            "right": null,
            "top": null,
            "visibility": null,
            "width": null
          }
        },
        "ffad6ffa9aa54fdd99b78ca4edba226d": {
          "model_module": "@jupyter-widgets/controls",
          "model_name": "DescriptionStyleModel",
          "state": {
            "_model_module": "@jupyter-widgets/controls",
            "_model_module_version": "1.5.0",
            "_model_name": "DescriptionStyleModel",
            "_view_count": null,
            "_view_module": "@jupyter-widgets/base",
            "_view_module_version": "1.2.0",
            "_view_name": "StyleView",
            "description_width": ""
          }
        },
        "4ab15b4b85794b87b2ff601fc0248194": {
          "model_module": "@jupyter-widgets/base",
          "model_name": "LayoutModel",
          "state": {
            "_model_module": "@jupyter-widgets/base",
            "_model_module_version": "1.2.0",
            "_model_name": "LayoutModel",
            "_view_count": null,
            "_view_module": "@jupyter-widgets/base",
            "_view_module_version": "1.2.0",
            "_view_name": "LayoutView",
            "align_content": null,
            "align_items": null,
            "align_self": null,
            "border": null,
            "bottom": null,
            "display": null,
            "flex": null,
            "flex_flow": null,
            "grid_area": null,
            "grid_auto_columns": null,
            "grid_auto_flow": null,
            "grid_auto_rows": null,
            "grid_column": null,
            "grid_gap": null,
            "grid_row": null,
            "grid_template_areas": null,
            "grid_template_columns": null,
            "grid_template_rows": null,
            "height": null,
            "justify_content": null,
            "justify_items": null,
            "left": null,
            "margin": null,
            "max_height": null,
            "max_width": null,
            "min_height": null,
            "min_width": null,
            "object_fit": null,
            "object_position": null,
            "order": null,
            "overflow": null,
            "overflow_x": null,
            "overflow_y": null,
            "padding": null,
            "right": null,
            "top": null,
            "visibility": null,
            "width": null
          }
        },
        "e9cb7db17f274e28951490a7425b5a3f": {
          "model_module": "@jupyter-widgets/controls",
          "model_name": "HBoxModel",
          "state": {
            "_dom_classes": [],
            "_model_module": "@jupyter-widgets/controls",
            "_model_module_version": "1.5.0",
            "_model_name": "HBoxModel",
            "_view_count": null,
            "_view_module": "@jupyter-widgets/controls",
            "_view_module_version": "1.5.0",
            "_view_name": "HBoxView",
            "box_style": "",
            "children": [
              "IPY_MODEL_b37766be1f2e41aba6bfdf89c3c708e0",
              "IPY_MODEL_78eae54b6f464572a1d5da8eb30300a8"
            ],
            "layout": "IPY_MODEL_c712bb8b8a3142b190b4f233af487830"
          }
        },
        "c712bb8b8a3142b190b4f233af487830": {
          "model_module": "@jupyter-widgets/base",
          "model_name": "LayoutModel",
          "state": {
            "_model_module": "@jupyter-widgets/base",
            "_model_module_version": "1.2.0",
            "_model_name": "LayoutModel",
            "_view_count": null,
            "_view_module": "@jupyter-widgets/base",
            "_view_module_version": "1.2.0",
            "_view_name": "LayoutView",
            "align_content": null,
            "align_items": null,
            "align_self": null,
            "border": null,
            "bottom": null,
            "display": null,
            "flex": null,
            "flex_flow": null,
            "grid_area": null,
            "grid_auto_columns": null,
            "grid_auto_flow": null,
            "grid_auto_rows": null,
            "grid_column": null,
            "grid_gap": null,
            "grid_row": null,
            "grid_template_areas": null,
            "grid_template_columns": null,
            "grid_template_rows": null,
            "height": null,
            "justify_content": null,
            "justify_items": null,
            "left": null,
            "margin": null,
            "max_height": null,
            "max_width": null,
            "min_height": null,
            "min_width": null,
            "object_fit": null,
            "object_position": null,
            "order": null,
            "overflow": null,
            "overflow_x": null,
            "overflow_y": null,
            "padding": null,
            "right": null,
            "top": null,
            "visibility": null,
            "width": null
          }
        },
        "b37766be1f2e41aba6bfdf89c3c708e0": {
          "model_module": "@jupyter-widgets/controls",
          "model_name": "FloatProgressModel",
          "state": {
            "_dom_classes": [],
            "_model_module": "@jupyter-widgets/controls",
            "_model_module_version": "1.5.0",
            "_model_name": "FloatProgressModel",
            "_view_count": null,
            "_view_module": "@jupyter-widgets/controls",
            "_view_module_version": "1.5.0",
            "_view_name": "ProgressView",
            "bar_style": "success",
            "description": "100%",
            "description_tooltip": null,
            "layout": "IPY_MODEL_ead8185212c742869df5bbdc020d1960",
            "max": 64,
            "min": 0,
            "orientation": "horizontal",
            "style": "IPY_MODEL_6379535a607b4736a8fe0d15ff172868",
            "value": 64
          }
        },
        "78eae54b6f464572a1d5da8eb30300a8": {
          "model_module": "@jupyter-widgets/controls",
          "model_name": "HTMLModel",
          "state": {
            "_dom_classes": [],
            "_model_module": "@jupyter-widgets/controls",
            "_model_module_version": "1.5.0",
            "_model_name": "HTMLModel",
            "_view_count": null,
            "_view_module": "@jupyter-widgets/controls",
            "_view_module_version": "1.5.0",
            "_view_name": "HTMLView",
            "description": "",
            "description_tooltip": null,
            "layout": "IPY_MODEL_727e19ba9a264176850ca43f757a8e76",
            "placeholder": "​",
            "style": "IPY_MODEL_2e6929a295684313967979d0a85da351",
            "value": " 64/64 [00:01&lt;00:00, 32.26ba/s]"
          }
        },
        "6379535a607b4736a8fe0d15ff172868": {
          "model_module": "@jupyter-widgets/controls",
          "model_name": "ProgressStyleModel",
          "state": {
            "_model_module": "@jupyter-widgets/controls",
            "_model_module_version": "1.5.0",
            "_model_name": "ProgressStyleModel",
            "_view_count": null,
            "_view_module": "@jupyter-widgets/base",
            "_view_module_version": "1.2.0",
            "_view_name": "StyleView",
            "bar_color": null,
            "description_width": "initial"
          }
        },
        "ead8185212c742869df5bbdc020d1960": {
          "model_module": "@jupyter-widgets/base",
          "model_name": "LayoutModel",
          "state": {
            "_model_module": "@jupyter-widgets/base",
            "_model_module_version": "1.2.0",
            "_model_name": "LayoutModel",
            "_view_count": null,
            "_view_module": "@jupyter-widgets/base",
            "_view_module_version": "1.2.0",
            "_view_name": "LayoutView",
            "align_content": null,
            "align_items": null,
            "align_self": null,
            "border": null,
            "bottom": null,
            "display": null,
            "flex": null,
            "flex_flow": null,
            "grid_area": null,
            "grid_auto_columns": null,
            "grid_auto_flow": null,
            "grid_auto_rows": null,
            "grid_column": null,
            "grid_gap": null,
            "grid_row": null,
            "grid_template_areas": null,
            "grid_template_columns": null,
            "grid_template_rows": null,
            "height": null,
            "justify_content": null,
            "justify_items": null,
            "left": null,
            "margin": null,
            "max_height": null,
            "max_width": null,
            "min_height": null,
            "min_width": null,
            "object_fit": null,
            "object_position": null,
            "order": null,
            "overflow": null,
            "overflow_x": null,
            "overflow_y": null,
            "padding": null,
            "right": null,
            "top": null,
            "visibility": null,
            "width": null
          }
        },
        "2e6929a295684313967979d0a85da351": {
          "model_module": "@jupyter-widgets/controls",
          "model_name": "DescriptionStyleModel",
          "state": {
            "_model_module": "@jupyter-widgets/controls",
            "_model_module_version": "1.5.0",
            "_model_name": "DescriptionStyleModel",
            "_view_count": null,
            "_view_module": "@jupyter-widgets/base",
            "_view_module_version": "1.2.0",
            "_view_name": "StyleView",
            "description_width": ""
          }
        },
        "727e19ba9a264176850ca43f757a8e76": {
          "model_module": "@jupyter-widgets/base",
          "model_name": "LayoutModel",
          "state": {
            "_model_module": "@jupyter-widgets/base",
            "_model_module_version": "1.2.0",
            "_model_name": "LayoutModel",
            "_view_count": null,
            "_view_module": "@jupyter-widgets/base",
            "_view_module_version": "1.2.0",
            "_view_name": "LayoutView",
            "align_content": null,
            "align_items": null,
            "align_self": null,
            "border": null,
            "bottom": null,
            "display": null,
            "flex": null,
            "flex_flow": null,
            "grid_area": null,
            "grid_auto_columns": null,
            "grid_auto_flow": null,
            "grid_auto_rows": null,
            "grid_column": null,
            "grid_gap": null,
            "grid_row": null,
            "grid_template_areas": null,
            "grid_template_columns": null,
            "grid_template_rows": null,
            "height": null,
            "justify_content": null,
            "justify_items": null,
            "left": null,
            "margin": null,
            "max_height": null,
            "max_width": null,
            "min_height": null,
            "min_width": null,
            "object_fit": null,
            "object_position": null,
            "order": null,
            "overflow": null,
            "overflow_x": null,
            "overflow_y": null,
            "padding": null,
            "right": null,
            "top": null,
            "visibility": null,
            "width": null
          }
        }
      }
    }
  },
  "cells": [
    {
      "cell_type": "markdown",
      "metadata": {
        "id": "aKfIUdxqHrDL"
      },
      "source": [
        "# Presentation of Main Results: Dense Passage Retriever\n",
        "\n",
        "This notebook presents the main results of our project. The data set used is TriviaQA from HuggingFace [https://github.com/huggingface/datasets] where samples from the train and validation set are used. After pre-processing data, both train and validation sets contain 1024 Q&A pairs which is used when creating the results. "
      ]
    },
    {
      "cell_type": "markdown",
      "metadata": {
        "id": "dVV8Di0gIQjl"
      },
      "source": [
        "First the necessary modules are installed and imported, the drive is mounted and torch is setup to use the GPU."
      ]
    },
    {
      "cell_type": "code",
      "metadata": {
        "id": "f5-V1PpeItYD"
      },
      "source": [
        "%%capture\n",
        "# Install modules from Hugging face\n",
        "! pip install datasets;\n",
        "! pip install transformers;\n",
        "\n",
        "# Import used modules\n",
        "import torch\n",
        "import numpy as np\n",
        "import matplotlib.pyplot as plt"
      ],
      "execution_count": 2,
      "outputs": []
    },
    {
      "cell_type": "code",
      "metadata": {
        "colab": {
          "base_uri": "https://localhost:8080/"
        },
        "id": "rgfIcaqncyd7",
        "outputId": "08245053-1aee-4532-9382-1b57b2c4a04a"
      },
      "source": [
        "# Setup Google Drive, where the raw data is located\n",
        "import sys\n",
        "import os\n",
        "from google.colab import drive\n",
        "drive.mount('/content/drive', force_remount=True)\n",
        "sys.path.append(os.path.join('/content/drive/My Drive/deep_learning_project'))"
      ],
      "execution_count": 3,
      "outputs": [
        {
          "output_type": "stream",
          "text": [
            "Mounted at /content/drive\n"
          ],
          "name": "stdout"
        }
      ]
    },
    {
      "cell_type": "markdown",
      "metadata": {
        "id": "5TjKjHCVuX3A"
      },
      "source": [
        "Google Colab is used to access a Tesla T4 GPU."
      ]
    },
    {
      "cell_type": "code",
      "metadata": {
        "colab": {
          "base_uri": "https://localhost:8080/"
        },
        "id": "l0YEv16Mc1LO",
        "outputId": "9aecd0b2-973d-4838-84eb-86f4f2c9bc10"
      },
      "source": [
        "# Setup GPU\n",
        "if torch.cuda.is_available():    \n",
        "    # Tell PyTorch to use the GPU.    \n",
        "    device = torch.device(\"cuda\")\n",
        "    print('There are %d GPU(s) available.' % torch.cuda.device_count())\n",
        "    print('We will use the GPU:', torch.cuda.get_device_name(0))\n",
        "else:\n",
        "    print('No GPU available, using the CPU instead.')\n",
        "    device = torch.device(\"cpu\")"
      ],
      "execution_count": 4,
      "outputs": [
        {
          "output_type": "stream",
          "text": [
            "There are 1 GPU(s) available.\n",
            "We will use the GPU: Tesla T4\n"
          ],
          "name": "stdout"
        }
      ]
    },
    {
      "cell_type": "markdown",
      "metadata": {
        "id": "-r7yiNR4HrDV"
      },
      "source": [
        "## Loading Data"
      ]
    },
    {
      "cell_type": "markdown",
      "metadata": {
        "id": "1-hsbXqyVEXb"
      },
      "source": [
        "Below two small samples of training and validation data are loaded."
      ]
    },
    {
      "cell_type": "code",
      "metadata": {
        "id": "-eNw-2w2HrDW"
      },
      "source": [
        "from datasets import load_from_disk\n",
        "\n",
        "train_path = 'drive/My Drive/deep_learning_project/train_mini'\n",
        "val_path = 'drive/My Drive/deep_learning_project/validation_mini'\n",
        "\n",
        "train_raw = load_from_disk(train_path)\n",
        "validation_raw = load_from_disk(val_path)\n"
      ],
      "execution_count": 5,
      "outputs": []
    },
    {
      "cell_type": "markdown",
      "metadata": {
        "id": "SVlsHUy7oYzD"
      },
      "source": [
        "The data can also be obtained by running the following:"
      ]
    },
    {
      "cell_type": "code",
      "metadata": {
        "id": "gCTFdwY5uX3D"
      },
      "source": [
        "from datasets import load_dataset\n",
        "train_raw = load_dataset('trivia_qa', name = 'rc', split = 'train')\n",
        "validation_raw = load_dataset('trivia_qa', name = 'rc', split = 'validation')\n",
        "train_raw = train_raw.select(range(2000))\n",
        "validation_raw = validation_raw.select(range(2000))\n",
        "train_raw = train_raw.map(remove_columns=(['search_results']))\n",
        "validation_raw = validation_raw.map(remove_columns=(['search_results']))"
      ],
      "execution_count": null,
      "outputs": []
    },
    {
      "cell_type": "markdown",
      "metadata": {
        "id": "rv3SL6p2ouYI"
      },
      "source": [
        "The features of the data can be seen below:"
      ]
    },
    {
      "cell_type": "code",
      "metadata": {
        "colab": {
          "base_uri": "https://localhost:8080/"
        },
        "id": "mxrfYNXrKmIw",
        "outputId": "6beb532d-7da5-4d80-e140-646c50a91bea"
      },
      "source": [
        "train_raw.features"
      ],
      "execution_count": 6,
      "outputs": [
        {
          "output_type": "execute_result",
          "data": {
            "text/plain": [
              "{'answer': {'aliases': Sequence(feature=Value(dtype='string', id=None), length=-1, id=None),\n",
              "  'matched_wiki_entity_name': Value(dtype='string', id=None),\n",
              "  'normalized_aliases': Sequence(feature=Value(dtype='string', id=None), length=-1, id=None),\n",
              "  'normalized_matched_wiki_entity_name': Value(dtype='string', id=None),\n",
              "  'normalized_value': Value(dtype='string', id=None),\n",
              "  'type': Value(dtype='string', id=None),\n",
              "  'value': Value(dtype='string', id=None)},\n",
              " 'entity_pages': Sequence(feature={'doc_source': Value(dtype='string', id=None), 'filename': Value(dtype='string', id=None), 'title': Value(dtype='string', id=None), 'wiki_context': Value(dtype='string', id=None)}, length=-1, id=None),\n",
              " 'question': Value(dtype='string', id=None),\n",
              " 'question_id': Value(dtype='string', id=None),\n",
              " 'question_source': Value(dtype='string', id=None)}"
            ]
          },
          "metadata": {
            "tags": []
          },
          "execution_count": 6
        }
      ]
    },
    {
      "cell_type": "markdown",
      "metadata": {
        "id": "-EpPEqWeHrDW"
      },
      "source": [
        "## Pre-process Data"
      ]
    },
    {
      "cell_type": "markdown",
      "metadata": {
        "id": "HbRm039OozOJ"
      },
      "source": [
        "The data is pre-processed before using it in the Dense Passage Retrieval. The process is described in section *3.2 Wikipedia Data Pre-processing* in the article.\n",
        "\n",
        "Furthermore, we have defined several functions in order to calculate similarity, choose the positive passage, divide the documents into passages and appending a Q token for the BERT encoder which can be found below."
      ]
    },
    {
      "cell_type": "code",
      "metadata": {
        "id": "uKWN--a2HrDW"
      },
      "source": [
        "from sklearn.feature_extraction.text import TfidfVectorizer\n",
        "from nltk.tokenize import RegexpTokenizer\n",
        "\n",
        "def preprocess_data(data, paragraph_len = 128, remove_search_results = False):\n",
        "    \"\"\"\n",
        "    Pre-processes the data by selecting relevant columns and finding the \n",
        "    paragraph with the correct answer .\n",
        "\n",
        "    Parameters\n",
        "    ----------\n",
        "    data : datasets.Dataset\n",
        "        The raw wiki_qa data - maybe with feature 'search_results' removed for \n",
        "        more efficient storage.\n",
        "    paragraph_len : int, optional\n",
        "        Number of words in paragraph. The default is 128.\n",
        "    remove_search_results : bool, optional\n",
        "        Remove feature 'search_results' from the data. The default is False.\n",
        "\n",
        "    Returns\n",
        "    -------\n",
        "        datasets.dataset\n",
        "    Pre processed dataset with columns \n",
        "    ['answer', 'paragraph', 'question', 'question_id'].\n",
        "    \"\"\"\n",
        "   \n",
        "    # Select appropriate columns\n",
        "    if remove_search_results:\n",
        "        data = data.map(remove_columns = ['search_results'])\n",
        "    out_data = data.map(lambda example: {'wiki_text': example['entity_pages']['wiki_context'], \n",
        "                                         'wiki_title': example['entity_pages']['title'],\n",
        "                                             'answer': example['answer']['normalized_value']}, \n",
        "                            remove_columns=['question_source', 'answer', 'entity_pages'])\n",
        "    \n",
        "    # Remove entries without wiki text\n",
        "    out_data = out_data.filter(lambda example: len(example['wiki_text']) > 0)\n",
        "    \n",
        "    # Get paragraph with the answer\n",
        "    out_data = out_data.map(lambda example: {\n",
        "        'paragraph': get_paragraph_with_answer(example, paragraph_len)\n",
        "        }, remove_columns = ['wiki_text', 'wiki_title'])\n",
        "    \n",
        "    out_data = out_data.map(lambda example: {\n",
        "        'question': append_Q_token(example)\n",
        "        })\n",
        "    return(out_data)\n",
        "\n",
        "def get_tfidf_similarity(questions, paragraphs):\n",
        "    \"\"\"\n",
        "    Returns a similarity matrix based on the distance in the tf-idf space\n",
        "\n",
        "    Parameters\n",
        "    ----------\n",
        "    questions : list of strings\n",
        "        Lists of all questions.\n",
        "    paragraphs : list of strings\n",
        "        Lists of all paragraphs\n",
        "    \n",
        "    Returns :\n",
        "    -------\n",
        "        Similarity matrix of dimension  \n",
        "        (number of questions, number of paragraphs). \n",
        "    \"\"\"\n",
        "    vectorizer = TfidfVectorizer(lowercase = False)\n",
        "    all_text = questions + paragraphs\n",
        "    vectorizer.fit(all_text)\n",
        "    similarity = vectorizer.transform(questions) * vectorizer.transform(paragraphs).T\n",
        "    return np.array(similarity.todense())\n",
        "\n",
        "def get_paragraph_with_answer(example, paragraph_len):\n",
        "    \"\"\"\n",
        "    Return paragraph of paragraph_len from example['wiki_text'] with highest \n",
        "    similary to question + answer\n",
        "    \"\"\"\n",
        "    paragraphs = get_all_paragraphs(example, paragraph_len)\n",
        "    \n",
        "    # joining title and text without the '[P]' token \n",
        "    paragraphs_joined = [paragraphs[0][0][4:] + ' ' + paragraph[1] for paragraph in paragraphs]\n",
        "    \n",
        "    # Calculating tf-idf similarities\n",
        "    target = example['question'] + example['answer'] \n",
        "    sim = get_tfidf_similarity([target], paragraphs_joined) \n",
        "        \n",
        "    # finding most similar containing the answer\n",
        "    n_para = sim.size\n",
        "    idxs = np.argsort(sim)[0][-n_para:]\n",
        "    for p in range(len(idxs)):\n",
        "        idx = idxs[-p]\n",
        "        if example['answer'] in paragraphs[idx][1]:\n",
        "            break \n",
        "    \n",
        "    answer_paragraph = paragraphs[idx]\n",
        "    \n",
        "    return answer_paragraph\n",
        "\n",
        "\n",
        "def get_all_paragraphs(example, paragraph_len):\n",
        "    \"\"\"\n",
        "    Splits all wiki_texts of example into paragraphs of paragraph_len\n",
        "    \"\"\"\n",
        "    n_texts = len(example['wiki_text'])\n",
        "    all_paragraphs = []\n",
        "    tokenizer = RegexpTokenizer(r'\\w+')\n",
        "    for i in range(n_texts):\n",
        "        tokens = tokenizer.tokenize(example['wiki_text'][i].lower())\n",
        "        paragraphs = [tokens[i:(i+paragraph_len)] \\\n",
        "                      for i in range(0, len(tokens), paragraph_len)]\n",
        "        \n",
        "        paragraphs = [['[P] ' + example['wiki_title'][i].lower()] + [' '.join(paragraph)] for paragraph in paragraphs]\n",
        "        \n",
        "        all_paragraphs += paragraphs \n",
        "    return all_paragraphs\n",
        "    \n",
        "    \n",
        "def append_Q_token(example):\n",
        "    \"\"\"\n",
        "    Appends P or Q to the paragraph or Question\n",
        "    \"\"\"\n",
        "    return(['[Q]'] + [example['question']])"
      ],
      "execution_count": null,
      "outputs": []
    },
    {
      "cell_type": "code",
      "metadata": {
        "colab": {
          "base_uri": "https://localhost:8080/",
          "height": 279,
          "referenced_widgets": [
            "0e46063a6c9045fd812a928c95fae359",
            "a3899198bcd34142894f1b058a5e7b7d",
            "7b33c4efd3df46078403a8956ab8b9bf",
            "04ca822300c1460da00c4d169ad509c6",
            "bf47e1aecd804c94ac5fb242840c2636",
            "1943ab1df4854684b4523e20fa026e84",
            "74556b39f3e74a13ac9fb71f77b7474f",
            "589b5e9312ca4a4bb8aded11d3b6f1e9",
            "7717ad8856c34a36a90b87336db439a1",
            "4c7d4360df45485fbe3c82ae739bcc03",
            "51f49ae194e24873a05462f7c89eef50",
            "7d67f72bb0d847d592069e8d4e338caf",
            "e6f1719766dc4c2d9d7abf281133a774",
            "99f0457c2fbe4d91bb95a3629c28862c",
            "543b62fc133044598099a74a5c8a1a43",
            "00b28e0819df4090a1f5a0810e8d5ccd",
            "ada13be0e1b84922b1aa449e88252a04",
            "531484a82ce74b74bfd73ddb96f74fea",
            "4f5c8f56d3e7416a8f1ea8b78a495b3a",
            "904253841c52411ab745e271729196de",
            "c105e2cc46804f7ab948a245814a91e2",
            "33b2ff9e1e724d88b33903148319fe34",
            "507fe352c1f34fed8b24b07c7a6aedae",
            "da1d4a0d54484851b57949a448cbb7d5",
            "d8c74996e7db44c6b73629207e5804f5",
            "1db3a6dc98f142829720be560ed53ecd",
            "0284969f9de0425b8112fe7a8b781eff",
            "58358d79e0c245c1a014b74fa89a9c6f",
            "7167eac9192a40bca1cc5685794e5112",
            "0a1fcaf34bdf41048577c3281c86c3ca",
            "3cd45110fa01471b819a2d672ae30534",
            "4b4b45f4f7b8423aaab46aa19a002fcf"
          ]
        },
        "id": "e_9cXl20WpSP",
        "outputId": "9e1e503d-9abf-48d3-c63e-95ab7e885248"
      },
      "source": [
        "train_processed = preprocess_data(train_raw)\n",
        "validation_processed = preprocess_data(validation_raw)"
      ],
      "execution_count": null,
      "outputs": [
        {
          "output_type": "stream",
          "text": [
            "Loading cached processed dataset at drive/My Drive/deep_learning_project/train_mini/cache-7fb3e0a1fe57620e.arrow\n",
            "Loading cached processed dataset at drive/My Drive/deep_learning_project/train_mini/cache-bda79a61790ad1cf.arrow\n",
            "Loading cached processed dataset at drive/My Drive/deep_learning_project/train_mini/cache-695390877b1775da.arrow\n",
            "Loading cached processed dataset at drive/My Drive/deep_learning_project/train_mini/cache-730875171f3c9dbf.arrow\n"
          ],
          "name": "stderr"
        },
        {
          "output_type": "display_data",
          "data": {
            "application/vnd.jupyter.widget-view+json": {
              "model_id": "0e46063a6c9045fd812a928c95fae359",
              "version_major": 2,
              "version_minor": 0
            },
            "text/plain": [
              "HBox(children=(FloatProgress(value=0.0, max=2000.0), HTML(value='')))"
            ]
          },
          "metadata": {
            "tags": []
          }
        },
        {
          "output_type": "stream",
          "text": [
            "\n"
          ],
          "name": "stdout"
        },
        {
          "output_type": "display_data",
          "data": {
            "application/vnd.jupyter.widget-view+json": {
              "model_id": "7717ad8856c34a36a90b87336db439a1",
              "version_major": 2,
              "version_minor": 0
            },
            "text/plain": [
              "HBox(children=(FloatProgress(value=0.0, max=2.0), HTML(value='')))"
            ]
          },
          "metadata": {
            "tags": []
          }
        },
        {
          "output_type": "stream",
          "text": [
            "\n"
          ],
          "name": "stdout"
        },
        {
          "output_type": "display_data",
          "data": {
            "application/vnd.jupyter.widget-view+json": {
              "model_id": "ada13be0e1b84922b1aa449e88252a04",
              "version_major": 2,
              "version_minor": 0
            },
            "text/plain": [
              "HBox(children=(FloatProgress(value=0.0, max=1417.0), HTML(value='')))"
            ]
          },
          "metadata": {
            "tags": []
          }
        },
        {
          "output_type": "stream",
          "text": [
            "\n"
          ],
          "name": "stdout"
        },
        {
          "output_type": "display_data",
          "data": {
            "application/vnd.jupyter.widget-view+json": {
              "model_id": "d8c74996e7db44c6b73629207e5804f5",
              "version_major": 2,
              "version_minor": 0
            },
            "text/plain": [
              "HBox(children=(FloatProgress(value=0.0, max=1417.0), HTML(value='')))"
            ]
          },
          "metadata": {
            "tags": []
          }
        },
        {
          "output_type": "stream",
          "text": [
            "\n"
          ],
          "name": "stdout"
        }
      ]
    },
    {
      "cell_type": "markdown",
      "metadata": {
        "id": "jAyy0DPKHrDX"
      },
      "source": [
        "## Training Models\n",
        "\n",
        "When training the models we use a `BATCH_SIZE` of 16, a `learning_rate` at $5e-5$ and 4 `EPOCHS`."
      ]
    },
    {
      "cell_type": "code",
      "metadata": {
        "id": "kVqrAZKaXABf"
      },
      "source": [
        "from math import ceil\n",
        "from transformers import AutoTokenizer, BertModel, AdamW"
      ],
      "execution_count": null,
      "outputs": []
    },
    {
      "cell_type": "code",
      "metadata": {
        "id": "-sAHvkQmVYJD"
      },
      "source": [
        "# Define data parameters\n",
        "batch_size = 16\n",
        "\n",
        "# Train\n",
        "n_sample_train = 1024 \n",
        "n_batches_train = ceil(n_sample_train/batch_size)\n",
        "# Validation\n",
        "n_sample_validation = 128 \n",
        "n_batches_validation = ceil(n_sample_validation/batch_size)\n",
        "\n",
        "\n",
        "# Define model parameters\n",
        "lr = 5e-5\n",
        "n_epochs = 4\n",
        "\n",
        "# Define printing parameters\n",
        "n_batch_print = 16 # Prints every (n_batch_print) during training"
      ],
      "execution_count": null,
      "outputs": []
    },
    {
      "cell_type": "markdown",
      "metadata": {
        "id": "VVR8kwDpuX3I"
      },
      "source": [
        "A subset of data is chosen and tokenized using the `AutoTokenizer` from the pretrained BERT base model. The tokens are used to define the input features for the model. "
      ]
    },
    {
      "cell_type": "code",
      "metadata": {
        "colab": {
          "base_uri": "https://localhost:8080/",
          "height": 261,
          "referenced_widgets": [
            "20dfa0db481c42c7931cc49e7097f232",
            "26c9f33d5ae9449aa241bb53b65271aa",
            "c459b6b1522945ce938d574e92051338",
            "5410c6688d704744a38a5065f73cdec4",
            "13608d7316bc49c0adb1a9f83cf09f02",
            "d83540bc48684c6ebe1388a133c42188",
            "a60a310d62b249c7ad2de0e2290b5c00",
            "07de3014a4504360afd59c0e479b6158",
            "d7ac3f5034f645c0a6b15e5b0a4d75cd",
            "8daaccf0226c4c26a5b62dfad5e08bc3",
            "74019386a3cd4774b46c7a581effe1d5",
            "54208ff603c24a87a6cd4afeb79fa4e0",
            "8138ca75b1864928b9143607206565b3",
            "21e15c6972f0439bb2c1d1ab6936abe1",
            "0a53743549d34705bbd95ef26eeff16e",
            "d2cbc0973e034d6aa741a5cea63f0dfe",
            "e7e0e742a2854846bfc64d003d62140f",
            "f4c319b48dcf409da4eefd4464b1ee58",
            "648aa57dc8034f8c910ab272d537b002",
            "7d127f5ebdc0410d86350461de94c685",
            "0f195841848b4feab0c80a5ba004f65e",
            "6b079468f60148a9b43a5721cbbe5b2f",
            "d4899116c14d42f0a18a0e4e928998d1",
            "e01cf25b73f746e4ae12f42abec36b14",
            "d4232f82aca7438e9d14ce2f02b64372",
            "f7790b4976d04b4cb9b19b4462fc85d4",
            "8c3bc34b325a489bab424df07222f8bd",
            "d5446cc273a542698975993cc78a75ac",
            "6fa436fb931a496bb67fe2dddb6ee95f",
            "5489a44368dc45678ca2bf668049f277",
            "422ba21a27514a3c891ba3ef40e8e632",
            "a8fd2ca5f17c4ddf8c1e11c56a164e12",
            "97aa0a1d1eca49c4b772393c881ac17c",
            "214298d47ee047d6abe657c5c59b1583",
            "ff20a48647ad4a99aea9a3f2ce3149c6",
            "efac346acf074ca292058e181ed9db77",
            "e5d27af460b84ab6b401c61f784858a3",
            "9b28f9704512450eb71de21ea42d3cc8",
            "5345dabf11cc45e38d08295cb143f5a7",
            "6004aa5f00eb40eaa37c95c5eabae3fa"
          ]
        },
        "id": "figMUh0wW7aH",
        "outputId": "4a2883e3-766e-40cb-ea5b-41ed930d128d"
      },
      "source": [
        "# Subset data\n",
        "train_data = train_processed.select(range(n_sample_train))\n",
        "validation_data = validation_processed.select(range(n_sample_validation))\n",
        "\n",
        "# Tokenize data\n",
        "tokenizer = AutoTokenizer.from_pretrained('bert-base-uncased', padding = True)\n",
        "train_data = train_data.map(lambda example: {\n",
        "    'Q_input_ids': tokenizer(example['question'], padding = 'max_length')['input_ids'],\n",
        "    'Q_attention_mask': tokenizer(example['question'], padding = 'max_length')['attention_mask'],\n",
        "    'Q_token_type_ids': tokenizer(example['question'], padding = 'max_length')['token_type_ids'],\n",
        "    'P_input_ids': tokenizer(example['paragraph'], padding = 'max_length')['input_ids'],\n",
        "    'P_attention_mask': tokenizer(example['paragraph'], padding = 'max_length')['attention_mask'],\n",
        "    'P_token_type_ids': tokenizer(example['paragraph'], padding = 'max_length')['token_type_ids']},\n",
        "    batched = True, batch_size= batch_size)\n",
        "\n",
        "validation_data = validation_data.map(lambda example: {\n",
        "    'Q_input_ids': tokenizer(example['question'], padding = 'max_length')['input_ids'],\n",
        "    'Q_attention_mask': tokenizer(example['question'], padding = 'max_length')['attention_mask'],\n",
        "    'Q_token_type_ids': tokenizer(example['question'], padding = 'max_length')['token_type_ids'],\n",
        "    'P_input_ids': tokenizer(example['paragraph'], padding = 'max_length')['input_ids'],\n",
        "    'P_attention_mask': tokenizer(example['paragraph'], padding = 'max_length')['attention_mask'],\n",
        "    'P_token_type_ids': tokenizer(example['paragraph'], padding = 'max_length')['token_type_ids']},\n",
        "    batched = True, batch_size= batch_size)\n",
        "\n",
        "# Change to pytorch format. \n",
        "train_data.set_format(type = 'torch', \n",
        "                        columns = ['Q_input_ids', 'Q_attention_mask', 'Q_token_type_ids',\n",
        "                                   'P_input_ids', 'P_attention_mask', 'P_token_type_ids'])\n",
        "\n",
        "validation_data.set_format(type = 'torch', \n",
        "                        columns = ['Q_input_ids', 'Q_attention_mask', 'Q_token_type_ids',\n",
        "                                   'P_input_ids', 'P_attention_mask', 'P_token_type_ids'])"
      ],
      "execution_count": null,
      "outputs": [
        {
          "output_type": "display_data",
          "data": {
            "application/vnd.jupyter.widget-view+json": {
              "model_id": "20dfa0db481c42c7931cc49e7097f232",
              "version_major": 2,
              "version_minor": 0
            },
            "text/plain": [
              "HBox(children=(FloatProgress(value=0.0, description='Downloading', max=433.0, style=ProgressStyle(description_…"
            ]
          },
          "metadata": {
            "tags": []
          }
        },
        {
          "output_type": "stream",
          "text": [
            "\n"
          ],
          "name": "stdout"
        },
        {
          "output_type": "display_data",
          "data": {
            "application/vnd.jupyter.widget-view+json": {
              "model_id": "d7ac3f5034f645c0a6b15e5b0a4d75cd",
              "version_major": 2,
              "version_minor": 0
            },
            "text/plain": [
              "HBox(children=(FloatProgress(value=0.0, description='Downloading', max=231508.0, style=ProgressStyle(descripti…"
            ]
          },
          "metadata": {
            "tags": []
          }
        },
        {
          "output_type": "stream",
          "text": [
            "\n"
          ],
          "name": "stdout"
        },
        {
          "output_type": "display_data",
          "data": {
            "application/vnd.jupyter.widget-view+json": {
              "model_id": "e7e0e742a2854846bfc64d003d62140f",
              "version_major": 2,
              "version_minor": 0
            },
            "text/plain": [
              "HBox(children=(FloatProgress(value=0.0, description='Downloading', max=466062.0, style=ProgressStyle(descripti…"
            ]
          },
          "metadata": {
            "tags": []
          }
        },
        {
          "output_type": "stream",
          "text": [
            "\n"
          ],
          "name": "stdout"
        },
        {
          "output_type": "display_data",
          "data": {
            "application/vnd.jupyter.widget-view+json": {
              "model_id": "d4232f82aca7438e9d14ce2f02b64372",
              "version_major": 2,
              "version_minor": 0
            },
            "text/plain": [
              "HBox(children=(FloatProgress(value=0.0, max=64.0), HTML(value='')))"
            ]
          },
          "metadata": {
            "tags": []
          }
        },
        {
          "output_type": "stream",
          "text": [
            "\n"
          ],
          "name": "stdout"
        },
        {
          "output_type": "display_data",
          "data": {
            "application/vnd.jupyter.widget-view+json": {
              "model_id": "97aa0a1d1eca49c4b772393c881ac17c",
              "version_major": 2,
              "version_minor": 0
            },
            "text/plain": [
              "HBox(children=(FloatProgress(value=0.0, max=8.0), HTML(value='')))"
            ]
          },
          "metadata": {
            "tags": []
          }
        },
        {
          "output_type": "stream",
          "text": [
            "\n"
          ],
          "name": "stdout"
        }
      ]
    },
    {
      "cell_type": "markdown",
      "metadata": {
        "id": "S2HS_Q8LuX3J"
      },
      "source": [
        "For fine-tuning the BERT model for DPR, we use a mini-batch training with the loss function defined in section *3.4 Fine-tuning of BERT Models*.  \n",
        "All layers except for the last 3 layers of the network are freezed such that only the 3 outer layers are fine-tuned."
      ]
    },
    {
      "cell_type": "code",
      "metadata": {
        "colab": {
          "base_uri": "https://localhost:8080/",
          "height": 66,
          "referenced_widgets": [
            "e3771a27db9b475cb0d3cce0d41404b0",
            "663511e95c9a4141878cfad442dbde7d",
            "b6ac243c926a48ee9c177713360c8f8e",
            "bb1f4309ee1e4c4dbf75d61665f154dc",
            "e9e5f13c742b4107a6b2c82967930b89",
            "37206b261279473aa227db2f89056319",
            "ffad6ffa9aa54fdd99b78ca4edba226d",
            "4ab15b4b85794b87b2ff601fc0248194"
          ]
        },
        "id": "cxXWe8D_XUD1",
        "outputId": "d074ff78-f7c2-4fa6-ff20-e09b19ba7975"
      },
      "source": [
        "# Define loss\n",
        "def get_loss(sim):\n",
        "    nll = -(torch.diagonal(sim) - torch.logsumexp(sim, dim = 1))\n",
        "    return sum(nll)# return negative loss\n",
        "\n",
        "# Get pre-trained model from hugging face\n",
        "model = BertModel.from_pretrained('bert-base-uncased')\n",
        "\n",
        "#Freezing all layers except the last ones\n",
        "l11 = [\"encoder.layer.11\" in name[0] for name in model.named_parameters()]\n",
        "l10 = [\"encoder.layer.10\" in name[0] for name in model.named_parameters()]\n",
        "l9 = [\"encoder.layer.9\" in name[0] for name in model.named_parameters()]\n",
        "layers_to_opt = list(map(any, zip(*[l9, l10, l11])))\n",
        "params = [name[0] for name in model.named_parameters()]\n",
        "param_to_be_optimized = [name for (layer, name) in zip(layers_to_opt, params) if layer]\n",
        "for name, param in model.named_parameters():\n",
        "  if not name in param_to_be_optimized:\n",
        "    param.requires_grad = False\n",
        "\n",
        "# Move model to cuda to train there\n",
        "model.to(device)\n",
        "\n",
        "optim = AdamW(filter(lambda p: p.requires_grad, model.parameters()), lr = lr) # filter object works as a generator "
      ],
      "execution_count": null,
      "outputs": [
        {
          "output_type": "display_data",
          "data": {
            "application/vnd.jupyter.widget-view+json": {
              "model_id": "e3771a27db9b475cb0d3cce0d41404b0",
              "version_major": 2,
              "version_minor": 0
            },
            "text/plain": [
              "HBox(children=(FloatProgress(value=0.0, description='Downloading', max=440473133.0, style=ProgressStyle(descri…"
            ]
          },
          "metadata": {
            "tags": []
          }
        },
        {
          "output_type": "stream",
          "text": [
            "\n"
          ],
          "name": "stdout"
        }
      ]
    },
    {
      "cell_type": "markdown",
      "metadata": {
        "id": "3c5mOG65uX3K"
      },
      "source": [
        "The weights that are updated in each layer (only 9th-11th is used here) and printed to get an overview. "
      ]
    },
    {
      "cell_type": "code",
      "metadata": {
        "colab": {
          "base_uri": "https://localhost:8080/"
        },
        "id": "ytSPmwubXq5j",
        "outputId": "8b26d02f-a2a9-4c32-b3c2-26130679bb92"
      },
      "source": [
        "# Print the weights that are being updated\n",
        "from prettytable import PrettyTable\n",
        "def count_parameters(model):\n",
        "    table = PrettyTable([\"Modules\", \"Parameters\"])\n",
        "    total_params = 0\n",
        "    for name, parameter in model.named_parameters():\n",
        "        if not parameter.requires_grad: continue\n",
        "        param = parameter.numel()\n",
        "        table.add_row([name, param])\n",
        "        total_params+=param\n",
        "    print(table)\n",
        "    print(f\"Total Trainable Params: {total_params}\")\n",
        "    return total_params\n",
        "    \n",
        "tmp = count_parameters(model)"
      ],
      "execution_count": null,
      "outputs": [
        {
          "output_type": "stream",
          "text": [
            "+----------------------------------------------------+------------+\n",
            "|                      Modules                       | Parameters |\n",
            "+----------------------------------------------------+------------+\n",
            "|    encoder.layer.9.attention.self.query.weight     |   589824   |\n",
            "|     encoder.layer.9.attention.self.query.bias      |    768     |\n",
            "|     encoder.layer.9.attention.self.key.weight      |   589824   |\n",
            "|      encoder.layer.9.attention.self.key.bias       |    768     |\n",
            "|    encoder.layer.9.attention.self.value.weight     |   589824   |\n",
            "|     encoder.layer.9.attention.self.value.bias      |    768     |\n",
            "|   encoder.layer.9.attention.output.dense.weight    |   589824   |\n",
            "|    encoder.layer.9.attention.output.dense.bias     |    768     |\n",
            "| encoder.layer.9.attention.output.LayerNorm.weight  |    768     |\n",
            "|  encoder.layer.9.attention.output.LayerNorm.bias   |    768     |\n",
            "|     encoder.layer.9.intermediate.dense.weight      |  2359296   |\n",
            "|      encoder.layer.9.intermediate.dense.bias       |    3072    |\n",
            "|        encoder.layer.9.output.dense.weight         |  2359296   |\n",
            "|         encoder.layer.9.output.dense.bias          |    768     |\n",
            "|      encoder.layer.9.output.LayerNorm.weight       |    768     |\n",
            "|       encoder.layer.9.output.LayerNorm.bias        |    768     |\n",
            "|    encoder.layer.10.attention.self.query.weight    |   589824   |\n",
            "|     encoder.layer.10.attention.self.query.bias     |    768     |\n",
            "|     encoder.layer.10.attention.self.key.weight     |   589824   |\n",
            "|      encoder.layer.10.attention.self.key.bias      |    768     |\n",
            "|    encoder.layer.10.attention.self.value.weight    |   589824   |\n",
            "|     encoder.layer.10.attention.self.value.bias     |    768     |\n",
            "|   encoder.layer.10.attention.output.dense.weight   |   589824   |\n",
            "|    encoder.layer.10.attention.output.dense.bias    |    768     |\n",
            "| encoder.layer.10.attention.output.LayerNorm.weight |    768     |\n",
            "|  encoder.layer.10.attention.output.LayerNorm.bias  |    768     |\n",
            "|     encoder.layer.10.intermediate.dense.weight     |  2359296   |\n",
            "|      encoder.layer.10.intermediate.dense.bias      |    3072    |\n",
            "|        encoder.layer.10.output.dense.weight        |  2359296   |\n",
            "|         encoder.layer.10.output.dense.bias         |    768     |\n",
            "|      encoder.layer.10.output.LayerNorm.weight      |    768     |\n",
            "|       encoder.layer.10.output.LayerNorm.bias       |    768     |\n",
            "|    encoder.layer.11.attention.self.query.weight    |   589824   |\n",
            "|     encoder.layer.11.attention.self.query.bias     |    768     |\n",
            "|     encoder.layer.11.attention.self.key.weight     |   589824   |\n",
            "|      encoder.layer.11.attention.self.key.bias      |    768     |\n",
            "|    encoder.layer.11.attention.self.value.weight    |   589824   |\n",
            "|     encoder.layer.11.attention.self.value.bias     |    768     |\n",
            "|   encoder.layer.11.attention.output.dense.weight   |   589824   |\n",
            "|    encoder.layer.11.attention.output.dense.bias    |    768     |\n",
            "| encoder.layer.11.attention.output.LayerNorm.weight |    768     |\n",
            "|  encoder.layer.11.attention.output.LayerNorm.bias  |    768     |\n",
            "|     encoder.layer.11.intermediate.dense.weight     |  2359296   |\n",
            "|      encoder.layer.11.intermediate.dense.bias      |    3072    |\n",
            "|        encoder.layer.11.output.dense.weight        |  2359296   |\n",
            "|         encoder.layer.11.output.dense.bias         |    768     |\n",
            "|      encoder.layer.11.output.LayerNorm.weight      |    768     |\n",
            "|       encoder.layer.11.output.LayerNorm.bias       |    768     |\n",
            "+----------------------------------------------------+------------+\n",
            "Total Trainable Params: 21263616\n"
          ],
          "name": "stdout"
        }
      ]
    },
    {
      "cell_type": "markdown",
      "metadata": {
        "id": "zDrRu667uX3L"
      },
      "source": [
        "The big training loop seen below is using a forward pass for both paragraphs and questions and concatenates the hidden layers as described in section *3.4 Fine-tuning of BERT Models*.\n",
        "We use in-batch training such that we train on the positive and negative passages in each batch for every question. The purpose of this is to obtain great similarity matrices. \n",
        "As mentioned, this is the model where the 9th-11th layer is fine-tuned and concatenated, but the approach is similar for the other models described in the paper. "
      ]
    },
    {
      "cell_type": "code",
      "metadata": {
        "colab": {
          "base_uri": "https://localhost:8080/"
        },
        "id": "SMxQARJaXshs",
        "outputId": "f591e174-564a-4e54-9a35-a3aa7f063868"
      },
      "source": [
        "# The big loop\n",
        "epoch_train_loss = [None]*n_batches_train\n",
        "epoch_validation_loss = [None]*n_batches_validation\n",
        "train_loss = [None]*n_epochs\n",
        "validation_loss = [None]*n_epochs\n",
        "\n",
        "\n",
        "for epoch in range(n_epochs):\n",
        "    \n",
        "    print(f'### EPOCH: {epoch+1}/{n_epochs} ###')\n",
        "\n",
        "    trainloader = torch.utils.data.DataLoader(train_data, batch_size=batch_size)\n",
        "    trainloader = iter(trainloader)\n",
        "    validationloader = torch.utils.data.DataLoader(validation_data, batch_size=batch_size)\n",
        "    validationloader = iter(validationloader)\n",
        "    \n",
        "    # TRAINING MODEL\n",
        "    model.train()\n",
        "    for i, batch in enumerate(trainloader):\n",
        "        if i % n_batch_print == 0:\n",
        "          print(f'batch {i+1}/{len(trainloader)}')\n",
        "        \n",
        "        model.zero_grad()\n",
        "\n",
        "        # Make forward pass for paragraphs\n",
        "        input_ids = batch['P_input_ids'].to(device)\n",
        "        attention_mask = batch['P_attention_mask'].to(device)\n",
        "        token_type_ids = batch['P_token_type_ids'].to(device)\n",
        "        P_encoded_layers = model(input_ids=input_ids, \n",
        "                          attention_mask=attention_mask, \n",
        "                          token_type_ids=token_type_ids, output_hidden_states = True)\n",
        "        # concatenating hidden layers\n",
        "        P_cat = torch.cat(tuple([P_encoded_layers.hidden_states[i] for i in [-3, -2, -1]]), dim=-1)  \n",
        "        P_cat = P_cat[:, 0, :]\n",
        "        \n",
        "        # Make forward pass for questions\n",
        "        input_ids = batch['Q_input_ids'].to(device)\n",
        "        attention_mask = batch['Q_attention_mask'].to(device)\n",
        "        token_type_ids = batch['Q_token_type_ids'].to(device)\n",
        "        Q_encoded_layers = model(input_ids=input_ids, \n",
        "                          attention_mask=attention_mask, \n",
        "                          token_type_ids=token_type_ids, output_hidden_states = True)\n",
        "        # concatenating hidden layers\n",
        "        Q_cat = torch.cat(tuple([Q_encoded_layers.hidden_states[i] for i in [-3, -2, -1]]), dim=-1)  \n",
        "        Q_cat = Q_cat[:, 0, :]\n",
        "\n",
        "        # Calculate similarity matrix\n",
        "        sim_matrix = torch.matmul(Q_cat, P_cat.T)\n",
        "\n",
        "        # Get loss\n",
        "        loss = get_loss(sim_matrix)\n",
        "\n",
        "        # Update weights\n",
        "        loss.backward()\n",
        "        optim.step()\n",
        "\n",
        "        # Save loss\n",
        "        epoch_train_loss[i] = loss.item()\n",
        "\n",
        "    # VALIDATING MODEL\n",
        "    model.eval()\n",
        "    for i, batch in enumerate(validationloader):\n",
        "\n",
        "        # Make forward pass for paragraphs\n",
        "        input_ids = batch['P_input_ids'].to(device)\n",
        "        attention_mask = batch['P_attention_mask'].to(device)\n",
        "        token_type_ids = batch['P_token_type_ids'].to(device)\n",
        "        P_encoded_layers = model(input_ids=input_ids, \n",
        "                          attention_mask=attention_mask, \n",
        "                          token_type_ids=token_type_ids, output_hidden_states = True)\n",
        "        \n",
        "        # concatenating hidden layers\n",
        "        P_cat = torch.cat(tuple([P_encoded_layers.hidden_states[i] for i in [-3, -2, -1]]), dim=-1)  \n",
        "        P_cat = P_cat[:, 0, :]\n",
        "\n",
        "        # Make forward pass for questions\n",
        "        input_ids = batch['Q_input_ids'].to(device)\n",
        "        attention_mask = batch['Q_attention_mask'].to(device)\n",
        "        token_type_ids = batch['Q_token_type_ids'].to(device)\n",
        "        Q_encoded_layers = model(input_ids=input_ids, \n",
        "                          attention_mask=attention_mask, \n",
        "                          token_type_ids=token_type_ids, output_hidden_states = True)\n",
        "        \n",
        "        # concatenating hidden layers\n",
        "        Q_cat = torch.cat(tuple([Q_encoded_layers.hidden_states[i] for i in [-3, -2, -1]]), dim=-1)  \n",
        "        Q_cat = Q_cat[:, 0, :]\n",
        "\n",
        "        # Calculate similarity matrix\n",
        "        sim_matrix = torch.matmul(Q_cat, P_cat.T)\n",
        "\n",
        "        # Get loss\n",
        "        loss = get_loss(sim_matrix)\n",
        "        epoch_validation_loss[i] = loss.item()\n",
        "        \n",
        "    \n",
        "    train_loss[epoch] = sum(epoch_train_loss)/len(epoch_train_loss)\n",
        "    validation_loss[epoch] = sum(epoch_validation_loss)/len(epoch_validation_loss)\n",
        "    \n",
        "    print(f'train loss: {train_loss[epoch]:.2f}')\n",
        "    print(f'validation loss: {validation_loss[epoch]:.2f}')\n"
      ],
      "execution_count": null,
      "outputs": [
        {
          "output_type": "stream",
          "text": [
            "### EPOCH: 1/4 ###\n",
            "batch 1/64\n"
          ],
          "name": "stdout"
        },
        {
          "output_type": "stream",
          "text": [
            "/usr/local/lib/python3.6/dist-packages/datasets/arrow_dataset.py:850: UserWarning: The given NumPy array is not writeable, and PyTorch does not support non-writeable tensors. This means you can write to the underlying (supposedly non-writeable) NumPy array using the tensor. You may want to copy the array to protect its data or make it writeable before converting it to a tensor. This type of warning will be suppressed for the rest of this program. (Triggered internally at  /pytorch/torch/csrc/utils/tensor_numpy.cpp:141.)\n",
            "  return torch.tensor(x, **format_kwargs)\n"
          ],
          "name": "stderr"
        },
        {
          "output_type": "stream",
          "text": [
            "batch 17/64\n",
            "batch 33/64\n",
            "batch 49/64\n",
            "train loss: 409.36\n",
            "validation loss: 45.81\n",
            "### EPOCH: 2/4 ###\n",
            "batch 1/64\n",
            "batch 17/64\n",
            "batch 33/64\n",
            "batch 49/64\n",
            "train loss: 84.02\n",
            "validation loss: 16.92\n",
            "### EPOCH: 3/4 ###\n",
            "batch 1/64\n",
            "batch 17/64\n",
            "batch 33/64\n",
            "batch 49/64\n",
            "train loss: 37.52\n",
            "validation loss: 8.96\n",
            "### EPOCH: 4/4 ###\n",
            "batch 1/64\n",
            "batch 17/64\n",
            "batch 33/64\n",
            "batch 49/64\n",
            "train loss: 23.78\n",
            "validation loss: 9.21\n"
          ],
          "name": "stdout"
        }
      ]
    },
    {
      "cell_type": "markdown",
      "metadata": {
        "id": "tBqjKx7wuX3L"
      },
      "source": [
        "The train loss and validation loss are illustrated for each epoch."
      ]
    },
    {
      "cell_type": "code",
      "metadata": {
        "colab": {
          "base_uri": "https://localhost:8080/",
          "height": 295
        },
        "id": "84R5v2DWX9-j",
        "outputId": "f6ce85dd-6131-43ae-f98d-7b1f02dd28b4"
      },
      "source": [
        "fig = plt.figure()\n",
        "plt.plot(range(1, n_epochs+1), train_loss, label = 'Train loss')\n",
        "plt.plot(range(1, n_epochs+1), validation_loss, label = 'Validation loss')\n",
        "plt.title('Finetuning BERT Base Model')\n",
        "plt.ylabel('Loss')\n",
        "plt.legend()\n",
        "plt.xlabel('Epoch')\n",
        "plt.show()"
      ],
      "execution_count": null,
      "outputs": [
        {
          "output_type": "display_data",
          "data": {
            "image/png": "[encoded data removed]",
            "text/plain": [
              "<Figure size 432x288 with 1 Axes>"
            ]
          },
          "metadata": {
            "tags": [],
            "needs_background": "light"
          }
        }
      ]
    },
    {
      "cell_type": "markdown",
      "metadata": {
        "id": "idTmb9YbuX3M"
      },
      "source": [
        "The model is saved to avoid executing all code cells again and thus use unnecessary computation power. "
      ]
    },
    {
      "cell_type": "code",
      "metadata": {
        "id": "40ply7MQZpWj"
      },
      "source": [
        "#%% Saving model\n",
        "model_path = 'drive/My Drive/deep_learning_project/Fine-tuned BERT models/presentation_notebook_model'\n",
        "model.save_pretrained(model_path)"
      ],
      "execution_count": null,
      "outputs": []
    },
    {
      "cell_type": "markdown",
      "metadata": {
        "id": "GDVQyeyNHrDX"
      },
      "source": [
        "## Evaluate Performance\n",
        "\n",
        "For evaluating the performance of the models (here the Fine-tuned BERT model where 9th-11th are concatenated) the following functions are defined. The functions finds the top $k$ paragraphs and the accuracy and a random retriever is also defined as a baseline model. "
      ]
    },
    {
      "cell_type": "code",
      "metadata": {
        "id": "rJ0Aei7gHrDX"
      },
      "source": [
        "# Imports required to run functions\n",
        "\n",
        "from random import sample\n",
        "\n",
        "def get_top_k(similarity, question_ids, paragraph_ids, k):\n",
        "    \"\"\"\n",
        "    Return the top k documents for based on similarity matrix\n",
        "\n",
        "    Parameters\n",
        "    ----------\n",
        "    similarity : ndarray\n",
        "        similarity matrix with shape (n_questions, n_paragraphs)\n",
        "    question_ids : list of str\n",
        "        List of the question ids\n",
        "    paragraph_ids : list of str\n",
        "        List of the paragraph ids (corresponding to the question id that the \n",
        "                                   paragraph belongs to)\n",
        "    k : int\n",
        "        Number or paragraphs to return\n",
        "\n",
        "    Returns\n",
        "    -------\n",
        "    out : dict\n",
        "        keys are the question ids, and each element contains list of the ids of the\n",
        "        k nearest paragraphs\n",
        "    \"\"\"\n",
        "    n_questions = similarity.shape[0]\n",
        "    idxs = [np.argsort(similarity[row,:])[-k:][::-1] for row in range(n_questions)]\n",
        "    out = {question_ids[i]:np.array(paragraph_ids)[idxs[i]] for i in range(n_questions)}\n",
        "    return out\n",
        "\n",
        "def get_accuracy(top_k):\n",
        "    \"\"\" Returns accuracy. top_k is a dict as returned by get_top_k().  \"\"\"\n",
        "    n_correct = [(question in paragraphs) for question, paragraphs in top_k.items()]\n",
        "    accuracy = sum(n_correct)/len(top_k)*100\n",
        "    return accuracy\n",
        "\n",
        "\n",
        "def get_tfidf_similarity(questions, paragraphs):\n",
        "    \"\"\"\n",
        "    Returns a similarity matrix based on the distance in the tf-idf space\n",
        "\n",
        "    Parameters\n",
        "    ----------\n",
        "    questions : list of strings\n",
        "        Lists of all questions.\n",
        "    paragraphs : list of strings\n",
        "        Lists of all paragraphs\n",
        "    \n",
        "    Returns :\n",
        "    -------\n",
        "        Similarity matrix of dimension  \n",
        "        (number of questions, number of paragraphs). \n",
        "    \"\"\"\n",
        "    vectorizer = TfidfVectorizer(lowercase = False)\n",
        "    all_text = questions + paragraphs\n",
        "    vectorizer.fit(all_text)\n",
        "    similarity = vectorizer.transform(questions) * vectorizer.transform(paragraphs).T\n",
        "    return np.array(similarity.todense())\n",
        "\n",
        "def get_random_accuracy(k_list, n):\n",
        "    max_k = max(k_list)\n",
        "    top_k_list = [sample(range(n), max_k) for i in range(n)] # \n",
        "    accs = [None]*len(k_list)\n",
        "    for i, k in enumerate(k_list): \n",
        "        n_correct = [(1 in top_k[0:k]) for top_k in top_k_list]\n",
        "        accs[i] = sum(n_correct)/n*100\n",
        "    return(accs)\n",
        "\n",
        "def get_accuracy_vector(k_list, sim, question_ids, paragraph_ids):\n",
        "    accs = [None]*len(k_list)\n",
        "    for i, k in enumerate(k_list):\n",
        "        top_k = get_top_k(sim, question_ids, paragraph_ids, k)\n",
        "        accs[i] = get_accuracy(top_k)\n",
        "    return accs"
      ],
      "execution_count": null,
      "outputs": []
    },
    {
      "cell_type": "markdown",
      "metadata": {
        "id": "2IeoUtlsuX3N"
      },
      "source": [
        "The similarity matrix based on BERT is computed differently as it uses forward pass to encode the paragraphs and questions. "
      ]
    },
    {
      "cell_type": "code",
      "metadata": {
        "id": "6g9q0TaUIMw3"
      },
      "source": [
        "def get_BERT_similarity(data, finetuned = False, model_name = 'bert-base-uncased', concatenate_9thTo11thLayer = False):\n",
        "    \"\"\"\n",
        "    Returns a similarity matrix based on the distance in the BERT encoded space\n",
        "\n",
        "    Parameters\n",
        "    ----------\n",
        "    questions : list of strings\n",
        "        Lists of all questions.\n",
        "    paragraphs : list of strings\n",
        "        Lists of all paragraphs\n",
        "    finetuned : bool\n",
        "        Whether to use models that we have finetuned located in drive or download pre-trained models directly from HuggingFace\n",
        "    model_name : string\n",
        "        Name of model to use. Options = ['bert-base-uncased', 'bert-large-uncased', ']\n",
        "    \n",
        "    Returns :\n",
        "    -------\n",
        "        Similarity matrix of dimension  \n",
        "        (number of questions, number of paragraphs). \n",
        "    \"\"\"\n",
        "    # Define tokenizer \n",
        "    tokenizer = AutoTokenizer.from_pretrained('bert-base-uncased', padding = True)\n",
        "\n",
        "    # Define model\n",
        "    if finetuned:\n",
        "      folder_path = 'drive/My Drive/deep_learning_project/Fine-tuned BERT models/'\n",
        "      model_path = folder_path + model_name\n",
        "      model = BertModel.from_pretrained(model_path)\n",
        "    else:\n",
        "      model = BertModel.from_pretrained(model_name)\n",
        "    \n",
        "    model.to(device)\n",
        "    batch_size = 16\n",
        "    n_batch_print = 16\n",
        "    \n",
        "    # Tokenize data\n",
        "    tokenized_data = data.map(lambda example: {\n",
        "    'Q_input_ids': tokenizer(example['question'],padding = 'longest')['input_ids'],\n",
        "    'Q_attention_mask': tokenizer(example['question'], padding = 'longest')['attention_mask'],\n",
        "    'Q_token_type_ids': tokenizer(example['question'], padding = 'longest')['token_type_ids'],\n",
        "    'P_input_ids': tokenizer(example['paragraph'],  padding = 'longest')['input_ids'],\n",
        "    'P_attention_mask': tokenizer(example['paragraph'],  padding = 'longest')['attention_mask'],\n",
        "    'P_token_type_ids': tokenizer(example['paragraph'],  padding = 'longest')['token_type_ids']},\n",
        "    batched = True, batch_size= batch_size)\n",
        "\n",
        "    tokenized_data.set_format(type = 'torch', \n",
        "                        columns = ['Q_input_ids', 'Q_attention_mask', 'Q_token_type_ids',\n",
        "                                   'P_input_ids', 'P_attention_mask', 'P_token_type_ids'])\n",
        "    dataloader = torch.utils.data.DataLoader(tokenized_data, batch_size=batch_size)\n",
        "    dataloader = iter(dataloader)\n",
        "\n",
        "    # Save encoded layers\n",
        "    n_batches = len(dataloader)\n",
        "    P_encoded_layers_list = [None]*n_batches\n",
        "    Q_encoded_layers_list = [None]*n_batches\n",
        "\n",
        "    \n",
        "    with torch.no_grad():\n",
        "      for i, batch in enumerate(dataloader):\n",
        "        if i % n_batch_print == 0:\n",
        "          print(f'batch {i+1}/{len(dataloader)}')\n",
        "\n",
        "        # Make forward pass for paragraphs\n",
        "        input_ids = batch['P_input_ids'].to(device)\n",
        "        attention_mask = batch['P_attention_mask'].to(device)\n",
        "        token_type_ids = batch['P_token_type_ids'].to(device)\n",
        "        if concatenate_9thTo11thLayer == True:\n",
        "          P_encoded_layers = model(input_ids=input_ids, \n",
        "                          attention_mask=attention_mask, \n",
        "                          token_type_ids=token_type_ids, output_hidden_states = True)\n",
        "          P_encoded_layers_list[i] = torch.cat(tuple([P_encoded_layers.hidden_states[j] for j in [-3, -2, -1]]), dim=-1)[:, 0, :]\n",
        "        else:\n",
        "          P_encoded_layers_list[i] = model(input_ids=input_ids, \n",
        "                          attention_mask=attention_mask, \n",
        "                          token_type_ids=token_type_ids, output_hidden_states = True)[0][:, 0, :]\n",
        "        \n",
        "        # Make forward pass for questions\n",
        "        input_ids = batch['Q_input_ids'].to(device)\n",
        "        attention_mask = batch['Q_attention_mask'].to(device)\n",
        "        token_type_ids = batch['Q_token_type_ids'].to(device)\n",
        "        if concatenate_9thTo11thLayer == True:\n",
        "          Q_encoded_layers = model(input_ids=input_ids, \n",
        "                          attention_mask=attention_mask, \n",
        "                          token_type_ids=token_type_ids, output_hidden_states = True)\n",
        "          Q_encoded_layers_list[i] = torch.cat(tuple([Q_encoded_layers.hidden_states[j] for j in [-3, -2, -1]]), dim=-1)[:, 0, :]\n",
        "        else:\n",
        "          Q_encoded_layers_list[i] = model(input_ids=input_ids, \n",
        "                          attention_mask=attention_mask, \n",
        "                          token_type_ids=token_type_ids, output_hidden_states = True)[0][:, 0, :]\n",
        "\n",
        "    # Save encoded layers\n",
        "    P_encoded_layers = torch.cat(P_encoded_layers_list, dim = 0)\n",
        "    Q_encoded_layers = torch.cat(Q_encoded_layers_list, dim = 0)\n",
        "\n",
        "    # Get similarity\n",
        "    sim = torch.matmul(Q_encoded_layers, P_encoded_layers.T).cpu().numpy()\n",
        "\n",
        "    return sim\n",
        "  "
      ],
      "execution_count": null,
      "outputs": []
    },
    {
      "cell_type": "markdown",
      "metadata": {
        "id": "wyfj4DVNwZJ6"
      },
      "source": [
        "The retrievers are evaluated on the validation split from TriviaQA - hence it is unseen data for all retrievers. "
      ]
    },
    {
      "cell_type": "code",
      "metadata": {
        "id": "_veBujYOIaio"
      },
      "source": [
        "n_evaluation = 1024\n",
        "k_list = [i+1 for i in range(100)]\n",
        "\n",
        "validation_data = validation_processed.select(range(n_evaluation))\n",
        "\n",
        "#%% Define inputs\n",
        "questions_BERT = validation_data['question']\n",
        "question_ids = validation_data['question_id']\n",
        "paragraphs_BERT = validation_data['paragraph']\n",
        "#%%\n",
        "questions = [entry[0] + ' ' + entry[1] for entry in questions_BERT]\n",
        "paragraphs = [entry[0] + ' ' + entry[1] for entry in paragraphs_BERT]"
      ],
      "execution_count": null,
      "outputs": []
    },
    {
      "cell_type": "markdown",
      "metadata": {
        "id": "SRCjgNZRwjcD"
      },
      "source": [
        "The similarity matrices are calculated for the models"
      ]
    },
    {
      "cell_type": "code",
      "metadata": {
        "id": "V3KBpVU7Ioyg"
      },
      "source": [
        "sim_tfidf = get_tfidf_similarity(questions, paragraphs)"
      ],
      "execution_count": null,
      "outputs": []
    },
    {
      "cell_type": "code",
      "metadata": {
        "colab": {
          "base_uri": "https://localhost:8080/",
          "height": 217,
          "referenced_widgets": [
            "e9cb7db17f274e28951490a7425b5a3f",
            "c712bb8b8a3142b190b4f233af487830",
            "b37766be1f2e41aba6bfdf89c3c708e0",
            "78eae54b6f464572a1d5da8eb30300a8",
            "6379535a607b4736a8fe0d15ff172868",
            "ead8185212c742869df5bbdc020d1960",
            "2e6929a295684313967979d0a85da351",
            "727e19ba9a264176850ca43f757a8e76"
          ]
        },
        "id": "BLb7M3FPl9tn",
        "outputId": "9eb62e96-feee-449a-d766-5e0f38ac01aa"
      },
      "source": [
        "# Default base model (no finetuning)\n",
        "sim_BERT = get_BERT_similarity(validation_data, concatenate_9thTo11thLayer = True)\n",
        "\n",
        "# Fine-tuned model\n",
        "sim_BERT_finetuned = get_BERT_similarity(validation_data, finetuned = True, model_name = 'presentation_notebook_model', concatenate_9thTo11thLayer = True)"
      ],
      "execution_count": null,
      "outputs": [
        {
          "output_type": "display_data",
          "data": {
            "application/vnd.jupyter.widget-view+json": {
              "model_id": "e9cb7db17f274e28951490a7425b5a3f",
              "version_major": 2,
              "version_minor": 0
            },
            "text/plain": [
              "HBox(children=(FloatProgress(value=0.0, max=64.0), HTML(value='')))"
            ]
          },
          "metadata": {
            "tags": []
          }
        },
        {
          "output_type": "stream",
          "text": [
            "\n",
            "batch 1/64\n",
            "batch 17/64\n",
            "batch 33/64\n",
            "batch 49/64\n"
          ],
          "name": "stdout"
        },
        {
          "output_type": "stream",
          "text": [
            "Loading cached processed dataset at drive/My Drive/deep_learning_project/validation_mini/cache-f1725a924e9252a0.arrow\n"
          ],
          "name": "stderr"
        },
        {
          "output_type": "stream",
          "text": [
            "batch 1/64\n",
            "batch 17/64\n",
            "batch 33/64\n",
            "batch 49/64\n"
          ],
          "name": "stdout"
        }
      ]
    },
    {
      "cell_type": "code",
      "metadata": {
        "id": "iBO7c_asmvr1"
      },
      "source": [
        "#%% Get accuracies for a range of ks\n",
        "acc_tfidf = get_accuracy_vector(k_list, sim_tfidf, question_ids, question_ids)\n",
        "acc_bert = get_accuracy_vector(k_list, sim_BERT, question_ids, question_ids)\n",
        "acc_bert_finedtuned = get_accuracy_vector(k_list, sim_BERT_finetuned, question_ids, question_ids)\n",
        "acc_random = get_random_accuracy(k_list, n_evaluation)"
      ],
      "execution_count": null,
      "outputs": []
    },
    {
      "cell_type": "markdown",
      "metadata": {
        "id": "FZK6_uBxuX3O"
      },
      "source": [
        "The accuracy of the four models in this notebook are visualized as a function of $k$, i.e. the number of top paragraphs based on the similarity matrices. "
      ]
    },
    {
      "cell_type": "code",
      "metadata": {
        "colab": {
          "base_uri": "https://localhost:8080/",
          "height": 283
        },
        "id": "n-4eK_eznMtu",
        "outputId": "ceedd3f4-ebe3-484f-b182-3aa67c1bb650"
      },
      "source": [
        "fig = plt.figure()\n",
        "plt.plot(k_list, acc_tfidf, label = 'Tf-idf')\n",
        "plt.plot(k_list, acc_bert, label = 'No finetuning')\n",
        "plt.plot(k_list, acc_random, label = 'Random')\n",
        "plt.plot(k_list, acc_bert_finedtuned, label = 'Finetune+concat layer 9-11')\n",
        "plt.ylim((0,100))\n",
        "plt.xlim((0,100))\n",
        "plt.legend(loc = 'lower center')\n",
        "plt.xlabel('k')\n",
        "plt.ylabel('Accuracy')\n",
        "plt.show()"
      ],
      "execution_count": null,
      "outputs": [
        {
          "output_type": "display_data",
          "data": {
            "image/png": "[encoded data removed]",
            "text/plain": [
              "<Figure size 432x288 with 1 Axes>"
            ]
          },
          "metadata": {
            "tags": [],
            "needs_background": "light"
          }
        }
      ]
    },
    {
      "cell_type": "markdown",
      "metadata": {
        "id": "SI1Dqc-Kw1Ku"
      },
      "source": [
        "We see that the fine-tuned BERT model performs the best. Note, the large difference between the BERT model with and without fine-tuning. Fine-tuning really matters. "
      ]
    },
    {
      "cell_type": "code",
      "metadata": {
        "colab": {
          "base_uri": "https://localhost:8080/",
          "height": 166
        },
        "id": "FmQaSqhLntyr",
        "outputId": "02966a68-6ac7-4651-e094-01b60b181574"
      },
      "source": [
        "import pandas as pd\n",
        "all_accuracies = pd.DataFrame(list(zip(k_list, acc_random, acc_tfidf, acc_bert, acc_bert_finedtuned)), \n",
        "                              columns = ['k', 'random', 'tfidf', 'no_finetune', 'finetuned_9thTo11th'])\n",
        "report_df = all_accuracies.copy()\n",
        "report_df = report_df[report_df.k.isin([5,20,100])]\n",
        "report_df = report_df.set_index('k')\n",
        "report_df = report_df[['random', 'tfidf', 'no_finetune', 'finetuned_9thTo11th',]]\n",
        "report_df = report_df.transpose()\n",
        "report_df"
      ],
      "execution_count": null,
      "outputs": [
        {
          "output_type": "execute_result",
          "data": {
            "text/html": [
              "<div>\n",
              "<style scoped>\n",
              "    .dataframe tbody tr th:only-of-type {\n",
              "        vertical-align: middle;\n",
              "    }\n",
              "\n",
              "    .dataframe tbody tr th {\n",
              "        vertical-align: top;\n",
              "    }\n",
              "\n",
              "    .dataframe thead th {\n",
              "        text-align: right;\n",
              "    }\n",
              "</style>\n",
              "<table border=\"1\" class=\"dataframe\">\n",
              "  <thead>\n",
              "    <tr style=\"text-align: right;\">\n",
              "      <th>k</th>\n",
              "      <th>5</th>\n",
              "      <th>20</th>\n",
              "      <th>100</th>\n",
              "    </tr>\n",
              "  </thead>\n",
              "  <tbody>\n",
              "    <tr>\n",
              "      <th>random</th>\n",
              "      <td>0.097656</td>\n",
              "      <td>1.074219</td>\n",
              "      <td>9.082031</td>\n",
              "    </tr>\n",
              "    <tr>\n",
              "      <th>tfidf</th>\n",
              "      <td>48.383838</td>\n",
              "      <td>62.121212</td>\n",
              "      <td>74.949495</td>\n",
              "    </tr>\n",
              "    <tr>\n",
              "      <th>no_finetune</th>\n",
              "      <td>3.838384</td>\n",
              "      <td>10.000000</td>\n",
              "      <td>25.353535</td>\n",
              "    </tr>\n",
              "    <tr>\n",
              "      <th>finetuned_9thTo11th</th>\n",
              "      <td>80.202020</td>\n",
              "      <td>90.101010</td>\n",
              "      <td>97.272727</td>\n",
              "    </tr>\n",
              "  </tbody>\n",
              "</table>\n",
              "</div>"
            ],
            "text/plain": [
              "k                          5          20         100\n",
              "random                0.097656   1.074219   9.082031\n",
              "tfidf                48.383838  62.121212  74.949495\n",
              "no_finetune           3.838384  10.000000  25.353535\n",
              "finetuned_9thTo11th  80.202020  90.101010  97.272727"
            ]
          },
          "metadata": {
            "tags": []
          },
          "execution_count": 35
        }
      ]
    }
  ]
}