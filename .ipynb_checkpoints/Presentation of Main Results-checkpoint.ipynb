{
 "cells": [
  {
   "cell_type": "markdown",
   "metadata": {
    "id": "aKfIUdxqHrDL"
   },
   "source": [
    "# Presentation of Main Results: Dense Passage Retriever\n",
    "\n",
    "This notebook presents the main results of our project. The data set used is TriviaQA from HuggingFace [https://github.com/huggingface/datasets] where samples from the train and validation set are used. After pre-processing data, both train and validation sets contain 1024 Q&A pairs which is used when creating the results. "
   ]
  },
  {
   "cell_type": "markdown",
   "metadata": {
    "id": "dVV8Di0gIQjl"
   },
   "source": [
    "First the necessary modules are installed and imported, the drive is mounted and torch is setup to use the GPU."
   ]
  },
  {
   "cell_type": "code",
   "execution_count": 1,
   "metadata": {
    "colab": {
     "base_uri": "https://localhost:8080/"
    },
    "id": "f5-V1PpeItYD",
    "outputId": "30b787a6-14d0-4764-aea9-9377fb46ecf7"
   },
   "outputs": [
    {
     "name": "stdout",
     "output_type": "stream",
     "text": [
      "Collecting datasets\n",
      "\u001b[?25l  Downloading https://files.pythonhosted.org/packages/1a/38/0c24dce24767386123d528d27109024220db0e7a04467b658d587695241a/datasets-1.1.3-py3-none-any.whl (153kB)\n",
      "\u001b[K     |████████████████████████████████| 163kB 5.9MB/s \n",
      "\u001b[?25hRequirement already satisfied: numpy>=1.17 in /usr/local/lib/python3.6/dist-packages (from datasets) (1.19.4)\n",
      "Requirement already satisfied: dill in /usr/local/lib/python3.6/dist-packages (from datasets) (0.3.3)\n",
      "Requirement already satisfied: tqdm<4.50.0,>=4.27 in /usr/local/lib/python3.6/dist-packages (from datasets) (4.41.1)\n",
      "Collecting pyarrow>=0.17.1\n",
      "\u001b[?25l  Downloading https://files.pythonhosted.org/packages/d7/e1/27958a70848f8f7089bff8d6ebe42519daf01f976d28b481e1bfd52c8097/pyarrow-2.0.0-cp36-cp36m-manylinux2014_x86_64.whl (17.7MB)\n",
      "\u001b[K     |████████████████████████████████| 17.7MB 207kB/s \n",
      "\u001b[?25hRequirement already satisfied: requests>=2.19.0 in /usr/local/lib/python3.6/dist-packages (from datasets) (2.23.0)\n",
      "Requirement already satisfied: dataclasses; python_version < \"3.7\" in /usr/local/lib/python3.6/dist-packages (from datasets) (0.8)\n",
      "Requirement already satisfied: pandas in /usr/local/lib/python3.6/dist-packages (from datasets) (1.1.5)\n",
      "Requirement already satisfied: multiprocess in /usr/local/lib/python3.6/dist-packages (from datasets) (0.70.11.1)\n",
      "Collecting xxhash\n",
      "\u001b[?25l  Downloading https://files.pythonhosted.org/packages/f7/73/826b19f3594756cb1c6c23d2fbd8ca6a77a9cd3b650c9dec5acc85004c38/xxhash-2.0.0-cp36-cp36m-manylinux2010_x86_64.whl (242kB)\n",
      "\u001b[K     |████████████████████████████████| 245kB 52.8MB/s \n",
      "\u001b[?25hRequirement already satisfied: certifi>=2017.4.17 in /usr/local/lib/python3.6/dist-packages (from requests>=2.19.0->datasets) (2020.12.5)\n",
      "Requirement already satisfied: chardet<4,>=3.0.2 in /usr/local/lib/python3.6/dist-packages (from requests>=2.19.0->datasets) (3.0.4)\n",
      "Requirement already satisfied: urllib3!=1.25.0,!=1.25.1,<1.26,>=1.21.1 in /usr/local/lib/python3.6/dist-packages (from requests>=2.19.0->datasets) (1.24.3)\n",
      "Requirement already satisfied: idna<3,>=2.5 in /usr/local/lib/python3.6/dist-packages (from requests>=2.19.0->datasets) (2.10)\n",
      "Requirement already satisfied: pytz>=2017.2 in /usr/local/lib/python3.6/dist-packages (from pandas->datasets) (2018.9)\n",
      "Requirement already satisfied: python-dateutil>=2.7.3 in /usr/local/lib/python3.6/dist-packages (from pandas->datasets) (2.8.1)\n",
      "Requirement already satisfied: six>=1.5 in /usr/local/lib/python3.6/dist-packages (from python-dateutil>=2.7.3->pandas->datasets) (1.15.0)\n",
      "Installing collected packages: pyarrow, xxhash, datasets\n",
      "  Found existing installation: pyarrow 0.14.1\n",
      "    Uninstalling pyarrow-0.14.1:\n",
      "      Successfully uninstalled pyarrow-0.14.1\n",
      "Successfully installed datasets-1.1.3 pyarrow-2.0.0 xxhash-2.0.0\n",
      "Collecting transformers\n",
      "\u001b[?25l  Downloading https://files.pythonhosted.org/packages/50/0c/7d5950fcd80b029be0a8891727ba21e0cd27692c407c51261c3c921f6da3/transformers-4.1.1-py3-none-any.whl (1.5MB)\n",
      "\u001b[K     |████████████████████████████████| 1.5MB 4.3MB/s \n",
      "\u001b[?25hRequirement already satisfied: tqdm>=4.27 in /usr/local/lib/python3.6/dist-packages (from transformers) (4.41.1)\n",
      "Collecting tokenizers==0.9.4\n",
      "\u001b[?25l  Downloading https://files.pythonhosted.org/packages/0f/1c/e789a8b12e28be5bc1ce2156cf87cb522b379be9cadc7ad8091a4cc107c4/tokenizers-0.9.4-cp36-cp36m-manylinux2010_x86_64.whl (2.9MB)\n",
      "\u001b[K     |████████████████████████████████| 2.9MB 50.7MB/s \n",
      "\u001b[?25hRequirement already satisfied: dataclasses; python_version < \"3.7\" in /usr/local/lib/python3.6/dist-packages (from transformers) (0.8)\n",
      "Requirement already satisfied: filelock in /usr/local/lib/python3.6/dist-packages (from transformers) (3.0.12)\n",
      "Requirement already satisfied: requests in /usr/local/lib/python3.6/dist-packages (from transformers) (2.23.0)\n",
      "Requirement already satisfied: regex!=2019.12.17 in /usr/local/lib/python3.6/dist-packages (from transformers) (2019.12.20)\n",
      "Requirement already satisfied: packaging in /usr/local/lib/python3.6/dist-packages (from transformers) (20.8)\n",
      "Requirement already satisfied: numpy in /usr/local/lib/python3.6/dist-packages (from transformers) (1.19.4)\n",
      "Collecting sacremoses\n",
      "\u001b[?25l  Downloading https://files.pythonhosted.org/packages/7d/34/09d19aff26edcc8eb2a01bed8e98f13a1537005d31e95233fd48216eed10/sacremoses-0.0.43.tar.gz (883kB)\n",
      "\u001b[K     |████████████████████████████████| 890kB 53.0MB/s \n",
      "\u001b[?25hRequirement already satisfied: certifi>=2017.4.17 in /usr/local/lib/python3.6/dist-packages (from requests->transformers) (2020.12.5)\n",
      "Requirement already satisfied: urllib3!=1.25.0,!=1.25.1,<1.26,>=1.21.1 in /usr/local/lib/python3.6/dist-packages (from requests->transformers) (1.24.3)\n",
      "Requirement already satisfied: chardet<4,>=3.0.2 in /usr/local/lib/python3.6/dist-packages (from requests->transformers) (3.0.4)\n",
      "Requirement already satisfied: idna<3,>=2.5 in /usr/local/lib/python3.6/dist-packages (from requests->transformers) (2.10)\n",
      "Requirement already satisfied: pyparsing>=2.0.2 in /usr/local/lib/python3.6/dist-packages (from packaging->transformers) (2.4.7)\n",
      "Requirement already satisfied: six in /usr/local/lib/python3.6/dist-packages (from sacremoses->transformers) (1.15.0)\n",
      "Requirement already satisfied: click in /usr/local/lib/python3.6/dist-packages (from sacremoses->transformers) (7.1.2)\n",
      "Requirement already satisfied: joblib in /usr/local/lib/python3.6/dist-packages (from sacremoses->transformers) (1.0.0)\n",
      "Building wheels for collected packages: sacremoses\n",
      "  Building wheel for sacremoses (setup.py) ... \u001b[?25l\u001b[?25hdone\n",
      "  Created wheel for sacremoses: filename=sacremoses-0.0.43-cp36-none-any.whl size=893261 sha256=5074e2a642830c99b55a67adc39ad35828f0373452807d437497f572908552ed\n",
      "  Stored in directory: /root/.cache/pip/wheels/29/3c/fd/7ce5c3f0666dab31a50123635e6fb5e19ceb42ce38d4e58f45\n",
      "Successfully built sacremoses\n",
      "Installing collected packages: tokenizers, sacremoses, transformers\n",
      "Successfully installed sacremoses-0.0.43 tokenizers-0.9.4 transformers-4.1.1\n"
     ]
    }
   ],
   "source": [
    "# Install modules from Hugging face\n",
    "! pip install datasets;\n",
    "! pip install transformers;\n",
    "\n",
    "# Import used modules\n",
    "import torch\n",
    "import numpy as np\n",
    "import matplotlib.pyplot as plt"
   ]
  },
  {
   "cell_type": "code",
   "execution_count": 2,
   "metadata": {
    "colab": {
     "base_uri": "https://localhost:8080/"
    },
    "id": "rgfIcaqncyd7",
    "outputId": "661ef3ba-3c33-4b07-d030-b75e3fddf8ec"
   },
   "outputs": [
    {
     "name": "stdout",
     "output_type": "stream",
     "text": [
      "Mounted at /content/drive\n"
     ]
    }
   ],
   "source": [
    "# Setup Google Drive, where the raw data is located\n",
    "import sys\n",
    "import os\n",
    "from google.colab import drive\n",
    "drive.mount('/content/drive', force_remount=True)\n",
    "sys.path.append(os.path.join('/content/drive/My Drive/deep_learning_project'))"
   ]
  },
  {
   "cell_type": "markdown",
   "metadata": {},
   "source": [
    "Google Colab is used to access a Tesla T4 GPU."
   ]
  },
  {
   "cell_type": "code",
   "execution_count": 3,
   "metadata": {
    "colab": {
     "base_uri": "https://localhost:8080/"
    },
    "id": "l0YEv16Mc1LO",
    "outputId": "8e2c93e3-f99b-44c4-d827-1295bd7a770b"
   },
   "outputs": [
    {
     "name": "stdout",
     "output_type": "stream",
     "text": [
      "There are 1 GPU(s) available.\n",
      "We will use the GPU: Tesla P100-PCIE-16GB\n"
     ]
    }
   ],
   "source": [
    "# Setup GPU\n",
    "if torch.cuda.is_available():    \n",
    "    # Tell PyTorch to use the GPU.    \n",
    "    device = torch.device(\"cuda\")\n",
    "    print('There are %d GPU(s) available.' % torch.cuda.device_count())\n",
    "    print('We will use the GPU:', torch.cuda.get_device_name(0))\n",
    "else:\n",
    "    print('No GPU available, using the CPU instead.')\n",
    "    device = torch.device(\"cpu\")"
   ]
  },
  {
   "cell_type": "markdown",
   "metadata": {
    "id": "-r7yiNR4HrDV"
   },
   "source": [
    "## Loading Data"
   ]
  },
  {
   "cell_type": "markdown",
   "metadata": {
    "id": "1-hsbXqyVEXb"
   },
   "source": [
    "Below two small samples of training and validation data are loaded."
   ]
  },
  {
   "cell_type": "code",
   "execution_count": 4,
   "metadata": {
    "id": "-eNw-2w2HrDW"
   },
   "outputs": [],
   "source": [
    "from datasets import load_from_disk\n",
    "\n",
    "train_path = 'drive/My Drive/deep_learning_project/train_mini'\n",
    "val_path = 'drive/My Drive/deep_learning_project/validation_mini'\n",
    "\n",
    "train_raw = load_from_disk(train_path)\n",
    "validation_raw = load_from_disk(val_path)\n"
   ]
  },
  {
   "cell_type": "markdown",
   "metadata": {
    "id": "SVlsHUy7oYzD"
   },
   "source": [
    "The data can also be obtained by running the following:"
   ]
  },
  {
   "cell_type": "code",
   "execution_count": null,
   "metadata": {},
   "outputs": [],
   "source": [
    "from datasets import load_dataset\n",
    "train_raw = load_dataset('trivia_qa', name = 'rc', split = 'train')\n",
    "validation_raw = load_dataset('trivia_qa', name = 'rc', split = 'validation')\n",
    "train_raw = train_raw.select(range(2000))\n",
    "validation_raw = validation_raw.select(range(2000))\n",
    "train_raw = train_raw.map(remove_columns=(['search_results']))\n",
    "validation_raw = validation_raw.map(remove_columns=(['search_results']))"
   ]
  },
  {
   "cell_type": "markdown",
   "metadata": {
    "id": "rv3SL6p2ouYI"
   },
   "source": [
    "An example of what the raw data looks like can be seen below:"
   ]
  },
  {
   "cell_type": "code",
   "execution_count": 6,
   "metadata": {
    "colab": {
     "base_uri": "https://localhost:8080/"
    },
    "id": "mxrfYNXrKmIw",
    "outputId": "ef06fa0e-3068-43a5-98f1-1ab7e34af131"
   },
   "outputs": [
    {
     "data": {
      "text/plain": [
       "{'answer': {'aliases': ['Park Grove (1895)',\n",
       "   'York UA',\n",
       "   'Yorkish',\n",
       "   'UN/LOCODE:GBYRK',\n",
       "   'York, UK',\n",
       "   'Eoforwic',\n",
       "   'Park Grove School',\n",
       "   'York Ham',\n",
       "   'The weather in York',\n",
       "   'City of York',\n",
       "   'York, England',\n",
       "   'York, Yorkshire',\n",
       "   'York ham',\n",
       "   'County Borough of York',\n",
       "   'YORK',\n",
       "   'Eoferwic',\n",
       "   'Park Grove Primary School',\n",
       "   'York, North Yorkshire',\n",
       "   'Yoisk',\n",
       "   'York',\n",
       "   'York (England)'],\n",
       "  'matched_wiki_entity_name': '',\n",
       "  'normalized_aliases': ['york yorkshire',\n",
       "   'eoferwic',\n",
       "   'park grove primary school',\n",
       "   'park grove school',\n",
       "   'weather in york',\n",
       "   'park grove 1895',\n",
       "   'eoforwic',\n",
       "   'county borough of york',\n",
       "   'york uk',\n",
       "   'un locode gbyrk',\n",
       "   'city of york',\n",
       "   'york england',\n",
       "   'york ua',\n",
       "   'york ham',\n",
       "   'york',\n",
       "   'yorkish',\n",
       "   'yoisk',\n",
       "   'york north yorkshire'],\n",
       "  'normalized_matched_wiki_entity_name': '',\n",
       "  'normalized_value': 'york',\n",
       "  'type': 'WikipediaEntity',\n",
       "  'value': 'York'},\n",
       " 'entity_pages': {'doc_source': ['TagMe', 'TagMe'],\n",
       "  'filename': ['England.txt', 'Judi_Dench.txt'],\n",
       "  'title': ['England', 'Judi Dench'],\n",
       "  'wiki_context': ['England is a country that is part of the United Kingdom.   It shares land borders with Scotland to the north and Wales to the west. The Irish Sea lies northwest of England and the Celtic Sea lies to the southwest. England is separated from continental Europe by the North Sea to the east and the English Channel to the south. The country covers much of the central and southern part of the island of Great Britain, which lies in the North Atlantic; and includes over 100 smaller islands such as the Isles of Scilly, and the Isle of Wight.\\n\\nThe area now called England was first inhabited by modern humans during the Upper Palaeolithic period, but takes its name from the Angles, one of the Germanic tribes who settled during the 5th and 6th centuries. England became a unified state in the 10th century, and since the Age of Discovery, which began during the 15th century, has had a significant cultural and legal impact on the wider world.  The English language, the Anglican Church, and English law – the basis for the common law legal systems of many other countries around the world – developed in England, and the country\\'s parliamentary system of government has been widely adopted by other nations.  The Industrial Revolution began in 18th-century England, transforming its society into the world\\'s first industrialised nation. \\n\\nEngland\\'s terrain mostly comprises low hills and plains, especially in central and southern England. However, there are uplands in the north (for example, the mountainous Lake District, Pennines, and Yorkshire Dales) and in the south west (for example, Dartmoor and the Cotswolds). The capital is London, which is the largest metropolitan area in both the United Kingdom and the European Union.According to the European Statistical Agency, London is the largest Larger Urban Zone in the EU, a measure of metropolitan area which comprises a city\\'s urban core as well as its surrounding commuting zone. London\\'s municipal population is also the largest in the EU. England\\'s population of over 53\\xa0million comprises 84% of the population of the United Kingdom, largely concentrated around London, the South East, and conurbations in the Midlands, the North West, the North East, and Yorkshire, which each developed as major industrial regions during the 19th century.[http://www.ons.gov.uk/ons/dcp171778_270487.pdf 2011 Census – Population and household estimates for England and Wales, March 2011]. Accessed 31 May 2013.\\n\\nThe Kingdom of England—which after 1535 included Wales—ceased being a separate sovereign state on 1 May 1707, when the Acts of Union put into effect the terms agreed in the Treaty of Union the previous year, resulting in a political union with the Kingdom of Scotland to create the Kingdom of Great Britain.   In 1801, Great Britain was united with the Kingdom of Ireland through another Act of Union to become the United Kingdom of Great Britain and Ireland. In 1922 the Irish Free State seceded from the United Kingdom, leading to the latter being renamed the United Kingdom of Great Britain and Northern Ireland.\\n\\nToponymy\\n\\nThe name \"England\" is derived from the Old English name Englaland, which means \"land of the Angles\".  The Angles were one of the Germanic tribes that settled in Great Britain during the Early Middle Ages. The Angles came from the Angeln peninsula in the Bay of Kiel area of the Baltic Sea.  The earliest recorded use of the term, as \"Engla londe\", is in the late ninth century translation into Old English of Bede\\'s Ecclesiastical History of the English People. The term was then used in a different sense to the modern one, meaning \"the land inhabited by the English\", and it included English people in what is now south-east Scotland but was then part of the English kingdom of Northumbria. The Anglo-Saxon Chronicle recorded that the Domesday Book of 1086 covered the whole of England, meaning the English kingdom, but a few years later the Chronicle stated that King Malcolm III went \"out of Scotlande into Lothian in Englaland\", thus using it in the more ancient sense. According to the Oxford English Dictionary, its modern spelling was first used in 1538. \\n\\nThe earliest attested reference to the Angles occurs in the 1st-century work by Tacitus, Germania, in which the Latin word Anglii is used.  The etymology of the tribal name itself is disputed by scholars; it has been suggested that it derives from the shape of the Angeln peninsula, an angular shape.  How and why a term derived from the name of a tribe that was less significant than others, such as the Saxons, came to be used for the entire country and its people is not known, but it seems this is related to the custom of calling the Germanic people in Britain Angli Saxones or English Saxons.  In Scottish Gaelic, another language which developed on the island of Great Britain, the Saxon tribe gave their name to the word for England (Sasunn);  similarly, the Welsh name for the English language is \"Saesneg\".\\n\\nAn alternative name for England is Albion. The name Albion originally referred to the entire island of Great Britain. The nominally earliest record of the name appears in the Aristotelian Corpus, specifically the 4th century BC De Mundo:  \"Beyond the Pillars of Hercules is the ocean that flows round the earth. In it are two very large islands called Britannia; these are Albion and Ierne\".  But modern scholarly consensus ascribes De Mundo not to Aristotle but to Pseudo-Aristotle, i.e. it was written later in the Graeco-Roman period or afterwards. The word Albion (Ἀλβίων) or insula Albionum has two possible origins. It either derives from a cognate of the Latin albus meaning white, a reference to the white cliffs of Dover, the only part of Britain visible from the European Continent,  or from the phrase the \"island of the Albiones\"  in the now lost Massaliote Periplus, that is attested through Avienus\\' Ora Maritima  to which the former presumably served as a source. Albion is now applied to England in a more poetic capacity.  Another romantic name for England is Loegria, related to the Welsh word for England, Lloegr, and made popular by its use in Arthurian legend.\\n\\nHistory\\n\\nPrehistory and antiquity\\n\\nThe earliest known evidence of human presence in the area now known as England was that of Homo antecessor, dating to approximately 780,000 years ago. The oldest proto-human bones discovered in England date from 500,000\\xa0years ago.  Modern humans are known to have inhabited the area during the Upper Paleolithic period, though permanent settlements were only established within the last 6,000 years.  \\nAfter the last ice age only large mammals such as mammoths, bison and woolly rhinoceros remained. Roughly 11,000\\xa0years ago, when the ice sheets began to recede, humans repopulated the area; genetic research suggests they came from the northern part of the Iberian Peninsula.  The sea level was lower than now and Britain was connected by land bridge to Ireland and Eurasia. \\nAs the seas rose, it was separated from Ireland 10,000\\xa0years ago and from Eurasia two millennia later.\\n\\nThe Beaker culture arrived around 2,500\\xa0BC, introducing drinking and food vessels constructed from clay, as well as vessels used as reduction pots to smelt copper ores.  It was during this time that major Neolithic monuments such as Stonehenge and Avebury were constructed. By heating together tin and copper, which were in abundance in the area, the Beaker culture people made bronze, and later iron from iron ores. The development of iron smelting allowed the construction of better ploughs, advancing agriculture (for instance, with Celtic fields), as well as the production of more effective weapons. \\n\\nDuring the Iron Age, Celtic culture, deriving from the Hallstatt and La Tène cultures, arrived from Central Europe. Brythonic was the spoken language during this time. Society was tribal; according to Ptolemy\\'s Geographia there were around 20 tribes in the area. Earlier divisions are unknown because the Britons were not literate. Like other regions on the edge of the Empire, Britain had long enjoyed trading links with the Romans. Julius Caesar of the Roman Republic attempted to invade twice in 55\\xa0BC; although largely unsuccessful, he managed to set up a client king from the Trinovantes.\\n\\nThe Romans invaded Britain in 43 AD during the reign of Emperor Claudius, subsequently conquering much of Britain, and the area was incorporated into the Roman Empire as Britannia province.  The best-known of the native tribes who attempted to resist were the Catuvellauni led by Caratacus. Later, an uprising led by Boudica, Queen of the Iceni, ended with Boudica\\'s suicide following her defeat at the Battle of Watling Street.  This era saw a Greco-Roman culture prevail with the introduction of Roman law, Roman architecture, aqueducts, sewers, many agricultural items and silk.    In the 3rd century, Emperor Septimius Severus died at Eboracum (now York), where Constantine was subsequently proclaimed emperor. \\n\\nThere is debate about when Christianity was first introduced; it was no later than the 4th century, probably much earlier. According to Bede, missionaries were sent from Rome by Eleutherius at the request of the chieftain Lucius of Britain in 180 AD, to settle differences as to Eastern and Western ceremonials, which were disturbing the church. There are traditions linked to Glastonbury claiming an introduction through Joseph of Arimathea, while others claim through Lucius of Britain.  By 410, during the Decline of the Roman Empire, Britain was left exposed by the end of Roman rule in Britain and the withdrawal of Roman army units, to defend the frontiers in continental Europe and partake in civil wars. Celtic Christian monastic and missionary movements flourished: Patrick (5th-century Ireland) and in the 6th century Brendan (Clonfert), Comgall (Bangor), David (Wales), Aiden (Lindisfarne) and Columba (Iona). This period of Christianity was influenced by ancient Celtic culture in its sensibilities, polity, practices and theology. Local \"congregations\" were centred in the monastic community and monastic leaders were more like chieftains, as peers, rather than in the more hierarchical system of the Roman-dominated church. \\n\\nMiddle Ages\\n\\nRoman military withdrawals left Britain open to invasion by pagan, seafaring warriors from north-western continental Europe, chiefly the Angles, Saxons and Jutes who had long raided the coasts of the Roman province and began to settle, initially in the eastern part of the country.  Their advance was contained for some decades after the Britons\\' victory at the Battle of Mount Badon, but subsequently resumed, over-running the fertile lowlands of Britain and reducing the area under Brythonic control to a series of separate enclaves in the more rugged country to the west by the end of the 6th century. Contemporary texts describing this period are extremely scarce, giving rise to its description as a Dark Age. The nature and progression of the Anglo-Saxon settlement of Britain is consequently subject to considerable disagreement. Roman-dominated Christianity had in general disappeared from the conquered territories, but was reintroduced by missionaries from Rome led by Augustine from 597 onwards.  Disputes between the Roman- and Celtic-dominated forms of Christianity ended in victory for the Roman tradition at the Council of Whitby (664), which was ostensibly about haircuts and the date of Easter, but more significantly, about the differences in Roman and Celtic forms of authority, theology, and practice (Lehane).\\n\\nDuring the settlement period the lands ruled by the incomers seem to have been fragmented into numerous tribal territories, but by the 7th century, when substantial evidence of the situation again becomes available, these had coalesced into roughly a dozen kingdoms including Northumbria, Mercia, Wessex, East Anglia, Essex, Kent and Sussex. Over the following centuries this process of political consolidation continued.  The 7th century saw a struggle for hegemony between Northumbria and Mercia, which in the 8th century gave way to Mercian preeminence.  In the early 9th century Mercia was displaced as the foremost kingdom by Wessex. Later in that century escalating attacks by the Danes culminated in the conquest of the north and east of England, overthrowing the kingdoms of Northumbria, Mercia and East Anglia. Wessex under Alfred the Great was left as the only surviving English kingdom, and under his successors it steadily expanded at the expense of the kingdoms of the Danelaw. This brought about the political unification of England, first accomplished under Æthelstan in 927 and definitively established after further conflicts by Eadred in 953. A fresh wave of Scandinavian attacks from the late 10th century ended with the conquest of this united kingdom by Sweyn Forkbeard in 1013 and again by his son Cnut in 1016, turning it into the centre of a short-lived North Sea Empire that also included Denmark and Norway. However the native royal dynasty was restored with the accession of Edward the Confessor in 1042.\\n\\nA dispute over the succession to Edward led to the Norman conquest of England in 1066, accomplished by an army led by Duke William of Normandy.  The Normans themselves originated from Scandinavia and had settled in Normandy in the late 9th and early 10th centuries.  This conquest led to the almost total dispossession of the English elite and its replacement by a new French-speaking aristocracy, whose speech had a profound and permanent effect on the English language. \\n\\nSubsequently the House of Plantagenet from Anjou inherited the English throne under Henry II, adding England to the budding Angevin Empire of fiefs the family had inherited in France including Aquitaine.  They reigned for three centuries, some noted monarchs being Richard I, Edward I, Edward III and Henry V. The period saw changes in trade and legislation, including the signing of the Magna Carta, an English legal charter used to limit the sovereign\\'s powers by law and protect the privileges of freemen. Catholic monasticism flourished, providing philosophers, and the universities of Oxford and Cambridge were founded with royal patronage. The Principality of Wales became a Plantagenet fief during the 13th century  and the Lordship of Ireland was given to the English monarchy by the Pope.\\n\\nDuring the 14th century, the Plantagenets and the House of Valois both claimed to be legitimate claimants to the House of Capet and with it France; the two powers clashed in the Hundred Years\\' War.  The Black Death epidemic hit England; starting in 1348, it eventually killed up to half of England\\'s inhabitants.   From 1453 to 1487 civil war occurred between two branches of the royal family—the Yorkists and Lancastrians—known as the Wars of the Roses.  Eventually it led to the Yorkists losing the throne entirely to a Welsh noble family the Tudors, a branch of the Lancastrians headed by Henry Tudor who invaded with Welsh and Breton mercenaries, gaining victory at the Battle of Bosworth Field where the Yorkist king Richard III was killed. \\n\\nEarly Modern\\n\\nDuring the Tudor period, the Renaissance reached England through Italian courtiers, who reintroduced artistic, educational and scholarly debate from classical antiquity.  England began to develop naval skills, and exploration to the West intensified.  \\n\\nHenry VIII broke from communion with the Catholic Church, over issues relating to his divorce, under the Acts of Supremacy in 1534 which proclaimed the monarch head of the Church of England. In contrast with much of European Protestantism, the roots of the split were more political than theological. He also legally incorporated his ancestral land Wales into the Kingdom of England with the 1535–1542 acts. There were internal religious conflicts during the reigns of Henry\\'s daughters, Mary I and Elizabeth I. The former took the country back to Catholicism while the latter broke from it again, forcefully asserting the supremacy of Anglicanism.\\n\\nCompeting with Spain, the first English colony in the Americas was founded in 1585 by explorer Walter Raleigh in Virginia and named Roanoke. The Roanoke colony failed and is known as the lost colony, after it was found abandoned on the return of the late-arriving supply ship.  With the East India Company, England also competed with the Dutch and French in the East. In 1588, during the Elizabethan period, an English fleet under Francis Drake defeated an invading Spanish Armada. The political structure of the island changed in 1603, when the King of Scots, James VI, a kingdom which was a longtime rival to English interests, inherited the throne of England as James I — creating a personal union.   He styled himself King of Great Britain, although this had no basis in English law.  Under the auspices of King James VI and I the Authorised King James Version of the Holy Bible was published in 1611. It has not only been ranked with Shakespeare\\'s works as the greatest masterpiece of literature in the English language but also was the standard version of the Bible read by most Protestant Christians for four hundred years, until modern revisions were produced in the 20th century.\\n\\nBased on conflicting political, religious and social positions, the English Civil War was fought between the supporters of Parliament and those of King Charles I, known colloquially as Roundheads and Cavaliers respectively. This was an interwoven part of the wider multifaceted Wars of the Three Kingdoms, involving Scotland and Ireland. The Parliamentarians were victorious, Charles I was executed and the kingdom replaced by the Commonwealth. Leader of the Parliament forces, Oliver Cromwell declared himself Lord Protector in 1653; a period of personal rule followed.  After Cromwell\\'s death and the resignation of his son Richard as Lord Protector, Charles II was invited to return as monarch in 1660, in a move called the Restoration. After the Glorious Revolution of 1688, it was constitutionally established that King and Parliament should rule together, though Parliament would have the real power. This was established with the Bill of Rights in 1689. Among the statutes set down were that the law could only be made by Parliament and could not be suspended by the King, also that the King could not impose taxes or raise an army without the prior approval of Parliament.  Also since that time, no British monarch has entered the House of Commons when it is sitting, which is annually commemorated at the State Opening of Parliament by the British monarch when the doors of the House of Commons are slammed in the face of the monarch\\'s messenger, symbolising the rights of Parliament and its independence from the monarch.   With the founding of the Royal Society in 1660, science was greatly encouraged.\\n\\nIn 1666 the Great Fire of London gutted the City of London but it was rebuilt shortly afterwards  with many significant buildings designed by Sir Christopher Wren. In Parliament two factions had emerged — the Tories and Whigs. Though the Tories initially supported Catholic king James II, some of them, along with the Whigs, deposed him in the Revolution of 1688 and invited Dutch prince William of Orange to become William III. Some English people, especially in the north, were Jacobites and continued to support James and his sons. After the parliaments of England and Scotland agreed, the two countries joined in political union, to create the Kingdom of Great Britain in 1707. To accommodate the union, institutions such as the law and national churches of each remained separate. \\n\\nLate Modern and contemporary\\n\\nUnder the newly formed Kingdom of Great Britain, output from the Royal Society and other English initiatives combined with the Scottish Enlightenment to create innovations in science and engineering, while the enormous growth in British overseas trade protected by the Royal Navy paved the way for the establishment of the British Empire. Domestically it drove the Industrial Revolution, a period of profound change in the socioeconomic and cultural conditions of England, resulting in industrialised agriculture, manufacture, engineering and mining, as well as new and pioneering road, rail and water networks to facilitate their expansion and development.  The opening of Northwest England\\'s Bridgewater Canal in 1761 ushered in the canal age in Britain.   In 1825 the world\\'s first permanent steam locomotive-hauled passenger railway—the Stockton and Darlington Railway—opened to the public.\\n\\nDuring the Industrial Revolution, many workers moved from England\\'s countryside to new and expanding urban industrial areas to work in factories, for instance at Manchester and Birmingham, dubbed \"Warehouse City\" and \"Workshop of the World\" respectively.   England maintained relative stability throughout the French Revolution; William Pitt the Younger was British Prime Minister for the reign of George III. During the Napoleonic Wars, Napoleon planned to invade from the south-east. However this failed to manifest and the Napoleonic forces were defeated by the British at sea by Lord Nelson and on land by the Duke of Wellington. The Napoleonic Wars fostered a concept of Britishness and a united national British people, shared with the Scots and Welsh. \\n\\nLondon became the largest and most populous metropolitan area in the world during the Victorian era, and trade within the British Empire—as well as the standing of the British military and navy—was prestigious.  Political agitation at home from radicals such as the Chartists and the suffragettes enabled legislative reform and universal suffrage.  Power shifts in east-central Europe led to World War I; hundreds of thousands of English soldiers died fighting for the United Kingdom as part of the Allies. Two decades later, in World War II, the United Kingdom was again one of the Allies. At the end of the Phoney War, Winston Churchill became the wartime Prime Minister. Developments in warfare technology saw many cities damaged by air-raids during the Blitz. Following the war, the British Empire experienced rapid decolonisation, and there was a speeding up of technological innovations; automobiles became the primary means of transport and Frank Whittle\\'s development of the jet engine led to wider air travel.  Residential patterns were altered in England by private motoring, and by the creation of the National Health Service (NHS) in 1948. The UK\\'s NHS provided publicly funded health care to all UK permanent residents free at the point of need, being paid for from general taxation. Combined, these changes prompted the reform of local government in England in the mid-20th century.  \\n\\nSince the 20th century there has been significant population movement to England, mostly from other parts of the British Isles, but also from the Commonwealth, particularly the Indian subcontinent.  Since the 1970s there has been a large move away from manufacturing and an increasing emphasis on the service industry. As part of the United Kingdom, the area joined a common market initiative called the European Economic Community which became the European Union. Since the late 20th century the administration of the United Kingdom has moved towards devolved governance in Scotland, Wales and Northern Ireland. England and Wales continues to exist as a jurisdiction within the United Kingdom.  Devolution has stimulated a greater emphasis on a more English-specific identity and patriotism.   There is no devolved English government, but an attempt to create a similar system on a sub-regional basis was rejected by referendum.\\n\\nGovernance\\n\\nPolitics\\n\\nAs part of the United Kingdom, the basic political system in England is a constitutional monarchy and parliamentary system.  There has not been a government of England since 1707, when the Acts of Union 1707, putting into effect the terms of the Treaty of Union, joined England and Scotland to form the Kingdom of Great Britain.  Before the union England was ruled by its monarch and the Parliament of England. Today England is governed directly by the Parliament of the United Kingdom, although other countries of the United Kingdom have devolved governments.  In the House of Commons which is the lower house of the British Parliament based at the Palace of Westminster, there are 532 Members of Parliament (MPs) for constituencies in England, out of the 650 total. \\n\\nIn the United Kingdom general election, 2015, the Conservative Party won an absolute majority in the 650 contested seats with 10 seats more than all other parties combined (the Speaker of the House not being counted as a Conservative).  The Conservative party, headed by the prime minister David Cameron, won 98 more seats than the Labour Party, whose leader Ed Miliband subsequently stood down.  The Scottish National Party (Scotland only) won 56 out of 59 Scottish seats in the House of Commons replacing the Liberal Democrats as the third largest party overall in the UK. \\n\\nAs the United Kingdom is a member of the European Union, there are elections held regionally in England to decide who is sent as Members of the European Parliament. The 2014 European Parliament election saw the regions of England elect the following MEPs: 22 UK Independence Party (UKIP), 17 Conservatives, 17 Labour, 3 Greens, and one Liberal Democrat.\\n\\nSince devolution, in which other countries of the United Kingdom—Scotland, Wales and Northern Ireland—each have their own devolved parliament or assemblies for local issues, there has been debate about how to counterbalance this in England. Originally it was planned that various regions of England would be devolved, but following the proposal\\'s rejection by the North East in a referendum, this has not been carried out.\\n\\nOne major issue is the West Lothian question, in which MPs from Scotland and Wales are able to vote on legislation affecting only England, while English MPs have no equivalent right to legislate on devolved matters.  This when placed in the context of England being the only country of the United Kingdom not to have free cancer treatment, prescriptions, residential care for the elderly and free top-up university fees,  has led to a steady rise in English nationalism.  Some have suggested the creation of a devolved English parliament,  while others have proposed simply limiting voting on legislation which only affects England to English MPs. \\n\\nLaw\\n\\nThe English law legal system, developed over the centuries, is the basis of common law  legal systems used in most Commonwealth countries  and the United States (except Louisiana). Despite now being part of the United Kingdom, the legal system of the Courts of England and Wales continued, under the Treaty of Union, as a separate legal system from the one used in Scotland. The general essence of English law is that it is made by judges sitting in courts, applying their common sense and knowledge of legal precedent—stare decisis—to the facts before them. \\n\\nThe court system is headed by the Senior Courts of England and Wales, consisting of the Court of Appeal, the High Court of Justice for civil cases, and the Crown Court for criminal cases.  The Supreme Court of the United Kingdom is the highest court for criminal and civil cases in England and Wales. It was created in 2009 after constitutional changes, taking over the judicial functions of the House of Lords.  A decision of the Supreme Court is binding on every other court in the hierarchy, which must follow its directions. \\n\\nCrime increased between 1981 and 1995, but fell by 42% in the period 1995–2006.  The prison population doubled over the same period, giving it the highest incarceration rate in Western Europe at 147 per 100,000.  Her Majesty\\'s Prison Service, reporting to the Ministry of Justice, manages most prisons, housing over 85,000 convicts. \\n\\nRegions, counties, and districts\\n\\nThe subdivisions of England consist of up to four levels of subnational division controlled through a variety of types of administrative entities created for the purposes of local government. The highest tier of local government were the nine regions of England: North East, North West, Yorkshire and the Humber, East Midlands, West Midlands, East, South East, South West, and London. These were created in 1994 as Government Offices, used by the UK government to deliver a wide range of policies and programmes regionally, but there are no elected bodies at this level, except in London, and in 2011 the regional government offices were abolished.  The same boundaries remain in use for electing Members of the European Parliament on a regional basis.\\n\\nAfter devolution began to take place in other parts of the United Kingdom it was planned that referendums for the regions of England would take place for their own elected regional assemblies as a counterweight. London accepted in 1998: the London Assembly was created two years later. However, when the proposal was rejected by the northern England devolution referendums, 2004 in the North East, further referendums were cancelled.  The regional assemblies outside London were abolished in 2010, and their functions transferred to respective Regional Development Agencies and a new system of local authority leaders\\' boards. \\n\\nBelow the regional level, all of England is divided into 48 ceremonial counties.  These are used primarily as a geographical frame of reference and have developed gradually since the Middle Ages, with some established as recently as 1974.  Each has a Lord Lieutenant and High Sheriff; these posts are used to represent the British monarch locally. Outside Greater London and the Isles of Scilly, England is also divided into 83 metropolitan and non-metropolitan counties; these correspond to areas used for the purposes of local government  and may consist of a single district or be divided into several.\\n\\nThere are six metropolitan counties based on the most heavily urbanised areas, which do not have county councils. In these areas the principal authorities are the councils of the subdivisions, the metropolitan boroughs. Elsewhere, 27 non-metropolitan \"shire\" counties have a county council and are divided into districts, each with a district council. They are typically, though not always, found in more rural areas. The remaining non-metropolitan counties are of a single district and usually correspond to large towns or sparsely populated counties; they are known as unitary authorities. Greater London has a different system for local government, with 32 London boroughs, plus the City of London covering a small area at the core governed by the City of London Corporation.  At the most localised level, much of England is divided into civil parishes with councils; they do not exist in Greater London. \\n\\nGeography\\n\\nLandscape and rivers\\n\\nGeographically England includes the central and southern two-thirds of the island of Great Britain, plus such offshore islands as the Isle of Wight and the Isles of Scilly. It is bordered by two other countries of the United Kingdom—to the north by Scotland and to the west by Wales. England is closer to the European continent than any other part of mainland Britain. It is separated from France by a 21 mi  sea gap, though the two countries are connected by the Channel Tunnel near Folkestone.  England also has shores on the Irish Sea, North Sea and Atlantic Ocean.\\n\\nThe ports of London, Liverpool, and Newcastle lie on the tidal rivers Thames, Mersey and Tyne respectively. At 220 mi, the Severn is the longest river flowing through England.  It empties into the Bristol Channel and is notable for its Severn Bore tidal waves, which can reach 2 m in height.  However, the longest river entirely in England is the Thames, which is 215 mi in length.  There are many lakes in England; the largest is Windermere, within the aptly named Lake District. \\n\\nIn geological terms, the Pennines, known as the \"backbone of England\", are the oldest range of mountains in the country, originating from the end of the Paleozoic Era around 300\\xa0million years ago.  Their geological composition includes, among others, sandstone and limestone, and also coal. There are karst landscapes in calcite areas such as parts of Yorkshire and Derbyshire. The Pennine landscape is high moorland in upland areas, indented by fertile valleys of the region\\'s rivers. They contain three national parks, the Yorkshire Dales, Northumberland, and the Peak District. The highest point in England, at 978 m, is Scafell Pike in Cumbria. Straddling the border between England and Scotland are the Cheviot Hills.\\n\\nThe English Lowlands are to the south of the Pennines, consisting of green rolling hills, including the Cotswold Hills, Chiltern Hills, North and South Downs—where they meet the sea they form white rock exposures such as the cliffs of Dover. The granite Southwest Peninsula in the West Country includes upland moorland, such as Dartmoor and Exmoor, and enjoys a mild climate; both are national parks. \\n\\nClimate\\n\\nEngland has a temperate maritime climate: it is mild with temperatures not much lower than 0 °C in winter and not much higher than 32 °C in summer.  The weather is damp relatively frequently and is changeable. The coldest months are January and February, the latter particularly on the English coast, while July is normally the warmest month. Months with mild to warm weather are May, June, September and October. Rainfall is spread fairly evenly throughout the year.\\n\\nImportant influences on the climate of England are its proximity to the Atlantic Ocean, its northern latitude and the warming of the sea by the Gulf Stream. Rainfall is higher in the west, and parts of the Lake District receive more rain than anywhere else in the country. Since weather records began, the highest temperature recorded was  on 10 August 2003 at Brogdale in Kent,  while the lowest was  on 10 January 1982 in Edgmond, Shropshire. \\n\\nMajor conurbations\\n\\nThe Greater London Urban Area is by far the largest urban area in England  and one of the busiest cities in the world. It is considered a global city and has a population larger than other countries in the United Kingdom besides England itself. Other urban areas of considerable size and influence tend to be in northern England or the English Midlands. There are fifty settlements which have been designated city status in England, while the wider United Kingdom has sixty-six.\\n\\nWhile many cities in England are quite large in size, such as Birmingham, Sheffield, Manchester, Liverpool, Leeds, Newcastle, Bradford, Nottingham and others, a large population is not necessarily a prerequisite for a settlement to be afforded city status.  Traditionally the status was afforded to towns with diocesan cathedrals and so there are smaller cities like Wells, Ely, Ripon, Truro and Chichester. According to the Office for National Statistics the ten largest, continuous built-up urban areas are:\\n\\nEconomy\\n\\nEngland\\'s economy is one of the largest in the world, with an average GDP per capita of £22,907. Usually regarded as a mixed market economy, it has adopted many free market principles, yet maintains an advanced social welfare infrastructure.  The official currency in England is the pound sterling, whose ISO 4217 code is GBP. Taxation in England is quite competitive when compared to much of the rest of Europe –  the basic rate of personal tax is 20% on taxable income up to £31,865 above the personal tax-free allowance (normally £10,000), and 40% on any additional earnings above that amount. \\n\\nThe economy of England is the largest part of the UK\\'s economy,  which has the 18th highest GDP PPP per capita in the world. England is a leader in the chemical  and pharmaceutical sectors and in key technical industries, particularly aerospace, the arms industry, and the manufacturing side of the software industry. London, home to the London Stock Exchange, the United Kingdom\\'s main stock exchange and the largest in Europe, is England\\'s financial centre—100 of Europe\\'s 500\\xa0largest corporations are based in London.  London is the largest financial centre in Europe, and  is the second largest in the world.  \\n\\nThe Bank of England, founded in 1694 by Scottish banker William Paterson, is the United Kingdom\\'s central bank. Originally established as private banker to the government of England, since 1946 it has been a state-owned institution.  The bank has a monopoly on the issue of banknotes in England and Wales, although not in other parts of the United Kingdom. The government has devolved responsibility to the bank\\'s Monetary Policy Committee for managing the monetary policy of the country and setting interest rates. \\n\\nEngland is highly industrialised, but since the 1970s there has been a decline in traditional heavy and manufacturing industries, and an increasing emphasis on a more service industry oriented economy.  Tourism has become a significant industry, attracting millions of visitors to England each year. The export part of the economy is dominated by pharmaceuticals, cars (although many English marques are now foreign-owned, such as Land Rover, Lotus, Jaguar and Bentley), crude oil and petroleum from the English parts of North Sea oil along with Wytch Farm, aircraft engines and alcoholic beverages. \\n\\nMost of the UK\\'s £25 billion  aerospace industry is primarily based in England. The wings for the Airbus A380 and the Airbus A350 XWB are designed and manufactured at Airbus UK\\'s world-leading facility in Broughton. GKN Aerospace – an expert in metallic and composite aerostructures is involved in almost every civil and military fixed and rotary wing aircraft in production is based in Redditch. \\n\\nBAE Systems makes large sections of the Typhoon Eurofighter at its sub-assembly plant in Salmesbury and assembles the aircraft for the RAF at its Warton plant, near Preston. It is also a principal subcontractor on the F35 Joint Strike Fighter – the world\\'s largest single defence project – for which it designs and manufactures a range of components including the aft fuselage, vertical and horizontal tail and wing tips and fuel system. As well as this it manufactures the Hawk, the world\\'s most successful jet training aircraft.\\n\\nRolls-Royce PLC is the world\\'s second-largest aero-engine manufacturer. Its engines power more than 30 types of commercial aircraft, and it has more 30,000 engines currently in service across both the civil and defence sectors. With a workforce of over 12,000 people, Derby has the largest concentration of Rolls-Royce employees in the UK. Rolls-Royce also produces low-emission power systems for ships; makes critical equipment and safety systems for the nuclear industry and powers offshore platforms and major pipelines for the oil and gas industry. \\n\\nMuch of the UK\\'s space industry is centred on EADS Astrium, based in Stevenage and Portsmouth. The company builds the buses – the underlying structure onto which the payload and propulsion systems are built – for most of the European Space Agency\\'s spacecraft, as well as commercial satellites. The world leader in compact satellite systems, Surrey Satellites, is also part of Astrium. Reaction Engines Limited, the company planning to build Skylon, a single-stage-to-orbit spaceplane using their SABRE rocket engine, a combined-cycle, air-breathing rocket propulsion system is based Culham.\\n\\nAgriculture is intensive and highly mechanised, producing 60% of food needs with only 2% of the labour force.  Two thirds of production is devoted to livestock, the other to arable crops. \\n\\nScience and technology\\n\\nProminent English figures from the field of science and mathematics include Sir Isaac Newton, Michael Faraday, Robert Hooke, Robert Boyle, Joseph Priestley, J. J. Thomson, Charles Babbage, Charles Darwin, Stephen Hawking, Christopher Wren, Alan Turing, Francis Crick, Joseph Lister, Tim Berners-Lee, Paul Dirac, Andrew Wiles and Richard Dawkins. Some experts claim that the earliest concept of a metric system was invented by John Wilkins, the first secretary of the Royal Society, in 1668. \\n\\nAs the birthplace of the Industrial Revolution, England was home to many significant inventors during the late 18th and early 19th centuries. Famous English engineers include Isambard Kingdom Brunel, best known for the creation of the Great Western Railway, a series of famous steamships, and numerous important bridges, hence revolutionising public transport and modern-day engineering.  Thomas Newcomen\\'s steam engine helped spawn the Industrial Revolution.  The Father of Railways, George Stephenson, built the first public inter-city railway line in the world, the Liverpool and Manchester Railway, which opened in 1830. With his role in the marketing and manufacturing of the steam engine, and invention of modern coinage, Matthew Boulton (business partner of James Watt) is regarded as one of the most influential entrepreneurs in history.  The physician Edward Jenner\\'s smallpox vaccine is said to have \"saved more lives\\xa0... than were lost in all the wars of mankind since the beginning of recorded history.\"   \\n\\nInventions and discoveries of the English include: the jet engine, the first industrial spinning machine, the first computer and the first modern computer, the World Wide Web along with HTML, the first successful human blood transfusion, the motorised vacuum cleaner,  the lawn mower, the seat belt, the hovercraft, the electric motor, steam engines, and theories such as the Darwinian theory of evolution and atomic theory. Newton developed the ideas of universal gravitation, Newtonian mechanics, and calculus, and Robert Hooke his eponymously named law of elasticity. Other inventions include the iron plate railway, the thermosiphon, tarmac, the rubber band, the mousetrap, \"cat\\'s eye\" road marker, joint development of the light bulb, steam locomotives, the modern seed drill and many modern techniques and technologies used in precision engineering. \\n\\nTransport\\n\\nThe Department for Transport is the government body responsible for overseeing transport in England. There are many motorways in England, and many other trunk roads, such as the A1 Great North Road, which runs through eastern England from London to Newcastle  (much of this section is motorway) and onward to the Scottish border. The longest motorway in England is the M6, from Rugby through the North West up to the Anglo-Scottish border, a distance of 232 mi. Other major routes include: the M1 from London to Leeds, the M25 which encircles London, the M60 which encircles Manchester, the M4 from London to South Wales, the M62 from Liverpool via Manchester to East Yorkshire, and the M5 from Birmingham to Bristol and the South West.\\n\\nBus transport across the country is widespread; major companies include National Express, Arriva and Go-Ahead Group. The red double-decker buses in London have become a symbol of England. There is a rapid rail network in two English cities: the London Underground; and the Tyne and Wear Metro in Newcastle, Gateshead and Sunderland.  There are several tram networks, such as the Blackpool tramway, Manchester Metrolink, Sheffield Supertram and Midland Metro, and the Tramlink system centred on Croydon in South London.\\n\\nRail transport in England is the oldest in the world: passenger railways originated in England in 1825.  Much of Britain\\'s 10000 mi of rail network lies in England, covering the country fairly extensively, although a high proportion of railway lines were closed in the second half of the 20th century. There are plans to reopen lines such as the Varsity Line between Oxford and Cambridge. These lines are mostly standard gauge (single, double or quadruple track) though there are also a few narrow gauge lines. There is rail transport access to France and Belgium through an undersea rail link, the Channel Tunnel, which was completed in 1994.\\n\\nEngland has extensive domestic and international aviation links. The largest airport is London Heathrow, which is the world\\'s busiest airport measured by number of international passengers.  Other large airports include Manchester Airport, London Stansted Airport, Luton Airport and Birmingham Airport. By sea there is ferry transport, both local and international, including to Ireland, the Netherlands and Belgium.  There are around 4400 mi of navigable waterways in England, half of which is owned by the Canal and River Trust, however water transport is very limited. The Thames is the major waterway in England, with imports and exports focused at the Port of Tilbury in the Thames Estuary, one of the United Kingdom\\'s three major ports.\\n\\nHealthcare\\n\\nThe National Health Service (NHS) is the publicly funded healthcare system in England responsible for providing the majority of healthcare in the country. The NHS began on 5 July 1948, putting into effect the provisions of the National Health Service Act 1946. It was based on the findings of the Beveridge Report, prepared by economist and social reformer William Beveridge.  The NHS is largely funded from general taxation including National Insurance payments,  and it provides most of its services free at the point of use, although there are charges for some people for eye tests, dental care, prescriptions and aspects of personal care. \\n\\nThe government department responsible for the NHS is the Department of Health, headed by the Secretary of State for Health, who sits in the British Cabinet. Most of the expenditure of the Department of Health is spent on the NHS—£98.6\\xa0billion was spent in 2008–2009.  In recent years the private sector has been increasingly used to provide more NHS services despite opposition by doctors and trade unions.  The average life expectancy of people in England is 77.5 years for males and 81.7 years for females, the highest of the four countries of the United Kingdom.\\n\\nDemography\\n\\nPopulation\\n\\nWith over 53\\xa0million inhabitants, England is by far the most populous country of the United Kingdom, accounting for 84% of the combined total.  England taken as a unit and measured against international states has the fourth largest population in the European Union and would be the 25th largest country by population in the world.  With a density of 407 people per square kilometre, it would be the second most densely populated country in the European Union after Malta.  \\n\\nThe English people are a British people.  Some genetic evidence suggests that 75–95% descend in the paternal line from prehistoric settlers who originally came from the Iberian Peninsula, as well as a 5% contribution from Angles and Saxons, and a significant Scandinavian (Viking) element.    However, other geneticists place the Germanic estimate up to half.    Over time, various cultures have been influential: Prehistoric, Brythonic,  Roman, Anglo-Saxon,  Viking (North Germanic),  Gaelic cultures, as well as a large influence from Normans. There is an English diaspora in former parts of the British Empire; especially the United States, Canada, Australia, South Africa and New Zealand. Since the late 1990s, many English people have migrated to Spain.  \\n\\nIn 1086, when the Domesday Book was compiled, England had a population of two million. About ten per cent lived in urban areas.  By 1801 the population had grown to 8.3\\xa0million, and by 1901 had grown to 30.5\\xa0million.  Due in particular to the economic prosperity of South East England, it has received many economic migrants from the other parts of the United Kingdom. There has been significant Irish migration.  The proportion of ethnically European residents totals at 87.50%, including Germans and Poles.\\n\\nOther people from much further afield in the former British colonies have arrived since the 1950s: in particular, 6% of people living in England have family origins in the Indian subcontinent, mostly India, Pakistan and Bangladesh.  2.90% of the population are black, from both the Caribbean and countries in Africa itself, especially former British colonies. There is a significant number of Chinese and British Chinese. In 2007, 22% of primary school children in England were from ethnic minority families,  and in 2011 that figure was 26.5%.  About half of the population increase between 1991 and 2001 was due to immigration.  Debate over immigration is politically prominent;  according to a 2009 Home Office poll, 80% of people want to cap it.  The ONS has projected that the population will grow by six million between 2004 and 2029. \\n\\nLanguage\\n\\nAs its name suggests, the English language, today spoken by hundreds of millions of people around the world, originated as the language of England, where it remains the principal tongue spoken by 98% of the population.[http://www.nomisweb.co.uk/census/2011/QS205EW/view/2092957699?cols\\nmeasures QS205EW – Proficiency in English], ONS 2011 census. Out of the 51,005,610 residents of England over the age of three, 50,161,765 (98%) can speak English \"well\" or \"very well\". Retrieved 20 July 2015. It is an Indo-European language in the Anglo-Frisian branch of the Germanic family.  After the Norman conquest, the Old English language was displaced and confined to the lower social classes as Norman French and Latin were used by the aristocracy.\\n\\nBy the 15th century, English was back in fashion among all classes, though much changed; the Middle English form showed many signs of French influence, both in vocabulary and spelling. During the English Renaissance, many words were coined from Latin and Greek origins.  Modern English has extended this custom of flexibility, when it comes to incorporating words from different languages. Thanks in large part to the British Empire, the English language is the world\\'s unofficial lingua franca. \\n\\nEnglish language learning and teaching is an important economic activity, and includes language schooling, tourism spending, and publishing. There is no legislation mandating an official language for England,  but English is the only language used for official business. Despite the country\\'s relatively small size, there are many distinct regional accents, and individuals with particularly strong accents may not be easily understood everywhere in the country.\\n\\nAs well as English, England has two other indigenous languages, Cornish and Welsh. Cornish died out as a community language in the 18th century but is being revived,    and is now protected under the European Charter for Regional or Minority Languages.  It is spoken by 0.1% of people in Cornwall,  and is taught to some degree in several primary and secondary schools.  \\n\\nWhen the modern border between Wales and England was established by the Laws in Wales Acts 1535 and 1542, many Welsh-speaking communities found themselves on the English side of the border. Welsh was spoken in Archenfield in Herefordshire into the nineteenth century.  Welsh was spoken by natives of parts of western Shropshire until the middle of the twentieth century if not later. \\n\\nState schools teach students a second language, usually French, German or Spanish.  Due to immigration, it was reported in 2007 that around 800,000 school students spoke a foreign language at home, the most common being Punjabi and Urdu.  However, following the 2011 census data released by the Office for National Statistics, figures now show that Polish is the main language spoken in England after English. \\n\\nReligion\\n\\nAccording to the 2011 census, 59.4% of the population is Christian, 24.7% non-religious, 5% is Muslim while 3.7% of the population belongs to other religions and 7.2 did not give an answer.  Christianity is the most widely practised religion in England, as it has been since the Early Middle Ages, although it was first introduced much earlier in Gaelic and Roman times. This Celtic Church was gradually joined to the Catholic hierarchy following the 6th-century Gregorian mission to Kent led by St\\xa0Augustine. The established church of England is Church of England,  which left communion with Rome in the 1530s when Henry\\xa0VIII was unable to annul his divorce to the aunt of the king of Spain. The religion regards itself as both Catholic and Reformed.\\n\\nThere are High Church and Low Church traditions, and some Anglicans regard themselves as Anglo-Catholics, following the Tractarian movement. The monarch of the United Kingdom is the Supreme Governor of the church, which has around 26\\xa0million baptised members (of whom the vast majority are not regular churchgoers). It forms part of the Anglican Communion with the Archbishop of Canterbury acting as its symbolic worldwide head.  Many cathedrals and parish churches are historic buildings of significant architectural importance, such as Westminster Abbey, York Minster, Durham Cathedral, and Salisbury Cathedral.\\n\\nThe 2nd-largest Christian practice is the Latin Rite of the Catholic Church. Since its reintroduction after the Catholic Emancipation, the Church has organised ecclesiastically on an England and Wales basis where there are 4.5\\xa0million members (most of whom are English).  There has been one Pope from England to date, Adrian IV; while saints Bede and Anselm are regarded as Doctors of the Church.\\n\\nA form of Protestantism known as Methodism is the third largest Christian practice and grew out of Anglicanism through John Wesley.  It gained popularity in the mill towns of Lancashire and Yorkshire, and amongst tin miners in Cornwall.  There are other non-conformist minorities, such as Baptists, Quakers, Congregationalists, Unitarians and The Salvation Army. \\n\\nThe patron saint of England is Saint George; his symbolic cross is included in the flag of England, as well as in the Union Flag as part of a combination.  There are many other English and associated saints; some of the best-known are: Cuthbert, Edmund, Alban, Wilfrid, Aidan, Edward the Confessor, John Fisher, Thomas More, Petroc, Piran, Margaret Clitherow and Thomas Becket. There are non-Christian religions practised. Jews have a history of a small minority on the island since 1070.  They were expelled from England in 1290 following the Edict of Expulsion, only to be allowed back in 1656.\\n\\nEspecially since the 1950s, religions from the former British colonies have grown in numbers, due to immigration. Islam is the most common of these, now accounting for around 5% of the population in England.  Hinduism, Sikhism and Buddhism are next in number, adding up to 2.8% combined, introduced from India and South East Asia.\\n\\nA small minority of the population practice ancient Pagan religions. Neopaganism in the United Kingdom is primarily represented by Wicca and Witchcraft religions, Druidry, and Heathenry. According to the 2011 UK Census, there are roughly 53,172 people who identify as Pagan in England, and 3,448 in Wales, including 11,026 Wiccans in England and 740 in Wales.\\n\\nEducation\\n\\nThe Department for Education is the government department responsible for issues affecting people in England up to the age of 19, including education.  State-run and state-funded schools are attended by approximately 93% of English schoolchildren.  Of these, a minority are faith schools (primarily Church of England or Roman Catholic schools). Children who are between the ages of 3 and 5 attend nursery or an Early Years Foundation Stage reception unit within a primary school. Children between the ages of 5 and 11 attend primary school, and secondary school is attended by those aged between 11 and 16. After finishing compulsory education, students take GCSE examinations. Students may then opt to continue into further education for two years. Further education colleges (particularly sixth form colleges) often form part of a secondary school site. A-level examinations are sat by a large number of further education students, and often form the basis of an application to university.\\n\\nAlthough most English secondary schools are comprehensive, in some areas there are selective intake grammar schools, to which entrance is subject to passing the Eleven-Plus exam. Around 7.2% of English schoolchildren attend private schools, which are funded by private sources.  Standards in state schools are monitored by the Office for Standards in Education, and in private schools by the Independent Schools Inspectorate. \\n\\nHigher education students normally attend university from age 18 onwards, where they study for an academic degree. There are over 90\\xa0universities in England, all but one of which are public institutions. The Department for Business, Innovation and Skills is the government department responsible for higher education in England.  Students are generally entitled to student loans to cover the cost of tuition fees and living costs. The first degree offered to undergraduates is the Bachelor\\'s degree, which usually takes three years to complete. Students are then able to work towards a postgraduate degree, which usually takes one year, or towards a doctorate, which takes three or more years.\\n\\nEngland\\'s universities include some of the highest-ranked universities in the world; Cambridge University, Imperial College London, Oxford University, University College London and King\\'s College London are all ranked in the global top 20 in the 2014–2015 QS World University Rankings.  The London School of Economics has been described as the world\\'s leading social science institution for both teaching and research.  The London Business School is considered one of the world\\'s leading business schools and in 2010 its MBA programme was ranked best in the world by the Financial Times.  Academic degrees in England are usually split into classes: first class (1st), upper second class (2:1), lower second class (2:2), third (3rd), and unclassified.\\n\\nThe King\\'s School, Canterbury and King\\'s School, Rochester are the oldest schools in the English-speaking world.  Many of England\\'s most well-known schools, such as Winchester College, Eton, St Paul\\'s School, Harrow School and Rugby School are fee-paying institutions. \\n\\nCulture\\n\\nArchitecture\\n\\nMany ancient standing stone monuments were erected during the prehistoric period, amongst the best-known are Stonehenge, Devil\\'s Arrows, Rudston Monolith and Castlerigg.  With the introduction of Ancient Roman architecture there was a development of basilicas, baths, amphitheaters, triumphal arches, villas, Roman temples, Roman roads, Roman forts, stockades and aqueducts.  It was the Romans who founded the first cities and towns such as London, Bath, York, Chester and St Albans. Perhaps the best-known example is Hadrian\\'s Wall stretching right across northern England. Another well-preserved example is the Roman Baths at Bath, Somerset.\\n\\nEarly Medieval architecture\\'s secular buildings were simple constructions mainly using timber with thatch for roofing. Ecclesiastical architecture ranged from a synthesis of Hiberno—Saxon monasticism,   to Early Christian basilica and architecture characterised by pilaster-strips, blank arcading, baluster shafts and triangular headed openings. After the Norman conquest in 1066 various Castles in England were created so law lords could uphold their authority and in the north to protect from invasion. Some of the best-known medieval castles are the Tower of London, Warwick Castle, Durham Castle and Windsor Castle.\\n\\nThroughout the Plantagenet era an English Gothic architecture flourished—the medieval cathedrals such as Canterbury Cathedral, Westminster Abbey and York Minster are prime examples.  Expanding on the Norman base there was also castles, palaces, great houses, universities and parish churches. Medieval architecture was completed with the 16th-century Tudor style; the four-centred arch, now known as the Tudor arch, was a defining feature as were wattle and daub houses domestically. In the aftermath of the Renaissance a form of architecture echoing classical antiquity, synthesised with Christianity appeared—the English Baroque style, architect Christopher Wren was particularly championed. \\n\\nGeorgian architecture followed in a more refined style, evoking a simple Palladian form; the Royal Crescent at Bath is one of the best examples of this. With the emergence of romanticism during Victorian period, a Gothic Revival was launched—in addition to this around the same time the Industrial Revolution paved the way for buildings such as The Crystal Palace. Since the 1930s various modernist forms have appeared whose reception is often controversial, though traditionalist resistance movements continue with support in influential places.\\n\\nFolklore\\n\\nEnglish folklore developed over many centuries. Some of the characters and stories are present across England, but most belong to specific regions. Common folkloric beings include pixies, giants, elves, bogeymen, trolls, goblins and dwarves. While many legends and folk-customs are thought to be ancient, for instance the tales featuring Offa of Angel and Wayland the Smith,  others date from after the Norman invasion; Robin Hood and his Merry Men of Sherwood and their battles with the Sheriff of Nottingham being, perhaps, the best known. \\n\\nDuring the High Middle Ages tales originating from Brythonic traditions entered English folklore—the Arthurian myth.    These were derived from Anglo-Norman, Welsh and French sources, featuring King Arthur, Camelot, Excalibur, Merlin and the Knights of the Round Table such as Lancelot. These stories are most centrally brought together within Geoffrey of Monmouth\\'s Historia Regum Britanniae (History of the Kings of Britain). Another early figure from British tradition, King Cole, may have been based on a real figure from Sub-Roman Britain. Many of the tales and pseudo-histories make up part of the wider Matter of Britain, a collection of shared British folklore.\\n\\nSome folk figures are based on semi or actual historical people whose story has been passed down centuries; Lady Godiva for instance was said to have ridden naked on horseback through Coventry, Hereward the Wake was a heroic English figure resisting the Norman invasion, Herne the Hunter is an equestrian ghost associated with Windsor Forest and Great Park and Mother Shipton is the archetypal witch.  On 5 November people make bonfires, set off fireworks and eat toffee apples in commemoration of the foiling of the Gunpowder Plot centred on Guy Fawkes. The chivalrous bandit, such as Dick Turpin, is a recurring character, while Blackbeard is the archetypal pirate. There are various national and regional folk activities, participated in to this day, such as Morris dancing, Maypole dancing, Rapper sword in the North East, Long Sword dance in Yorkshire, Mummers Plays, bottle-kicking in Leicestershire, and cheese-rolling at Cooper\\'s Hill.  There is no official national costume, but a few are well established such as the Pearly Kings and Queens associated with cockneys, the Royal Guard, the Morris costume and Beefeaters. \\n\\nCuisine\\n\\nSince the early modern period the food of England has historically been characterised by its simplicity of approach and a reliance on the high quality of natural produce.  During the Middle Ages and through the Renaissance period, English cuisine enjoyed an excellent reputation, though a decline began during the Industrial Revolution with the move away from the land and increasing urbanisation of the populace. The cuisine of England has, however, recently undergone a revival, which has been recognised by the food critics with some good ratings in Restaurants best restaurant in the world charts.  An early book of English recipes is the Forme of Cury from the royal court of Richard II. \\n\\nTraditional examples of English food include the Sunday roast, featuring a roasted joint (usually beef, lamb, chicken or pork) served with assorted vegetables, Yorkshire pudding, and gravy. Other prominent meals include fish and chips and the full English breakfast (generally consisting of bacon, sausages, grilled tomatoes, fried bread, black pudding, baked beans, mushrooms, and eggs).  Various meat pies are consumed such as steak and kidney pie, steak and ale pie, cottage pie, pork pie (the latter usually eaten cold)  and the Cornish Pasty.\\n\\nSausages are commonly eaten, either as bangers and mash or toad in the hole. Lancashire hotpot is a well known stew in the northwest. Some of the more popular cheeses are Cheddar, Red Leicester and Wensleydale together with Blue Stilton. Many Anglo-Indian hybrid dishes, curries, have been created such as chicken tikka masala and balti. Traditional English dessert dishes include apple pie or other fruit pies; spotted dick – all generally served with custard; and, more recently, sticky toffee pudding. Sweet pastries include scones (either plain or containing dried fruit) served with jam and/or cream, dried fruit loaves, Eccles cakes and mince pies as well as a wide range of sweet or spiced biscuits. Common drinks include tea, whose popularity was increased by Catherine of Braganza,  whilst frequently consumed alcoholic drinks include wines, ciders and English beers, such as bitter, mild, stout, and brown ale. \\n\\nVisual arts\\n\\nThe earliest known examples are the prehistoric rock and cave art pieces, most prominent in North Yorkshire, Northumberland and Cumbria, but also feature further south, for example at Creswell Crags.  With the arrival of Roman culture in the 1st century, various forms of art utilising statues, busts, glasswork and mosaics were the norm. There are numerous surviving artefacts, such as those at Lullingstone and Aldborough.  During the Early Middle Ages the style favoured sculpted crosses and ivories, manuscript painting, gold and enamel jewellery, demonstrating a love of intricate, interwoven designs such as in the Staffordshire Hoard discovered in 2009. Some of these blended Gaelic and Anglian styles, such as the Lindisfarne Gospels and Vespasian Psalter.  Later Gothic art was popular at Winchester and Canterbury, examples survive such as Benedictional of St. Æthelwold and Luttrell Psalter.\\n\\nThe Tudor era saw prominent artists as part of their court, portrait painting which would remain an enduring part of English art, was boosted by German Hans Holbein, natives such as Nicholas Hilliard built on this.  Under the Stuarts, Continental artists were influential especially the Flemish, examples from the period include—Anthony van Dyck, Peter Lely, Godfrey Kneller and William Dobson. The 18th century was a time of significance with the founding of the Royal Academy, a classicism based on the High Renaissance prevailed—Thomas Gainsborough and Joshua Reynolds became two of England\\'s most treasured artists.\\n\\nThe Norwich School continued the landscape tradition, while the Pre-Raphaelite Brotherhood with their vivid and detailed style revived the Early Renaissance style—Holman Hunt, Dante Gabriel Rossetti and John Everett Millais were leaders. Prominent amongst 20th-century artists was Henry Moore, regarded as the voice of British sculpture, and of British modernism in general.  Contemporary painters include Lucian Freud, whose work Benefits Supervisor Sleeping in 2008 set a world record for sale value of a painting by a living artist. \\n\\nLiterature, poetry and philosophy\\n\\nEarly authors such as Bede and Alcuin wrote in Latin.  The period of Old English literature provided the epic poem Beowulf and the secular prose of the Anglo-Saxon Chronicle,  along with Christian writings such as Judith, Cædmon\\'s Hymn and hagiographies. Following the Norman conquest Latin continued amongst the educated classes, as well as an Anglo-Norman literature.\\n\\nMiddle English literature emerged with Geoffrey Chaucer, author of The Canterbury Tales, along with Gower, the Pearl Poet and Langland. William of Ockham and Roger Bacon, who were Franciscans, were major philosophers of the Middle Ages. Julian of Norwich, who wrote Revelations of Divine Love, was a prominent Christian mystic. With the English Renaissance literature in the Early Modern English style appeared. William Shakespeare, whose works include Hamlet, Romeo and Juliet, Macbeth, and A Midsummer Night\\'s Dream, remains one of the most championed authors in English literature. \\n\\nChristopher Marlowe, Edmund Spenser, Philip Sydney, Thomas Kyd, John Donne, and Ben Jonson are other established authors of the Elizabethan age.  Francis Bacon and Thomas Hobbes wrote on empiricism and materialism, including scientific method and social contract. Filmer wrote on the Divine Right of Kings. Marvell was the best-known poet of the Commonwealth,  while John Milton authored Paradise Lost during the Restoration.\\n\\nSome of the most prominent philosophers of the Enlightenment were John Locke, Thomas Paine, Samuel Johnson and Jeremy Bentham. More radical elements were later countered by Edmund Burke who is regarded as the founder of conservatism.  The poet Alexander Pope with his satirical verse became well regarded. The English played a significant role in romanticism: Samuel Taylor Coleridge, Lord Byron, John Keats, Mary Shelley, Percy Bysshe Shelley, William Blake and William Wordsworth were major figures. \\n\\nIn response to the Industrial Revolution, agrarian writers sought a way between liberty and tradition; William Cobbett, G. K. Chesterton and Hilaire Belloc were main exponents, while the founder of guild socialism, Arthur Penty, and cooperative movement advocate G. D. H. Cole are somewhat related.  Empiricism continued through John Stuart Mill and Bertrand Russell, while Bernard Williams was involved in analytics. Authors from around the Victorian era include Charles Dickens, the Brontë sisters, Jane Austen, George Eliot, Rudyard Kipling, Thomas Hardy, H. G. Wells and Lewis Carroll.  Since then England has continued to produce novelists such as George Orwell, D. H. Lawrence, Virginia Woolf, C. S. Lewis, Enid Blyton, Aldous Huxley, Agatha Christie, Terry Pratchett, J. R. R. Tolkien, and J. K. Rowling. \\n\\nPerforming arts\\n\\nThe traditional folk music of England is centuries old and has contributed to several genres prominently; mostly sea shanties, jigs, hornpipes and dance music. It has its own distinct variations and regional peculiarities. Wynkyn de Worde printed ballads of Robin Hood from the 16th century are an important artefact, as are John Playford\\'s The Dancing Master and Robert Harley\\'s Roxburghe Ballads collections.  Some of the best-known songs are Greensleeves, Pastime with Good Company, Maggie May and Spanish Ladies amongst others. Many nursery rhymes are of English origin such as Twinkle Twinkle Little Star, Roses are red, Jack and Jill, London Bridge Is Falling Down, The Grand Old Duke of York, Hey Diddle Diddle and Humpty Dumpty.  Traditional English Christmas carols include \"We Wish You a Merry Christmas\", \"The First Noel\" and \"God Rest You Merry, Gentlemen\". \\n\\nEarly English composers in classical music include Renaissance artists Thomas Tallis and William Byrd, followed up by Henry Purcell from the Baroque period. German-born George Frideric Handel became a British subject  and spent most of his composing life in London, creating some of the most well-known works of classical music, The Messiah, Water Music, and Music for the Royal Fireworks. One of his four Coronation Anthems, Zadok the Priest, composed for the coronation of George II, has been performed at every subsequent British coronation, traditionally during the sovereign\\'s anointing. There was a revival in the profile of composers from England in the 20th century led by Edward Elgar, Benjamin Britten, Frederick Delius, Gustav Holst, Ralph Vaughan Williams and others.  Present-day composers from England include Michael Nyman, best known for The Piano, and Andrew Lloyd Webber, whose musicals have achieved enormous success in the West End and worldwide. \\n\\nIn the field of popular music, many English bands and solo artists have been cited as the most influential and best-selling musicians of all time. Acts such as The Beatles, Led Zeppelin, Pink Floyd, Elton John, Queen, Rod Stewart and The Rolling Stones are among the highest selling recording artists in the world.  Many musical genres have origins in (or strong associations with) England, such as British invasion, progressive rock, hard rock, Mod, glam rock, heavy metal, Britpop, indie rock, gothic rock, shoegazing, acid house, garage, trip hop, drum and bass and dubstep. \\n\\nLarge outdoor music festivals in the summer and autumn are popular, such as Glastonbury, V Festival, and the Reading and Leeds Festivals. The most prominent opera house in England is the Royal Opera House at Covent Garden.  The Proms – a season of orchestral classical concerts held at the Royal Albert Hall in London – is a major cultural event in the English calendar, and takes place yearly. The Royal Ballet is one of the world\\'s foremost classical ballet companies, its reputation built on two prominent figures of 20th-century dance, prima ballerina Margot Fonteyn and choreographer Frederick Ashton.\\n\\nCinema\\n\\nEngland (and the UK as a whole) has had a considerable influence on the history of the cinema, producing some of the greatest actors, directors and motion pictures of all time, including Alfred Hitchcock, Charlie Chaplin, David Lean, Laurence Olivier, Vivien Leigh, John Gielgud, Peter Sellers, Julie Andrews, Michael Caine, Gary Oldman, Helen Mirren, Kate Winslet and Daniel Day-Lewis. Hitchcock and Lean are among the most critically acclaimed of all-time.  Hitchcock\\'s first thriller, The Lodger: A Story of the London Fog (1926), helped shape the thriller genre in film, while his 1929 film, Blackmail, is often regarded as the first British sound feature film. \\n\\nMajor film studios in England include Pinewood, Elstree and Shepperton. Some of the most commercially successful films of all time have been produced in England, including two of the highest-grossing film franchises (Harry Potter and James Bond).  Ealing Studios in London has a claim to being the oldest continuously working film studio in the world.  Famous for recording many motion picture film scores, the London Symphony Orchestra first performed film music in 1935. \\n\\nThe BFI Top 100 British films includes Monty Python\\'s Life of Brian (1979), a film regularly voted the funniest of all time by the UK public.  English producers are also active in international co-productions and English actors, directors and crew feature regularly in American films. The UK film council ranked David Yates, Christopher Nolan, Mike Newell, Ridley Scott and Paul Greengrass the five most commercially successful English directors since 2001.  Other contemporary English directors include Sam Mendes, Guy Ritchie and Steve McQueen. Current actors include Tom Hardy, Daniel Craig, Benedict Cumberbatch and Emma Watson. Acclaimed for his motion capture work, Andy Serkis opened The Imaginarium Studios in London in 2011.  The visual effects company Framestore in London has produced some of the most critically acclaimed special effects in modern film.  Many successful Hollywood films have been based on English people, stories or events. The \\'English Cycle\\' of Disney animated films include Alice in Wonderland, The Jungle Book and Winnie the Pooh. \\n\\nMuseums, libraries, and galleries\\n\\nEnglish Heritage is a governmental body with a broad remit of managing the historic sites, artefacts and environments of England. It is currently sponsored by the Department for Culture, Media and Sport. The charity National Trust for Places of Historic Interest or Natural Beauty holds a contrasting role. 17 of the 25 United Kingdom UNESCO World Heritage Sites fall within England.  Some of the best-known of these are: Hadrian\\'s Wall, Stonehenge, Avebury and Associated Sites, Tower of London, Jurassic Coast, Saltaire, Ironbridge Gorge, Studley Royal Park and various others. \\n\\nThere are many museums in England, but perhaps the most notable is London\\'s British Museum. Its collection of more than seven million objects  is one of the largest and most comprehensive in the world,  sourced from every continent, illustrating and documenting the story of human culture from its beginning to the present. The British Library in London is the national library and is one of the world\\'s largest research libraries, holding over 150\\xa0million items in all known languages and formats; including around 25\\xa0million books.  The most senior art gallery is the National Gallery in Trafalgar Square, which houses a collection of over 2,300 paintings dating from the mid-13th century to 1900.  The Tate galleries house the national collections of British and international modern art; they also host the famously controversial Turner Prize. \\n\\nSports\\n\\nEngland has a strong sporting heritage, and during the 19th century codified many sports that are now played around the world. Sports originating in England include association football, cricket, rugby union, rugby league, tennis, boxing, badminton, squash,  rounders,  hockey, snooker, billiards, darts, table tennis, bowls, netball, thoroughbred horseracing, greyhound racing and fox hunting. It has helped the development of golf, sailing and Formula One.\\n\\nFootball is the most popular of these sports. The England national football team, whose home venue is Wembley Stadium, played Scotland in the first ever international football match in 1872.  Referred to as the \"home of football\" by FIFA, England hosted the 1966 FIFA World Cup, and won the tournament by defeating West Germany 4–2 in the final, with Geoff Hurst scoring a hat-trick.  With a British television audience peak of 32.30\\xa0million viewers, the final is the most watched television event ever in the UK. \\n\\nAt club level England is recognised by FIFA as the birthplace of club football, due to Sheffield F.C. founded in 1857 being the world\\'s oldest club.  The Football Association is the oldest governing body in the sport, with the rules of football first drafted in 1863 by Ebenezer Cobb Morley.  The FA Cup and The Football League were the first cup and league competitions respectively. In the modern day the Premier League is the world\\'s most-watched football league,  most lucrative,  and amongst the elite. \\n\\nAs is the case throughout the UK, football in England is renowned for the intense rivalries between clubs and the passion of the supporters, which includes a tradition of football chants, such as, \"You\\'re Not Singing Any More\" (or its variant \"We Can See You Sneaking Out!\"), sung by jubilant fans towards the opposition fans who have gone silent (or left early).  The European Cup (now UEFA Champions League) has been won by Liverpool, Manchester United, Nottingham Forest, Aston Villa and Chelsea, while Arsenal, and Leeds United have reached the final.  Other English clubs have enjoyed success, Tottenham Hotspur, Ipswich Town, Chelsea, and Liverpool have won the UEFA Cup, renamed UEFA Europa League.\\n\\nCricket is generally thought to have been developed in the early medieval period among the farming and metalworking communities of the Weald.  The England cricket team is a composite England and Wales team. One of the game\\'s top rivalries is The Ashes series between England and Australia, contested since 1882. The climax of the 2005 Ashes was viewed by 7.4\\xa0million as it was available on terrestrial television.  England has hosted four Cricket World Cups (1975, 1979, 1983, 1999) and will host the 2019 edition, but never won the tournament, reaching the final 3 times. However they have hosted the ICC World Twenty20 in 2009, winning this format in 2010 beating rivals Australia in the final. In the domestic competition, the County Championship, Yorkshire are by far the most successful club having won the competition 31\\xa0times.  Lord\\'s Cricket Ground situated in London is sometimes referred to as the \"Mecca of Cricket\". \\n\\nWilliam Penny Brookes was prominent in organising the format for the modern Olympic Games. In 1994, then President of the IOC, Juan Antonio Samaranch, laid a wreath on Brooke\\'s grave, and said, \"I came to pay homage and tribute to Dr Brookes, who really was the founder of the modern Olympic Games\".  London has hosted the Summer Olympic Games three times, in 1908, 1948, and 2012. England competes in the Commonwealth Games, held every four years. Sport England is the governing body responsible for distributing funds and providing strategic guidance for sporting activity in England.\\n\\nRugby union originated in Rugby School, Warwickshire in the early 19th century.  The England rugby union team won the 2003 Rugby World Cup, the country was one of the host nations of the competition in the 1991 Rugby World Cup and is set to host the 2015 Rugby World Cup.  The top level of club participation is the English Premiership. Leicester Tigers, London Wasps, Bath Rugby and Northampton Saints have had success in the Europe-wide Heineken Cup.\\n\\nRugby league was born in Huddersfield in 1895. Since 2008, the England national rugby league team has been a full test nation in lieu of the Great Britain national rugby league team, which won three World Cups but is now retired. Club sides play in Super League, the present-day embodiment of the Rugby Football League Championship. Rugby League is most popular among towns in the northern English counties of Lancashire, Yorkshire and Cumbria.  All eleven English clubs in Super League are based in the north of England. Some of the most successful clubs include Wigan Warriors, St Helens, Leeds Rhinos and Huddersfield Giants; the former three have all won the World Club Challenge previously.\\n\\nGolf has been prominent in England; due in part to its cultural and geographical ties to Scotland, the home of Golf.  There are both professional tours for men and women, in two main tours: the PGA and the European Tour. England has produced grand slam winners: Cyril Walker, Tony Jacklin, Nick Faldo, and Justin Rose in the men\\'s and Laura Davies, Alison Nicholas, and Karen Stupples in the women\\'s. The world\\'s oldest golf tournament, and golf\\'s first major, is The Open Championship, played both in England and Scotland. The biennial golf competition, the Ryder Cup, is named after English businessman Samuel Ryder who sponsored the event and donated the trophy.  Nick Faldo is the most successful Ryder Cup player ever, having won the most points (25) of any player on either the European or U.S. teams. \\n\\nTennis was created in Birmingham, England in the late 19th century, and the Wimbledon Championships is the oldest tennis tournament in the world, and widely considered the most prestigious.   Fred Perry was the last Englishman to win Wimbledon in 1936. He was the first player to win all four Grand Slam singles titles  and helped lead the Great Britain team to victory over France in the Davis Cup in 1933. English women who have won Wimbledon include: Ann Haydon Jones won in 1969 and Virginia Wade in 1977.\\n\\nIn boxing, under the Marquess of Queensberry Rules, England has produced many world champions across the weight divisions internationally recognised by the governing bodies. World champions include Bob Fitzsimmons, Ted \"Kid\" Lewis, Randolph Turpin, Nigel Benn, Chris Eubank, Frank Bruno, Lennox Lewis, Ricky Hatton, Naseem Hamed, Amir Khan, Carl Froch, and David Haye.  In women\\'s boxing, Nicola Adams became the world\\'s first woman to win an Olympic boxing Gold medal at the 2012 Summer Olympics.\\n\\nThe 1950 British Grand Prix at Silverstone was the first race in the newly created Formula One World Championship.  Since then, England has produced some of the greatest drivers in the sport, including; John Surtees, Stirling Moss, Graham Hill (only driver to have won the Triple Crown), Nigel Mansell (only man to hold F1 and IndyCar titles at the same time), Damon Hill, Lewis Hamilton and Jenson Button.  It has manufactured some of the most technically advanced racing cars, and many of today\\'s racing companies choose England as their base of operations for its engineering knowledge and organisation. McLaren Automotive, Williams F1, Team Lotus, Honda, Brawn GP, Benetton, Renault, and Red Bull Racing are all, or have been, located in the south of England. England also has a rich heritage in Grand Prix motorcycle racing, the premier championship of motorcycle road racing, and produced several World Champions across all the various class of motorcycle: Mike Hailwood, John Surtees, Phil Read, Geoff Duke, and Barry Sheene.\\n\\nDarts is a widely popular sport in England; a professional competitive sport, darts is a traditional pub game. The sport is governed by the World Darts Federation, one of its member organisations is the BDO, which annually stages the Lakeside World Professional Championship, the other being the Professional Darts Corporation (PDC), which runs its own world championship at Alexandra Palace in London. Phil Taylor is widely regarded as the best darts player of all time, having won 187 professional tournaments, and a record 16 World Championships.   Trina Gulliver is the ten-time Women\\'s World Professional Darts Champion of the British Darts Organisation. Another popular sport commonly associated with pub games is Snooker, and England has produced several world champions, including Steve Davis and Ronnie O\\'Sullivan.\\n\\nThe English are keen sailors and enjoy competitive sailing; founding and winning some of the worlds most famous and respected international competitive tournaments across the various race formats, including the match race, a regatta, and the America\\'s Cup. England has produced some of the world\\'s greatest sailors, including, Francis Chichester, Herbert Hasler, John Ridgway, Robin Knox-Johnston, Ellen MacArthur, Mike Golding, Paul Goodison, and the most successful Olympic sailor ever Ben Ainslie. \\n\\nNational symbols\\n\\nThe St George\\'s Cross has been the national flag of England since the 13th century. Originally the flag was used by the maritime Republic of Genoa. The English monarch paid a tribute to the Doge of Genoa from 1190 onwards, so that English ships could fly the flag as a means of protection when entering the Mediterranean.\\nA red cross was a symbol for many Crusaders in the 12th and 13th centuries. It became associated with Saint George, along with countries and cities, which claimed him as their patron saint and used his cross as a banner.  Since 1606 the St George\\'s Cross has formed part of the design of the Union Flag, a Pan-British flag designed by King James I.\\n\\nThere are numerous other symbols and symbolic artefacts, both official and unofficial, including the Tudor rose, the nation\\'s floral emblem, and the Three Lions featured on the Royal Arms of England. The Tudor rose was adopted as a national emblem of England around the time of the Wars of the Roses as a symbol of peace.  It is a syncretic symbol in that it merged the white rose of the Yorkists and the red rose of the Lancastrians—cadet branches of the Plantagenets who went to war over control of the nation. It is also known as the Rose of England.  The oak tree is a symbol of England, representing strength and endurance. The Royal Oak symbol and Oak Apple Day commemorate the escape of King Charles II from the grasp of the parliamentarians after his father\\'s execution: he hid in an oak tree to avoid detection before safely reaching exile.\\n\\nThe Royal Arms of England, a national coat of arms featuring three lions, originated with its adoption by Richard the Lionheart in 1198. It is blazoned as gules, three lions passant guardant or and it provides one of the most prominent symbols of England; it is similar to the traditional arms of Normandy. England does not have an official designated national anthem, as the United Kingdom as a whole has God Save the Queen. However, the following are often considered unofficial English national anthems:\\nJerusalem, Land of Hope and Glory (used for England during the 2002 Commonwealth Games),  and I Vow to Thee, My Country. England\\'s National Day is 23 April which is St George\\'s Day: St George is the patron saint of England.',\n",
       "   'Dame Judith Olivia \"Judi\" Dench,  (born 9 December 1934)  is an English actress and author.  Dench made her professional debut in 1957 with the Old Vic Company. Over the following few years she performed in several of Shakespeare\\'s plays in such roles as Ophelia in Hamlet, Juliet in Romeo and Juliet and Lady Macbeth in Macbeth. Although most of her work during this period was in theatre, she also branched into film work, and won a BAFTA Award as Most Promising Newcomer. She drew strong reviews for her leading role in the musical Cabaret in 1968.\\n\\nOver the next two decades, Dench established herself as one of the most significant British theatre performers, working for the National Theatre Company and the Royal Shakespeare Company. She achieved success in television during this period, in the series A Fine Romance from 1981 until 1984, and in 1992 with a starring role in the romantic comedy series As Time Goes By. Her film appearances were infrequent and included supporting roles in major films such as A Room with a View (1986) supporting Maggie Smith, before she rose to international fame as M in GoldenEye (1995), a role she continued to play in James Bond films until Spectre (2015). She received her first Oscar nomination for Best Actress for her role as Queen Victoria in Mrs Brown (1997) and the following year won the Academy Award for Best Supporting Actress for Shakespeare in Love. A seven-time Oscar nominee, she has also received nominations for her roles in Chocolat (2000), Iris (2001), Mrs Henderson Presents (2005), Notes on a Scandal (2006), and Philomena (2013).\\n\\nDench has received many award nominations for her acting in theatre, film and television; her competitive awards include six British Academy Film Awards, four BAFTA TV Awards, seven Olivier Awards, two Screen Actors Guild Awards, two Golden Globes, an Academy Award, and a Tony Award. She has also received the BAFTA Fellowship (2001) and the Special Olivier Award (2004). In June 2011, she received a fellowship from the British Film Institute (BFI).  Dench is also a Fellow of the Royal Society of Arts (FRSA).\\n\\nEarly life\\n\\nDench was born in Heworth, North Riding of Yorkshire. Her mother, Eleanora Olive (née Jones), was born in Dublin. Her father, Reginald Arthur Dench, a doctor, was born in Dorset, and later moved to Dublin, where he was raised.   He met Dench\\'s mother while he was studying medicine at Trinity College, Dublin.  \\n\\nDench attended The Mount School, a Quaker independent secondary school in York, and became a Quaker.   Her brothers, one of whom was actor Jeffery Dench, were born in Tyldesley, Lancashire. Her niece, Emma Dench, is a Roman historian and professor previously at Birkbeck, University of London, and currently at Harvard University. \\n\\nCareer\\n\\nIn Britain, Dench has developed a reputation as one of the greatest actresses of the post-war period, primarily through her work in theatre, which has been her forte throughout her career. She has more than once been named number one in polls for Britain\\'s best actor.\\n\\nEarly years\\n\\nThrough her parents, Dench had regular contact with the theatre. Her father, a physician, was also the GP for the York theatre, and her mother was its wardrobe mistress.  Actors often stayed in the Dench household. During these years, Judi Dench was involved on a non-professional basis in the first three productions of the modern revival of the York Mystery Plays in the 1950s. In 1957, in one of the last productions in which she appeared during this period, she played the role of the Virgin Mary, performed on a fixed stage in the Museum Gardens. Though she initially trained as a set designer, she became interested in drama school as her brother Jeff attended the Central School of Speech and Drama. She applied and was accepted, where she was a classmate of Vanessa Redgrave, graduating with a first class degree in drama and four acting prizes, one being the Gold Medal as Outstanding Student.\\n\\nIn September 1957, she made her first professional stage appearance with the Old Vic Company, at the Royal Court Theatre, Liverpool, as Ophelia in Hamlet.  A recent history of Britain in the years 1957-1962, one volume in a series, cites a contemporaneous review of her performance:  \"has talent which will be shown to better advantage when she acquires some technique to go with it.\" Dench then made her London debut in the same production at the Old Vic. She remained a member of the company for four seasons, 1957–1961, her roles including Katherine in Henry V in 1958 (which was also her New York debut), and as directed and designed by Franco Zeffirelli.tr During this period, she toured the United States and Canada, and appeared in Yugoslavia and at the Edinburgh Festival. She joined the Royal Shakespeare Company in December 1961 playing Anya in The Cherry Orchard at the Aldwych Theatre in London, and made her Stratford-upon-Avon debut in April 1962 as Isabella in Measure for Measure. She subsequently spent seasons in repertory both with the Playhouse in Nottingham from January 1963 (including a West African tour as Lady Macbeth for the British Council), and with the Playhouse Company in Oxford from April 1964. That same year, she made her film debut in The Third Secret.\\n\\nProminence\\n\\nThe 1966 BAFTA Award for Most Promising Newcomer to Leading Film Roles was made to Dench for her performance in Four in the Morning and this was followed in 1968 by a BAFTA Television Best Actress Award for her role in John Hopkins\\' 1966 BBC drama Talking to a Stranger.\\n\\nIn 1968, she was offered the role of Sally Bowles in the musical Cabaret. As Sheridan Morley later reported: \"At first she thought they were joking. She had never done a musical and she has an unusual croaky voice which sounds as if she has a permanent cold. So frightened was she of singing in public that she auditioned from the wings, leaving the pianists alone on stage\".  But when it opened at the Palace Theatre in February 1968, Frank Marcus, reviewing for Plays and Players, commented that: \"She sings well. The title song in particular is projected with great feeling.\"\\n\\nAfter a long run in Cabaret, she rejoined the RSC making numerous appearances with the company in Stratford and London for nearly twenty years, winning several \"best actress\" awards. Among her roles with the RSC, she was the Duchess in John Webster\\'s The Duchess of Malfi in 1971. In the Stratford 1976 season, and then at the Aldwych in 1977, she gave two comedy performances, first in Trevor Nunn\\'s musical staging of The Comedy of Errors as Adriana, then partnered with Donald Sinden as Beatrice and Benedick in John Barton\\'s \"British Raj\" revival of Much Ado About Nothing. As Bernard Levin wrote in The Sunday Times: \"...demonstrating once more that she is a comic actress of consummate skill, perhaps the very best we have.\"  One of her most notable achievements with the RSC was her performance as Lady Macbeth in 1976. Nunn\\'s acclaimed production of Macbeth was first staged with a minimalist design at The Other Place theatre in Stratford. Its small round stage focused attention on the psychological dynamics of the characters, and both Ian McKellen in the title role, and Dench, received exceptionally favourable notices. \"If this is not great acting I don\\'t know what is\", wrote Michael Billington in The Guardian. \"It will astonish me if the performance is matched by any in this actress\\'s generation\", commented J C Trewin in The Lady. The production transferred to London, opening at the Donmar Warehouse in September 1977, and was adapted for television, later released on VHS and DVD. Dench won the SWET Best Actress Award in 1977.\\n\\nDench was nominated for a BAFTA for her role as Hazel Wiles in the 1979 BBC drama On Giant\\'s Shoulders.  In 1989, she was cast as Pru Forrest, the long-time silent wife of Tom Forrest, in the BBC soap opera The Archers on its 10,000th edition.  She had a romantic role in the BBC television film Langrishe, Go Down (1978), with Jeremy Irons and a screenplay by Harold Pinter from the Aidan Higgins novel, directed by David Jones, in which she played one of three spinster sisters living in a fading Irish mansion in the Waterford countryside. Dench made her debut as a director in 1988 with the Renaissance Theatre Company\\'s touring season, Renaissance Shakespeare on the Road, co-produced with the Birmingham Rep, and ending with a three-month repertory programme at the Phoenix Theatre in London. Dench\\'s contribution was a staging of Much Ado About Nothing, set in the Napoleonic era, which starred Kenneth Branagh and Emma Thompson as Benedick and Beatrice. She has made numerous appearances in the West End including the role of Miss Trant in the 1974 musical version of The Good Companions at Her Majesty\\'s Theatre. In 1981, Dench was due to play Grizabella in the original production of Cats, but was forced to pull out due to a torn Achilles tendon, leaving Elaine Paige to play the role.  She has acted with the National Theatre in London where, she played an unforgettable Cleopatra in Antony and Cleopatra (1987).  In September 1995, she played Desiree Armfeldt in a major revival of Stephen Sondheim\\'s A Little Night Music, for which she won an Olivier Award.\\n\\nPopular success\\n\\nAfter the long period between James Bond films Licence to Kill (1989) and GoldenEye (1995), the producers brought in Dench to take over as the role of M, James Bond\\'s boss. The character was reportedly modeled on Dame Stella Rimington, the real-life head of MI5 between 1992 and 1996,; Dench became the first woman to portray M, succeeding Robert Brown.   The seventeenth spy film in the series and the first to star Pierce Brosnan as the fictional MI6 officer, GoldenEye marked the first Bond film made after the dissolution of the Soviet Union and the end of the Cold War, which provided the plot\\'s back story. The film earned a worldwide gross of US$350.7 million,  with critics viewing the film as a modernisation of the series.  \\n\\nIn 1997, Dench appeared in her first starring film role as Queen Victoria in John Madden\\'s teleplay Mrs Brown which depicts Victoria\\'s relationship with her personal servant and favourite John Brown, played by Billy Connolly. Filmed with the intention of being shown on BBC One and on WGBH\\'s Masterpiece Theatre, it was eventually acquired by Miramax mogul Harvey Weinstein, who felt the drama film should receive a theatrical release after seeing it and took it from the BBC to US cinemas.  Released to generally positive reviews and unexpected commercial success, going on to earn more than $13 million worldwide,  the film was screened in the Un Certain Regard section at the 1997 Cannes Film Festival.  For her performance, Dench garnered universal acclaim by critics and was awarded her fourth BAFTA and first Best Actress nomination at the 70th Academy Awards. In 2011, while accepting a British Film Institute Award in London, Dench commented that the project launched her Hollywood career and joked that \"it was thanks to Harvey, whose name I have had tattooed on my bum ever since.\"\\n\\nDench\\'s other film of 1997 was Roger Spottiswoode\\'s Tomorrow Never Dies, her second film in the James Bond series. The spy film follows Bond, played by Brosnan, as he tries to stop a media mogul from engineering world events and starting World War III. Shot in France, Thailand, Germany, the United Kingdom, Vietnam and the South China Sea,  it performed well at the box office and earned a Golden Globe nomination despite mixed reviews.  The same year, Dench reteamed with director John Madden to film Shakespeare in Love (1998), a romantic comedy-drama that depicts a love affair involving playwright William Shakespeare, played by Joseph Fiennes, while he was writing the play Romeo and Juliet. On her performance as Queen Elizabeth I, The New York Times commented that \"Dench\\'s shrewd, daunting Elizabeth is one of the film\\'s utmost treats.\"  The following year, she was nominated for most of the high-profile awards, winning both the Academy Award and the BAFTA Award for Best Actress in a Supporting Role. On her Oscar win, Dench joked on-stage, \"I feel for eight minutes on the screen I should only get a little bit of him.\" \\n\\nAlso in 1999, Dench won the Tony Award for her 1999 Broadway performance in the role of Esme Allen in Sir David Hare\\'s Amy\\'s View. The same year, she co-starred along with Cher, Joan Plowright, Maggie Smith, and Lily Tomlin in Franco Zeffirelli\\'s semi-autobiographical period drama Tea with Mussolini which tells the story of young Italian boy Luca\\'s upbringing by a circle of British and American women, before and during World War II. 1999 also saw the release of Pierce Brosnan\\'s third Bond film, The World is Not Enough. This film portrayed M in a larger role with the main villain, Renard, coming back to haunt her when he engineers the murder of her old friend Sir Robert King and seemingly attempts to kill his daughter Electra.\\n\\n2001–2005\\n\\nIn January 2001, Dench\\'s husband Michael Williams died from lung cancer. Dench went to Nova Scotia, Canada, almost immediately after Williams\\'s funeral to begin production on Lasse Hallström\\'s drama film The Shipping News, a therapy she later credited as her rescue: \"People, friends, kept saying, \\'You are not facing up to it; you need to face up to it,\\' and maybe they were right, but I felt I was\\xa0– in the acting. Grief supplies you with an enormous amount of energy. I needed to use that up.\"  In between, Dench finished work on Richard Eyre\\'s film Iris (2001), in which she portrayed novelist Iris Murdoch. Dench shared her role with Kate Winslet, both actresses portraying Murdoch at different phases of her life.  Each of them was nominated for an Academy Award the following year, earning Dench her fourth nomination within five years. In addition, she was awarded both an ALFS Award and the Best Leading Actress Award at the 55th British Academy Film Awards.\\n\\nFollowing Iris, Dench immediately returned to Canada to finish The Shipping News alongside Kevin Spacey and Julianne Moore. Based on the Pulitzer Prize winning novel by E. Annie Proulx, the drama revolves around a quiet and introspective typesetter (Spacey) who, after the death of his daughter\\'s mother, moves to Newfoundland along with his daughter and his aunt, played by Dench, in hopes of starting his life anew in the small town where she grew up. The film earned mixed reviews from critics,  and was financially unsuccessful, taking in just US$24 million worldwide with a budget of US$35 million.  Dench however, received BAFTA and SAG Award nominations for her performance.\\n\\nIn 2002, Dench was cast opposite Rupert Everett, Colin Firth and Reese Witherspoon in Oliver Parker\\'s The Importance of Being Earnest, a comedy about mistaken identity set in English high society during the Victorian Era. Based on Oscar Wilde\\'s classic comedy of manners of the same name, she portrayed Lady Bracknell, a role she had repeatedly played before, including a stint at the Royal National Theatre in 1982.  The film was released to lukewarm reactions by critics\\xa0– who called it \"breezy entertainment, helped by an impressive cast\", but felt that it also suffered \"from some peculiar directorial choices\"\\xa0– and earned just US$17.3 million during its limited release.  Dench\\'s other film of 2002 was Die Another Day, the twentieth installment in the James Bond series. The Lee Tamahori–directed spy film marked her fourth appearance as MI6 head M and the franchise\\'s last performance by Pierce Brosnan as Bond. Die Another Day received generally mixed reviews by critics who praised  Tamahori\\'s work on the film, but claimed the plot was damaged by excessive use of CGI.   Regardless, it became the highest-grossing James Bond film up to that time. \\n\\nIn 2004, Dench appeared as Aereon, an ambassador of the Elemental race who helps uncover the mysterious past of Richard B. Riddick, played by Vin Diesel, in David Twohy\\'s science fiction sequel, The Chronicles of Riddick. Selected by Diesel, who prompted writers to re-create the character to fit a female persona because he wanted to work with the actress,  she called filming \"tremendous fun\", although she \"had absolutely no idea what was going on in the plot.\"  The film was a critical and box office failure.  In his review of the film, James Berardinelli from ReelViews remarked that he felt that Dench\\'s character served no more \"useful purpose than to give [her] an opportunity to appear in a science fiction movie.\" \\n\\nShe followed Riddick with a more traditional role in Charles Dance\\'s English drama Ladies in Lavender, also starring friend Maggie Smith. In the film, Dench plays one half of a sister duo and takes it upon herself to nurse a washed up stranger to health, eventually finding herself falling for a man many decades younger than she. The specialty release garnered positive reviews from critics, with Roger Ebert of the Chicago Sun-Times calling it \"perfectly sweet and civilized [and] a pleasure to watch Smith and Dench together; their acting is so natural it could be breathing.\"  Also in 2004, Dench provided her voice for several smaller projects. In Walt Disney\\'s Home on the Range, she, along with Roseanne Barr and Jennifer Tilly, voiced a mismatched trio of dairy cows who must capture an infamous cattle rustler, for his bounty, in order to save their idyllic farm from foreclosure. The film was mildly successful for Disney. \\n\\nA major hit for Dench came with Joe Wright\\'s Pride & Prejudice, a 2005 adaptation of the novel by Jane Austen, starring Keira Knightley and Donald Sutherland. Wright persuaded Dench to join the cast as Lady Catherine de Bourgh by writing her a letter that read \"I love it when you play a bitch. Please come and be a bitch for me.\"  Dench had only one week available to shoot her scenes, forcing Wright to make them his first days of filming. With both a worldwide gross of over US$121 million and several Academy Award and Golden Globe nominations, the film became a critical and commercial success. \\n\\n2006–2010\\n\\nDench, in her role as \"M\", was the only cast member carried through from the Brosnan films to appear in Casino Royale (2006), Martin Campbell\\'s reboot of the James Bond film series, starring Daniel Craig in his debut performance as the fictional MI6 agent. The thriller received largely positive critical response, with reviewers highlighting Craig\\'s performance and the reinvention of the character of Bond.  It earned over US$594\\xa0million worldwide, ranking it among the highest-grossing James Bond films ever released.\\n\\nIn April 2006, Dench returned to the West End stage in Hay Fever alongside Peter Bowles, Belinda Lang and Kim Medcalf. She finished off 2006 with the role of Mistress Quickly in the RSC\\'s new musical The Merry Wives, a version of The Merry Wives of Windsor.\\n\\nDench appeared opposite Cate Blanchett as a London teacher with a dedicated fondness for vulnerable women in Richard Eyre\\'s 2006 drama film Notes on a Scandal, an adaption from the 2003 novel of the same name by Zoë Heller. A fan of Heller\\'s book, Dench \"was thrilled to be asked to\\xa0... play that woman, to try to find a humanity in that dreadful person.\" The specialty film opened to generally positive reviews and commercial success, grossing US$50 million worldwide,  exceeding its £15\\xa0million budget.  In his review for Chicago Sun-Times film critic Roger Ebert declared the main actresses \"perhaps the most impressive acting duo in any film of 2006. Dench and Blanchett are magnificent.\"  The following year, Dench earned her sixth Academy nomination and went on to win a BIFA Award and an Evening Standard Award.\\n\\nDench, as Miss Matty Jenkyns, co-starred with Eileen Atkins, Michael Gambon, Imelda Staunton and Francesca Annis in the BBC One five-part series Cranford. The first season of the series began transmission in November 2007.\\n\\nDench became the voice for the narration for the updated Walt Disney World Epcot attraction Spaceship Earth in February 2008.  The same month, she was named as the first official patron of the York Youth Mysteries 2008, a project to allow young people to explore the York Mystery Plays through dance, film-making and circus.  Her only film of 2008 was Marc Forster\\'s Quantum of Solace, the twenty-second Eon-produced James Bond film, in which she reprised her role as M along with Daniel Craig. A direct sequel to the 2006 film Casino Royale, Forster felt Dench was underused in the previous films, and wanted to make her part bigger, having her interact with Bond more.  The project gathered generally mixed reviews by critics, who mainly felt that Quantum of Solace was not as impressive as the predecessor Casino Royale,  but became another hit for the franchise with a worldwide gross of US$591 million.  For her performance, Dench was nominated for a Saturn Award the following year. \\n\\nDench returned to the West End in mid-2009, playing Madame de Montreuil in Yukio Mishima\\'s play Madame de Sade, directed by Michael Grandage as part of the Donmar season at Wyndham\\'s Theatre.  The same year, she appeared in Sally Potter\\'s experimental film Rage, a project that featured 14 actors playing fictional figures in and around the fashion world, giving monologues before a plain backdrop.  Attracted to the fact that it was unlike anything she had done before, Dench welcomed the opportunity to work with Potter. \"I like to do something that\\'s not expected, or predictable. I had to learn to smoke a joint, and I set my trousers alight,\" she said about filming. Her next film was Rob Marshall\\'s musical film Nine, based on Arthur Kopit\\'s book for the 1982 musical of the same name, itself suggested by Federico Fellini\\'s semi-autobiographical film 8½.  Also starring Daniel Day-Lewis, Marion Cotillard, Penélope Cruz, and Sophia Loren, she played Lilli La Fleur, an eccentric but motherly French costume designer, who performs the song \"Folies Bergères\" in the film. Despite mixed to negative reviews, Nine was nominated for four Academy Awards,  and awarded both the Satellite Award for Best Film and Best Cast.\\n\\nAlso in 2009, Dench reprised the role of Matilda Jenkyns in Return to Cranford, the two-part second season of a Simon Curtis television series. Critically acclaimed, Dench was nominated for a Golden Globe Award, a Primetime Emmy Award, and a Satellite Award. In 2010, she renewed her collaboration with Peter Hall at the Rose Theatre in Kingston upon Thames in A Midsummer Night\\'s Dream, which opened in February 2010; she played Titania as Queen Elizabeth I in her later years\\xa0– almost 50 years after she first played the role for the Royal Shakespeare Company.  In July 2010, Dench performed \"Send in the Clowns\" at a special celebratory promenade concert from the Royal Albert Hall as part of the proms season, in honour of composer Stephen Sondheim\\'s 80th birthday.  \\n\\n2011–present\\n\\nIn 2011, Dench starred in Jane Eyre, My Week with Marilyn and J. Edgar. In Cary Joji Fukunaga\\'s period drama Jane Eyre, based on the 1847 novel of the same name by Charlotte Brontë, she played the role of Alice Fairfax, housekeeper to Rochester, the aloof and brooding master of Thornfield Hall, where main character Jane, played by Mia Wasikowska, gets employed as a governess.  Dench reportedly signed to the project after she had received a humorous personal note from Fukunaga, in which he \"promised her that she\\'d be the sexiest woman on set if she did the film.\"  Acclaimed among critics,  it was a mediocre arthouse success at the box office, grossing US$30.5 million worldwide. \\n\\nIn Simon Curtis\\' My Week with Marilyn, which depicts the making of the 1957 film The Prince and the Showgirl starring Marilyn Monroe and Laurence Olivier, Dench played actress Sybil Thorndike. The film garnered largely positive reviews,  and earned Dench a Best Actress in a Supporting Role nomination at the 65th BAFTA Awards. \\n\\nDench\\'s last film of 2011 was Clint Eastwood\\'s J. Edgar, a biographical drama film about the career of FBI director J. Edgar Hoover, played by Leonardo DiCaprio, from the Palmer Raids onwards, including an examination of his private life as a closeted homosexual.  Hand-picked by Eastwood to play Anna Marie Hoover, Hoover\\'s mother, Dench initially thought a friend was setting her up upon receiving Eastwood\\'s phone call request. \"I didn\\'t take it seriously to start with. And then I realised it was really him and that was a tricky conversation,\" she stated.  Released to mixed reception, both with critics and commercially, the film went on to gross US$79 million worldwide.  The same year, Dench reunited with Rob Marshall and Johnny Depp for a cameo appearance in Pirates of the Caribbean: On Stranger Tides, playing a noblewoman who is robbed by Captain Jack Sparrow, played by Depp. She made a second cameo that year in Ray Cooney\\'s Run for Your Wife. \\n\\nIn 2011, Dench reunited with director John Madden on the set of the comedy-drama The Best Exotic Marigold Hotel (2012), starring an ensemble cast also consisting of Celia Imrie, Bill Nighy, Ronald Pickup, Maggie Smith, Tom Wilkinson and Penelope Wilton, as a group of British pensioners moving to a retirement hotel in India, run by the young and eager Sonny (Dev Patel). Released to positive reviews by critics,  who declared the film a \"sweet story about the senior set featuring a top-notch cast of veteran actors,\" it became a surprise box-office hit following its international release, eventually grossing $US134 million worldwide, mostly from its domestic run.  Best Exotic Marigold Hotel was ranked among the highest-grossing specialty releases of the year,  and Dench, who Peter Travers from Rolling Stone called \"resilient marvel\",  garnered a Best Actress nod at both the British Independent Film Awards and Golden Globe Awards. \\n\\nAlso in 2012, Friend Request Pending, an indie short film which Dench had filmed in 2011, received a wide release as part of the feature films Stars in Shorts and The Joy of Six. In the 12-minute comedy, directed by My Week with Marilyn assistant director Chris Foggin on a budget of just £5,000, she portrays a pensioner grappling with a crush on her church choirmaster and the art of cyber-flirting via social networking.  Dench made her seventh and final appearance as M in the twenty-third James Bond film, Skyfall (2012), directed by Sam Mendes.  In the film, Bond investigates an attack on MI6; it transpires that it is part of an attack on M by former MI6 operative, Raoul Silva (played by Javier Bardem) to humiliate, discredit and kill M as revenge against her for betraying him. Dench\\'s position as M was subsequently filled by Ralph Fiennes\\' character. Coinciding with the 50th anniversary of the James Bond series, Skyfall was positively received by critics and at the box office, grossing over $1\\xa0billion worldwide, and became the highest-grossing film of all-time in the UK and the highest-grossing film in the James Bond series. Critics called Dench\\'s Saturn Awards-nominated performance \"compellingly luminous\". \\n\\nIn 2013, Dench starred as the title character in the Stephen Frears directed film, Philomena, a filmed inspired by true events of a woman looking for the son which the Catholic Church took from her a half-century before.  The film was screened in the main competition section at the 70th Venice International Film Festival, where it was very favorably received by critics.   On Dench\\'s performance, The Times commented that \"this is Dench\\'s triumph. At 78, she has a golden career behind her, often as queens and other frosty matriarchs. So the warmth under pressure she radiates here is nearly a surprise [...] Dench gives a performance of grace, nuance and cinematic heroism.\"  She was subsequently nominated for many major acting awards, including a seventh Academy Award nomination. \\n\\nIn January 2014, principal photography began in Jaipur on The Second Best Exotic Marigold Hotel with Dench reprising the role of Evelyn. The film was released in March 2015. In October 2014 she began filming as Cecily, Duchess of York to Benedict Cumberbatch\\'s Richard III in the second series of The Hollow Crown.  From 24 April 2015 to 7 May 2015; Dench played a mother, with her real-life daughter Finty Williams playing her character\\'s daughter, in The Vote at the Donmar Warehouse. The final performance was broadcast live on More4 at 8:25\\xa0pm; the time when the events in the play take place.  The appearance marked her first performance at the theatre since 1976.  On 20 September 2015 she was the guest on BBC Radio 4\\'s Desert Island Discs for the third time, in which she revealed that her first acting performance was as a snail.  She reprised her role as M in the 2015 James Bond film, Spectre, in the form of a recording that was delivered to Bond. \\n\\nPersonal life\\n\\nOn 5 February 1971, Dench married British actor Michael Williams.  They had their only child, Tara Cressida Frances Williams, an actress known professionally as Finty Williams, on 24 September 1972. Dench and her husband starred together in several stage productions and on the Bob Larbey British television sitcom, A Fine Romance (1981–84). Michael Williams died from lung cancer in 2001, aged 65. They have one grandchild, Finty\\'s son Sam Williams (born in 1997). \\n\\nDench has been in a relationship with conservationist David Mills since 2010. During a 2014 interview with The Times magazine, she discussed how she never expected to find love again after her husband\\'s death, \"I wasn\\'t even prepared to be ready for it. It was very, very gradual and grown up ... It\\'s just wonderful.\"  \\n\\nIn early 2012, Dench discussed her macular degeneration, with one eye \"dry\" and the other \"wet\", for which she has been treated with injections into the eye. She said that she needs someone to read scripts to her.  She also underwent knee surgery in 2013, but stated that she recovered from the procedure well and \"It\\'s not an issue for me.\" \\n\\nDench has been critical of prejudice in the movie industry against older actresses. She stated in 2014, \"I\\'m tired of being told I\\'m too old to try something. I should be able to decide for myself if I can\\'t do things and not have someone tell me I\\'ll forget my lines or I\\'ll trip and fall on the set\"; and \"Age is a number. It\\'s something imposed on you ... It drives me absolutely spare when people say, \\'Are you going to retire? Isn\\'t it time you put your feet up?\\' Or tell me [my] age.\" \\n\\nIn 2013, she spoke about her personal religious faith. Dench, a Quaker, said \"I think it informs everything I do ... I couldn\\'t be without it\". \\n\\nHonours and charity\\n\\nDench was appointed Officer of the Order of the British Empire (OBE) in 1970  and Dame Commander of the Order of the British Empire (DBE) in 1988.  She was appointed Member of the Order of the Companions of Honour (CH) in 2005.  In June 2011, she became a fellow of the British Film Institute (BFI).\\n\\nDench is a patron of the Leaveners, Friends School Saffron Walden, [http://www.archwaytheatre.co.uk The Archway Theatre], Horley, Surrey and OnePlusOne Marriage and Partnership Research, London. She became president of Mountview Academy of Theatre Arts in London in 2006,  taking over from Sir John Mills, and is president of Questors Theatre, Ealing. In May 2006, she became an Honorary Fellow of the Royal Society of Arts (FRSA). She was also patron of Ovingdean Hall School, a special day and boarding school for the deaf and hard of hearing in Brighton, which closed in 2010,  and Vice President of The Little Foundation.\\n\\nDench is an Honorary Fellow of Lucy Cavendish College, Cambridge. In 1996, she was awarded a DUniv degree from Surrey University  and in 2000–2001 she received an honorary DLitt degree from Durham University.  In July 2000, she was awarded a DLitt degree by Queen Margaret University, Edinburgh, whose Drama School at the Gateway Theatre on Elm Row she has actively supported.\\n\\nOn 24 June 2008, she was honoured by the University of St Andrews, receiving an honorary DLitt degree at the university\\'s graduation ceremony.  On 26 June 2013, she was honoured by the University of Stirling, receiving an honorary doctorate at the university\\'s graduation ceremony in recognition of her outstanding contribution to the Arts, particularly to film.   In March 2013, she was listed as one of the fifty best-dressed over 50s by  The Guardian. \\n\\nPolitical and social interests and involvement\\n\\nDench has worked with the non-governmental indigenous organisation, Survival International, campaigning in the defence of the tribal people, the San of Botswana and the Arhuaco of Colombia. She made a small supporting video saying the San are victims of tyranny, greed and racism. Dench is also a patron of the Karuna Trust, a charity that supports work amongst some of India\\'s poorest and most oppressed people, mainly though not exclusively Dalits. \\n\\nOn 22 July 2010, Dench was awarded an honorary degree of Doctor of Letters (DLitt) by Nottingham Trent University.  The Dr. Hadwen Trust announced on 15 January 2011 that Dench had become a patron of the trust, joining, among others, Joanna Lumley and David Shepherd.  On 19 March 2012 it was announced that Dench was to become honorary patron of the charity Everton in the Community, the official charity of Everton F.C. and it was revealed that Dench is an Everton supporter. \\n\\nDench is an advisor to the American Shakespeare Center. She is a patron of the Shakespeare Schools Festival, a charity that enables school children across the UK to perform Shakespeare in professional theatres.  She is patron of East Park Riding for the Disabled, a riding school for disabled children at Newchapel, Surrey.  Dench is also a Vice-President of national charity [http://www.revitalise.org.uk Revitalise], that provides accessible holidays for those with disabilities.  In 2011, along with musician Sting and billionaire entrepreneur Richard Branson, she publicly urged policy makers to adopt more progressive drug policies by decriminalizing drug use. \\n\\nDench was one of 200 celebrities to sign an open letter to the people of Scotland asking them to vote No to independence, published in August 2014, a few weeks before the Scottish referendum. \\n\\nFilmography\\n\\nDiscography\\n\\n* Pericles (1968) Shakespeare Recording Society, Caedmon Records\\n* Cabaret (1968), Original London cast album CBS (1973)\\n* The Good Companions (1974), Original London cast recording (1974)\\n* A Midsummer Night\\'s Dream (1995); from Felix Mendelssohn as Recitant. Conducted by Seiji Ozawa\\n* A Little Night Music (1995) by Stephen Sondheim, Royal National Theatre Cast\\n* Nine (2009) Original Motion Picture Soundtrack\\n*\"Spaceship Earth (Epcot)\" narrator of the current version of the attraction . (2008)\\n\\nAwards and nominations']},\n",
       " 'question': 'Where in England was Dame Judi Dench born?',\n",
       " 'question_id': 'tc_3',\n",
       " 'question_source': 'http://www.triviacountry.com/'}"
      ]
     },
     "execution_count": 6,
     "metadata": {
      "tags": []
     },
     "output_type": "execute_result"
    }
   ],
   "source": [
    "train_raw[1]"
   ]
  },
  {
   "cell_type": "markdown",
   "metadata": {
    "id": "-EpPEqWeHrDW"
   },
   "source": [
    "## Pre-process Data"
   ]
  },
  {
   "cell_type": "markdown",
   "metadata": {
    "id": "HbRm039OozOJ"
   },
   "source": [
    "The data is pre-processed before using it in the Dense Passage Retrieval. The process is described in section *3.2 Wikipedia Data Pre-processing* in the article.\n",
    "\n",
    "Furthermore, we have defined several functions in order to calculate similarity, choose the positive passage, divide the documents into passages and appending a Q token for the BERT encoder which can be found below."
   ]
  },
  {
   "cell_type": "code",
   "execution_count": 11,
   "metadata": {
    "id": "uKWN--a2HrDW"
   },
   "outputs": [],
   "source": [
    "from sklearn.feature_extraction.text import TfidfVectorizer\n",
    "from nltk.tokenize import RegexpTokenizer\n",
    "\n",
    "def preprocess_data(data, paragraph_len = 128, remove_search_results = False):\n",
    "    \"\"\"\n",
    "    Pre-processes the data by selecting relevant columns and finding the \n",
    "    paragraph with the correct answer .\n",
    "\n",
    "    Parameters\n",
    "    ----------\n",
    "    data : datasets.Dataset\n",
    "        The raw wiki_qa data - maybe with feature 'search_results' removed for \n",
    "        more efficient storage.\n",
    "    paragraph_len : int, optional\n",
    "        Number of words in paragraph. The default is 128.\n",
    "    remove_search_results : bool, optional\n",
    "        Remove feature 'search_results' from the data. The default is False.\n",
    "\n",
    "    Returns\n",
    "    -------\n",
    "        datasets.dataset\n",
    "    Pre processed dataset with columns \n",
    "    ['answer', 'paragraph', 'question', 'question_id'].\n",
    "    \"\"\"\n",
    "   \n",
    "    # Select appropriate columns\n",
    "    if remove_search_results:\n",
    "        data = data.map(remove_columns = ['search_results'])\n",
    "    out_data = data.map(lambda example: {'wiki_text': example['entity_pages']['wiki_context'], \n",
    "                                         'wiki_title': example['entity_pages']['title'],\n",
    "                                             'answer': example['answer']['normalized_value']}, \n",
    "                            remove_columns=['question_source', 'answer', 'entity_pages'])\n",
    "    \n",
    "    # Remove entries without wiki text\n",
    "    out_data = out_data.filter(lambda example: len(example['wiki_text']) > 0)\n",
    "    \n",
    "    # Get paragraph with the answer\n",
    "    out_data = out_data.map(lambda example: {\n",
    "        'paragraph': get_paragraph_with_answer(example, paragraph_len)\n",
    "        }, remove_columns = ['wiki_text', 'wiki_title'])\n",
    "    \n",
    "    out_data = out_data.map(lambda example: {\n",
    "        'question': append_Q_token(example)\n",
    "        })\n",
    "    return(out_data)\n",
    "\n",
    "def get_tfidf_similarity(questions, paragraphs):\n",
    "    \"\"\"\n",
    "    Returns a similarity matrix based on the distance in the tf-idf space\n",
    "\n",
    "    Parameters\n",
    "    ----------\n",
    "    questions : list of strings\n",
    "        Lists of all questions.\n",
    "    paragraphs : list of strings\n",
    "        Lists of all paragraphs\n",
    "    \n",
    "    Returns :\n",
    "    -------\n",
    "        Similarity matrix of dimension  \n",
    "        (number of questions, number of paragraphs). \n",
    "    \"\"\"\n",
    "    vectorizer = TfidfVectorizer(lowercase = False)\n",
    "    all_text = questions + paragraphs\n",
    "    vectorizer.fit(all_text)\n",
    "    similarity = vectorizer.transform(questions) * vectorizer.transform(paragraphs).T\n",
    "    return np.array(similarity.todense())\n",
    "\n",
    "def get_paragraph_with_answer(example, paragraph_len):\n",
    "    \"\"\"\n",
    "    Return paragraph of paragraph_len from example['wiki_text'] with highest \n",
    "    similary to question + answer\n",
    "    \"\"\"\n",
    "    paragraphs = get_all_paragraphs(example, paragraph_len)\n",
    "    \n",
    "    # joining title and text without the '[P]' token \n",
    "    paragraphs_joined = [paragraphs[0][0][4:] + ' ' + paragraph[1] for paragraph in paragraphs]\n",
    "    \n",
    "    # Calculating tf-idf similarities\n",
    "    target = example['question'] + example['answer'] \n",
    "    sim = get_tfidf_similarity([target], paragraphs_joined) \n",
    "        \n",
    "    # finding most similar containing the answer\n",
    "    n_para = sim.size\n",
    "    idxs = np.argsort(sim)[0][-n_para:]\n",
    "    for p in range(len(idxs)):\n",
    "        idx = idxs[-p]\n",
    "        if example['answer'] in paragraphs[idx][1]:\n",
    "            break \n",
    "    \n",
    "    answer_paragraph = paragraphs[idx]\n",
    "    \n",
    "    return answer_paragraph\n",
    "\n",
    "\n",
    "def get_all_paragraphs(example, paragraph_len):\n",
    "    \"\"\"\n",
    "    Splits all wiki_texts of example into paragraphs of paragraph_len\n",
    "    \"\"\"\n",
    "    n_texts = len(example['wiki_text'])\n",
    "    all_paragraphs = []\n",
    "    tokenizer = RegexpTokenizer(r'\\w+')\n",
    "    for i in range(n_texts):\n",
    "        tokens = tokenizer.tokenize(example['wiki_text'][i].lower())\n",
    "        paragraphs = [tokens[i:(i+paragraph_len)] \\\n",
    "                      for i in range(0, len(tokens), paragraph_len)]\n",
    "        \n",
    "        #Old paragraph for concatenating title with paragraph\n",
    "        #paragraphs = [example['wiki_title'][i].lower() + \\\n",
    "        #              ' ' + ' '.join(paragraph) for paragraph in paragraphs]\n",
    "        \n",
    "        # Paragraph as list of title and text \n",
    "        paragraphs = [['[P] ' + example['wiki_title'][i].lower()] + [' '.join(paragraph)] for paragraph in paragraphs]\n",
    "        \n",
    "        all_paragraphs += paragraphs \n",
    "    return all_paragraphs\n",
    "    \n",
    "    \n",
    "def append_Q_token(example):\n",
    "    \"\"\"\n",
    "    Appends P or Q to the paragraph or Question\n",
    "    \"\"\"\n",
    "    return(['[Q]'] + [example['question']])"
   ]
  },
  {
   "cell_type": "code",
   "execution_count": 13,
   "metadata": {
    "colab": {
     "base_uri": "https://localhost:8080/",
     "height": 279,
     "referenced_widgets": [
      "0e46063a6c9045fd812a928c95fae359",
      "a3899198bcd34142894f1b058a5e7b7d",
      "7b33c4efd3df46078403a8956ab8b9bf",
      "04ca822300c1460da00c4d169ad509c6",
      "bf47e1aecd804c94ac5fb242840c2636",
      "1943ab1df4854684b4523e20fa026e84",
      "74556b39f3e74a13ac9fb71f77b7474f",
      "589b5e9312ca4a4bb8aded11d3b6f1e9",
      "7717ad8856c34a36a90b87336db439a1",
      "4c7d4360df45485fbe3c82ae739bcc03",
      "51f49ae194e24873a05462f7c89eef50",
      "7d67f72bb0d847d592069e8d4e338caf",
      "e6f1719766dc4c2d9d7abf281133a774",
      "99f0457c2fbe4d91bb95a3629c28862c",
      "543b62fc133044598099a74a5c8a1a43",
      "00b28e0819df4090a1f5a0810e8d5ccd",
      "ada13be0e1b84922b1aa449e88252a04",
      "531484a82ce74b74bfd73ddb96f74fea",
      "4f5c8f56d3e7416a8f1ea8b78a495b3a",
      "904253841c52411ab745e271729196de",
      "c105e2cc46804f7ab948a245814a91e2",
      "33b2ff9e1e724d88b33903148319fe34",
      "507fe352c1f34fed8b24b07c7a6aedae",
      "da1d4a0d54484851b57949a448cbb7d5",
      "d8c74996e7db44c6b73629207e5804f5",
      "1db3a6dc98f142829720be560ed53ecd",
      "0284969f9de0425b8112fe7a8b781eff",
      "58358d79e0c245c1a014b74fa89a9c6f",
      "7167eac9192a40bca1cc5685794e5112",
      "0a1fcaf34bdf41048577c3281c86c3ca",
      "3cd45110fa01471b819a2d672ae30534",
      "4b4b45f4f7b8423aaab46aa19a002fcf"
     ]
    },
    "id": "e_9cXl20WpSP",
    "outputId": "9e1e503d-9abf-48d3-c63e-95ab7e885248"
   },
   "outputs": [
    {
     "name": "stderr",
     "output_type": "stream",
     "text": [
      "Loading cached processed dataset at drive/My Drive/deep_learning_project/train_mini/cache-7fb3e0a1fe57620e.arrow\n",
      "Loading cached processed dataset at drive/My Drive/deep_learning_project/train_mini/cache-bda79a61790ad1cf.arrow\n",
      "Loading cached processed dataset at drive/My Drive/deep_learning_project/train_mini/cache-695390877b1775da.arrow\n",
      "Loading cached processed dataset at drive/My Drive/deep_learning_project/train_mini/cache-730875171f3c9dbf.arrow\n"
     ]
    },
    {
     "data": {
      "application/vnd.jupyter.widget-view+json": {
       "model_id": "0e46063a6c9045fd812a928c95fae359",
       "version_major": 2,
       "version_minor": 0
      },
      "text/plain": [
       "HBox(children=(FloatProgress(value=0.0, max=2000.0), HTML(value='')))"
      ]
     },
     "metadata": {
      "tags": []
     },
     "output_type": "display_data"
    },
    {
     "name": "stdout",
     "output_type": "stream",
     "text": [
      "\n"
     ]
    },
    {
     "data": {
      "application/vnd.jupyter.widget-view+json": {
       "model_id": "7717ad8856c34a36a90b87336db439a1",
       "version_major": 2,
       "version_minor": 0
      },
      "text/plain": [
       "HBox(children=(FloatProgress(value=0.0, max=2.0), HTML(value='')))"
      ]
     },
     "metadata": {
      "tags": []
     },
     "output_type": "display_data"
    },
    {
     "name": "stdout",
     "output_type": "stream",
     "text": [
      "\n"
     ]
    },
    {
     "data": {
      "application/vnd.jupyter.widget-view+json": {
       "model_id": "ada13be0e1b84922b1aa449e88252a04",
       "version_major": 2,
       "version_minor": 0
      },
      "text/plain": [
       "HBox(children=(FloatProgress(value=0.0, max=1417.0), HTML(value='')))"
      ]
     },
     "metadata": {
      "tags": []
     },
     "output_type": "display_data"
    },
    {
     "name": "stdout",
     "output_type": "stream",
     "text": [
      "\n"
     ]
    },
    {
     "data": {
      "application/vnd.jupyter.widget-view+json": {
       "model_id": "d8c74996e7db44c6b73629207e5804f5",
       "version_major": 2,
       "version_minor": 0
      },
      "text/plain": [
       "HBox(children=(FloatProgress(value=0.0, max=1417.0), HTML(value='')))"
      ]
     },
     "metadata": {
      "tags": []
     },
     "output_type": "display_data"
    },
    {
     "name": "stdout",
     "output_type": "stream",
     "text": [
      "\n"
     ]
    }
   ],
   "source": [
    "train_processed = preprocess_data(train_raw)\n",
    "validation_processed = preprocess_data(validation_raw)"
   ]
  },
  {
   "cell_type": "markdown",
   "metadata": {
    "id": "jAyy0DPKHrDX"
   },
   "source": [
    "## Training Models\n",
    "\n",
    "When training the models we use a `BATCH_SIZE` of 16, a `learning_rate` at $5e-5$ and 4 `EPOCHS`."
   ]
  },
  {
   "cell_type": "code",
   "execution_count": 14,
   "metadata": {
    "id": "kVqrAZKaXABf"
   },
   "outputs": [],
   "source": [
    "from math import ceil\n",
    "from transformers import AutoTokenizer, BertModel, AdamW"
   ]
  },
  {
   "cell_type": "code",
   "execution_count": 15,
   "metadata": {
    "id": "-sAHvkQmVYJD"
   },
   "outputs": [],
   "source": [
    "# Define data parameters\n",
    "batch_size = 16\n",
    "\n",
    "# Train\n",
    "n_sample_train = 1024 \n",
    "n_batches_train = ceil(n_sample_train/batch_size)\n",
    "# Validation\n",
    "n_sample_validation = 128 \n",
    "n_batches_validation = ceil(n_sample_validation/batch_size)\n",
    "\n",
    "\n",
    "# Define model parameters\n",
    "lr = 5e-5\n",
    "n_epochs = 4\n",
    "\n",
    "# Define printing parameters\n",
    "n_batch_print = 16 # Prints every (n_batch_print) during training"
   ]
  },
  {
   "cell_type": "markdown",
   "metadata": {},
   "source": [
    "A subset of data is chosen and tokenized using the `AutoTokenizer` from the pretrained BERT base model. The tokens are used to define the input features for the model. "
   ]
  },
  {
   "cell_type": "code",
   "execution_count": 16,
   "metadata": {
    "colab": {
     "base_uri": "https://localhost:8080/",
     "height": 261,
     "referenced_widgets": [
      "20dfa0db481c42c7931cc49e7097f232",
      "26c9f33d5ae9449aa241bb53b65271aa",
      "c459b6b1522945ce938d574e92051338",
      "5410c6688d704744a38a5065f73cdec4",
      "13608d7316bc49c0adb1a9f83cf09f02",
      "d83540bc48684c6ebe1388a133c42188",
      "a60a310d62b249c7ad2de0e2290b5c00",
      "07de3014a4504360afd59c0e479b6158",
      "d7ac3f5034f645c0a6b15e5b0a4d75cd",
      "8daaccf0226c4c26a5b62dfad5e08bc3",
      "74019386a3cd4774b46c7a581effe1d5",
      "54208ff603c24a87a6cd4afeb79fa4e0",
      "8138ca75b1864928b9143607206565b3",
      "21e15c6972f0439bb2c1d1ab6936abe1",
      "0a53743549d34705bbd95ef26eeff16e",
      "d2cbc0973e034d6aa741a5cea63f0dfe",
      "e7e0e742a2854846bfc64d003d62140f",
      "f4c319b48dcf409da4eefd4464b1ee58",
      "648aa57dc8034f8c910ab272d537b002",
      "7d127f5ebdc0410d86350461de94c685",
      "0f195841848b4feab0c80a5ba004f65e",
      "6b079468f60148a9b43a5721cbbe5b2f",
      "d4899116c14d42f0a18a0e4e928998d1",
      "e01cf25b73f746e4ae12f42abec36b14",
      "d4232f82aca7438e9d14ce2f02b64372",
      "f7790b4976d04b4cb9b19b4462fc85d4",
      "8c3bc34b325a489bab424df07222f8bd",
      "d5446cc273a542698975993cc78a75ac",
      "6fa436fb931a496bb67fe2dddb6ee95f",
      "5489a44368dc45678ca2bf668049f277",
      "422ba21a27514a3c891ba3ef40e8e632",
      "a8fd2ca5f17c4ddf8c1e11c56a164e12",
      "97aa0a1d1eca49c4b772393c881ac17c",
      "214298d47ee047d6abe657c5c59b1583",
      "ff20a48647ad4a99aea9a3f2ce3149c6",
      "efac346acf074ca292058e181ed9db77",
      "e5d27af460b84ab6b401c61f784858a3",
      "9b28f9704512450eb71de21ea42d3cc8",
      "5345dabf11cc45e38d08295cb143f5a7",
      "6004aa5f00eb40eaa37c95c5eabae3fa"
     ]
    },
    "id": "figMUh0wW7aH",
    "outputId": "4a2883e3-766e-40cb-ea5b-41ed930d128d"
   },
   "outputs": [
    {
     "data": {
      "application/vnd.jupyter.widget-view+json": {
       "model_id": "20dfa0db481c42c7931cc49e7097f232",
       "version_major": 2,
       "version_minor": 0
      },
      "text/plain": [
       "HBox(children=(FloatProgress(value=0.0, description='Downloading', max=433.0, style=ProgressStyle(description_…"
      ]
     },
     "metadata": {
      "tags": []
     },
     "output_type": "display_data"
    },
    {
     "name": "stdout",
     "output_type": "stream",
     "text": [
      "\n"
     ]
    },
    {
     "data": {
      "application/vnd.jupyter.widget-view+json": {
       "model_id": "d7ac3f5034f645c0a6b15e5b0a4d75cd",
       "version_major": 2,
       "version_minor": 0
      },
      "text/plain": [
       "HBox(children=(FloatProgress(value=0.0, description='Downloading', max=231508.0, style=ProgressStyle(descripti…"
      ]
     },
     "metadata": {
      "tags": []
     },
     "output_type": "display_data"
    },
    {
     "name": "stdout",
     "output_type": "stream",
     "text": [
      "\n"
     ]
    },
    {
     "data": {
      "application/vnd.jupyter.widget-view+json": {
       "model_id": "e7e0e742a2854846bfc64d003d62140f",
       "version_major": 2,
       "version_minor": 0
      },
      "text/plain": [
       "HBox(children=(FloatProgress(value=0.0, description='Downloading', max=466062.0, style=ProgressStyle(descripti…"
      ]
     },
     "metadata": {
      "tags": []
     },
     "output_type": "display_data"
    },
    {
     "name": "stdout",
     "output_type": "stream",
     "text": [
      "\n"
     ]
    },
    {
     "data": {
      "application/vnd.jupyter.widget-view+json": {
       "model_id": "d4232f82aca7438e9d14ce2f02b64372",
       "version_major": 2,
       "version_minor": 0
      },
      "text/plain": [
       "HBox(children=(FloatProgress(value=0.0, max=64.0), HTML(value='')))"
      ]
     },
     "metadata": {
      "tags": []
     },
     "output_type": "display_data"
    },
    {
     "name": "stdout",
     "output_type": "stream",
     "text": [
      "\n"
     ]
    },
    {
     "data": {
      "application/vnd.jupyter.widget-view+json": {
       "model_id": "97aa0a1d1eca49c4b772393c881ac17c",
       "version_major": 2,
       "version_minor": 0
      },
      "text/plain": [
       "HBox(children=(FloatProgress(value=0.0, max=8.0), HTML(value='')))"
      ]
     },
     "metadata": {
      "tags": []
     },
     "output_type": "display_data"
    },
    {
     "name": "stdout",
     "output_type": "stream",
     "text": [
      "\n"
     ]
    }
   ],
   "source": [
    "# Subset data\n",
    "train_data = train_processed.select(range(n_sample_train))\n",
    "validation_data = validation_processed.select(range(n_sample_validation))\n",
    "\n",
    "# Tokenize data\n",
    "tokenizer = AutoTokenizer.from_pretrained('bert-base-uncased', padding = True)\n",
    "train_data = train_data.map(lambda example: {\n",
    "    'Q_input_ids': tokenizer(example['question'], padding = 'max_length')['input_ids'],\n",
    "    'Q_attention_mask': tokenizer(example['question'], padding = 'max_length')['attention_mask'],\n",
    "    'Q_token_type_ids': tokenizer(example['question'], padding = 'max_length')['token_type_ids'],\n",
    "    'P_input_ids': tokenizer(example['paragraph'], padding = 'max_length')['input_ids'],\n",
    "    'P_attention_mask': tokenizer(example['paragraph'], padding = 'max_length')['attention_mask'],\n",
    "    'P_token_type_ids': tokenizer(example['paragraph'], padding = 'max_length')['token_type_ids']},\n",
    "    batched = True, batch_size= batch_size)\n",
    "\n",
    "validation_data = validation_data.map(lambda example: {\n",
    "    'Q_input_ids': tokenizer(example['question'], padding = 'max_length')['input_ids'],\n",
    "    'Q_attention_mask': tokenizer(example['question'], padding = 'max_length')['attention_mask'],\n",
    "    'Q_token_type_ids': tokenizer(example['question'], padding = 'max_length')['token_type_ids'],\n",
    "    'P_input_ids': tokenizer(example['paragraph'], padding = 'max_length')['input_ids'],\n",
    "    'P_attention_mask': tokenizer(example['paragraph'], padding = 'max_length')['attention_mask'],\n",
    "    'P_token_type_ids': tokenizer(example['paragraph'], padding = 'max_length')['token_type_ids']},\n",
    "    batched = True, batch_size= batch_size)\n",
    "\n",
    "# Change to pytorch format. \n",
    "train_data.set_format(type = 'torch', \n",
    "                        columns = ['Q_input_ids', 'Q_attention_mask', 'Q_token_type_ids',\n",
    "                                   'P_input_ids', 'P_attention_mask', 'P_token_type_ids'])\n",
    "\n",
    "validation_data.set_format(type = 'torch', \n",
    "                        columns = ['Q_input_ids', 'Q_attention_mask', 'Q_token_type_ids',\n",
    "                                   'P_input_ids', 'P_attention_mask', 'P_token_type_ids'])"
   ]
  },
  {
   "cell_type": "markdown",
   "metadata": {},
   "source": [
    "For fine-tuning the BERT model for DPR, we use a mini-batch training with the loss function defined in section *3.4 Fine-tuning of BERT Models*.  \n",
    "\n",
    "All layers except for the last 3 layers of the network are freezed in order to obtain better similarity matrices."
   ]
  },
  {
   "cell_type": "code",
   "execution_count": 18,
   "metadata": {
    "colab": {
     "base_uri": "https://localhost:8080/",
     "height": 66,
     "referenced_widgets": [
      "e3771a27db9b475cb0d3cce0d41404b0",
      "663511e95c9a4141878cfad442dbde7d",
      "b6ac243c926a48ee9c177713360c8f8e",
      "bb1f4309ee1e4c4dbf75d61665f154dc",
      "e9e5f13c742b4107a6b2c82967930b89",
      "37206b261279473aa227db2f89056319",
      "ffad6ffa9aa54fdd99b78ca4edba226d",
      "4ab15b4b85794b87b2ff601fc0248194"
     ]
    },
    "id": "cxXWe8D_XUD1",
    "outputId": "d074ff78-f7c2-4fa6-ff20-e09b19ba7975"
   },
   "outputs": [
    {
     "data": {
      "application/vnd.jupyter.widget-view+json": {
       "model_id": "e3771a27db9b475cb0d3cce0d41404b0",
       "version_major": 2,
       "version_minor": 0
      },
      "text/plain": [
       "HBox(children=(FloatProgress(value=0.0, description='Downloading', max=440473133.0, style=ProgressStyle(descri…"
      ]
     },
     "metadata": {
      "tags": []
     },
     "output_type": "display_data"
    },
    {
     "name": "stdout",
     "output_type": "stream",
     "text": [
      "\n"
     ]
    }
   ],
   "source": [
    "# Define loss\n",
    "def get_loss(sim):\n",
    "    nll = -(torch.diagonal(sim) - torch.logsumexp(sim, dim = 1))\n",
    "    return sum(nll)# return negative loss\n",
    "\n",
    "# Get pre-trained model from hugging face\n",
    "model = BertModel.from_pretrained('bert-base-uncased')\n",
    "\n",
    "#Freezing all layers except the last ones\n",
    "l11 = [\"encoder.layer.11\" in name[0] for name in model.named_parameters()]\n",
    "l10 = [\"encoder.layer.10\" in name[0] for name in model.named_parameters()]\n",
    "l9 = [\"encoder.layer.9\" in name[0] for name in model.named_parameters()]\n",
    "layers_to_opt = list(map(any, zip(*[l9, l10, l11])))\n",
    "params = [name[0] for name in model.named_parameters()]\n",
    "param_to_be_optimized = [name for (layer, name) in zip(layers_to_opt, params) if layer]\n",
    "for name, param in model.named_parameters():\n",
    "  if not name in param_to_be_optimized:\n",
    "    param.requires_grad = False\n",
    "\n",
    "# Move model to cuda to train there\n",
    "model.to(device)\n",
    "\n",
    "optim = AdamW(filter(lambda p: p.requires_grad, model.parameters()), lr = lr) # filter object works as a generator "
   ]
  },
  {
   "cell_type": "markdown",
   "metadata": {},
   "source": [
    "The weights that are updated in each layer (only 9th-11th is used here) and printed to get an overview. "
   ]
  },
  {
   "cell_type": "code",
   "execution_count": 19,
   "metadata": {
    "colab": {
     "base_uri": "https://localhost:8080/"
    },
    "id": "ytSPmwubXq5j",
    "outputId": "8b26d02f-a2a9-4c32-b3c2-26130679bb92"
   },
   "outputs": [
    {
     "name": "stdout",
     "output_type": "stream",
     "text": [
      "+----------------------------------------------------+------------+\n",
      "|                      Modules                       | Parameters |\n",
      "+----------------------------------------------------+------------+\n",
      "|    encoder.layer.9.attention.self.query.weight     |   589824   |\n",
      "|     encoder.layer.9.attention.self.query.bias      |    768     |\n",
      "|     encoder.layer.9.attention.self.key.weight      |   589824   |\n",
      "|      encoder.layer.9.attention.self.key.bias       |    768     |\n",
      "|    encoder.layer.9.attention.self.value.weight     |   589824   |\n",
      "|     encoder.layer.9.attention.self.value.bias      |    768     |\n",
      "|   encoder.layer.9.attention.output.dense.weight    |   589824   |\n",
      "|    encoder.layer.9.attention.output.dense.bias     |    768     |\n",
      "| encoder.layer.9.attention.output.LayerNorm.weight  |    768     |\n",
      "|  encoder.layer.9.attention.output.LayerNorm.bias   |    768     |\n",
      "|     encoder.layer.9.intermediate.dense.weight      |  2359296   |\n",
      "|      encoder.layer.9.intermediate.dense.bias       |    3072    |\n",
      "|        encoder.layer.9.output.dense.weight         |  2359296   |\n",
      "|         encoder.layer.9.output.dense.bias          |    768     |\n",
      "|      encoder.layer.9.output.LayerNorm.weight       |    768     |\n",
      "|       encoder.layer.9.output.LayerNorm.bias        |    768     |\n",
      "|    encoder.layer.10.attention.self.query.weight    |   589824   |\n",
      "|     encoder.layer.10.attention.self.query.bias     |    768     |\n",
      "|     encoder.layer.10.attention.self.key.weight     |   589824   |\n",
      "|      encoder.layer.10.attention.self.key.bias      |    768     |\n",
      "|    encoder.layer.10.attention.self.value.weight    |   589824   |\n",
      "|     encoder.layer.10.attention.self.value.bias     |    768     |\n",
      "|   encoder.layer.10.attention.output.dense.weight   |   589824   |\n",
      "|    encoder.layer.10.attention.output.dense.bias    |    768     |\n",
      "| encoder.layer.10.attention.output.LayerNorm.weight |    768     |\n",
      "|  encoder.layer.10.attention.output.LayerNorm.bias  |    768     |\n",
      "|     encoder.layer.10.intermediate.dense.weight     |  2359296   |\n",
      "|      encoder.layer.10.intermediate.dense.bias      |    3072    |\n",
      "|        encoder.layer.10.output.dense.weight        |  2359296   |\n",
      "|         encoder.layer.10.output.dense.bias         |    768     |\n",
      "|      encoder.layer.10.output.LayerNorm.weight      |    768     |\n",
      "|       encoder.layer.10.output.LayerNorm.bias       |    768     |\n",
      "|    encoder.layer.11.attention.self.query.weight    |   589824   |\n",
      "|     encoder.layer.11.attention.self.query.bias     |    768     |\n",
      "|     encoder.layer.11.attention.self.key.weight     |   589824   |\n",
      "|      encoder.layer.11.attention.self.key.bias      |    768     |\n",
      "|    encoder.layer.11.attention.self.value.weight    |   589824   |\n",
      "|     encoder.layer.11.attention.self.value.bias     |    768     |\n",
      "|   encoder.layer.11.attention.output.dense.weight   |   589824   |\n",
      "|    encoder.layer.11.attention.output.dense.bias    |    768     |\n",
      "| encoder.layer.11.attention.output.LayerNorm.weight |    768     |\n",
      "|  encoder.layer.11.attention.output.LayerNorm.bias  |    768     |\n",
      "|     encoder.layer.11.intermediate.dense.weight     |  2359296   |\n",
      "|      encoder.layer.11.intermediate.dense.bias      |    3072    |\n",
      "|        encoder.layer.11.output.dense.weight        |  2359296   |\n",
      "|         encoder.layer.11.output.dense.bias         |    768     |\n",
      "|      encoder.layer.11.output.LayerNorm.weight      |    768     |\n",
      "|       encoder.layer.11.output.LayerNorm.bias       |    768     |\n",
      "+----------------------------------------------------+------------+\n",
      "Total Trainable Params: 21263616\n"
     ]
    }
   ],
   "source": [
    "# Print the weights that are being updated\n",
    "from prettytable import PrettyTable\n",
    "def count_parameters(model):\n",
    "    table = PrettyTable([\"Modules\", \"Parameters\"])\n",
    "    total_params = 0\n",
    "    for name, parameter in model.named_parameters():\n",
    "        if not parameter.requires_grad: continue\n",
    "        param = parameter.numel()\n",
    "        table.add_row([name, param])\n",
    "        total_params+=param\n",
    "    print(table)\n",
    "    print(f\"Total Trainable Params: {total_params}\")\n",
    "    return total_params\n",
    "    \n",
    "tmp = count_parameters(model)"
   ]
  },
  {
   "cell_type": "markdown",
   "metadata": {},
   "source": [
    "The big training loop seen below is using a forward pass for both paragraphs and questions and concatenates the hidden layers as described in section *3.4 Fine-tuning of BERT Models*.\n",
    "\n",
    "We use in-batch training such that we train on the positive and negative passages in each batch for every question. The purpose of this is to obtain great similarity matrices. \n",
    "\n",
    "As mentioned, we only train on 9th-11th layer in this notebook but the approach is similar for other models. "
   ]
  },
  {
   "cell_type": "code",
   "execution_count": 20,
   "metadata": {
    "colab": {
     "base_uri": "https://localhost:8080/"
    },
    "id": "SMxQARJaXshs",
    "outputId": "f591e174-564a-4e54-9a35-a3aa7f063868"
   },
   "outputs": [
    {
     "name": "stdout",
     "output_type": "stream",
     "text": [
      "### EPOCH: 1/4 ###\n",
      "batch 1/64\n"
     ]
    },
    {
     "name": "stderr",
     "output_type": "stream",
     "text": [
      "/usr/local/lib/python3.6/dist-packages/datasets/arrow_dataset.py:850: UserWarning: The given NumPy array is not writeable, and PyTorch does not support non-writeable tensors. This means you can write to the underlying (supposedly non-writeable) NumPy array using the tensor. You may want to copy the array to protect its data or make it writeable before converting it to a tensor. This type of warning will be suppressed for the rest of this program. (Triggered internally at  /pytorch/torch/csrc/utils/tensor_numpy.cpp:141.)\n",
      "  return torch.tensor(x, **format_kwargs)\n"
     ]
    },
    {
     "name": "stdout",
     "output_type": "stream",
     "text": [
      "batch 17/64\n",
      "batch 33/64\n",
      "batch 49/64\n",
      "train loss: 409.36\n",
      "validation loss: 45.81\n",
      "### EPOCH: 2/4 ###\n",
      "batch 1/64\n",
      "batch 17/64\n",
      "batch 33/64\n",
      "batch 49/64\n",
      "train loss: 84.02\n",
      "validation loss: 16.92\n",
      "### EPOCH: 3/4 ###\n",
      "batch 1/64\n",
      "batch 17/64\n",
      "batch 33/64\n",
      "batch 49/64\n",
      "train loss: 37.52\n",
      "validation loss: 8.96\n",
      "### EPOCH: 4/4 ###\n",
      "batch 1/64\n",
      "batch 17/64\n",
      "batch 33/64\n",
      "batch 49/64\n",
      "train loss: 23.78\n",
      "validation loss: 9.21\n"
     ]
    }
   ],
   "source": [
    "# The big loop\n",
    "epoch_train_loss = [None]*n_batches_train\n",
    "epoch_validation_loss = [None]*n_batches_validation\n",
    "train_loss = [None]*n_epochs\n",
    "validation_loss = [None]*n_epochs\n",
    "\n",
    "\n",
    "for epoch in range(n_epochs):\n",
    "    \n",
    "    print(f'### EPOCH: {epoch+1}/{n_epochs} ###')\n",
    "\n",
    "    trainloader = torch.utils.data.DataLoader(train_data, batch_size=batch_size)\n",
    "    trainloader = iter(trainloader)\n",
    "    validationloader = torch.utils.data.DataLoader(validation_data, batch_size=batch_size)\n",
    "    validationloader = iter(validationloader)\n",
    "    \n",
    "    # TRAINING MODEL\n",
    "    model.train()\n",
    "    for i, batch in enumerate(trainloader):\n",
    "        if i % n_batch_print == 0:\n",
    "          print(f'batch {i+1}/{len(trainloader)}')\n",
    "        \n",
    "        model.zero_grad()\n",
    "\n",
    "        # Make forward pass for paragraphs\n",
    "        input_ids = batch['P_input_ids'].to(device)\n",
    "        attention_mask = batch['P_attention_mask'].to(device)\n",
    "        token_type_ids = batch['P_token_type_ids'].to(device)\n",
    "        P_encoded_layers = model(input_ids=input_ids, \n",
    "                          attention_mask=attention_mask, \n",
    "                          token_type_ids=token_type_ids, output_hidden_states = True)#[0][:, 0, :]\n",
    "        # concatenating hidden layers\n",
    "        P_cat = torch.cat(tuple([P_encoded_layers.hidden_states[i] for i in [-3, -2, -1]]), dim=-1)  \n",
    "        P_cat = P_cat[:, 0, :]\n",
    "        \n",
    "        # Make forward pass for questions\n",
    "        input_ids = batch['Q_input_ids'].to(device)\n",
    "        attention_mask = batch['Q_attention_mask'].to(device)\n",
    "        token_type_ids = batch['Q_token_type_ids'].to(device)\n",
    "        Q_encoded_layers = model(input_ids=input_ids, \n",
    "                          attention_mask=attention_mask, \n",
    "                          token_type_ids=token_type_ids, output_hidden_states = True)#[0][:, 0, :]\n",
    "        # concatenating hidden layers\n",
    "        Q_cat = torch.cat(tuple([Q_encoded_layers.hidden_states[i] for i in [-3, -2, -1]]), dim=-1)  \n",
    "        Q_cat = Q_cat[:, 0, :]\n",
    "\n",
    "        # Calculate similarity matrix\n",
    "        sim_matrix = torch.matmul(Q_cat, P_cat.T)\n",
    "\n",
    "        # Get loss\n",
    "        loss = get_loss(sim_matrix)\n",
    "        #loss.requires_grad = True\n",
    "\n",
    "        # Update weights\n",
    "        loss.backward()\n",
    "        optim.step()\n",
    "\n",
    "        # Save loss\n",
    "        epoch_train_loss[i] = loss.item()\n",
    "\n",
    "    # VALIDATING MODEL\n",
    "    model.eval()\n",
    "    for i, batch in enumerate(validationloader):\n",
    "        \n",
    "        # (get extra observation in training set)\n",
    "\n",
    "        # Make forward pass for paragraphs\n",
    "        input_ids = batch['P_input_ids'].to(device)\n",
    "        attention_mask = batch['P_attention_mask'].to(device)\n",
    "        token_type_ids = batch['P_token_type_ids'].to(device)\n",
    "        P_encoded_layers = model(input_ids=input_ids, \n",
    "                          attention_mask=attention_mask, \n",
    "                          token_type_ids=token_type_ids, output_hidden_states = True)\n",
    "        \n",
    "        # concatenating hidden layers\n",
    "        P_cat = torch.cat(tuple([P_encoded_layers.hidden_states[i] for i in [-3, -2, -1]]), dim=-1)  \n",
    "        P_cat = P_cat[:, 0, :]\n",
    "\n",
    "        # Make forward pass for questions\n",
    "        input_ids = batch['Q_input_ids'].to(device)\n",
    "        attention_mask = batch['Q_attention_mask'].to(device)\n",
    "        token_type_ids = batch['Q_token_type_ids'].to(device)\n",
    "        Q_encoded_layers = model(input_ids=input_ids, \n",
    "                          attention_mask=attention_mask, \n",
    "                          token_type_ids=token_type_ids, output_hidden_states = True)\n",
    "        \n",
    "        # concatenating hidden layers\n",
    "        Q_cat = torch.cat(tuple([Q_encoded_layers.hidden_states[i] for i in [-3, -2, -1]]), dim=-1)  \n",
    "        Q_cat = Q_cat[:, 0, :]\n",
    "\n",
    "        # Calculate similarity matrix\n",
    "        sim_matrix = torch.matmul(Q_cat, P_cat.T)\n",
    "\n",
    "        # Get loss\n",
    "        loss = get_loss(sim_matrix)\n",
    "        epoch_validation_loss[i] = loss.item()\n",
    "        \n",
    "    \n",
    "    train_loss[epoch] = sum(epoch_train_loss)/len(epoch_train_loss)\n",
    "    validation_loss[epoch] = sum(epoch_validation_loss)/len(epoch_validation_loss)\n",
    "    \n",
    "    print(f'train loss: {train_loss[epoch]:.2f}')\n",
    "    print(f'validation loss: {validation_loss[epoch]:.2f}')\n"
   ]
  },
  {
   "cell_type": "markdown",
   "metadata": {},
   "source": [
    "The train loss and validation loss are illustrated for each epoch."
   ]
  },
  {
   "cell_type": "code",
   "execution_count": 21,
   "metadata": {
    "colab": {
     "base_uri": "https://localhost:8080/",
     "height": 295
    },
    "id": "84R5v2DWX9-j",
    "outputId": "f6ce85dd-6131-43ae-f98d-7b1f02dd28b4"
   },
   "outputs": [
    {
     "data": {
      "image/png": "[encoded data removed]",
      "text/plain": [
       "<Figure size 432x288 with 1 Axes>"
      ]
     },
     "metadata": {
      "needs_background": "light",
      "tags": []
     },
     "output_type": "display_data"
    }
   ],
   "source": [
    "fig = plt.figure()\n",
    "plt.plot(range(1, n_epochs+1), train_loss, label = 'Train loss')\n",
    "plt.plot(range(1, n_epochs+1), validation_loss, label = 'Validation loss')\n",
    "plt.title('Finetuning BERT Base Model')\n",
    "plt.ylabel('Loss')\n",
    "plt.legend()\n",
    "plt.xlabel('Epoch')\n",
    "plt.show()"
   ]
  },
  {
   "cell_type": "markdown",
   "metadata": {},
   "source": [
    "The model is saved to avoid executing all code cells again and thus use unnecessary computation power. "
   ]
  },
  {
   "cell_type": "code",
   "execution_count": 22,
   "metadata": {
    "id": "40ply7MQZpWj"
   },
   "outputs": [],
   "source": [
    "#%% Saving model\n",
    "model_path = 'drive/My Drive/deep_learning_project/Fine-tuned BERT models/presentation_notebook_model'\n",
    "model.save_pretrained(model_path)"
   ]
  },
  {
   "cell_type": "markdown",
   "metadata": {
    "id": "GDVQyeyNHrDX"
   },
   "source": [
    "## Evaluate Performance\n"
   ]
  },
  {
   "cell_type": "code",
   "execution_count": 23,
   "metadata": {
    "id": "rJ0Aei7gHrDX"
   },
   "outputs": [],
   "source": [
    "# Imports required to run functions\n",
    "\n",
    "from random import sample\n",
    "\n",
    "\n",
    "\n",
    "def get_top_k(similarity, question_ids, paragraph_ids, k):\n",
    "    \"\"\"\n",
    "    Return the top k documents for based on similarity matrix\n",
    "\n",
    "    Parameters\n",
    "    ----------\n",
    "    similarity : ndarray\n",
    "        similarity matrix with shape (n_questions, n_paragraphs)\n",
    "    question_ids : list of str\n",
    "        List of the question ids\n",
    "    paragraph_ids : list of str\n",
    "        List of the paragraph ids (corresponding to the question id that the \n",
    "                                   paragraph belongs to)\n",
    "    k : int\n",
    "        Number or paragraphs to return\n",
    "\n",
    "    Returns\n",
    "    -------\n",
    "    out : dict\n",
    "        keys are the question ids, and each element contains list of the ids of the\n",
    "        k nearest paragraphs\n",
    "    \"\"\"\n",
    "    n_questions = similarity.shape[0]\n",
    "    idxs = [np.argsort(similarity[row,:])[-k:][::-1] for row in range(n_questions)]\n",
    "    out = {question_ids[i]:np.array(paragraph_ids)[idxs[i]] for i in range(n_questions)}\n",
    "    return out\n",
    "\n",
    "def get_accuracy(top_k):\n",
    "    \"\"\" Returns accuracy. top_k is a dict as returned by get_top_k().  \"\"\"\n",
    "    n_correct = [(question in paragraphs) for question, paragraphs in top_k.items()]\n",
    "    accuracy = sum(n_correct)/len(top_k)*100\n",
    "    return accuracy\n",
    "\n",
    "\n",
    "def get_tfidf_similarity(questions, paragraphs):\n",
    "    \"\"\"\n",
    "    Returns a similarity matrix based on the distance in the tf-idf space\n",
    "\n",
    "    Parameters\n",
    "    ----------\n",
    "    questions : list of strings\n",
    "        Lists of all questions.\n",
    "    paragraphs : list of strings\n",
    "        Lists of all paragraphs\n",
    "    \n",
    "    Returns :\n",
    "    -------\n",
    "        Similarity matrix of dimension  \n",
    "        (number of questions, number of paragraphs). \n",
    "    \"\"\"\n",
    "    vectorizer = TfidfVectorizer(lowercase = False)\n",
    "    all_text = questions + paragraphs\n",
    "    vectorizer.fit(all_text)\n",
    "    similarity = vectorizer.transform(questions) * vectorizer.transform(paragraphs).T\n",
    "    return np.array(similarity.todense())\n",
    "\n",
    "def get_random_accuracy(k_list, n):\n",
    "    max_k = max(k_list)\n",
    "    top_k_list = [sample(range(n), max_k) for i in range(n)] # \n",
    "    accs = [None]*len(k_list)\n",
    "    for i, k in enumerate(k_list): \n",
    "        n_correct = [(1 in top_k[0:k]) for top_k in top_k_list]\n",
    "        accs[i] = sum(n_correct)/n*100\n",
    "    return(accs)\n",
    "\n",
    "def get_accuracy_vector(k_list, sim, question_ids, paragraph_ids):\n",
    "    accs = [None]*len(k_list)\n",
    "    for i, k in enumerate(k_list):\n",
    "        top_k = get_top_k(sim, question_ids, paragraph_ids, k)\n",
    "        accs[i] = get_accuracy(top_k)\n",
    "    return accs"
   ]
  },
  {
   "cell_type": "code",
   "execution_count": 29,
   "metadata": {
    "id": "6g9q0TaUIMw3"
   },
   "outputs": [],
   "source": [
    "def get_BERT_similarity(data, finetuned = False, model_name = 'bert-base-uncased', concatenate_9thTo11thLayer = False):\n",
    "    \"\"\"\n",
    "    Returns a similarity matrix based on the distance in the BERT encoded space\n",
    "\n",
    "    Parameters\n",
    "    ----------\n",
    "    questions : list of strings\n",
    "        Lists of all questions.\n",
    "    paragraphs : list of strings\n",
    "        Lists of all paragraphs\n",
    "    finetuned : bool\n",
    "        Whether to use models that we have finetuned located in drive or download pre-trained models directly from HuggingFace\n",
    "    model_name : string\n",
    "        Name of model to use. Options = ['bert-base-uncased', 'bert-large-uncased', ']\n",
    "    \n",
    "    Returns :\n",
    "    -------\n",
    "        Similarity matrix of dimension  \n",
    "        (number of questions, number of paragraphs). \n",
    "    \"\"\"\n",
    "    # Define tokenizer \n",
    "    tokenizer = AutoTokenizer.from_pretrained('bert-base-uncased', padding = True)\n",
    "\n",
    "    # Define model\n",
    "    if finetuned:\n",
    "      folder_path = 'drive/My Drive/deep_learning_project/Fine-tuned BERT models/'\n",
    "      model_path = folder_path + model_name\n",
    "      model = BertModel.from_pretrained(model_path)\n",
    "    else:\n",
    "      model = BertModel.from_pretrained(model_name)\n",
    "    \n",
    "    model.to(device)\n",
    "    batch_size = 16\n",
    "    n_batch_print = 16\n",
    "    \n",
    "    # Tokenize data\n",
    "    tokenized_data = data.map(lambda example: {\n",
    "    'Q_input_ids': tokenizer(example['question'],padding = 'longest')['input_ids'],\n",
    "    'Q_attention_mask': tokenizer(example['question'], padding = 'longest')['attention_mask'],\n",
    "    'Q_token_type_ids': tokenizer(example['question'], padding = 'longest')['token_type_ids'],\n",
    "    'P_input_ids': tokenizer(example['paragraph'],  padding = 'longest')['input_ids'],\n",
    "    'P_attention_mask': tokenizer(example['paragraph'],  padding = 'longest')['attention_mask'],\n",
    "    'P_token_type_ids': tokenizer(example['paragraph'],  padding = 'longest')['token_type_ids']},\n",
    "    batched = True, batch_size= batch_size)\n",
    "\n",
    "    tokenized_data.set_format(type = 'torch', \n",
    "                        columns = ['Q_input_ids', 'Q_attention_mask', 'Q_token_type_ids',\n",
    "                                   'P_input_ids', 'P_attention_mask', 'P_token_type_ids'])\n",
    "    dataloader = torch.utils.data.DataLoader(tokenized_data, batch_size=batch_size)\n",
    "    dataloader = iter(dataloader)\n",
    "\n",
    "    # Save encoded layers\n",
    "    n_batches = len(dataloader)\n",
    "    P_encoded_layers_list = [None]*n_batches\n",
    "    Q_encoded_layers_list = [None]*n_batches\n",
    "\n",
    "    \n",
    "    with torch.no_grad():\n",
    "      for i, batch in enumerate(dataloader):\n",
    "        if i % n_batch_print == 0:\n",
    "          print(f'batch {i+1}/{len(dataloader)}')\n",
    "\n",
    "        # Make forward pass for paragraphs\n",
    "        input_ids = batch['P_input_ids'].to(device)\n",
    "        attention_mask = batch['P_attention_mask'].to(device)\n",
    "        token_type_ids = batch['P_token_type_ids'].to(device)\n",
    "        if concatenate_9thTo11thLayer == True:\n",
    "          P_encoded_layers = model(input_ids=input_ids, \n",
    "                          attention_mask=attention_mask, \n",
    "                          token_type_ids=token_type_ids, output_hidden_states = True)\n",
    "          P_encoded_layers_list[i] = torch.cat(tuple([P_encoded_layers.hidden_states[j] for j in [-3, -2, -1]]), dim=-1)[:, 0, :]\n",
    "        else:\n",
    "          P_encoded_layers_list[i] = model(input_ids=input_ids, \n",
    "                          attention_mask=attention_mask, \n",
    "                          token_type_ids=token_type_ids, output_hidden_states = True)[0][:, 0, :]\n",
    "        \n",
    "        # Make forward pass for questions\n",
    "        input_ids = batch['Q_input_ids'].to(device)\n",
    "        attention_mask = batch['Q_attention_mask'].to(device)\n",
    "        token_type_ids = batch['Q_token_type_ids'].to(device)\n",
    "        if concatenate_9thTo11thLayer == True:\n",
    "          Q_encoded_layers = model(input_ids=input_ids, \n",
    "                          attention_mask=attention_mask, \n",
    "                          token_type_ids=token_type_ids, output_hidden_states = True)\n",
    "          Q_encoded_layers_list[i] = torch.cat(tuple([Q_encoded_layers.hidden_states[j] for j in [-3, -2, -1]]), dim=-1)[:, 0, :]\n",
    "        else:\n",
    "          Q_encoded_layers_list[i] = model(input_ids=input_ids, \n",
    "                          attention_mask=attention_mask, \n",
    "                          token_type_ids=token_type_ids, output_hidden_states = True)[0][:, 0, :]\n",
    "\n",
    "    # Save encoded layers\n",
    "    P_encoded_layers = torch.cat(P_encoded_layers_list, dim = 0)\n",
    "    Q_encoded_layers = torch.cat(Q_encoded_layers_list, dim = 0)\n",
    "\n",
    "    # Get similarity\n",
    "    sim = torch.matmul(Q_encoded_layers, P_encoded_layers.T).cpu().numpy()\n",
    "\n",
    "    return sim\n",
    "  "
   ]
  },
  {
   "cell_type": "code",
   "execution_count": 32,
   "metadata": {
    "id": "_veBujYOIaio"
   },
   "outputs": [],
   "source": [
    "n_evaluation = 1024\n",
    "k_list = [i+1 for i in range(100)]\n",
    "\n",
    "validation_data = validation_processed.select(range(n_evaluation))\n",
    "\n",
    "#%% Define inputs\n",
    "questions_BERT = validation_data['question']\n",
    "question_ids = validation_data['question_id']\n",
    "paragraphs_BERT = validation_data['paragraph']\n",
    "#%%\n",
    "questions = [entry[0] + ' ' + entry[1] for entry in questions_BERT]\n",
    "paragraphs = [entry[0] + ' ' + entry[1] for entry in paragraphs_BERT]"
   ]
  },
  {
   "cell_type": "code",
   "execution_count": 27,
   "metadata": {
    "id": "V3KBpVU7Ioyg"
   },
   "outputs": [],
   "source": [
    "sim_tfidf = get_tfidf_similarity(questions, paragraphs)"
   ]
  },
  {
   "cell_type": "code",
   "execution_count": 30,
   "metadata": {
    "colab": {
     "base_uri": "https://localhost:8080/",
     "height": 217,
     "referenced_widgets": [
      "e9cb7db17f274e28951490a7425b5a3f",
      "c712bb8b8a3142b190b4f233af487830",
      "b37766be1f2e41aba6bfdf89c3c708e0",
      "78eae54b6f464572a1d5da8eb30300a8",
      "6379535a607b4736a8fe0d15ff172868",
      "ead8185212c742869df5bbdc020d1960",
      "2e6929a295684313967979d0a85da351",
      "727e19ba9a264176850ca43f757a8e76"
     ]
    },
    "id": "BLb7M3FPl9tn",
    "outputId": "9eb62e96-feee-449a-d766-5e0f38ac01aa"
   },
   "outputs": [
    {
     "data": {
      "application/vnd.jupyter.widget-view+json": {
       "model_id": "e9cb7db17f274e28951490a7425b5a3f",
       "version_major": 2,
       "version_minor": 0
      },
      "text/plain": [
       "HBox(children=(FloatProgress(value=0.0, max=64.0), HTML(value='')))"
      ]
     },
     "metadata": {
      "tags": []
     },
     "output_type": "display_data"
    },
    {
     "name": "stdout",
     "output_type": "stream",
     "text": [
      "\n",
      "batch 1/64\n",
      "batch 17/64\n",
      "batch 33/64\n",
      "batch 49/64\n"
     ]
    },
    {
     "name": "stderr",
     "output_type": "stream",
     "text": [
      "Loading cached processed dataset at drive/My Drive/deep_learning_project/validation_mini/cache-f1725a924e9252a0.arrow\n"
     ]
    },
    {
     "name": "stdout",
     "output_type": "stream",
     "text": [
      "batch 1/64\n",
      "batch 17/64\n",
      "batch 33/64\n",
      "batch 49/64\n"
     ]
    }
   ],
   "source": [
    "# Default base model (no finetuning)\n",
    "sim_BERT = get_BERT_similarity(validation_data, concatenate_9thTo11thLayer = True)\n",
    "\n",
    "# Fine-tuned model\n",
    "sim_BERT_finetuned = get_BERT_similarity(validation_data, finetuned = True, model_name = 'presentation_notebook_model', concatenate_9thTo11thLayer = True)"
   ]
  },
  {
   "cell_type": "code",
   "execution_count": 33,
   "metadata": {
    "id": "iBO7c_asmvr1"
   },
   "outputs": [],
   "source": [
    "#%% Get accuracies for a range of ks\n",
    "acc_tfidf = get_accuracy_vector(k_list, sim_tfidf, question_ids, question_ids)\n",
    "acc_bert = get_accuracy_vector(k_list, sim_BERT, question_ids, question_ids)\n",
    "acc_bert_finedtuned = get_accuracy_vector(k_list, sim_BERT_finetuned, question_ids, question_ids)\n",
    "acc_random = get_random_accuracy(k_list, n_evaluation)"
   ]
  },
  {
   "cell_type": "code",
   "execution_count": 34,
   "metadata": {
    "colab": {
     "base_uri": "https://localhost:8080/",
     "height": 283
    },
    "id": "n-4eK_eznMtu",
    "outputId": "ceedd3f4-ebe3-484f-b182-3aa67c1bb650"
   },
   "outputs": [
    {
     "data": {
      "image/png": "[encoded data removed]",
      "text/plain": [
       "<Figure size 432x288 with 1 Axes>"
      ]
     },
     "metadata": {
      "needs_background": "light",
      "tags": []
     },
     "output_type": "display_data"
    }
   ],
   "source": [
    "fig = plt.figure()\n",
    "plt.plot(k_list, acc_tfidf, label = 'Tf-idf')\n",
    "plt.plot(k_list, acc_bert, label = 'No finetuning')\n",
    "plt.plot(k_list, acc_random, label = 'Random')\n",
    "plt.plot(k_list, acc_bert_finedtuned, label = 'Finetune+concat layer 9-11')\n",
    "plt.ylim((0,100))\n",
    "plt.xlim((0,100))\n",
    "plt.legend(loc = 'lower center')\n",
    "plt.xlabel('k')\n",
    "plt.ylabel('Accuracy')\n",
    "plt.show()"
   ]
  },
  {
   "cell_type": "code",
   "execution_count": 35,
   "metadata": {
    "colab": {
     "base_uri": "https://localhost:8080/",
     "height": 166
    },
    "id": "FmQaSqhLntyr",
    "outputId": "02966a68-6ac7-4651-e094-01b60b181574"
   },
   "outputs": [
    {
     "data": {
      "text/html": [
       "<div>\n",
       "<style scoped>\n",
       "    .dataframe tbody tr th:only-of-type {\n",
       "        vertical-align: middle;\n",
       "    }\n",
       "\n",
       "    .dataframe tbody tr th {\n",
       "        vertical-align: top;\n",
       "    }\n",
       "\n",
       "    .dataframe thead th {\n",
       "        text-align: right;\n",
       "    }\n",
       "</style>\n",
       "<table border=\"1\" class=\"dataframe\">\n",
       "  <thead>\n",
       "    <tr style=\"text-align: right;\">\n",
       "      <th>k</th>\n",
       "      <th>5</th>\n",
       "      <th>20</th>\n",
       "      <th>100</th>\n",
       "    </tr>\n",
       "  </thead>\n",
       "  <tbody>\n",
       "    <tr>\n",
       "      <th>random</th>\n",
       "      <td>0.097656</td>\n",
       "      <td>1.074219</td>\n",
       "      <td>9.082031</td>\n",
       "    </tr>\n",
       "    <tr>\n",
       "      <th>tfidf</th>\n",
       "      <td>48.383838</td>\n",
       "      <td>62.121212</td>\n",
       "      <td>74.949495</td>\n",
       "    </tr>\n",
       "    <tr>\n",
       "      <th>no_finetune</th>\n",
       "      <td>3.838384</td>\n",
       "      <td>10.000000</td>\n",
       "      <td>25.353535</td>\n",
       "    </tr>\n",
       "    <tr>\n",
       "      <th>finetuned_9thTo11th</th>\n",
       "      <td>80.202020</td>\n",
       "      <td>90.101010</td>\n",
       "      <td>97.272727</td>\n",
       "    </tr>\n",
       "  </tbody>\n",
       "</table>\n",
       "</div>"
      ],
      "text/plain": [
       "k                          5          20         100\n",
       "random                0.097656   1.074219   9.082031\n",
       "tfidf                48.383838  62.121212  74.949495\n",
       "no_finetune           3.838384  10.000000  25.353535\n",
       "finetuned_9thTo11th  80.202020  90.101010  97.272727"
      ]
     },
     "execution_count": 35,
     "metadata": {
      "tags": []
     },
     "output_type": "execute_result"
    }
   ],
   "source": [
    "import pandas as pd\n",
    "all_accuracies = pd.DataFrame(list(zip(k_list, acc_random, acc_tfidf, acc_bert, acc_bert_finedtuned)), \n",
    "                              columns = ['k', 'random', 'tfidf', 'no_finetune', 'finetuned_9thTo11th'])\n",
    "report_df = all_accuracies.copy()\n",
    "report_df = report_df[report_df.k.isin([5,20,100])]\n",
    "report_df = report_df.set_index('k')\n",
    "report_df = report_df[['random', 'tfidf', 'no_finetune', 'finetuned_9thTo11th',]]\n",
    "report_df = report_df.transpose()\n",
    "report_df"
   ]
  },
  {
   "cell_type": "code",
   "execution_count": null,
   "metadata": {
    "id": "6jdXxKexoHCG"
   },
   "outputs": [],
   "source": []
  }
 ],
 "metadata": {
  "accelerator": "GPU",
  "colab": {
   "name": "Presentation of Main Results.ipynb",
   "provenance": []
  },
  "kernelspec": {
   "display_name": "Python 3",
   "language": "python",
   "name": "python3"
  },
  "language_info": {
   "codemirror_mode": {
    "name": "ipython",
    "version": 3
   },
   "file_extension": ".py",
   "mimetype": "text/x-python",
   "name": "python",
   "nbconvert_exporter": "python",
   "pygments_lexer": "ipython3",
   "version": "3.8.5"
  },
  "widgets": {
   "application/vnd.jupyter.widget-state+json": {
    "00b28e0819df4090a1f5a0810e8d5ccd": {
     "model_module": "@jupyter-widgets/base",
     "model_name": "LayoutModel",
     "state": {
      "_model_module": "@jupyter-widgets/base",
      "_model_module_version": "1.2.0",
      "_model_name": "LayoutModel",
      "_view_count": null,
      "_view_module": "@jupyter-widgets/base",
      "_view_module_version": "1.2.0",
      "_view_name": "LayoutView",
      "align_content": null,
      "align_items": null,
      "align_self": null,
      "border": null,
      "bottom": null,
      "display": null,
      "flex": null,
      "flex_flow": null,
      "grid_area": null,
      "grid_auto_columns": null,
      "grid_auto_flow": null,
      "grid_auto_rows": null,
      "grid_column": null,
      "grid_gap": null,
      "grid_row": null,
      "grid_template_areas": null,
      "grid_template_columns": null,
      "grid_template_rows": null,
      "height": null,
      "justify_content": null,
      "justify_items": null,
      "left": null,
      "margin": null,
      "max_height": null,
      "max_width": null,
      "min_height": null,
      "min_width": null,
      "object_fit": null,
      "object_position": null,
      "order": null,
      "overflow": null,
      "overflow_x": null,
      "overflow_y": null,
      "padding": null,
      "right": null,
      "top": null,
      "visibility": null,
      "width": null
     }
    },
    "0284969f9de0425b8112fe7a8b781eff": {
     "model_module": "@jupyter-widgets/controls",
     "model_name": "FloatProgressModel",
     "state": {
      "_dom_classes": [],
      "_model_module": "@jupyter-widgets/controls",
      "_model_module_version": "1.5.0",
      "_model_name": "FloatProgressModel",
      "_view_count": null,
      "_view_module": "@jupyter-widgets/controls",
      "_view_module_version": "1.5.0",
      "_view_name": "ProgressView",
      "bar_style": "success",
      "description": "100%",
      "description_tooltip": null,
      "layout": "IPY_MODEL_0a1fcaf34bdf41048577c3281c86c3ca",
      "max": 1417,
      "min": 0,
      "orientation": "horizontal",
      "style": "IPY_MODEL_7167eac9192a40bca1cc5685794e5112",
      "value": 1417
     }
    },
    "04ca822300c1460da00c4d169ad509c6": {
     "model_module": "@jupyter-widgets/controls",
     "model_name": "HTMLModel",
     "state": {
      "_dom_classes": [],
      "_model_module": "@jupyter-widgets/controls",
      "_model_module_version": "1.5.0",
      "_model_name": "HTMLModel",
      "_view_count": null,
      "_view_module": "@jupyter-widgets/controls",
      "_view_module_version": "1.5.0",
      "_view_name": "HTMLView",
      "description": "",
      "description_tooltip": null,
      "layout": "IPY_MODEL_589b5e9312ca4a4bb8aded11d3b6f1e9",
      "placeholder": "​",
      "style": "IPY_MODEL_74556b39f3e74a13ac9fb71f77b7474f",
      "value": " 2000/2000 [00:01&lt;00:00, 1933.19ex/s]"
     }
    },
    "07de3014a4504360afd59c0e479b6158": {
     "model_module": "@jupyter-widgets/base",
     "model_name": "LayoutModel",
     "state": {
      "_model_module": "@jupyter-widgets/base",
      "_model_module_version": "1.2.0",
      "_model_name": "LayoutModel",
      "_view_count": null,
      "_view_module": "@jupyter-widgets/base",
      "_view_module_version": "1.2.0",
      "_view_name": "LayoutView",
      "align_content": null,
      "align_items": null,
      "align_self": null,
      "border": null,
      "bottom": null,
      "display": null,
      "flex": null,
      "flex_flow": null,
      "grid_area": null,
      "grid_auto_columns": null,
      "grid_auto_flow": null,
      "grid_auto_rows": null,
      "grid_column": null,
      "grid_gap": null,
      "grid_row": null,
      "grid_template_areas": null,
      "grid_template_columns": null,
      "grid_template_rows": null,
      "height": null,
      "justify_content": null,
      "justify_items": null,
      "left": null,
      "margin": null,
      "max_height": null,
      "max_width": null,
      "min_height": null,
      "min_width": null,
      "object_fit": null,
      "object_position": null,
      "order": null,
      "overflow": null,
      "overflow_x": null,
      "overflow_y": null,
      "padding": null,
      "right": null,
      "top": null,
      "visibility": null,
      "width": null
     }
    },
    "0a1fcaf34bdf41048577c3281c86c3ca": {
     "model_module": "@jupyter-widgets/base",
     "model_name": "LayoutModel",
     "state": {
      "_model_module": "@jupyter-widgets/base",
      "_model_module_version": "1.2.0",
      "_model_name": "LayoutModel",
      "_view_count": null,
      "_view_module": "@jupyter-widgets/base",
      "_view_module_version": "1.2.0",
      "_view_name": "LayoutView",
      "align_content": null,
      "align_items": null,
      "align_self": null,
      "border": null,
      "bottom": null,
      "display": null,
      "flex": null,
      "flex_flow": null,
      "grid_area": null,
      "grid_auto_columns": null,
      "grid_auto_flow": null,
      "grid_auto_rows": null,
      "grid_column": null,
      "grid_gap": null,
      "grid_row": null,
      "grid_template_areas": null,
      "grid_template_columns": null,
      "grid_template_rows": null,
      "height": null,
      "justify_content": null,
      "justify_items": null,
      "left": null,
      "margin": null,
      "max_height": null,
      "max_width": null,
      "min_height": null,
      "min_width": null,
      "object_fit": null,
      "object_position": null,
      "order": null,
      "overflow": null,
      "overflow_x": null,
      "overflow_y": null,
      "padding": null,
      "right": null,
      "top": null,
      "visibility": null,
      "width": null
     }
    },
    "0a53743549d34705bbd95ef26eeff16e": {
     "model_module": "@jupyter-widgets/controls",
     "model_name": "DescriptionStyleModel",
     "state": {
      "_model_module": "@jupyter-widgets/controls",
      "_model_module_version": "1.5.0",
      "_model_name": "DescriptionStyleModel",
      "_view_count": null,
      "_view_module": "@jupyter-widgets/base",
      "_view_module_version": "1.2.0",
      "_view_name": "StyleView",
      "description_width": ""
     }
    },
    "0e46063a6c9045fd812a928c95fae359": {
     "model_module": "@jupyter-widgets/controls",
     "model_name": "HBoxModel",
     "state": {
      "_dom_classes": [],
      "_model_module": "@jupyter-widgets/controls",
      "_model_module_version": "1.5.0",
      "_model_name": "HBoxModel",
      "_view_count": null,
      "_view_module": "@jupyter-widgets/controls",
      "_view_module_version": "1.5.0",
      "_view_name": "HBoxView",
      "box_style": "",
      "children": [
       "IPY_MODEL_7b33c4efd3df46078403a8956ab8b9bf",
       "IPY_MODEL_04ca822300c1460da00c4d169ad509c6"
      ],
      "layout": "IPY_MODEL_a3899198bcd34142894f1b058a5e7b7d"
     }
    },
    "0f195841848b4feab0c80a5ba004f65e": {
     "model_module": "@jupyter-widgets/controls",
     "model_name": "ProgressStyleModel",
     "state": {
      "_model_module": "@jupyter-widgets/controls",
      "_model_module_version": "1.5.0",
      "_model_name": "ProgressStyleModel",
      "_view_count": null,
      "_view_module": "@jupyter-widgets/base",
      "_view_module_version": "1.2.0",
      "_view_name": "StyleView",
      "bar_color": null,
      "description_width": "initial"
     }
    },
    "13608d7316bc49c0adb1a9f83cf09f02": {
     "model_module": "@jupyter-widgets/controls",
     "model_name": "ProgressStyleModel",
     "state": {
      "_model_module": "@jupyter-widgets/controls",
      "_model_module_version": "1.5.0",
      "_model_name": "ProgressStyleModel",
      "_view_count": null,
      "_view_module": "@jupyter-widgets/base",
      "_view_module_version": "1.2.0",
      "_view_name": "StyleView",
      "bar_color": null,
      "description_width": "initial"
     }
    },
    "1943ab1df4854684b4523e20fa026e84": {
     "model_module": "@jupyter-widgets/base",
     "model_name": "LayoutModel",
     "state": {
      "_model_module": "@jupyter-widgets/base",
      "_model_module_version": "1.2.0",
      "_model_name": "LayoutModel",
      "_view_count": null,
      "_view_module": "@jupyter-widgets/base",
      "_view_module_version": "1.2.0",
      "_view_name": "LayoutView",
      "align_content": null,
      "align_items": null,
      "align_self": null,
      "border": null,
      "bottom": null,
      "display": null,
      "flex": null,
      "flex_flow": null,
      "grid_area": null,
      "grid_auto_columns": null,
      "grid_auto_flow": null,
      "grid_auto_rows": null,
      "grid_column": null,
      "grid_gap": null,
      "grid_row": null,
      "grid_template_areas": null,
      "grid_template_columns": null,
      "grid_template_rows": null,
      "height": null,
      "justify_content": null,
      "justify_items": null,
      "left": null,
      "margin": null,
      "max_height": null,
      "max_width": null,
      "min_height": null,
      "min_width": null,
      "object_fit": null,
      "object_position": null,
      "order": null,
      "overflow": null,
      "overflow_x": null,
      "overflow_y": null,
      "padding": null,
      "right": null,
      "top": null,
      "visibility": null,
      "width": null
     }
    },
    "1db3a6dc98f142829720be560ed53ecd": {
     "model_module": "@jupyter-widgets/base",
     "model_name": "LayoutModel",
     "state": {
      "_model_module": "@jupyter-widgets/base",
      "_model_module_version": "1.2.0",
      "_model_name": "LayoutModel",
      "_view_count": null,
      "_view_module": "@jupyter-widgets/base",
      "_view_module_version": "1.2.0",
      "_view_name": "LayoutView",
      "align_content": null,
      "align_items": null,
      "align_self": null,
      "border": null,
      "bottom": null,
      "display": null,
      "flex": null,
      "flex_flow": null,
      "grid_area": null,
      "grid_auto_columns": null,
      "grid_auto_flow": null,
      "grid_auto_rows": null,
      "grid_column": null,
      "grid_gap": null,
      "grid_row": null,
      "grid_template_areas": null,
      "grid_template_columns": null,
      "grid_template_rows": null,
      "height": null,
      "justify_content": null,
      "justify_items": null,
      "left": null,
      "margin": null,
      "max_height": null,
      "max_width": null,
      "min_height": null,
      "min_width": null,
      "object_fit": null,
      "object_position": null,
      "order": null,
      "overflow": null,
      "overflow_x": null,
      "overflow_y": null,
      "padding": null,
      "right": null,
      "top": null,
      "visibility": null,
      "width": null
     }
    },
    "20dfa0db481c42c7931cc49e7097f232": {
     "model_module": "@jupyter-widgets/controls",
     "model_name": "HBoxModel",
     "state": {
      "_dom_classes": [],
      "_model_module": "@jupyter-widgets/controls",
      "_model_module_version": "1.5.0",
      "_model_name": "HBoxModel",
      "_view_count": null,
      "_view_module": "@jupyter-widgets/controls",
      "_view_module_version": "1.5.0",
      "_view_name": "HBoxView",
      "box_style": "",
      "children": [
       "IPY_MODEL_c459b6b1522945ce938d574e92051338",
       "IPY_MODEL_5410c6688d704744a38a5065f73cdec4"
      ],
      "layout": "IPY_MODEL_26c9f33d5ae9449aa241bb53b65271aa"
     }
    },
    "214298d47ee047d6abe657c5c59b1583": {
     "model_module": "@jupyter-widgets/base",
     "model_name": "LayoutModel",
     "state": {
      "_model_module": "@jupyter-widgets/base",
      "_model_module_version": "1.2.0",
      "_model_name": "LayoutModel",
      "_view_count": null,
      "_view_module": "@jupyter-widgets/base",
      "_view_module_version": "1.2.0",
      "_view_name": "LayoutView",
      "align_content": null,
      "align_items": null,
      "align_self": null,
      "border": null,
      "bottom": null,
      "display": null,
      "flex": null,
      "flex_flow": null,
      "grid_area": null,
      "grid_auto_columns": null,
      "grid_auto_flow": null,
      "grid_auto_rows": null,
      "grid_column": null,
      "grid_gap": null,
      "grid_row": null,
      "grid_template_areas": null,
      "grid_template_columns": null,
      "grid_template_rows": null,
      "height": null,
      "justify_content": null,
      "justify_items": null,
      "left": null,
      "margin": null,
      "max_height": null,
      "max_width": null,
      "min_height": null,
      "min_width": null,
      "object_fit": null,
      "object_position": null,
      "order": null,
      "overflow": null,
      "overflow_x": null,
      "overflow_y": null,
      "padding": null,
      "right": null,
      "top": null,
      "visibility": null,
      "width": null
     }
    },
    "21e15c6972f0439bb2c1d1ab6936abe1": {
     "model_module": "@jupyter-widgets/base",
     "model_name": "LayoutModel",
     "state": {
      "_model_module": "@jupyter-widgets/base",
      "_model_module_version": "1.2.0",
      "_model_name": "LayoutModel",
      "_view_count": null,
      "_view_module": "@jupyter-widgets/base",
      "_view_module_version": "1.2.0",
      "_view_name": "LayoutView",
      "align_content": null,
      "align_items": null,
      "align_self": null,
      "border": null,
      "bottom": null,
      "display": null,
      "flex": null,
      "flex_flow": null,
      "grid_area": null,
      "grid_auto_columns": null,
      "grid_auto_flow": null,
      "grid_auto_rows": null,
      "grid_column": null,
      "grid_gap": null,
      "grid_row": null,
      "grid_template_areas": null,
      "grid_template_columns": null,
      "grid_template_rows": null,
      "height": null,
      "justify_content": null,
      "justify_items": null,
      "left": null,
      "margin": null,
      "max_height": null,
      "max_width": null,
      "min_height": null,
      "min_width": null,
      "object_fit": null,
      "object_position": null,
      "order": null,
      "overflow": null,
      "overflow_x": null,
      "overflow_y": null,
      "padding": null,
      "right": null,
      "top": null,
      "visibility": null,
      "width": null
     }
    },
    "26c9f33d5ae9449aa241bb53b65271aa": {
     "model_module": "@jupyter-widgets/base",
     "model_name": "LayoutModel",
     "state": {
      "_model_module": "@jupyter-widgets/base",
      "_model_module_version": "1.2.0",
      "_model_name": "LayoutModel",
      "_view_count": null,
      "_view_module": "@jupyter-widgets/base",
      "_view_module_version": "1.2.0",
      "_view_name": "LayoutView",
      "align_content": null,
      "align_items": null,
      "align_self": null,
      "border": null,
      "bottom": null,
      "display": null,
      "flex": null,
      "flex_flow": null,
      "grid_area": null,
      "grid_auto_columns": null,
      "grid_auto_flow": null,
      "grid_auto_rows": null,
      "grid_column": null,
      "grid_gap": null,
      "grid_row": null,
      "grid_template_areas": null,
      "grid_template_columns": null,
      "grid_template_rows": null,
      "height": null,
      "justify_content": null,
      "justify_items": null,
      "left": null,
      "margin": null,
      "max_height": null,
      "max_width": null,
      "min_height": null,
      "min_width": null,
      "object_fit": null,
      "object_position": null,
      "order": null,
      "overflow": null,
      "overflow_x": null,
      "overflow_y": null,
      "padding": null,
      "right": null,
      "top": null,
      "visibility": null,
      "width": null
     }
    },
    "2e6929a295684313967979d0a85da351": {
     "model_module": "@jupyter-widgets/controls",
     "model_name": "DescriptionStyleModel",
     "state": {
      "_model_module": "@jupyter-widgets/controls",
      "_model_module_version": "1.5.0",
      "_model_name": "DescriptionStyleModel",
      "_view_count": null,
      "_view_module": "@jupyter-widgets/base",
      "_view_module_version": "1.2.0",
      "_view_name": "StyleView",
      "description_width": ""
     }
    },
    "33b2ff9e1e724d88b33903148319fe34": {
     "model_module": "@jupyter-widgets/base",
     "model_name": "LayoutModel",
     "state": {
      "_model_module": "@jupyter-widgets/base",
      "_model_module_version": "1.2.0",
      "_model_name": "LayoutModel",
      "_view_count": null,
      "_view_module": "@jupyter-widgets/base",
      "_view_module_version": "1.2.0",
      "_view_name": "LayoutView",
      "align_content": null,
      "align_items": null,
      "align_self": null,
      "border": null,
      "bottom": null,
      "display": null,
      "flex": null,
      "flex_flow": null,
      "grid_area": null,
      "grid_auto_columns": null,
      "grid_auto_flow": null,
      "grid_auto_rows": null,
      "grid_column": null,
      "grid_gap": null,
      "grid_row": null,
      "grid_template_areas": null,
      "grid_template_columns": null,
      "grid_template_rows": null,
      "height": null,
      "justify_content": null,
      "justify_items": null,
      "left": null,
      "margin": null,
      "max_height": null,
      "max_width": null,
      "min_height": null,
      "min_width": null,
      "object_fit": null,
      "object_position": null,
      "order": null,
      "overflow": null,
      "overflow_x": null,
      "overflow_y": null,
      "padding": null,
      "right": null,
      "top": null,
      "visibility": null,
      "width": null
     }
    },
    "37206b261279473aa227db2f89056319": {
     "model_module": "@jupyter-widgets/base",
     "model_name": "LayoutModel",
     "state": {
      "_model_module": "@jupyter-widgets/base",
      "_model_module_version": "1.2.0",
      "_model_name": "LayoutModel",
      "_view_count": null,
      "_view_module": "@jupyter-widgets/base",
      "_view_module_version": "1.2.0",
      "_view_name": "LayoutView",
      "align_content": null,
      "align_items": null,
      "align_self": null,
      "border": null,
      "bottom": null,
      "display": null,
      "flex": null,
      "flex_flow": null,
      "grid_area": null,
      "grid_auto_columns": null,
      "grid_auto_flow": null,
      "grid_auto_rows": null,
      "grid_column": null,
      "grid_gap": null,
      "grid_row": null,
      "grid_template_areas": null,
      "grid_template_columns": null,
      "grid_template_rows": null,
      "height": null,
      "justify_content": null,
      "justify_items": null,
      "left": null,
      "margin": null,
      "max_height": null,
      "max_width": null,
      "min_height": null,
      "min_width": null,
      "object_fit": null,
      "object_position": null,
      "order": null,
      "overflow": null,
      "overflow_x": null,
      "overflow_y": null,
      "padding": null,
      "right": null,
      "top": null,
      "visibility": null,
      "width": null
     }
    },
    "3cd45110fa01471b819a2d672ae30534": {
     "model_module": "@jupyter-widgets/controls",
     "model_name": "DescriptionStyleModel",
     "state": {
      "_model_module": "@jupyter-widgets/controls",
      "_model_module_version": "1.5.0",
      "_model_name": "DescriptionStyleModel",
      "_view_count": null,
      "_view_module": "@jupyter-widgets/base",
      "_view_module_version": "1.2.0",
      "_view_name": "StyleView",
      "description_width": ""
     }
    },
    "422ba21a27514a3c891ba3ef40e8e632": {
     "model_module": "@jupyter-widgets/controls",
     "model_name": "DescriptionStyleModel",
     "state": {
      "_model_module": "@jupyter-widgets/controls",
      "_model_module_version": "1.5.0",
      "_model_name": "DescriptionStyleModel",
      "_view_count": null,
      "_view_module": "@jupyter-widgets/base",
      "_view_module_version": "1.2.0",
      "_view_name": "StyleView",
      "description_width": ""
     }
    },
    "4ab15b4b85794b87b2ff601fc0248194": {
     "model_module": "@jupyter-widgets/base",
     "model_name": "LayoutModel",
     "state": {
      "_model_module": "@jupyter-widgets/base",
      "_model_module_version": "1.2.0",
      "_model_name": "LayoutModel",
      "_view_count": null,
      "_view_module": "@jupyter-widgets/base",
      "_view_module_version": "1.2.0",
      "_view_name": "LayoutView",
      "align_content": null,
      "align_items": null,
      "align_self": null,
      "border": null,
      "bottom": null,
      "display": null,
      "flex": null,
      "flex_flow": null,
      "grid_area": null,
      "grid_auto_columns": null,
      "grid_auto_flow": null,
      "grid_auto_rows": null,
      "grid_column": null,
      "grid_gap": null,
      "grid_row": null,
      "grid_template_areas": null,
      "grid_template_columns": null,
      "grid_template_rows": null,
      "height": null,
      "justify_content": null,
      "justify_items": null,
      "left": null,
      "margin": null,
      "max_height": null,
      "max_width": null,
      "min_height": null,
      "min_width": null,
      "object_fit": null,
      "object_position": null,
      "order": null,
      "overflow": null,
      "overflow_x": null,
      "overflow_y": null,
      "padding": null,
      "right": null,
      "top": null,
      "visibility": null,
      "width": null
     }
    },
    "4b4b45f4f7b8423aaab46aa19a002fcf": {
     "model_module": "@jupyter-widgets/base",
     "model_name": "LayoutModel",
     "state": {
      "_model_module": "@jupyter-widgets/base",
      "_model_module_version": "1.2.0",
      "_model_name": "LayoutModel",
      "_view_count": null,
      "_view_module": "@jupyter-widgets/base",
      "_view_module_version": "1.2.0",
      "_view_name": "LayoutView",
      "align_content": null,
      "align_items": null,
      "align_self": null,
      "border": null,
      "bottom": null,
      "display": null,
      "flex": null,
      "flex_flow": null,
      "grid_area": null,
      "grid_auto_columns": null,
      "grid_auto_flow": null,
      "grid_auto_rows": null,
      "grid_column": null,
      "grid_gap": null,
      "grid_row": null,
      "grid_template_areas": null,
      "grid_template_columns": null,
      "grid_template_rows": null,
      "height": null,
      "justify_content": null,
      "justify_items": null,
      "left": null,
      "margin": null,
      "max_height": null,
      "max_width": null,
      "min_height": null,
      "min_width": null,
      "object_fit": null,
      "object_position": null,
      "order": null,
      "overflow": null,
      "overflow_x": null,
      "overflow_y": null,
      "padding": null,
      "right": null,
      "top": null,
      "visibility": null,
      "width": null
     }
    },
    "4c7d4360df45485fbe3c82ae739bcc03": {
     "model_module": "@jupyter-widgets/base",
     "model_name": "LayoutModel",
     "state": {
      "_model_module": "@jupyter-widgets/base",
      "_model_module_version": "1.2.0",
      "_model_name": "LayoutModel",
      "_view_count": null,
      "_view_module": "@jupyter-widgets/base",
      "_view_module_version": "1.2.0",
      "_view_name": "LayoutView",
      "align_content": null,
      "align_items": null,
      "align_self": null,
      "border": null,
      "bottom": null,
      "display": null,
      "flex": null,
      "flex_flow": null,
      "grid_area": null,
      "grid_auto_columns": null,
      "grid_auto_flow": null,
      "grid_auto_rows": null,
      "grid_column": null,
      "grid_gap": null,
      "grid_row": null,
      "grid_template_areas": null,
      "grid_template_columns": null,
      "grid_template_rows": null,
      "height": null,
      "justify_content": null,
      "justify_items": null,
      "left": null,
      "margin": null,
      "max_height": null,
      "max_width": null,
      "min_height": null,
      "min_width": null,
      "object_fit": null,
      "object_position": null,
      "order": null,
      "overflow": null,
      "overflow_x": null,
      "overflow_y": null,
      "padding": null,
      "right": null,
      "top": null,
      "visibility": null,
      "width": null
     }
    },
    "4f5c8f56d3e7416a8f1ea8b78a495b3a": {
     "model_module": "@jupyter-widgets/controls",
     "model_name": "FloatProgressModel",
     "state": {
      "_dom_classes": [],
      "_model_module": "@jupyter-widgets/controls",
      "_model_module_version": "1.5.0",
      "_model_name": "FloatProgressModel",
      "_view_count": null,
      "_view_module": "@jupyter-widgets/controls",
      "_view_module_version": "1.5.0",
      "_view_name": "ProgressView",
      "bar_style": "success",
      "description": "100%",
      "description_tooltip": null,
      "layout": "IPY_MODEL_33b2ff9e1e724d88b33903148319fe34",
      "max": 1417,
      "min": 0,
      "orientation": "horizontal",
      "style": "IPY_MODEL_c105e2cc46804f7ab948a245814a91e2",
      "value": 1417
     }
    },
    "507fe352c1f34fed8b24b07c7a6aedae": {
     "model_module": "@jupyter-widgets/controls",
     "model_name": "DescriptionStyleModel",
     "state": {
      "_model_module": "@jupyter-widgets/controls",
      "_model_module_version": "1.5.0",
      "_model_name": "DescriptionStyleModel",
      "_view_count": null,
      "_view_module": "@jupyter-widgets/base",
      "_view_module_version": "1.2.0",
      "_view_name": "StyleView",
      "description_width": ""
     }
    },
    "51f49ae194e24873a05462f7c89eef50": {
     "model_module": "@jupyter-widgets/controls",
     "model_name": "FloatProgressModel",
     "state": {
      "_dom_classes": [],
      "_model_module": "@jupyter-widgets/controls",
      "_model_module_version": "1.5.0",
      "_model_name": "FloatProgressModel",
      "_view_count": null,
      "_view_module": "@jupyter-widgets/controls",
      "_view_module_version": "1.5.0",
      "_view_name": "ProgressView",
      "bar_style": "success",
      "description": "100%",
      "description_tooltip": null,
      "layout": "IPY_MODEL_99f0457c2fbe4d91bb95a3629c28862c",
      "max": 2,
      "min": 0,
      "orientation": "horizontal",
      "style": "IPY_MODEL_e6f1719766dc4c2d9d7abf281133a774",
      "value": 2
     }
    },
    "531484a82ce74b74bfd73ddb96f74fea": {
     "model_module": "@jupyter-widgets/base",
     "model_name": "LayoutModel",
     "state": {
      "_model_module": "@jupyter-widgets/base",
      "_model_module_version": "1.2.0",
      "_model_name": "LayoutModel",
      "_view_count": null,
      "_view_module": "@jupyter-widgets/base",
      "_view_module_version": "1.2.0",
      "_view_name": "LayoutView",
      "align_content": null,
      "align_items": null,
      "align_self": null,
      "border": null,
      "bottom": null,
      "display": null,
      "flex": null,
      "flex_flow": null,
      "grid_area": null,
      "grid_auto_columns": null,
      "grid_auto_flow": null,
      "grid_auto_rows": null,
      "grid_column": null,
      "grid_gap": null,
      "grid_row": null,
      "grid_template_areas": null,
      "grid_template_columns": null,
      "grid_template_rows": null,
      "height": null,
      "justify_content": null,
      "justify_items": null,
      "left": null,
      "margin": null,
      "max_height": null,
      "max_width": null,
      "min_height": null,
      "min_width": null,
      "object_fit": null,
      "object_position": null,
      "order": null,
      "overflow": null,
      "overflow_x": null,
      "overflow_y": null,
      "padding": null,
      "right": null,
      "top": null,
      "visibility": null,
      "width": null
     }
    },
    "5345dabf11cc45e38d08295cb143f5a7": {
     "model_module": "@jupyter-widgets/controls",
     "model_name": "DescriptionStyleModel",
     "state": {
      "_model_module": "@jupyter-widgets/controls",
      "_model_module_version": "1.5.0",
      "_model_name": "DescriptionStyleModel",
      "_view_count": null,
      "_view_module": "@jupyter-widgets/base",
      "_view_module_version": "1.2.0",
      "_view_name": "StyleView",
      "description_width": ""
     }
    },
    "5410c6688d704744a38a5065f73cdec4": {
     "model_module": "@jupyter-widgets/controls",
     "model_name": "HTMLModel",
     "state": {
      "_dom_classes": [],
      "_model_module": "@jupyter-widgets/controls",
      "_model_module_version": "1.5.0",
      "_model_name": "HTMLModel",
      "_view_count": null,
      "_view_module": "@jupyter-widgets/controls",
      "_view_module_version": "1.5.0",
      "_view_name": "HTMLView",
      "description": "",
      "description_tooltip": null,
      "layout": "IPY_MODEL_07de3014a4504360afd59c0e479b6158",
      "placeholder": "​",
      "style": "IPY_MODEL_a60a310d62b249c7ad2de0e2290b5c00",
      "value": " 433/433 [00:00&lt;00:00, 2.02kB/s]"
     }
    },
    "54208ff603c24a87a6cd4afeb79fa4e0": {
     "model_module": "@jupyter-widgets/controls",
     "model_name": "HTMLModel",
     "state": {
      "_dom_classes": [],
      "_model_module": "@jupyter-widgets/controls",
      "_model_module_version": "1.5.0",
      "_model_name": "HTMLModel",
      "_view_count": null,
      "_view_module": "@jupyter-widgets/controls",
      "_view_module_version": "1.5.0",
      "_view_name": "HTMLView",
      "description": "",
      "description_tooltip": null,
      "layout": "IPY_MODEL_d2cbc0973e034d6aa741a5cea63f0dfe",
      "placeholder": "​",
      "style": "IPY_MODEL_0a53743549d34705bbd95ef26eeff16e",
      "value": " 232k/232k [00:02&lt;00:00, 82.5kB/s]"
     }
    },
    "543b62fc133044598099a74a5c8a1a43": {
     "model_module": "@jupyter-widgets/controls",
     "model_name": "DescriptionStyleModel",
     "state": {
      "_model_module": "@jupyter-widgets/controls",
      "_model_module_version": "1.5.0",
      "_model_name": "DescriptionStyleModel",
      "_view_count": null,
      "_view_module": "@jupyter-widgets/base",
      "_view_module_version": "1.2.0",
      "_view_name": "StyleView",
      "description_width": ""
     }
    },
    "5489a44368dc45678ca2bf668049f277": {
     "model_module": "@jupyter-widgets/base",
     "model_name": "LayoutModel",
     "state": {
      "_model_module": "@jupyter-widgets/base",
      "_model_module_version": "1.2.0",
      "_model_name": "LayoutModel",
      "_view_count": null,
      "_view_module": "@jupyter-widgets/base",
      "_view_module_version": "1.2.0",
      "_view_name": "LayoutView",
      "align_content": null,
      "align_items": null,
      "align_self": null,
      "border": null,
      "bottom": null,
      "display": null,
      "flex": null,
      "flex_flow": null,
      "grid_area": null,
      "grid_auto_columns": null,
      "grid_auto_flow": null,
      "grid_auto_rows": null,
      "grid_column": null,
      "grid_gap": null,
      "grid_row": null,
      "grid_template_areas": null,
      "grid_template_columns": null,
      "grid_template_rows": null,
      "height": null,
      "justify_content": null,
      "justify_items": null,
      "left": null,
      "margin": null,
      "max_height": null,
      "max_width": null,
      "min_height": null,
      "min_width": null,
      "object_fit": null,
      "object_position": null,
      "order": null,
      "overflow": null,
      "overflow_x": null,
      "overflow_y": null,
      "padding": null,
      "right": null,
      "top": null,
      "visibility": null,
      "width": null
     }
    },
    "58358d79e0c245c1a014b74fa89a9c6f": {
     "model_module": "@jupyter-widgets/controls",
     "model_name": "HTMLModel",
     "state": {
      "_dom_classes": [],
      "_model_module": "@jupyter-widgets/controls",
      "_model_module_version": "1.5.0",
      "_model_name": "HTMLModel",
      "_view_count": null,
      "_view_module": "@jupyter-widgets/controls",
      "_view_module_version": "1.5.0",
      "_view_name": "HTMLView",
      "description": "",
      "description_tooltip": null,
      "layout": "IPY_MODEL_4b4b45f4f7b8423aaab46aa19a002fcf",
      "placeholder": "​",
      "style": "IPY_MODEL_3cd45110fa01471b819a2d672ae30534",
      "value": " 1417/1417 [10:16&lt;00:00,  2.30ex/s]"
     }
    },
    "589b5e9312ca4a4bb8aded11d3b6f1e9": {
     "model_module": "@jupyter-widgets/base",
     "model_name": "LayoutModel",
     "state": {
      "_model_module": "@jupyter-widgets/base",
      "_model_module_version": "1.2.0",
      "_model_name": "LayoutModel",
      "_view_count": null,
      "_view_module": "@jupyter-widgets/base",
      "_view_module_version": "1.2.0",
      "_view_name": "LayoutView",
      "align_content": null,
      "align_items": null,
      "align_self": null,
      "border": null,
      "bottom": null,
      "display": null,
      "flex": null,
      "flex_flow": null,
      "grid_area": null,
      "grid_auto_columns": null,
      "grid_auto_flow": null,
      "grid_auto_rows": null,
      "grid_column": null,
      "grid_gap": null,
      "grid_row": null,
      "grid_template_areas": null,
      "grid_template_columns": null,
      "grid_template_rows": null,
      "height": null,
      "justify_content": null,
      "justify_items": null,
      "left": null,
      "margin": null,
      "max_height": null,
      "max_width": null,
      "min_height": null,
      "min_width": null,
      "object_fit": null,
      "object_position": null,
      "order": null,
      "overflow": null,
      "overflow_x": null,
      "overflow_y": null,
      "padding": null,
      "right": null,
      "top": null,
      "visibility": null,
      "width": null
     }
    },
    "6004aa5f00eb40eaa37c95c5eabae3fa": {
     "model_module": "@jupyter-widgets/base",
     "model_name": "LayoutModel",
     "state": {
      "_model_module": "@jupyter-widgets/base",
      "_model_module_version": "1.2.0",
      "_model_name": "LayoutModel",
      "_view_count": null,
      "_view_module": "@jupyter-widgets/base",
      "_view_module_version": "1.2.0",
      "_view_name": "LayoutView",
      "align_content": null,
      "align_items": null,
      "align_self": null,
      "border": null,
      "bottom": null,
      "display": null,
      "flex": null,
      "flex_flow": null,
      "grid_area": null,
      "grid_auto_columns": null,
      "grid_auto_flow": null,
      "grid_auto_rows": null,
      "grid_column": null,
      "grid_gap": null,
      "grid_row": null,
      "grid_template_areas": null,
      "grid_template_columns": null,
      "grid_template_rows": null,
      "height": null,
      "justify_content": null,
      "justify_items": null,
      "left": null,
      "margin": null,
      "max_height": null,
      "max_width": null,
      "min_height": null,
      "min_width": null,
      "object_fit": null,
      "object_position": null,
      "order": null,
      "overflow": null,
      "overflow_x": null,
      "overflow_y": null,
      "padding": null,
      "right": null,
      "top": null,
      "visibility": null,
      "width": null
     }
    },
    "6379535a607b4736a8fe0d15ff172868": {
     "model_module": "@jupyter-widgets/controls",
     "model_name": "ProgressStyleModel",
     "state": {
      "_model_module": "@jupyter-widgets/controls",
      "_model_module_version": "1.5.0",
      "_model_name": "ProgressStyleModel",
      "_view_count": null,
      "_view_module": "@jupyter-widgets/base",
      "_view_module_version": "1.2.0",
      "_view_name": "StyleView",
      "bar_color": null,
      "description_width": "initial"
     }
    },
    "648aa57dc8034f8c910ab272d537b002": {
     "model_module": "@jupyter-widgets/controls",
     "model_name": "FloatProgressModel",
     "state": {
      "_dom_classes": [],
      "_model_module": "@jupyter-widgets/controls",
      "_model_module_version": "1.5.0",
      "_model_name": "FloatProgressModel",
      "_view_count": null,
      "_view_module": "@jupyter-widgets/controls",
      "_view_module_version": "1.5.0",
      "_view_name": "ProgressView",
      "bar_style": "success",
      "description": "Downloading: 100%",
      "description_tooltip": null,
      "layout": "IPY_MODEL_6b079468f60148a9b43a5721cbbe5b2f",
      "max": 466062,
      "min": 0,
      "orientation": "horizontal",
      "style": "IPY_MODEL_0f195841848b4feab0c80a5ba004f65e",
      "value": 466062
     }
    },
    "663511e95c9a4141878cfad442dbde7d": {
     "model_module": "@jupyter-widgets/base",
     "model_name": "LayoutModel",
     "state": {
      "_model_module": "@jupyter-widgets/base",
      "_model_module_version": "1.2.0",
      "_model_name": "LayoutModel",
      "_view_count": null,
      "_view_module": "@jupyter-widgets/base",
      "_view_module_version": "1.2.0",
      "_view_name": "LayoutView",
      "align_content": null,
      "align_items": null,
      "align_self": null,
      "border": null,
      "bottom": null,
      "display": null,
      "flex": null,
      "flex_flow": null,
      "grid_area": null,
      "grid_auto_columns": null,
      "grid_auto_flow": null,
      "grid_auto_rows": null,
      "grid_column": null,
      "grid_gap": null,
      "grid_row": null,
      "grid_template_areas": null,
      "grid_template_columns": null,
      "grid_template_rows": null,
      "height": null,
      "justify_content": null,
      "justify_items": null,
      "left": null,
      "margin": null,
      "max_height": null,
      "max_width": null,
      "min_height": null,
      "min_width": null,
      "object_fit": null,
      "object_position": null,
      "order": null,
      "overflow": null,
      "overflow_x": null,
      "overflow_y": null,
      "padding": null,
      "right": null,
      "top": null,
      "visibility": null,
      "width": null
     }
    },
    "6b079468f60148a9b43a5721cbbe5b2f": {
     "model_module": "@jupyter-widgets/base",
     "model_name": "LayoutModel",
     "state": {
      "_model_module": "@jupyter-widgets/base",
      "_model_module_version": "1.2.0",
      "_model_name": "LayoutModel",
      "_view_count": null,
      "_view_module": "@jupyter-widgets/base",
      "_view_module_version": "1.2.0",
      "_view_name": "LayoutView",
      "align_content": null,
      "align_items": null,
      "align_self": null,
      "border": null,
      "bottom": null,
      "display": null,
      "flex": null,
      "flex_flow": null,
      "grid_area": null,
      "grid_auto_columns": null,
      "grid_auto_flow": null,
      "grid_auto_rows": null,
      "grid_column": null,
      "grid_gap": null,
      "grid_row": null,
      "grid_template_areas": null,
      "grid_template_columns": null,
      "grid_template_rows": null,
      "height": null,
      "justify_content": null,
      "justify_items": null,
      "left": null,
      "margin": null,
      "max_height": null,
      "max_width": null,
      "min_height": null,
      "min_width": null,
      "object_fit": null,
      "object_position": null,
      "order": null,
      "overflow": null,
      "overflow_x": null,
      "overflow_y": null,
      "padding": null,
      "right": null,
      "top": null,
      "visibility": null,
      "width": null
     }
    },
    "6fa436fb931a496bb67fe2dddb6ee95f": {
     "model_module": "@jupyter-widgets/controls",
     "model_name": "ProgressStyleModel",
     "state": {
      "_model_module": "@jupyter-widgets/controls",
      "_model_module_version": "1.5.0",
      "_model_name": "ProgressStyleModel",
      "_view_count": null,
      "_view_module": "@jupyter-widgets/base",
      "_view_module_version": "1.2.0",
      "_view_name": "StyleView",
      "bar_color": null,
      "description_width": "initial"
     }
    },
    "7167eac9192a40bca1cc5685794e5112": {
     "model_module": "@jupyter-widgets/controls",
     "model_name": "ProgressStyleModel",
     "state": {
      "_model_module": "@jupyter-widgets/controls",
      "_model_module_version": "1.5.0",
      "_model_name": "ProgressStyleModel",
      "_view_count": null,
      "_view_module": "@jupyter-widgets/base",
      "_view_module_version": "1.2.0",
      "_view_name": "StyleView",
      "bar_color": null,
      "description_width": "initial"
     }
    },
    "727e19ba9a264176850ca43f757a8e76": {
     "model_module": "@jupyter-widgets/base",
     "model_name": "LayoutModel",
     "state": {
      "_model_module": "@jupyter-widgets/base",
      "_model_module_version": "1.2.0",
      "_model_name": "LayoutModel",
      "_view_count": null,
      "_view_module": "@jupyter-widgets/base",
      "_view_module_version": "1.2.0",
      "_view_name": "LayoutView",
      "align_content": null,
      "align_items": null,
      "align_self": null,
      "border": null,
      "bottom": null,
      "display": null,
      "flex": null,
      "flex_flow": null,
      "grid_area": null,
      "grid_auto_columns": null,
      "grid_auto_flow": null,
      "grid_auto_rows": null,
      "grid_column": null,
      "grid_gap": null,
      "grid_row": null,
      "grid_template_areas": null,
      "grid_template_columns": null,
      "grid_template_rows": null,
      "height": null,
      "justify_content": null,
      "justify_items": null,
      "left": null,
      "margin": null,
      "max_height": null,
      "max_width": null,
      "min_height": null,
      "min_width": null,
      "object_fit": null,
      "object_position": null,
      "order": null,
      "overflow": null,
      "overflow_x": null,
      "overflow_y": null,
      "padding": null,
      "right": null,
      "top": null,
      "visibility": null,
      "width": null
     }
    },
    "74019386a3cd4774b46c7a581effe1d5": {
     "model_module": "@jupyter-widgets/controls",
     "model_name": "FloatProgressModel",
     "state": {
      "_dom_classes": [],
      "_model_module": "@jupyter-widgets/controls",
      "_model_module_version": "1.5.0",
      "_model_name": "FloatProgressModel",
      "_view_count": null,
      "_view_module": "@jupyter-widgets/controls",
      "_view_module_version": "1.5.0",
      "_view_name": "ProgressView",
      "bar_style": "success",
      "description": "Downloading: 100%",
      "description_tooltip": null,
      "layout": "IPY_MODEL_21e15c6972f0439bb2c1d1ab6936abe1",
      "max": 231508,
      "min": 0,
      "orientation": "horizontal",
      "style": "IPY_MODEL_8138ca75b1864928b9143607206565b3",
      "value": 231508
     }
    },
    "74556b39f3e74a13ac9fb71f77b7474f": {
     "model_module": "@jupyter-widgets/controls",
     "model_name": "DescriptionStyleModel",
     "state": {
      "_model_module": "@jupyter-widgets/controls",
      "_model_module_version": "1.5.0",
      "_model_name": "DescriptionStyleModel",
      "_view_count": null,
      "_view_module": "@jupyter-widgets/base",
      "_view_module_version": "1.2.0",
      "_view_name": "StyleView",
      "description_width": ""
     }
    },
    "7717ad8856c34a36a90b87336db439a1": {
     "model_module": "@jupyter-widgets/controls",
     "model_name": "HBoxModel",
     "state": {
      "_dom_classes": [],
      "_model_module": "@jupyter-widgets/controls",
      "_model_module_version": "1.5.0",
      "_model_name": "HBoxModel",
      "_view_count": null,
      "_view_module": "@jupyter-widgets/controls",
      "_view_module_version": "1.5.0",
      "_view_name": "HBoxView",
      "box_style": "",
      "children": [
       "IPY_MODEL_51f49ae194e24873a05462f7c89eef50",
       "IPY_MODEL_7d67f72bb0d847d592069e8d4e338caf"
      ],
      "layout": "IPY_MODEL_4c7d4360df45485fbe3c82ae739bcc03"
     }
    },
    "78eae54b6f464572a1d5da8eb30300a8": {
     "model_module": "@jupyter-widgets/controls",
     "model_name": "HTMLModel",
     "state": {
      "_dom_classes": [],
      "_model_module": "@jupyter-widgets/controls",
      "_model_module_version": "1.5.0",
      "_model_name": "HTMLModel",
      "_view_count": null,
      "_view_module": "@jupyter-widgets/controls",
      "_view_module_version": "1.5.0",
      "_view_name": "HTMLView",
      "description": "",
      "description_tooltip": null,
      "layout": "IPY_MODEL_727e19ba9a264176850ca43f757a8e76",
      "placeholder": "​",
      "style": "IPY_MODEL_2e6929a295684313967979d0a85da351",
      "value": " 64/64 [00:01&lt;00:00, 32.26ba/s]"
     }
    },
    "7b33c4efd3df46078403a8956ab8b9bf": {
     "model_module": "@jupyter-widgets/controls",
     "model_name": "FloatProgressModel",
     "state": {
      "_dom_classes": [],
      "_model_module": "@jupyter-widgets/controls",
      "_model_module_version": "1.5.0",
      "_model_name": "FloatProgressModel",
      "_view_count": null,
      "_view_module": "@jupyter-widgets/controls",
      "_view_module_version": "1.5.0",
      "_view_name": "ProgressView",
      "bar_style": "success",
      "description": "100%",
      "description_tooltip": null,
      "layout": "IPY_MODEL_1943ab1df4854684b4523e20fa026e84",
      "max": 2000,
      "min": 0,
      "orientation": "horizontal",
      "style": "IPY_MODEL_bf47e1aecd804c94ac5fb242840c2636",
      "value": 2000
     }
    },
    "7d127f5ebdc0410d86350461de94c685": {
     "model_module": "@jupyter-widgets/controls",
     "model_name": "HTMLModel",
     "state": {
      "_dom_classes": [],
      "_model_module": "@jupyter-widgets/controls",
      "_model_module_version": "1.5.0",
      "_model_name": "HTMLModel",
      "_view_count": null,
      "_view_module": "@jupyter-widgets/controls",
      "_view_module_version": "1.5.0",
      "_view_name": "HTMLView",
      "description": "",
      "description_tooltip": null,
      "layout": "IPY_MODEL_e01cf25b73f746e4ae12f42abec36b14",
      "placeholder": "​",
      "style": "IPY_MODEL_d4899116c14d42f0a18a0e4e928998d1",
      "value": " 466k/466k [00:00&lt;00:00, 483kB/s]"
     }
    },
    "7d67f72bb0d847d592069e8d4e338caf": {
     "model_module": "@jupyter-widgets/controls",
     "model_name": "HTMLModel",
     "state": {
      "_dom_classes": [],
      "_model_module": "@jupyter-widgets/controls",
      "_model_module_version": "1.5.0",
      "_model_name": "HTMLModel",
      "_view_count": null,
      "_view_module": "@jupyter-widgets/controls",
      "_view_module_version": "1.5.0",
      "_view_name": "HTMLView",
      "description": "",
      "description_tooltip": null,
      "layout": "IPY_MODEL_00b28e0819df4090a1f5a0810e8d5ccd",
      "placeholder": "​",
      "style": "IPY_MODEL_543b62fc133044598099a74a5c8a1a43",
      "value": " 2/2 [10:44&lt;00:00, 322.21s/ba]"
     }
    },
    "8138ca75b1864928b9143607206565b3": {
     "model_module": "@jupyter-widgets/controls",
     "model_name": "ProgressStyleModel",
     "state": {
      "_model_module": "@jupyter-widgets/controls",
      "_model_module_version": "1.5.0",
      "_model_name": "ProgressStyleModel",
      "_view_count": null,
      "_view_module": "@jupyter-widgets/base",
      "_view_module_version": "1.2.0",
      "_view_name": "StyleView",
      "bar_color": null,
      "description_width": "initial"
     }
    },
    "8c3bc34b325a489bab424df07222f8bd": {
     "model_module": "@jupyter-widgets/controls",
     "model_name": "FloatProgressModel",
     "state": {
      "_dom_classes": [],
      "_model_module": "@jupyter-widgets/controls",
      "_model_module_version": "1.5.0",
      "_model_name": "FloatProgressModel",
      "_view_count": null,
      "_view_module": "@jupyter-widgets/controls",
      "_view_module_version": "1.5.0",
      "_view_name": "ProgressView",
      "bar_style": "success",
      "description": "100%",
      "description_tooltip": null,
      "layout": "IPY_MODEL_5489a44368dc45678ca2bf668049f277",
      "max": 64,
      "min": 0,
      "orientation": "horizontal",
      "style": "IPY_MODEL_6fa436fb931a496bb67fe2dddb6ee95f",
      "value": 64
     }
    },
    "8daaccf0226c4c26a5b62dfad5e08bc3": {
     "model_module": "@jupyter-widgets/base",
     "model_name": "LayoutModel",
     "state": {
      "_model_module": "@jupyter-widgets/base",
      "_model_module_version": "1.2.0",
      "_model_name": "LayoutModel",
      "_view_count": null,
      "_view_module": "@jupyter-widgets/base",
      "_view_module_version": "1.2.0",
      "_view_name": "LayoutView",
      "align_content": null,
      "align_items": null,
      "align_self": null,
      "border": null,
      "bottom": null,
      "display": null,
      "flex": null,
      "flex_flow": null,
      "grid_area": null,
      "grid_auto_columns": null,
      "grid_auto_flow": null,
      "grid_auto_rows": null,
      "grid_column": null,
      "grid_gap": null,
      "grid_row": null,
      "grid_template_areas": null,
      "grid_template_columns": null,
      "grid_template_rows": null,
      "height": null,
      "justify_content": null,
      "justify_items": null,
      "left": null,
      "margin": null,
      "max_height": null,
      "max_width": null,
      "min_height": null,
      "min_width": null,
      "object_fit": null,
      "object_position": null,
      "order": null,
      "overflow": null,
      "overflow_x": null,
      "overflow_y": null,
      "padding": null,
      "right": null,
      "top": null,
      "visibility": null,
      "width": null
     }
    },
    "904253841c52411ab745e271729196de": {
     "model_module": "@jupyter-widgets/controls",
     "model_name": "HTMLModel",
     "state": {
      "_dom_classes": [],
      "_model_module": "@jupyter-widgets/controls",
      "_model_module_version": "1.5.0",
      "_model_name": "HTMLModel",
      "_view_count": null,
      "_view_module": "@jupyter-widgets/controls",
      "_view_module_version": "1.5.0",
      "_view_name": "HTMLView",
      "description": "",
      "description_tooltip": null,
      "layout": "IPY_MODEL_da1d4a0d54484851b57949a448cbb7d5",
      "placeholder": "​",
      "style": "IPY_MODEL_507fe352c1f34fed8b24b07c7a6aedae",
      "value": " 1417/1417 [10:43&lt;00:00,  2.20ex/s]"
     }
    },
    "97aa0a1d1eca49c4b772393c881ac17c": {
     "model_module": "@jupyter-widgets/controls",
     "model_name": "HBoxModel",
     "state": {
      "_dom_classes": [],
      "_model_module": "@jupyter-widgets/controls",
      "_model_module_version": "1.5.0",
      "_model_name": "HBoxModel",
      "_view_count": null,
      "_view_module": "@jupyter-widgets/controls",
      "_view_module_version": "1.5.0",
      "_view_name": "HBoxView",
      "box_style": "",
      "children": [
       "IPY_MODEL_ff20a48647ad4a99aea9a3f2ce3149c6",
       "IPY_MODEL_efac346acf074ca292058e181ed9db77"
      ],
      "layout": "IPY_MODEL_214298d47ee047d6abe657c5c59b1583"
     }
    },
    "99f0457c2fbe4d91bb95a3629c28862c": {
     "model_module": "@jupyter-widgets/base",
     "model_name": "LayoutModel",
     "state": {
      "_model_module": "@jupyter-widgets/base",
      "_model_module_version": "1.2.0",
      "_model_name": "LayoutModel",
      "_view_count": null,
      "_view_module": "@jupyter-widgets/base",
      "_view_module_version": "1.2.0",
      "_view_name": "LayoutView",
      "align_content": null,
      "align_items": null,
      "align_self": null,
      "border": null,
      "bottom": null,
      "display": null,
      "flex": null,
      "flex_flow": null,
      "grid_area": null,
      "grid_auto_columns": null,
      "grid_auto_flow": null,
      "grid_auto_rows": null,
      "grid_column": null,
      "grid_gap": null,
      "grid_row": null,
      "grid_template_areas": null,
      "grid_template_columns": null,
      "grid_template_rows": null,
      "height": null,
      "justify_content": null,
      "justify_items": null,
      "left": null,
      "margin": null,
      "max_height": null,
      "max_width": null,
      "min_height": null,
      "min_width": null,
      "object_fit": null,
      "object_position": null,
      "order": null,
      "overflow": null,
      "overflow_x": null,
      "overflow_y": null,
      "padding": null,
      "right": null,
      "top": null,
      "visibility": null,
      "width": null
     }
    },
    "9b28f9704512450eb71de21ea42d3cc8": {
     "model_module": "@jupyter-widgets/base",
     "model_name": "LayoutModel",
     "state": {
      "_model_module": "@jupyter-widgets/base",
      "_model_module_version": "1.2.0",
      "_model_name": "LayoutModel",
      "_view_count": null,
      "_view_module": "@jupyter-widgets/base",
      "_view_module_version": "1.2.0",
      "_view_name": "LayoutView",
      "align_content": null,
      "align_items": null,
      "align_self": null,
      "border": null,
      "bottom": null,
      "display": null,
      "flex": null,
      "flex_flow": null,
      "grid_area": null,
      "grid_auto_columns": null,
      "grid_auto_flow": null,
      "grid_auto_rows": null,
      "grid_column": null,
      "grid_gap": null,
      "grid_row": null,
      "grid_template_areas": null,
      "grid_template_columns": null,
      "grid_template_rows": null,
      "height": null,
      "justify_content": null,
      "justify_items": null,
      "left": null,
      "margin": null,
      "max_height": null,
      "max_width": null,
      "min_height": null,
      "min_width": null,
      "object_fit": null,
      "object_position": null,
      "order": null,
      "overflow": null,
      "overflow_x": null,
      "overflow_y": null,
      "padding": null,
      "right": null,
      "top": null,
      "visibility": null,
      "width": null
     }
    },
    "a3899198bcd34142894f1b058a5e7b7d": {
     "model_module": "@jupyter-widgets/base",
     "model_name": "LayoutModel",
     "state": {
      "_model_module": "@jupyter-widgets/base",
      "_model_module_version": "1.2.0",
      "_model_name": "LayoutModel",
      "_view_count": null,
      "_view_module": "@jupyter-widgets/base",
      "_view_module_version": "1.2.0",
      "_view_name": "LayoutView",
      "align_content": null,
      "align_items": null,
      "align_self": null,
      "border": null,
      "bottom": null,
      "display": null,
      "flex": null,
      "flex_flow": null,
      "grid_area": null,
      "grid_auto_columns": null,
      "grid_auto_flow": null,
      "grid_auto_rows": null,
      "grid_column": null,
      "grid_gap": null,
      "grid_row": null,
      "grid_template_areas": null,
      "grid_template_columns": null,
      "grid_template_rows": null,
      "height": null,
      "justify_content": null,
      "justify_items": null,
      "left": null,
      "margin": null,
      "max_height": null,
      "max_width": null,
      "min_height": null,
      "min_width": null,
      "object_fit": null,
      "object_position": null,
      "order": null,
      "overflow": null,
      "overflow_x": null,
      "overflow_y": null,
      "padding": null,
      "right": null,
      "top": null,
      "visibility": null,
      "width": null
     }
    },
    "a60a310d62b249c7ad2de0e2290b5c00": {
     "model_module": "@jupyter-widgets/controls",
     "model_name": "DescriptionStyleModel",
     "state": {
      "_model_module": "@jupyter-widgets/controls",
      "_model_module_version": "1.5.0",
      "_model_name": "DescriptionStyleModel",
      "_view_count": null,
      "_view_module": "@jupyter-widgets/base",
      "_view_module_version": "1.2.0",
      "_view_name": "StyleView",
      "description_width": ""
     }
    },
    "a8fd2ca5f17c4ddf8c1e11c56a164e12": {
     "model_module": "@jupyter-widgets/base",
     "model_name": "LayoutModel",
     "state": {
      "_model_module": "@jupyter-widgets/base",
      "_model_module_version": "1.2.0",
      "_model_name": "LayoutModel",
      "_view_count": null,
      "_view_module": "@jupyter-widgets/base",
      "_view_module_version": "1.2.0",
      "_view_name": "LayoutView",
      "align_content": null,
      "align_items": null,
      "align_self": null,
      "border": null,
      "bottom": null,
      "display": null,
      "flex": null,
      "flex_flow": null,
      "grid_area": null,
      "grid_auto_columns": null,
      "grid_auto_flow": null,
      "grid_auto_rows": null,
      "grid_column": null,
      "grid_gap": null,
      "grid_row": null,
      "grid_template_areas": null,
      "grid_template_columns": null,
      "grid_template_rows": null,
      "height": null,
      "justify_content": null,
      "justify_items": null,
      "left": null,
      "margin": null,
      "max_height": null,
      "max_width": null,
      "min_height": null,
      "min_width": null,
      "object_fit": null,
      "object_position": null,
      "order": null,
      "overflow": null,
      "overflow_x": null,
      "overflow_y": null,
      "padding": null,
      "right": null,
      "top": null,
      "visibility": null,
      "width": null
     }
    },
    "ada13be0e1b84922b1aa449e88252a04": {
     "model_module": "@jupyter-widgets/controls",
     "model_name": "HBoxModel",
     "state": {
      "_dom_classes": [],
      "_model_module": "@jupyter-widgets/controls",
      "_model_module_version": "1.5.0",
      "_model_name": "HBoxModel",
      "_view_count": null,
      "_view_module": "@jupyter-widgets/controls",
      "_view_module_version": "1.5.0",
      "_view_name": "HBoxView",
      "box_style": "",
      "children": [
       "IPY_MODEL_4f5c8f56d3e7416a8f1ea8b78a495b3a",
       "IPY_MODEL_904253841c52411ab745e271729196de"
      ],
      "layout": "IPY_MODEL_531484a82ce74b74bfd73ddb96f74fea"
     }
    },
    "b37766be1f2e41aba6bfdf89c3c708e0": {
     "model_module": "@jupyter-widgets/controls",
     "model_name": "FloatProgressModel",
     "state": {
      "_dom_classes": [],
      "_model_module": "@jupyter-widgets/controls",
      "_model_module_version": "1.5.0",
      "_model_name": "FloatProgressModel",
      "_view_count": null,
      "_view_module": "@jupyter-widgets/controls",
      "_view_module_version": "1.5.0",
      "_view_name": "ProgressView",
      "bar_style": "success",
      "description": "100%",
      "description_tooltip": null,
      "layout": "IPY_MODEL_ead8185212c742869df5bbdc020d1960",
      "max": 64,
      "min": 0,
      "orientation": "horizontal",
      "style": "IPY_MODEL_6379535a607b4736a8fe0d15ff172868",
      "value": 64
     }
    },
    "b6ac243c926a48ee9c177713360c8f8e": {
     "model_module": "@jupyter-widgets/controls",
     "model_name": "FloatProgressModel",
     "state": {
      "_dom_classes": [],
      "_model_module": "@jupyter-widgets/controls",
      "_model_module_version": "1.5.0",
      "_model_name": "FloatProgressModel",
      "_view_count": null,
      "_view_module": "@jupyter-widgets/controls",
      "_view_module_version": "1.5.0",
      "_view_name": "ProgressView",
      "bar_style": "success",
      "description": "Downloading: 100%",
      "description_tooltip": null,
      "layout": "IPY_MODEL_37206b261279473aa227db2f89056319",
      "max": 440473133,
      "min": 0,
      "orientation": "horizontal",
      "style": "IPY_MODEL_e9e5f13c742b4107a6b2c82967930b89",
      "value": 440473133
     }
    },
    "bb1f4309ee1e4c4dbf75d61665f154dc": {
     "model_module": "@jupyter-widgets/controls",
     "model_name": "HTMLModel",
     "state": {
      "_dom_classes": [],
      "_model_module": "@jupyter-widgets/controls",
      "_model_module_version": "1.5.0",
      "_model_name": "HTMLModel",
      "_view_count": null,
      "_view_module": "@jupyter-widgets/controls",
      "_view_module_version": "1.5.0",
      "_view_name": "HTMLView",
      "description": "",
      "description_tooltip": null,
      "layout": "IPY_MODEL_4ab15b4b85794b87b2ff601fc0248194",
      "placeholder": "​",
      "style": "IPY_MODEL_ffad6ffa9aa54fdd99b78ca4edba226d",
      "value": " 440M/440M [01:14&lt;00:00, 5.93MB/s]"
     }
    },
    "bf47e1aecd804c94ac5fb242840c2636": {
     "model_module": "@jupyter-widgets/controls",
     "model_name": "ProgressStyleModel",
     "state": {
      "_model_module": "@jupyter-widgets/controls",
      "_model_module_version": "1.5.0",
      "_model_name": "ProgressStyleModel",
      "_view_count": null,
      "_view_module": "@jupyter-widgets/base",
      "_view_module_version": "1.2.0",
      "_view_name": "StyleView",
      "bar_color": null,
      "description_width": "initial"
     }
    },
    "c105e2cc46804f7ab948a245814a91e2": {
     "model_module": "@jupyter-widgets/controls",
     "model_name": "ProgressStyleModel",
     "state": {
      "_model_module": "@jupyter-widgets/controls",
      "_model_module_version": "1.5.0",
      "_model_name": "ProgressStyleModel",
      "_view_count": null,
      "_view_module": "@jupyter-widgets/base",
      "_view_module_version": "1.2.0",
      "_view_name": "StyleView",
      "bar_color": null,
      "description_width": "initial"
     }
    },
    "c459b6b1522945ce938d574e92051338": {
     "model_module": "@jupyter-widgets/controls",
     "model_name": "FloatProgressModel",
     "state": {
      "_dom_classes": [],
      "_model_module": "@jupyter-widgets/controls",
      "_model_module_version": "1.5.0",
      "_model_name": "FloatProgressModel",
      "_view_count": null,
      "_view_module": "@jupyter-widgets/controls",
      "_view_module_version": "1.5.0",
      "_view_name": "ProgressView",
      "bar_style": "success",
      "description": "Downloading: 100%",
      "description_tooltip": null,
      "layout": "IPY_MODEL_d83540bc48684c6ebe1388a133c42188",
      "max": 433,
      "min": 0,
      "orientation": "horizontal",
      "style": "IPY_MODEL_13608d7316bc49c0adb1a9f83cf09f02",
      "value": 433
     }
    },
    "c712bb8b8a3142b190b4f233af487830": {
     "model_module": "@jupyter-widgets/base",
     "model_name": "LayoutModel",
     "state": {
      "_model_module": "@jupyter-widgets/base",
      "_model_module_version": "1.2.0",
      "_model_name": "LayoutModel",
      "_view_count": null,
      "_view_module": "@jupyter-widgets/base",
      "_view_module_version": "1.2.0",
      "_view_name": "LayoutView",
      "align_content": null,
      "align_items": null,
      "align_self": null,
      "border": null,
      "bottom": null,
      "display": null,
      "flex": null,
      "flex_flow": null,
      "grid_area": null,
      "grid_auto_columns": null,
      "grid_auto_flow": null,
      "grid_auto_rows": null,
      "grid_column": null,
      "grid_gap": null,
      "grid_row": null,
      "grid_template_areas": null,
      "grid_template_columns": null,
      "grid_template_rows": null,
      "height": null,
      "justify_content": null,
      "justify_items": null,
      "left": null,
      "margin": null,
      "max_height": null,
      "max_width": null,
      "min_height": null,
      "min_width": null,
      "object_fit": null,
      "object_position": null,
      "order": null,
      "overflow": null,
      "overflow_x": null,
      "overflow_y": null,
      "padding": null,
      "right": null,
      "top": null,
      "visibility": null,
      "width": null
     }
    },
    "d2cbc0973e034d6aa741a5cea63f0dfe": {
     "model_module": "@jupyter-widgets/base",
     "model_name": "LayoutModel",
     "state": {
      "_model_module": "@jupyter-widgets/base",
      "_model_module_version": "1.2.0",
      "_model_name": "LayoutModel",
      "_view_count": null,
      "_view_module": "@jupyter-widgets/base",
      "_view_module_version": "1.2.0",
      "_view_name": "LayoutView",
      "align_content": null,
      "align_items": null,
      "align_self": null,
      "border": null,
      "bottom": null,
      "display": null,
      "flex": null,
      "flex_flow": null,
      "grid_area": null,
      "grid_auto_columns": null,
      "grid_auto_flow": null,
      "grid_auto_rows": null,
      "grid_column": null,
      "grid_gap": null,
      "grid_row": null,
      "grid_template_areas": null,
      "grid_template_columns": null,
      "grid_template_rows": null,
      "height": null,
      "justify_content": null,
      "justify_items": null,
      "left": null,
      "margin": null,
      "max_height": null,
      "max_width": null,
      "min_height": null,
      "min_width": null,
      "object_fit": null,
      "object_position": null,
      "order": null,
      "overflow": null,
      "overflow_x": null,
      "overflow_y": null,
      "padding": null,
      "right": null,
      "top": null,
      "visibility": null,
      "width": null
     }
    },
    "d4232f82aca7438e9d14ce2f02b64372": {
     "model_module": "@jupyter-widgets/controls",
     "model_name": "HBoxModel",
     "state": {
      "_dom_classes": [],
      "_model_module": "@jupyter-widgets/controls",
      "_model_module_version": "1.5.0",
      "_model_name": "HBoxModel",
      "_view_count": null,
      "_view_module": "@jupyter-widgets/controls",
      "_view_module_version": "1.5.0",
      "_view_name": "HBoxView",
      "box_style": "",
      "children": [
       "IPY_MODEL_8c3bc34b325a489bab424df07222f8bd",
       "IPY_MODEL_d5446cc273a542698975993cc78a75ac"
      ],
      "layout": "IPY_MODEL_f7790b4976d04b4cb9b19b4462fc85d4"
     }
    },
    "d4899116c14d42f0a18a0e4e928998d1": {
     "model_module": "@jupyter-widgets/controls",
     "model_name": "DescriptionStyleModel",
     "state": {
      "_model_module": "@jupyter-widgets/controls",
      "_model_module_version": "1.5.0",
      "_model_name": "DescriptionStyleModel",
      "_view_count": null,
      "_view_module": "@jupyter-widgets/base",
      "_view_module_version": "1.2.0",
      "_view_name": "StyleView",
      "description_width": ""
     }
    },
    "d5446cc273a542698975993cc78a75ac": {
     "model_module": "@jupyter-widgets/controls",
     "model_name": "HTMLModel",
     "state": {
      "_dom_classes": [],
      "_model_module": "@jupyter-widgets/controls",
      "_model_module_version": "1.5.0",
      "_model_name": "HTMLModel",
      "_view_count": null,
      "_view_module": "@jupyter-widgets/controls",
      "_view_module_version": "1.5.0",
      "_view_name": "HTMLView",
      "description": "",
      "description_tooltip": null,
      "layout": "IPY_MODEL_a8fd2ca5f17c4ddf8c1e11c56a164e12",
      "placeholder": "​",
      "style": "IPY_MODEL_422ba21a27514a3c891ba3ef40e8e632",
      "value": " 64/64 [00:28&lt;00:00,  2.26ba/s]"
     }
    },
    "d7ac3f5034f645c0a6b15e5b0a4d75cd": {
     "model_module": "@jupyter-widgets/controls",
     "model_name": "HBoxModel",
     "state": {
      "_dom_classes": [],
      "_model_module": "@jupyter-widgets/controls",
      "_model_module_version": "1.5.0",
      "_model_name": "HBoxModel",
      "_view_count": null,
      "_view_module": "@jupyter-widgets/controls",
      "_view_module_version": "1.5.0",
      "_view_name": "HBoxView",
      "box_style": "",
      "children": [
       "IPY_MODEL_74019386a3cd4774b46c7a581effe1d5",
       "IPY_MODEL_54208ff603c24a87a6cd4afeb79fa4e0"
      ],
      "layout": "IPY_MODEL_8daaccf0226c4c26a5b62dfad5e08bc3"
     }
    },
    "d83540bc48684c6ebe1388a133c42188": {
     "model_module": "@jupyter-widgets/base",
     "model_name": "LayoutModel",
     "state": {
      "_model_module": "@jupyter-widgets/base",
      "_model_module_version": "1.2.0",
      "_model_name": "LayoutModel",
      "_view_count": null,
      "_view_module": "@jupyter-widgets/base",
      "_view_module_version": "1.2.0",
      "_view_name": "LayoutView",
      "align_content": null,
      "align_items": null,
      "align_self": null,
      "border": null,
      "bottom": null,
      "display": null,
      "flex": null,
      "flex_flow": null,
      "grid_area": null,
      "grid_auto_columns": null,
      "grid_auto_flow": null,
      "grid_auto_rows": null,
      "grid_column": null,
      "grid_gap": null,
      "grid_row": null,
      "grid_template_areas": null,
      "grid_template_columns": null,
      "grid_template_rows": null,
      "height": null,
      "justify_content": null,
      "justify_items": null,
      "left": null,
      "margin": null,
      "max_height": null,
      "max_width": null,
      "min_height": null,
      "min_width": null,
      "object_fit": null,
      "object_position": null,
      "order": null,
      "overflow": null,
      "overflow_x": null,
      "overflow_y": null,
      "padding": null,
      "right": null,
      "top": null,
      "visibility": null,
      "width": null
     }
    },
    "d8c74996e7db44c6b73629207e5804f5": {
     "model_module": "@jupyter-widgets/controls",
     "model_name": "HBoxModel",
     "state": {
      "_dom_classes": [],
      "_model_module": "@jupyter-widgets/controls",
      "_model_module_version": "1.5.0",
      "_model_name": "HBoxModel",
      "_view_count": null,
      "_view_module": "@jupyter-widgets/controls",
      "_view_module_version": "1.5.0",
      "_view_name": "HBoxView",
      "box_style": "",
      "children": [
       "IPY_MODEL_0284969f9de0425b8112fe7a8b781eff",
       "IPY_MODEL_58358d79e0c245c1a014b74fa89a9c6f"
      ],
      "layout": "IPY_MODEL_1db3a6dc98f142829720be560ed53ecd"
     }
    },
    "da1d4a0d54484851b57949a448cbb7d5": {
     "model_module": "@jupyter-widgets/base",
     "model_name": "LayoutModel",
     "state": {
      "_model_module": "@jupyter-widgets/base",
      "_model_module_version": "1.2.0",
      "_model_name": "LayoutModel",
      "_view_count": null,
      "_view_module": "@jupyter-widgets/base",
      "_view_module_version": "1.2.0",
      "_view_name": "LayoutView",
      "align_content": null,
      "align_items": null,
      "align_self": null,
      "border": null,
      "bottom": null,
      "display": null,
      "flex": null,
      "flex_flow": null,
      "grid_area": null,
      "grid_auto_columns": null,
      "grid_auto_flow": null,
      "grid_auto_rows": null,
      "grid_column": null,
      "grid_gap": null,
      "grid_row": null,
      "grid_template_areas": null,
      "grid_template_columns": null,
      "grid_template_rows": null,
      "height": null,
      "justify_content": null,
      "justify_items": null,
      "left": null,
      "margin": null,
      "max_height": null,
      "max_width": null,
      "min_height": null,
      "min_width": null,
      "object_fit": null,
      "object_position": null,
      "order": null,
      "overflow": null,
      "overflow_x": null,
      "overflow_y": null,
      "padding": null,
      "right": null,
      "top": null,
      "visibility": null,
      "width": null
     }
    },
    "e01cf25b73f746e4ae12f42abec36b14": {
     "model_module": "@jupyter-widgets/base",
     "model_name": "LayoutModel",
     "state": {
      "_model_module": "@jupyter-widgets/base",
      "_model_module_version": "1.2.0",
      "_model_name": "LayoutModel",
      "_view_count": null,
      "_view_module": "@jupyter-widgets/base",
      "_view_module_version": "1.2.0",
      "_view_name": "LayoutView",
      "align_content": null,
      "align_items": null,
      "align_self": null,
      "border": null,
      "bottom": null,
      "display": null,
      "flex": null,
      "flex_flow": null,
      "grid_area": null,
      "grid_auto_columns": null,
      "grid_auto_flow": null,
      "grid_auto_rows": null,
      "grid_column": null,
      "grid_gap": null,
      "grid_row": null,
      "grid_template_areas": null,
      "grid_template_columns": null,
      "grid_template_rows": null,
      "height": null,
      "justify_content": null,
      "justify_items": null,
      "left": null,
      "margin": null,
      "max_height": null,
      "max_width": null,
      "min_height": null,
      "min_width": null,
      "object_fit": null,
      "object_position": null,
      "order": null,
      "overflow": null,
      "overflow_x": null,
      "overflow_y": null,
      "padding": null,
      "right": null,
      "top": null,
      "visibility": null,
      "width": null
     }
    },
    "e3771a27db9b475cb0d3cce0d41404b0": {
     "model_module": "@jupyter-widgets/controls",
     "model_name": "HBoxModel",
     "state": {
      "_dom_classes": [],
      "_model_module": "@jupyter-widgets/controls",
      "_model_module_version": "1.5.0",
      "_model_name": "HBoxModel",
      "_view_count": null,
      "_view_module": "@jupyter-widgets/controls",
      "_view_module_version": "1.5.0",
      "_view_name": "HBoxView",
      "box_style": "",
      "children": [
       "IPY_MODEL_b6ac243c926a48ee9c177713360c8f8e",
       "IPY_MODEL_bb1f4309ee1e4c4dbf75d61665f154dc"
      ],
      "layout": "IPY_MODEL_663511e95c9a4141878cfad442dbde7d"
     }
    },
    "e5d27af460b84ab6b401c61f784858a3": {
     "model_module": "@jupyter-widgets/controls",
     "model_name": "ProgressStyleModel",
     "state": {
      "_model_module": "@jupyter-widgets/controls",
      "_model_module_version": "1.5.0",
      "_model_name": "ProgressStyleModel",
      "_view_count": null,
      "_view_module": "@jupyter-widgets/base",
      "_view_module_version": "1.2.0",
      "_view_name": "StyleView",
      "bar_color": null,
      "description_width": "initial"
     }
    },
    "e6f1719766dc4c2d9d7abf281133a774": {
     "model_module": "@jupyter-widgets/controls",
     "model_name": "ProgressStyleModel",
     "state": {
      "_model_module": "@jupyter-widgets/controls",
      "_model_module_version": "1.5.0",
      "_model_name": "ProgressStyleModel",
      "_view_count": null,
      "_view_module": "@jupyter-widgets/base",
      "_view_module_version": "1.2.0",
      "_view_name": "StyleView",
      "bar_color": null,
      "description_width": "initial"
     }
    },
    "e7e0e742a2854846bfc64d003d62140f": {
     "model_module": "@jupyter-widgets/controls",
     "model_name": "HBoxModel",
     "state": {
      "_dom_classes": [],
      "_model_module": "@jupyter-widgets/controls",
      "_model_module_version": "1.5.0",
      "_model_name": "HBoxModel",
      "_view_count": null,
      "_view_module": "@jupyter-widgets/controls",
      "_view_module_version": "1.5.0",
      "_view_name": "HBoxView",
      "box_style": "",
      "children": [
       "IPY_MODEL_648aa57dc8034f8c910ab272d537b002",
       "IPY_MODEL_7d127f5ebdc0410d86350461de94c685"
      ],
      "layout": "IPY_MODEL_f4c319b48dcf409da4eefd4464b1ee58"
     }
    },
    "e9cb7db17f274e28951490a7425b5a3f": {
     "model_module": "@jupyter-widgets/controls",
     "model_name": "HBoxModel",
     "state": {
      "_dom_classes": [],
      "_model_module": "@jupyter-widgets/controls",
      "_model_module_version": "1.5.0",
      "_model_name": "HBoxModel",
      "_view_count": null,
      "_view_module": "@jupyter-widgets/controls",
      "_view_module_version": "1.5.0",
      "_view_name": "HBoxView",
      "box_style": "",
      "children": [
       "IPY_MODEL_b37766be1f2e41aba6bfdf89c3c708e0",
       "IPY_MODEL_78eae54b6f464572a1d5da8eb30300a8"
      ],
      "layout": "IPY_MODEL_c712bb8b8a3142b190b4f233af487830"
     }
    },
    "e9e5f13c742b4107a6b2c82967930b89": {
     "model_module": "@jupyter-widgets/controls",
     "model_name": "ProgressStyleModel",
     "state": {
      "_model_module": "@jupyter-widgets/controls",
      "_model_module_version": "1.5.0",
      "_model_name": "ProgressStyleModel",
      "_view_count": null,
      "_view_module": "@jupyter-widgets/base",
      "_view_module_version": "1.2.0",
      "_view_name": "StyleView",
      "bar_color": null,
      "description_width": "initial"
     }
    },
    "ead8185212c742869df5bbdc020d1960": {
     "model_module": "@jupyter-widgets/base",
     "model_name": "LayoutModel",
     "state": {
      "_model_module": "@jupyter-widgets/base",
      "_model_module_version": "1.2.0",
      "_model_name": "LayoutModel",
      "_view_count": null,
      "_view_module": "@jupyter-widgets/base",
      "_view_module_version": "1.2.0",
      "_view_name": "LayoutView",
      "align_content": null,
      "align_items": null,
      "align_self": null,
      "border": null,
      "bottom": null,
      "display": null,
      "flex": null,
      "flex_flow": null,
      "grid_area": null,
      "grid_auto_columns": null,
      "grid_auto_flow": null,
      "grid_auto_rows": null,
      "grid_column": null,
      "grid_gap": null,
      "grid_row": null,
      "grid_template_areas": null,
      "grid_template_columns": null,
      "grid_template_rows": null,
      "height": null,
      "justify_content": null,
      "justify_items": null,
      "left": null,
      "margin": null,
      "max_height": null,
      "max_width": null,
      "min_height": null,
      "min_width": null,
      "object_fit": null,
      "object_position": null,
      "order": null,
      "overflow": null,
      "overflow_x": null,
      "overflow_y": null,
      "padding": null,
      "right": null,
      "top": null,
      "visibility": null,
      "width": null
     }
    },
    "efac346acf074ca292058e181ed9db77": {
     "model_module": "@jupyter-widgets/controls",
     "model_name": "HTMLModel",
     "state": {
      "_dom_classes": [],
      "_model_module": "@jupyter-widgets/controls",
      "_model_module_version": "1.5.0",
      "_model_name": "HTMLModel",
      "_view_count": null,
      "_view_module": "@jupyter-widgets/controls",
      "_view_module_version": "1.5.0",
      "_view_name": "HTMLView",
      "description": "",
      "description_tooltip": null,
      "layout": "IPY_MODEL_6004aa5f00eb40eaa37c95c5eabae3fa",
      "placeholder": "​",
      "style": "IPY_MODEL_5345dabf11cc45e38d08295cb143f5a7",
      "value": " 8/8 [00:26&lt;00:00,  3.28s/ba]"
     }
    },
    "f4c319b48dcf409da4eefd4464b1ee58": {
     "model_module": "@jupyter-widgets/base",
     "model_name": "LayoutModel",
     "state": {
      "_model_module": "@jupyter-widgets/base",
      "_model_module_version": "1.2.0",
      "_model_name": "LayoutModel",
      "_view_count": null,
      "_view_module": "@jupyter-widgets/base",
      "_view_module_version": "1.2.0",
      "_view_name": "LayoutView",
      "align_content": null,
      "align_items": null,
      "align_self": null,
      "border": null,
      "bottom": null,
      "display": null,
      "flex": null,
      "flex_flow": null,
      "grid_area": null,
      "grid_auto_columns": null,
      "grid_auto_flow": null,
      "grid_auto_rows": null,
      "grid_column": null,
      "grid_gap": null,
      "grid_row": null,
      "grid_template_areas": null,
      "grid_template_columns": null,
      "grid_template_rows": null,
      "height": null,
      "justify_content": null,
      "justify_items": null,
      "left": null,
      "margin": null,
      "max_height": null,
      "max_width": null,
      "min_height": null,
      "min_width": null,
      "object_fit": null,
      "object_position": null,
      "order": null,
      "overflow": null,
      "overflow_x": null,
      "overflow_y": null,
      "padding": null,
      "right": null,
      "top": null,
      "visibility": null,
      "width": null
     }
    },
    "f7790b4976d04b4cb9b19b4462fc85d4": {
     "model_module": "@jupyter-widgets/base",
     "model_name": "LayoutModel",
     "state": {
      "_model_module": "@jupyter-widgets/base",
      "_model_module_version": "1.2.0",
      "_model_name": "LayoutModel",
      "_view_count": null,
      "_view_module": "@jupyter-widgets/base",
      "_view_module_version": "1.2.0",
      "_view_name": "LayoutView",
      "align_content": null,
      "align_items": null,
      "align_self": null,
      "border": null,
      "bottom": null,
      "display": null,
      "flex": null,
      "flex_flow": null,
      "grid_area": null,
      "grid_auto_columns": null,
      "grid_auto_flow": null,
      "grid_auto_rows": null,
      "grid_column": null,
      "grid_gap": null,
      "grid_row": null,
      "grid_template_areas": null,
      "grid_template_columns": null,
      "grid_template_rows": null,
      "height": null,
      "justify_content": null,
      "justify_items": null,
      "left": null,
      "margin": null,
      "max_height": null,
      "max_width": null,
      "min_height": null,
      "min_width": null,
      "object_fit": null,
      "object_position": null,
      "order": null,
      "overflow": null,
      "overflow_x": null,
      "overflow_y": null,
      "padding": null,
      "right": null,
      "top": null,
      "visibility": null,
      "width": null
     }
    },
    "ff20a48647ad4a99aea9a3f2ce3149c6": {
     "model_module": "@jupyter-widgets/controls",
     "model_name": "FloatProgressModel",
     "state": {
      "_dom_classes": [],
      "_model_module": "@jupyter-widgets/controls",
      "_model_module_version": "1.5.0",
      "_model_name": "FloatProgressModel",
      "_view_count": null,
      "_view_module": "@jupyter-widgets/controls",
      "_view_module_version": "1.5.0",
      "_view_name": "ProgressView",
      "bar_style": "success",
      "description": "100%",
      "description_tooltip": null,
      "layout": "IPY_MODEL_9b28f9704512450eb71de21ea42d3cc8",
      "max": 8,
      "min": 0,
      "orientation": "horizontal",
      "style": "IPY_MODEL_e5d27af460b84ab6b401c61f784858a3",
      "value": 8
     }
    },
    "ffad6ffa9aa54fdd99b78ca4edba226d": {
     "model_module": "@jupyter-widgets/controls",
     "model_name": "DescriptionStyleModel",
     "state": {
      "_model_module": "@jupyter-widgets/controls",
      "_model_module_version": "1.5.0",
      "_model_name": "DescriptionStyleModel",
      "_view_count": null,
      "_view_module": "@jupyter-widgets/base",
      "_view_module_version": "1.2.0",
      "_view_name": "StyleView",
      "description_width": ""
     }
    }
   }
  }
 },
 "nbformat": 4,
 "nbformat_minor": 1
}
