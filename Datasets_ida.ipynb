{
 "cells": [
  {
   "cell_type": "code",
   "execution_count": 1,
   "metadata": {},
   "outputs": [
    {
     "output_type": "stream",
     "name": "stdout",
     "text": [
      "Requirement already satisfied: datasets in /usr/local/Caskroom/miniconda/base/envs/Case2/lib/python3.8/site-packages (1.1.2)\n",
      "Requirement already satisfied: filelock in /usr/local/Caskroom/miniconda/base/envs/Case2/lib/python3.8/site-packages (from datasets) (3.0.12)\n",
      "Requirement already satisfied: numpy>=1.17 in /usr/local/Caskroom/miniconda/base/envs/Case2/lib/python3.8/site-packages (from datasets) (1.18.1)\n",
      "Requirement already satisfied: requests>=2.19.0 in /usr/local/Caskroom/miniconda/base/envs/Case2/lib/python3.8/site-packages (from datasets) (2.23.0)\n",
      "Requirement already satisfied: pandas in /usr/local/Caskroom/miniconda/base/envs/Case2/lib/python3.8/site-packages (from datasets) (1.0.3)\n",
      "Requirement already satisfied: tqdm<4.50.0,>=4.27 in /usr/local/Caskroom/miniconda/base/envs/Case2/lib/python3.8/site-packages (from datasets) (4.49.0)\n",
      "Requirement already satisfied: xxhash in /usr/local/Caskroom/miniconda/base/envs/Case2/lib/python3.8/site-packages (from datasets) (2.0.0)\n",
      "Requirement already satisfied: pyarrow>=0.17.1 in /usr/local/Caskroom/miniconda/base/envs/Case2/lib/python3.8/site-packages (from datasets) (2.0.0)\n",
      "Requirement already satisfied: dill in /usr/local/Caskroom/miniconda/base/envs/Case2/lib/python3.8/site-packages (from datasets) (0.3.3)\n",
      "Requirement already satisfied: multiprocess in /usr/local/Caskroom/miniconda/base/envs/Case2/lib/python3.8/site-packages (from datasets) (0.70.11.1)\n",
      "Requirement already satisfied: urllib3!=1.25.0,!=1.25.1,<1.26,>=1.21.1 in /usr/local/Caskroom/miniconda/base/envs/Case2/lib/python3.8/site-packages (from requests>=2.19.0->datasets) (1.25.8)\n",
      "Requirement already satisfied: certifi>=2017.4.17 in /usr/local/Caskroom/miniconda/base/envs/Case2/lib/python3.8/site-packages (from requests>=2.19.0->datasets) (2020.6.20)\n",
      "Requirement already satisfied: chardet<4,>=3.0.2 in /usr/local/Caskroom/miniconda/base/envs/Case2/lib/python3.8/site-packages (from requests>=2.19.0->datasets) (3.0.4)\n",
      "Requirement already satisfied: idna<3,>=2.5 in /usr/local/Caskroom/miniconda/base/envs/Case2/lib/python3.8/site-packages (from requests>=2.19.0->datasets) (2.9)\n",
      "Requirement already satisfied: pytz>=2017.2 in /usr/local/Caskroom/miniconda/base/envs/Case2/lib/python3.8/site-packages (from pandas->datasets) (2019.3)\n",
      "Requirement already satisfied: python-dateutil>=2.6.1 in /usr/local/Caskroom/miniconda/base/envs/Case2/lib/python3.8/site-packages (from pandas->datasets) (2.8.1)\n",
      "Requirement already satisfied: six>=1.5 in /usr/local/Caskroom/miniconda/base/envs/Case2/lib/python3.8/site-packages (from python-dateutil>=2.6.1->pandas->datasets) (1.14.0)\n",
      "Note: you may need to restart the kernel to use updated packages.\n"
     ]
    }
   ],
   "source": [
    "pip install datasets"
   ]
  },
  {
   "cell_type": "code",
   "execution_count": 12,
   "metadata": {},
   "outputs": [],
   "source": [
    "from datasets import list_datasets, load_dataset, list_metrics, load_metric"
   ]
  },
  {
   "cell_type": "code",
   "execution_count": 13,
   "metadata": {},
   "outputs": [],
   "source": [
    "#wiki_dataset = load_dataset('wiki_qa')"
   ]
  },
  {
   "cell_type": "code",
   "execution_count": 14,
   "metadata": {},
   "outputs": [],
   "source": [
    "#squad_dataset = load_dataset('squad')"
   ]
  },
  {
   "cell_type": "code",
   "execution_count": 15,
   "metadata": {},
   "outputs": [
    {
     "output_type": "stream",
     "name": "stdout",
     "text": [
      "Downloading and preparing dataset trivia_qa/rc (download: 2.48 GiB, generated: 14.92 GiB, post-processed: Unknown size, total: 17.40 GiB) to /Users/IdaRiis/.cache/huggingface/datasets/trivia_qa/rc/1.1.0/e734e28133f4d9a353af322aa52b9f266f6f27cbf2f072690a1694e577546b0d...\n",
      "Dataset trivia_qa downloaded and prepared to /Users/IdaRiis/.cache/huggingface/datasets/trivia_qa/rc/1.1.0/e734e28133f4d9a353af322aa52b9f266f6f27cbf2f072690a1694e577546b0d. Subsequent calls will reuse this data.\n"
     ]
    }
   ],
   "source": [
    "trivia_dataset = load_dataset('trivia_qa', 'rc')"
   ]
  },
  {
   "cell_type": "code",
   "execution_count": 17,
   "metadata": {
    "tags": [
     "outputPrepend"
    ]
   },
   "outputs": [
    {
     "output_type": "stream",
     "name": "stdout",
     "text": [
      "ce.  The novel won the 1926 Pulitzer Prize, which Lewis declined because he felt that it was not awarded for literary merit but for the best presentation of \"wholesome\" American life.  Lewis closed out the decade with DODSWORTH (1929), a novel about the most affluent and successful members of American society.  He portrayed them as leading essentially pointless lives in spite of great wealth and advantages.  After winning the Nobel Prize in 1930, Lewis wrote eleven more novels.  The best remembered is IT CAN\\'T HAPPEN HERE (1935), a novel about the election of a fascist to the American presidency.  In addition to his major novels, this torrent includes a selection of Lewis\\' short stories (I\\'M A STRANGER HERE MYSELF) and essays (THE MAN FROM MAIN STREET), the latter of which reproduces the text of his Nobel Prize address.   The following books are in PDF or ePUB format as indicated:  * ARROWSMITH (HarperPerennial, 2012) -- ePUB  * BABBITT (Bantam Classics, 1998).  Introduction by John Wickersham. -- ePUB  * BABBITT (Barnes & Noble, 2005).  Introduction and Notes by Kenneth Krauss. -- ePUB  * BABBITT (HarperPerennial, 2012) -- ePUB  * BABBITT (Oxford World\\'s Classics, 2010).  Edited with an Introduction and Notes by Gordon Hutner. -- PDF  * BETHEL MERRIDAY (Jonathan Cape, 1940) -- PDF  * DODSWORTH (HarperPerennial, 2012) -- ePUB  * FREE AIR (HarperPerennial, 2012) -- ePUB  * GIDEON PLANISH (Jonathan Cape, 1943) -- PDF  * THE GOD-SEEKER (Popular Library, 1948) -- PDF  * I\\'M A STRANGER HERE MYSELF & OTHER STORIES (Dell, 1962).  Selected by Mark Schorer. -- PDF  * IT CAN\\'T HAPPEN HERE (Signet, 2014).  Introduction by Michael Meyer and a New Afterword by Gary Scharnhorst. -- ePUB  * MAIN STREET (Barnes & Noble, 2003).  Introduction and Notes by Brooke Allen. -- ePUB  * MAIN STREET (HarperPerennial, 2012) -- ePUB  * MAIN STREET (Modern Library, 1999).  Introduction by Carol Kennicott. -- ePUB  * THE MAN FROM MAIN STREET: Selected Essays & Other Writings, 1904-1950 (Pocket Books, 1963).  Edited by Harry E. Maule and Melville H. Cane. -- PDF  * OUR MR. WRENN (Grosset & Dunlap, 1914) -- PDF  * PREMIUM COLLECTION: 7 Novels: Our Mr. Wrenn / The Trail of the Hawk / The Job / The Innocents / Free Air / Main Street / Babbitt (Timeless Wisdom, 2014) -- ePUB  * THE PRODIGAL PARENTS (Doubleday, 1934) -- PDF  * WORK OF ART (Collier, 1934) -- PDF  _____________________________________________________________________________ >> CONTACT ME You may reach me with comments, suggestions, requests, error reports, etc., at TPB\\'s forum, SuprBay (you will need to register an account): https://pirates-forum.org/User-workerbee >> PLEASE HELP TO SEED! If you like these books and want others to have access to them, please consider seeding for as long as you can.  The more you seed, the longer the torrent will live, and the easier it will be for me to upload new content.  Thank you!', \"Sinclair Lewis - Biographical\\nSinclair Lewis\\nThe Nobel Prize in Literature 1930\\nSinclair Lewis\\nShare this:\\nSinclair Lewis - Biographical\\nTo recount my life for the Nobel   Foundation, I would like to present it as possessing some   romantic quality, some unique character, like Kipling 's early adventures in India, or Bernard Shaw 's leadership in the   criticism of British arts and economics. But my life, aside from   such youthful pranks as sailing on cattleships from America to   England during university vacations, trying to find work in   Panama during the building of the Canal, and serving for two   months as janitor of Upton Sinclair's abortive co-operative   colony, Helicon Hall, has been a rather humdrum chronicle of much   reading, constant writing, undistinguished travel à la   tripper, and several years of comfortable servitude as an   editor.\\nI was born in a prairie village in that most Scandinavian part of   America, Minnesota, the son of a country doctor, in 1885. Until I   went East to Yale   University I attended the ordinary public school, along with   many Madsens, Olesons, Nelsons, Hedins, Larsons. Doubtless it was   because of this that I made the hero of my second book, The   Trail of the Hawk, a Norwegian, and Gustaf Sondelius, of Arrowsmith, a Swede - and to me, Dr. Sondelius is the   favorite among all my characters.\\nOf Carl Ericson of The Trail of the Hawk, I wrote -back in   1914, when I was working all day as editor for the George H.   Doran Publishing Company, and all evening trying to write novels   - as follows:\\n«His carpenter father had come from Norway, by way of   steerage and a farm in Wisconsin, changing his name (to   Americanize it) from Ericsen... Carl was second-generation   Norwegian; American-born, American in speech, American in   appearance, save for his flaxen hair and china-blue eyes... When   he was born the ‹typical Americans› of earlier stocks   had moved to city palaces or were marooned on run-down farms. It   was Carl Ericson, not a Trowbridge or a Stuyvesant or a Lee or a   Grant, who was the ‹typical American› of his period.   It was for him to carry on the American destiny of extending the   Western horizon; his to restore the wintry Pilgrim virtues and   the exuberant October, partridge-drumming days of Daniel Boone;   then to add, in his own or another generation, new American   aspirations for beauty.»\\nMy university days at Yale were undistinguished save for   contributions to the Yale Literary Magazine. It may be   interesting to say that these contributions were most of them   reeking with a banal romanticism; that an author who was later to   try to present ordinary pavements trod by real boots should   through university days have written nearly always of Guinevere   and Lancelot - of weary bitterns among sad Irish reeds - of   story-book castles with troubadours vastly indulging in wine, a   commodity of which the author was singularly ignorant. What the   moral is, I do not know. Whether imaginary castles at nineteen   lead always to the sidewalks of Main Street at thirty-five, and   whether the process might be reversed, and whether either of them   is desirable, I leave to psychologists.\\nI drifted for two years after college as a journalist, as a   newspaper reporter in Iowa and in San Francisco, as - incredibly   - a junior editor on a magazine for teachers of the deaf, in   Washington, D.C. The magazine was supported by Alexander Graham   Bell, inventor of the telephone. What I did not know about   teaching the deaf would have included the entire subject, but   that did not vastly matter, as my position was so insignificant   that it included typing hundreds of letters every week begging   for funds for the magazine and, on days when the Negro janitress   did not appear, sweeping out the office.\\nDoubtless this shows the advantages of a university education,   and it was further shown when at the age of twenty-five I managed   to get a position in a New York publishing house at all of   fifteen dollars a week. This was my authentic value on the labor   market, and I have always uncomfortably suspected that it would   never have been much higher had I not, accidentally, possessed   the gift of writing books which so acutely annoyed American   smugness that some thousands of my fellow citizens felt they must   read these scandalous documents, whether they liked them or   not.\\nFrom that New York position till the time five years later when I   was selling enough short stories to the magazines to be able to   live by free-lancing, I had a series of typical white-collar,   unromantic, office literary jobs with two publishing houses, a   magazine (Adventure), and a newspaper syndicate, reading   manuscripts, writing book advertising, writing catalogues,   writing uninspired book reviews - all the carpentry and plumbing   of the city of letters. Nor did my first five novels rouse the   slightest whispers: Our Mr. Wrenn, The Trail of the   Hawk, The Job, The Innocents, and Free   Air they were called, published between 1914 and 1919, and   all of them dead before the ink was dry. I lacked sense enough to   see that, after five failures, I was foolish to continue   writing.\\nMain Street, published late in 1920, was my first novel to   rouse the embattled peasantry and, as I have already hinted, it   had really a success of scandal. One of the most treasured   American myths had been that all American villages were   peculiarly noble and happy, and here an American attacked that   myth. Scandalous. Some hundreds of thousands read the book with   the same masochistic pleasure that one has in sucking an aching   tooth.\\nSince Main Street, the novels have been Babbitt (1922); Arrowsmith (1925); Mantrap (1926); Elmer   Gantry (1927); The Man Who Knew Coolidge (1928); and Dodsworth (1929). The next novel, yet unnamed, will   concern idealism in America through three generations, from 1818   till 1930-an idealism which the outlanders who call Americans «dollar-chasers» do not understand. It will presumably   be published in the autumn of 1932, and the author's chief   difficulty in composing it is that, after having received the   Nobel Prize, he longs to write better than he can.\\nI was married, in England, in 1928, to Dorothy Thompson, an   American who had been the Central European correspondent and chef de bureau of the New York Evening Post. My first   marriage, to Grace Hegger, in New York, in 1914, had been   dissolved.\\nDuring these years of novelwriting since 1915, I have lived a   quite unromantic and unstirring life. I have travelled much; on   the surface it would seem that one who during these fifteen years   had been in forty states of the United States, in Canada, Mexico,   England, Scotland, France, Italy, Sweden, Germany, Austria,   Czechoslovakia, Jugoslavia, Greece, Switzerland, Spain, the West   Indies, Venezuela, Colombia, Panama, Poland, and Russia must have   been adventurous. That, however, would be a typical error of   biography. The fact is that my foreign travelling has been a   quite uninspired recreation, a flight from reality. My real   travelling has been sitting in Pullman smoking cars, in a   Minnesota village, on a Vermont farm, in a hotel in Kansas City   or Savannah, listening to the normal daily drone of what are to   me the most fascinating and exotic people in the world - the   Average Citizens of the United States, with their friendliness to   strangers and their rough teasing, their passion for material   advancement and their shy idealism, their interest in all the   world and their boastful provincialism - the intricate   complexities which an American novelist is privileged to   portray.\\nAnd nowadays, at forty-six, with my first authentic home - a farm   in the pastoral state of Vermont - and a baby born in June 1930,   I am settled down to what I hope to be the beginning of a   novelist's career. I hope the awkward apprenticeship with all its   errors is nearly done.\\n\\xa0\\nBiographical note on Sinclair   Lewis\\nSinclair Lewis (1885-1951) continued to be   a prolific writer, but none of his later writings equalled the   success or stature of his chiefworks of the twenties. After his   divorce from his second wife in 1942, Sinclair Lewis lived   chiefly in Europe. His later novels include Ann Vickers (I933), It Can't Happen Here (1935), The Prodigal   Parents (1938), Gideon Planish (1943), Cass   Timberlane (1945), Kingsblood Royal ( 1947), The   God-Seeker (1949), and World So Wide (1951). From   Main Street to Stockholm: Letters of Sinclair Lewis 1919-1930 was published in 1952, one year after his death in Rome.\\nFrom Nobel Lectures , Literature 1901-1967, Editor Horst Frenz, Elsevier Publishing Company, Amsterdam, 1969\\nThis autobiography/biography was written    at the time of the award and first     published in the book series Les      Prix Nobel .      It was later edited and republished in Nobel Lectures .  To cite this document, always state the source as shown above.\\n\\xa0\\nSinclair Lewis died on January 10, 1951.\", 'Sinclair Lewis Becomes the First American to be Awarded the Nobel Prize for Literature | World History Project\\n1930\\nSinclair Lewis Becomes the First American to be Awarded the Nobel Prize for Literature\\nIn 1930, Lewis won the Nobel Prize in Literature, the first writer from the United States to receive the award.\\nIn the Swedish Academy\\'s presentation speech, special attention was paid to Babbitt. In his Nobel Lecture, Lewis praised Theodore Dreiser, Willa Cather, Ernest Hemingway, and other contemporaries, but also lamented that \"in America most of us — not readers alone, but even writers — are still afraid of any literature which is not a glorification of everything American, a glorification of our faults as well as our virtues,\" and that America is \"the most contradictory, the most depressing, the most stirring, of any land in the world today.\" He also offered a profound criticism of the American literary establishment: \"Our American professors like their literature clear and cold and pure and very dead.\"\\nSource: Wikipedia Added by: Colin Harris\\nIn 1925 Lewis divorced from his first wife and married three years later Dorothy Thompson, a newspaper correspondent, with whom he traveled to London, Berlin, Vienna, and Moscow. At that time Lewis was drinking heavily, and managed to offend most of his friends. Theodore Dreiser, the other American finalist for the Nobel Prize, was bitterly disappointed, when Lewis won the award. Hwmingway said that the prize should have gone to Ezra Pound or James Joyce.\\nSource: \\'(Harry) Sinclair Lewis (1885-1951)\\'; Petri Liukkonen, http://kirjasto.sci.fi/slewis.htm Added by: Colin Harris\\nOn the morning of November 5, 1930, Sinclair Lewis got up very late, and he was wandering about his rented Westport house when the telephone rang and an excited voice with a Swedish accent announced to him that he had been awarded the Nobel Prize in literature. The voice was that of a Swedish newspaper correspondent in New York who had managed to track down Lewis for the Swedish Embassy, but Lewis thought that it was the voice of his friend Ferd Reyher, who liked to do imitations and play jokes. “Oh, yeah?” he replied. “You don’t say! Listen, Ferd, I can say that better than you. Your Swedish accent’s no good. I’ll repeat it to you.” And he repeated it, “You haf de Nobel Brize,” and more. The bewildered Swede protested in vain and finally called an American to the telephone to confirm the news. Lewis fell into a chair.', 'Download Sinclair Lewis - Nobel Prize in Literature, 1930 (20 books) Torrent - kickasstorrents\\nLewis, Sinclair - Work of Art (Collier, 1934).pdf\\n5.13 MB\\nDescription\\nSINCLAIR LEWIS (1885-1951) was an American novelist, short-story writer, and playwright. In 1930, he became the first American writer to receive the Nobel Prize in Literature, which was awarded \"for his vigorous and graphic art of description and his ability to create, with wit and humor, new types of characters.\"\\nHis works are known for their insightful and critical views of American capitalism and materialism between the wars. He is also respected for his strong characterizations of modern working women. H.L. Mencken wrote of him, \"[If] there was ever a novelist among us with an authentic call to the trade ... it is this red-haired tornado from the Minnesota wilds.\"\\nHis first novel, OUR MR. WRENN (1914) is a gently satiric account of a meek New York clerk traveling in Europe. Lewis wrote four more novels and achieved only modest success. But MAIN STREET (1920) caused a sensation and brought him immediate fame. The book is a withering satire on the dullness and lack of culture that exist in a \"typical\" American small town, and the narrow-mindedness and self-satisfaction of its inhabitants.\\nBABBITT (1922) focuses even more effectively Lewis\\' idea of a \"typical\" small city businessman, George F. Babbitt. The novel describes the futile attempt of its central character to break loose from the confining life of a \"solid American citizen\" -- a middle-class, middle-aged realtor, civic booster, and club joiner. Possibly no two works of literature did more to make Americans aware of the limitations of their national life and culture than did MAIN STREET and BABBITT.\\nWith a sharp, satiric eye and a superb gift for mimicry, Lewis continued to examine other aspects of what he considered national inadequacy. ARROWSMITH (1925) describes the frustrations of an idealistic young doctor in conflict with corruption, jealousy, meanness, and prejudice. The novel won the 1926 Pulitzer Prize, which Lewis declined because he felt that it was not awarded for literary merit but for the best presentation of \"wholesome\" American life.\\nLewis closed out the decade with DODSWORTH (1929), a novel about the most affluent and successful members of American society. He portrayed them as leading essentially pointless lives in spite of great wealth and advantages. After winning the Nobel Prize in 1930, Lewis wrote eleven more novels. The best remembered is IT CAN\\'T HAPPEN HERE (1935), a novel about the election of a fascist to the American presidency.\\nIn addition to his major novels, this torrent includes a selection of Lewis\\' short stories (I\\'M A STRANGER HERE MYSELF) and essays (THE MAN FROM MAIN STREET), the latter of which reproduces the text of his Nobel Prize address.\\nThe following books are in PDF or ePUB format as indicated:\\n* ARROWSMITH (HarperPerennial, 2012) -- ePUB\\n* BABBITT (Bantam Classics, 1998). Introduction by John Wickersham. -- ePUB\\n* BABBITT (Barnes & Noble, 2005). Introduction and Notes by Kenneth Krauss. -- ePUB\\n* BABBITT (HarperPerennial, 2012) -- ePUB\\n* BABBITT (Oxford World\\'s Classics, 2010). Edited with an Introduction and Notes by Gordon Hutner. -- PDF\\n* BETHEL MERRIDAY (Jonathan Cape, 1940) -- PDF\\n* DODSWORTH (HarperPerennial, 2012) -- ePUB\\n* FREE AIR (HarperPerennial, 2012) -- ePUB\\n* GIDEON PLANISH (Jonathan Cape, 1943) -- PDF\\n* THE GOD-SEEKER (Popular Library, 1948) -- PDF\\n* I\\'M A STRANGER HERE MYSELF & OTHER STORIES (Dell, 1962). Selected by Mark Schorer. -- PDF\\n* IT CAN\\'T HAPPEN HERE (Signet, 2014). Introduction by Michael Meyer and a New Afterword by Gary Scharnhorst. -- ePUB\\n* MAIN STREET (Barnes & Noble, 2003). Introduction and Notes by Brooke Allen. -- ePUB\\n* MAIN STREET (HarperPerennial, 2012) -- ePUB\\n* MAIN STREET (Modern Library, 1999). Introduction by Carol Kennicott. -- ePUB\\n* THE MAN FROM MAIN STREET: Selected Essays & Other Writings, 1904-1950 (Pocket Books, 1963). Edited by Harry E. Maule and Melville H. Cane. -- PDF\\n* OUR MR. WRENN (Grosset & Dunlap, 1914) -- PDF\\n* PREMIUM COLLECTION: 7 Novels: Our Mr. Wrenn / The Trail of the Hawk / The Job / The Innocents / Free Air / Main Street / Babbitt (Timeless Wisdom, 2014) -- ePUB\\n* THE PRODIGAL PARENTS (Doubleday, 1934) -- PDF\\n* WORK OF ART (Collier, 1934) -- PDF'], 'title': ['The Nobel Prize in Literature 1930', 'Why Don’t More Americans Win the Nobel Prize? - The New Yorker', 'Sinclair Lewis Wins Nobel Prize – on ‘This Date in Central ...', 'Sinclair Lewis - Nobel Prize in Literature, 1930 (20 books ...', 'Sinclair Lewis - Biographical - Nobel Prize', 'Sinclair Lewis Becomes the First American to be Awarded ...', 'Download Sinclair Lewis - Nobel Prize in Literature, 1930 ...'], 'url': ['http://www.nobelprize.org/nobel_prizes/literature/laureates/1930/', 'http://www.newyorker.com/books/page-turner/why-dont-more-americans-win-the-nobel-prize', 'http://wjon.com/sinclair-lewis-wins-nobel-prize-on-this-date-in-central-minnesota-history/', 'https://piratebay.bid/torrent/11997302/Sinclair_Lewis_-_Nobel_Prize_in_Literature__1930_(20_books)', 'http://www.nobelprize.org/nobel_prizes/literature/laureates/1930/lewis-bio.html', 'https://worldhistoryproject.org/1930/sinclair-lewis-becomes-the-first-american-to-be-awarded-the-nobel-prize-for-literature', 'http://kickasstorrents.ee/sinclair-lewis-nobel-prize-in-literature-1930-20-books-t10761358.html']}}\n"
     ]
    }
   ],
   "source": [
    "print(trivia_dataset['train'][0])"
   ]
  },
  {
   "cell_type": "code",
   "execution_count": 33,
   "metadata": {},
   "outputs": [],
   "source": [
    "trivia_test = trivia_dataset['test']\n",
    "trivia_train = trivia_dataset['train']\n",
    "trivia_val = trivia_dataset['validation']"
   ]
  },
  {
   "cell_type": "code",
   "execution_count": 34,
   "metadata": {},
   "outputs": [],
   "source": [
    "import pandas as pd"
   ]
  },
  {
   "cell_type": "code",
   "execution_count": 35,
   "metadata": {},
   "outputs": [
    {
     "output_type": "execute_result",
     "data": {
      "text/plain": [
       "datasets.arrow_dataset.Dataset"
      ]
     },
     "metadata": {},
     "execution_count": 35
    }
   ],
   "source": [
    "type(trivia_test)"
   ]
  },
  {
   "cell_type": "code",
   "execution_count": 26,
   "metadata": {},
   "outputs": [
    {
     "output_type": "error",
     "ename": "TypeError",
     "evalue": "cannot pickle '_io.BufferedWriter' object",
     "traceback": [
      "\u001b[0;31m---------------------------------------------------------------------------\u001b[0m",
      "\u001b[0;31mTypeError\u001b[0m                                 Traceback (most recent call last)",
      "\u001b[0;32m<ipython-input-26-11c399a94e90>\u001b[0m in \u001b[0;36m<module>\u001b[0;34m\u001b[0m\n\u001b[1;32m      2\u001b[0m \u001b[0;34m\u001b[0m\u001b[0m\n\u001b[1;32m      3\u001b[0m \u001b[0;32mwith\u001b[0m \u001b[0mopen\u001b[0m\u001b[0;34m(\u001b[0m\u001b[0;34m\"Data/Raw/trivia_test.pickle\"\u001b[0m\u001b[0;34m,\u001b[0m \u001b[0;34m\"wb\"\u001b[0m\u001b[0;34m)\u001b[0m \u001b[0;32mas\u001b[0m \u001b[0mtrivia_test\u001b[0m\u001b[0;34m:\u001b[0m\u001b[0;34m\u001b[0m\u001b[0;34m\u001b[0m\u001b[0m\n\u001b[0;32m----> 4\u001b[0;31m     \u001b[0mpickle\u001b[0m\u001b[0;34m.\u001b[0m\u001b[0mdump\u001b[0m\u001b[0;34m(\u001b[0m\u001b[0mtrivia_test\u001b[0m\u001b[0;34m,\u001b[0m \u001b[0mtrivia_test\u001b[0m\u001b[0;34m)\u001b[0m\u001b[0;34m\u001b[0m\u001b[0;34m\u001b[0m\u001b[0m\n\u001b[0m\u001b[1;32m      5\u001b[0m \u001b[0;32mwith\u001b[0m \u001b[0mopen\u001b[0m\u001b[0;34m(\u001b[0m\u001b[0;34m\"Data/Raw/trivia_train.pickle\"\u001b[0m\u001b[0;34m,\u001b[0m \u001b[0;34m\"wb\"\u001b[0m\u001b[0;34m)\u001b[0m \u001b[0;32mas\u001b[0m \u001b[0mtrivia_train\u001b[0m\u001b[0;34m:\u001b[0m\u001b[0;34m\u001b[0m\u001b[0;34m\u001b[0m\u001b[0m\n\u001b[1;32m      6\u001b[0m     \u001b[0mpickle\u001b[0m\u001b[0;34m.\u001b[0m\u001b[0mdump\u001b[0m\u001b[0;34m(\u001b[0m\u001b[0mtrivia_train\u001b[0m\u001b[0;34m,\u001b[0m \u001b[0mtrivia_train\u001b[0m\u001b[0;34m)\u001b[0m\u001b[0;34m\u001b[0m\u001b[0;34m\u001b[0m\u001b[0m\n",
      "\u001b[0;31mTypeError\u001b[0m: cannot pickle '_io.BufferedWriter' object"
     ]
    }
   ],
   "source": [
    "import pickle\n",
    "\n",
    "with open(\"Data/Raw/trivia_test.pickle\", \"wb\") as trivia_test:\n",
    "    pickle.dump(trivia_test, trivia_test)\n",
    "with open(\"Data/Raw/trivia_train.pickle\", \"wb\") as trivia_train:\n",
    "    pickle.dump(trivia_train, trivia_train)\n",
    "with open(\"Data/Raw/trivia_val.pickle\", \"wb\") as trivia_val:\n",
    "    pickle.dump(trivia_val, trivia_val)"
   ]
  },
  {
   "cell_type": "code",
   "execution_count": 42,
   "metadata": {},
   "outputs": [],
   "source": [
    "infile = open(\"Data/Raw/raw_trivia.pickle\",'rb')\n",
    "new_dict = pickle.load(infile)\n",
    "infile.close()\n",
    "\n"
   ]
  },
  {
   "cell_type": "code",
   "execution_count": 47,
   "metadata": {},
   "outputs": [
    {
     "output_type": "stream",
     "text": [
      "\u001b[0;31mSignature:\u001b[0m\n",
      "\u001b[0mload_dataset\u001b[0m\u001b[0;34m(\u001b[0m\u001b[0;34m\u001b[0m\n",
      "\u001b[0;34m\u001b[0m    \u001b[0mpath\u001b[0m\u001b[0;34m:\u001b[0m \u001b[0mstr\u001b[0m\u001b[0;34m,\u001b[0m\u001b[0;34m\u001b[0m\n",
      "\u001b[0;34m\u001b[0m    \u001b[0mname\u001b[0m\u001b[0;34m:\u001b[0m \u001b[0mUnion\u001b[0m\u001b[0;34m[\u001b[0m\u001b[0mstr\u001b[0m\u001b[0;34m,\u001b[0m \u001b[0mNoneType\u001b[0m\u001b[0;34m]\u001b[0m \u001b[0;34m=\u001b[0m \u001b[0;32mNone\u001b[0m\u001b[0;34m,\u001b[0m\u001b[0;34m\u001b[0m\n",
      "\u001b[0;34m\u001b[0m    \u001b[0mdata_dir\u001b[0m\u001b[0;34m:\u001b[0m \u001b[0mUnion\u001b[0m\u001b[0;34m[\u001b[0m\u001b[0mstr\u001b[0m\u001b[0;34m,\u001b[0m \u001b[0mNoneType\u001b[0m\u001b[0;34m]\u001b[0m \u001b[0;34m=\u001b[0m \u001b[0;32mNone\u001b[0m\u001b[0;34m,\u001b[0m\u001b[0;34m\u001b[0m\n",
      "\u001b[0;34m\u001b[0m    \u001b[0mdata_files\u001b[0m\u001b[0;34m:\u001b[0m \u001b[0mUnion\u001b[0m\u001b[0;34m[\u001b[0m\u001b[0mDict\u001b[0m\u001b[0;34m,\u001b[0m \u001b[0mList\u001b[0m\u001b[0;34m]\u001b[0m \u001b[0;34m=\u001b[0m \u001b[0;32mNone\u001b[0m\u001b[0;34m,\u001b[0m\u001b[0;34m\u001b[0m\n",
      "\u001b[0;34m\u001b[0m    \u001b[0msplit\u001b[0m\u001b[0;34m:\u001b[0m \u001b[0mUnion\u001b[0m\u001b[0;34m[\u001b[0m\u001b[0mstr\u001b[0m\u001b[0;34m,\u001b[0m \u001b[0mdatasets\u001b[0m\u001b[0;34m.\u001b[0m\u001b[0msplits\u001b[0m\u001b[0;34m.\u001b[0m\u001b[0mSplit\u001b[0m\u001b[0;34m,\u001b[0m \u001b[0mNoneType\u001b[0m\u001b[0;34m]\u001b[0m \u001b[0;34m=\u001b[0m \u001b[0;32mNone\u001b[0m\u001b[0;34m,\u001b[0m\u001b[0;34m\u001b[0m\n",
      "\u001b[0;34m\u001b[0m    \u001b[0mcache_dir\u001b[0m\u001b[0;34m:\u001b[0m \u001b[0mUnion\u001b[0m\u001b[0;34m[\u001b[0m\u001b[0mstr\u001b[0m\u001b[0;34m,\u001b[0m \u001b[0mNoneType\u001b[0m\u001b[0;34m]\u001b[0m \u001b[0;34m=\u001b[0m \u001b[0;32mNone\u001b[0m\u001b[0;34m,\u001b[0m\u001b[0;34m\u001b[0m\n",
      "\u001b[0;34m\u001b[0m    \u001b[0mfeatures\u001b[0m\u001b[0;34m:\u001b[0m \u001b[0mUnion\u001b[0m\u001b[0;34m[\u001b[0m\u001b[0mdatasets\u001b[0m\u001b[0;34m.\u001b[0m\u001b[0mfeatures\u001b[0m\u001b[0;34m.\u001b[0m\u001b[0mFeatures\u001b[0m\u001b[0;34m,\u001b[0m \u001b[0mNoneType\u001b[0m\u001b[0;34m]\u001b[0m \u001b[0;34m=\u001b[0m \u001b[0;32mNone\u001b[0m\u001b[0;34m,\u001b[0m\u001b[0;34m\u001b[0m\n",
      "\u001b[0;34m\u001b[0m    \u001b[0mdownload_config\u001b[0m\u001b[0;34m:\u001b[0m \u001b[0mUnion\u001b[0m\u001b[0;34m[\u001b[0m\u001b[0mdatasets\u001b[0m\u001b[0;34m.\u001b[0m\u001b[0mutils\u001b[0m\u001b[0;34m.\u001b[0m\u001b[0mfile_utils\u001b[0m\u001b[0;34m.\u001b[0m\u001b[0mDownloadConfig\u001b[0m\u001b[0;34m,\u001b[0m \u001b[0mNoneType\u001b[0m\u001b[0;34m]\u001b[0m \u001b[0;34m=\u001b[0m \u001b[0;32mNone\u001b[0m\u001b[0;34m,\u001b[0m\u001b[0;34m\u001b[0m\n",
      "\u001b[0;34m\u001b[0m    \u001b[0mdownload_mode\u001b[0m\u001b[0;34m:\u001b[0m \u001b[0mUnion\u001b[0m\u001b[0;34m[\u001b[0m\u001b[0mdatasets\u001b[0m\u001b[0;34m.\u001b[0m\u001b[0mutils\u001b[0m\u001b[0;34m.\u001b[0m\u001b[0mdownload_manager\u001b[0m\u001b[0;34m.\u001b[0m\u001b[0mGenerateMode\u001b[0m\u001b[0;34m,\u001b[0m \u001b[0mNoneType\u001b[0m\u001b[0;34m]\u001b[0m \u001b[0;34m=\u001b[0m \u001b[0;32mNone\u001b[0m\u001b[0;34m,\u001b[0m\u001b[0;34m\u001b[0m\n",
      "\u001b[0;34m\u001b[0m    \u001b[0mignore_verifications\u001b[0m\u001b[0;34m:\u001b[0m \u001b[0mbool\u001b[0m \u001b[0;34m=\u001b[0m \u001b[0;32mFalse\u001b[0m\u001b[0;34m,\u001b[0m\u001b[0;34m\u001b[0m\n",
      "\u001b[0;34m\u001b[0m    \u001b[0msave_infos\u001b[0m\u001b[0;34m:\u001b[0m \u001b[0mbool\u001b[0m \u001b[0;34m=\u001b[0m \u001b[0;32mFalse\u001b[0m\u001b[0;34m,\u001b[0m\u001b[0;34m\u001b[0m\n",
      "\u001b[0;34m\u001b[0m    \u001b[0mscript_version\u001b[0m\u001b[0;34m:\u001b[0m \u001b[0mUnion\u001b[0m\u001b[0;34m[\u001b[0m\u001b[0mstr\u001b[0m\u001b[0;34m,\u001b[0m \u001b[0mdatasets\u001b[0m\u001b[0;34m.\u001b[0m\u001b[0mutils\u001b[0m\u001b[0;34m.\u001b[0m\u001b[0mversion\u001b[0m\u001b[0;34m.\u001b[0m\u001b[0mVersion\u001b[0m\u001b[0;34m,\u001b[0m \u001b[0mNoneType\u001b[0m\u001b[0;34m]\u001b[0m \u001b[0;34m=\u001b[0m \u001b[0;32mNone\u001b[0m\u001b[0;34m,\u001b[0m\u001b[0;34m\u001b[0m\n",
      "\u001b[0;34m\u001b[0m    \u001b[0;34m**\u001b[0m\u001b[0mconfig_kwargs\u001b[0m\u001b[0;34m,\u001b[0m\u001b[0;34m\u001b[0m\n",
      "\u001b[0;34m\u001b[0m\u001b[0;34m)\u001b[0m \u001b[0;34m->\u001b[0m \u001b[0mUnion\u001b[0m\u001b[0;34m[\u001b[0m\u001b[0mdatasets\u001b[0m\u001b[0;34m.\u001b[0m\u001b[0mdataset_dict\u001b[0m\u001b[0;34m.\u001b[0m\u001b[0mDatasetDict\u001b[0m\u001b[0;34m,\u001b[0m \u001b[0mdatasets\u001b[0m\u001b[0;34m.\u001b[0m\u001b[0marrow_dataset\u001b[0m\u001b[0;34m.\u001b[0m\u001b[0mDataset\u001b[0m\u001b[0;34m]\u001b[0m\u001b[0;34m\u001b[0m\u001b[0;34m\u001b[0m\u001b[0m\n",
      "\u001b[0;31mDocstring:\u001b[0m\n",
      "Load a dataset\n",
      "\n",
      "This method does the following under the hood:\n",
      "\n",
      "    1. Download and import in the library the dataset loading script from ``path`` if it's not already cached inside the library.\n",
      "\n",
      "        Processing scripts are small python scripts that define the citation, info and format of the dataset,\n",
      "        contain the URL to the original data files and the code to load examples from the original data files.\n",
      "\n",
      "        You can find some of the scripts here: https://github.com/huggingface/datasets/datasets\n",
      "        and easily upload yours to share them using the CLI ``datasets-cli``.\n",
      "\n",
      "    2. Run the dataset loading script which will:\n",
      "\n",
      "        * Download the dataset file from the original URL (see the script) if it's not already downloaded and cached.\n",
      "        * Process and cache the dataset in typed Arrow tables for caching.\n",
      "\n",
      "            Arrow table are arbitrarily long, typed tables which can store nested objects and be mapped to numpy/pandas/python standard types.\n",
      "            They can be directly access from drive, loaded in RAM or even streamed over the web.\n",
      "\n",
      "    3. Return a dataset build from the requested splits in ``split`` (default: all).\n",
      "\n",
      "Args:\n",
      "\n",
      "    path (``str``):\n",
      "        path to the dataset processing script with the dataset builder. Can be either:\n",
      "            - a local path to processing script or the directory containing the script (if the script has the same name as the directory),\n",
      "                e.g. ``'./dataset/squad'`` or ``'./dataset/squad/squad.py'``\n",
      "            - a dataset identifier on HuggingFace AWS bucket (list all available datasets and ids with ``datasets.list_datasets()``)\n",
      "                e.g. ``'squad'``, ``'glue'`` or ``'openai/webtext'``\n",
      "    name (Optional ``str``): defining the name of the dataset configuration\n",
      "    data_files (Optional ``str``): defining the data_files of the dataset configuration\n",
      "    data_dir (Optional ``str``): defining the data_dir of the dataset configuration\n",
      "    split (`datasets.Split` or `str`): which split of the data to load.\n",
      "        If None, will return a `dict` with all splits (typically `datasets.Split.TRAIN` and `datasets.Split.TEST`).\n",
      "        If given, will return a single Dataset.\n",
      "        Splits can be combined and specified like in tensorflow-datasets.\n",
      "    cache_dir (Optional ``str``): directory to read/write data. Defaults to \"~/datasets\".\n",
      "    features (Optional ``datasets.Features``): Set the features type to use for this dataset.\n",
      "    download_config (Optional ``datasets.DownloadConfig``: specific download configuration parameters.\n",
      "    download_mode (Optional `datasets.GenerateMode`): select the download/generate mode - Default to REUSE_DATASET_IF_EXISTS\n",
      "    ignore_verifications (bool): Ignore the verifications of the downloaded/processed dataset information (checksums/size/splits/...)\n",
      "    save_infos (bool): Save the dataset information (checksums/size/splits/...)\n",
      "    script_version (Optional ``Union[str, datasets.Version]``): if specified, the module will be loaded from the datasets repository\n",
      "        at this version. By default it is set to the local version fo the lib. Specifying a version that is different from\n",
      "        your local version of the lib might cause compatibility issues.\n",
      "    **config_kwargs (Optional ``dict``): keyword arguments to be passed to the ``datasets.BuilderConfig`` and used in the ``datasets.DatasetBuilder``.\n",
      "\n",
      "Returns:\n",
      "    ``datasets.Dataset`` or ``datasets.DatasetDict``\n",
      "        if `split` is not None: the dataset requested,\n",
      "        if `split` is None, a ``datasets.DatasetDict`` with each split.\n",
      "\u001b[0;31mFile:\u001b[0m      /usr/local/Caskroom/miniconda/base/envs/Case2/lib/python3.8/site-packages/datasets/load.py\n",
      "\u001b[0;31mType:\u001b[0m      function\n"
     ],
     "name": "stdout"
    }
   ],
   "source": [
    "?load_dataset"
   ]
  }
 ],
 "metadata": {
  "kernelspec": {
   "display_name": "Python 3.8.2 64-bit",
   "language": "python",
   "name": "python38264bit4230aea30c214cc4a63566454ea68788"
  },
  "language_info": {
   "codemirror_mode": {
    "name": "ipython",
    "version": 3
   },
   "file_extension": ".py",
   "mimetype": "text/x-python",
   "name": "python",
   "nbconvert_exporter": "python",
   "pygments_lexer": "ipython3",
   "version": "3.8.2-final"
  }
 },
 "nbformat": 4,
 "nbformat_minor": 4
}