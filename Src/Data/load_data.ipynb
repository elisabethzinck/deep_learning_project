{
 "cells": [
  {
   "cell_type": "code",
   "execution_count": 1,
   "metadata": {},
   "outputs": [],
   "source": [
    "# If not already installed: \n",
    "#pip install datasets\n",
    "from datasets import load_dataset\n",
    "#%%"
   ]
  },
  {
   "cell_type": "markdown",
   "metadata": {},
   "source": [
    "## Load training data\n",
    "Doing this in notebook because Spyder doesn't show the tqdm properly. "
   ]
  },
  {
   "cell_type": "code",
   "execution_count": 3,
   "metadata": {},
   "outputs": [
    {
     "name": "stderr",
     "output_type": "stream",
     "text": [
      "Downloading: 12.6kB [00:00, 925kB/s]                    \n",
      "Downloading: 13.6kB [00:00, 2.66MB/s]                   \n",
      "Downloading and preparing dataset trivia_qa/rc (download: 2.48 GiB, generated: 14.92 GiB, post-processed: Unknown size, total: 17.40 GiB) to /Users/IdaRiis/.cache/huggingface/datasets/trivia_qa/rc/1.1.0/e734e28133f4d9a353af322aa52b9f266f6f27cbf2f072690a1694e577546b0d...\n",
      "Downloading: 100%|██████████| 2.67G/2.67G [15:21<00:00, 2.89MB/s]\n",
      "Dataset trivia_qa downloaded and prepared to /Users/IdaRiis/.cache/huggingface/datasets/trivia_qa/rc/1.1.0/e734e28133f4d9a353af322aa52b9f266f6f27cbf2f072690a1694e577546b0d. Subsequent calls will reuse this data.\n"
     ]
    }
   ],
   "source": [
    "dataset = load_dataset('trivia_qa', name = 'rc')  # name = 'rc' to get reading comprehension version (with full texts)"
   ]
  },
  {
   "cell_type": "markdown",
   "metadata": {},
   "source": [
    "I get the error: \n",
    "\n",
    "\"OSError: [Errno 22] Invalid argument: \"C:\\\\Users\\\\elisa\\\\.cache\\\\huggingface\\\\datasets\\\\downloads\\\\extracted\\\\2beb05147fcb0bfa85c591ca1d37591a66d30d835938117159a013c48d72751c\\\\evidence\\\\wikipedia\\\\What's_the_Frequency,_Kenneth?.txt\"\" \n",
    "\n",
    "when running it the first time. Then loading it the second time seems to do the trick:"
   ]
  },
  {
   "cell_type": "code",
   "execution_count": 3,
   "metadata": {},
   "outputs": [
    {
     "name": "stdout",
     "output_type": "stream",
     "text": [
      "Downloading and preparing dataset trivia_qa/rc (download: Unknown size, generated: Unknown size, post-processed: Unknown size, total: Unknown size) to C:\\Users\\elisa\\.cache\\huggingface\\datasets\\trivia_qa\\rc\\1.1.0\\e734e28133f4d9a353af322aa52b9f266f6f27cbf2f072690a1694e577546b0d...\n"
     ]
    },
    {
     "data": {
      "application/vnd.jupyter.widget-view+json": {
       "model_id": "",
       "version_major": 2,
       "version_minor": 0
      },
      "text/plain": [
       "HBox(children=(FloatProgress(value=1.0, bar_style='info', max=1.0), HTML(value='')))"
      ]
     },
     "metadata": {},
     "output_type": "display_data"
    },
    {
     "data": {
      "application/vnd.jupyter.widget-view+json": {
       "model_id": "",
       "version_major": 2,
       "version_minor": 0
      },
      "text/plain": [
       "HBox(children=(FloatProgress(value=1.0, bar_style='info', max=1.0), HTML(value='')))"
      ]
     },
     "metadata": {},
     "output_type": "display_data"
    },
    {
     "data": {
      "application/vnd.jupyter.widget-view+json": {
       "model_id": "",
       "version_major": 2,
       "version_minor": 0
      },
      "text/plain": [
       "HBox(children=(FloatProgress(value=1.0, bar_style='info', max=1.0), HTML(value='')))"
      ]
     },
     "metadata": {},
     "output_type": "display_data"
    },
    {
     "name": "stdout",
     "output_type": "stream",
     "text": [
      "Dataset trivia_qa downloaded and prepared to C:\\Users\\elisa\\.cache\\huggingface\\datasets\\trivia_qa\\rc\\1.1.0\\e734e28133f4d9a353af322aa52b9f266f6f27cbf2f072690a1694e577546b0d. Subsequent calls will reuse this data.\n"
     ]
    }
   ],
   "source": [
    "new_dataset = load_dataset('trivia_qa', name = 'rc')"
   ]
  },
  {
   "cell_type": "markdown",
   "metadata": {},
   "source": [
    "And now it seems to be okay:"
   ]
  },
  {
   "cell_type": "code",
   "execution_count": 2,
   "metadata": {},
   "outputs": [
    {
     "name": "stderr",
     "output_type": "stream",
     "text": [
      "Reusing dataset trivia_qa (C:\\Users\\elisa\\.cache\\huggingface\\datasets\\trivia_qa\\rc\\1.1.0\\e734e28133f4d9a353af322aa52b9f266f6f27cbf2f072690a1694e577546b0d)\n"
     ]
    }
   ],
   "source": [
    "train = load_dataset('trivia_qa', name = 'rc', split = 'train')"
   ]
  },
  {
   "cell_type": "markdown",
   "metadata": {},
   "source": [
    "# Brief look at data"
   ]
  },
  {
   "cell_type": "code",
   "execution_count": 3,
   "metadata": {},
   "outputs": [
    {
     "data": {
      "text/plain": [
       "{'question': Value(dtype='string', id=None),\n",
       " 'question_id': Value(dtype='string', id=None),\n",
       " 'question_source': Value(dtype='string', id=None),\n",
       " 'entity_pages': Sequence(feature={'doc_source': Value(dtype='string', id=None), 'filename': Value(dtype='string', id=None), 'title': Value(dtype='string', id=None), 'wiki_context': Value(dtype='string', id=None)}, length=-1, id=None),\n",
       " 'search_results': Sequence(feature={'description': Value(dtype='string', id=None), 'filename': Value(dtype='string', id=None), 'rank': Value(dtype='int32', id=None), 'title': Value(dtype='string', id=None), 'url': Value(dtype='string', id=None), 'search_context': Value(dtype='string', id=None)}, length=-1, id=None),\n",
       " 'answer': {'aliases': Sequence(feature=Value(dtype='string', id=None), length=-1, id=None),\n",
       "  'normalized_aliases': Sequence(feature=Value(dtype='string', id=None), length=-1, id=None),\n",
       "  'matched_wiki_entity_name': Value(dtype='string', id=None),\n",
       "  'normalized_matched_wiki_entity_name': Value(dtype='string', id=None),\n",
       "  'normalized_value': Value(dtype='string', id=None),\n",
       "  'type': Value(dtype='string', id=None),\n",
       "  'value': Value(dtype='string', id=None)}}"
      ]
     },
     "execution_count": 3,
     "metadata": {},
     "output_type": "execute_result"
    }
   ],
   "source": [
    "train.features"
   ]
  },
  {
   "cell_type": "code",
   "execution_count": 4,
   "metadata": {},
   "outputs": [
    {
     "data": {
      "text/plain": [
       "(0, 6)"
      ]
     },
     "execution_count": 4,
     "metadata": {},
     "output_type": "execute_result"
    }
   ],
   "source": [
    "train.shape"
   ]
  },
  {
   "cell_type": "code",
   "execution_count": 25,
   "metadata": {},
   "outputs": [
    {
     "ename": "IndexError",
     "evalue": "Index (0) outside of table length (0).",
     "output_type": "error",
     "traceback": [
      "\u001b[1;31m---------------------------------------------------------------------------\u001b[0m",
      "\u001b[1;31mIndexError\u001b[0m                                Traceback (most recent call last)",
      "\u001b[1;32m<ipython-input-25-9b7c4a596534>\u001b[0m in \u001b[0;36m<module>\u001b[1;34m\u001b[0m\n\u001b[1;32m----> 1\u001b[1;33m \u001b[0mtrain\u001b[0m\u001b[1;33m[\u001b[0m\u001b[1;36m0\u001b[0m\u001b[1;33m]\u001b[0m\u001b[1;33m\u001b[0m\u001b[1;33m\u001b[0m\u001b[0m\n\u001b[0m",
      "\u001b[1;32m~\\Anaconda3\\lib\\site-packages\\datasets\\arrow_dataset.py\u001b[0m in \u001b[0;36m__getitem__\u001b[1;34m(self, key)\u001b[0m\n\u001b[0;32m   1081\u001b[0m             \u001b[0mformat_columns\u001b[0m\u001b[1;33m=\u001b[0m\u001b[0mself\u001b[0m\u001b[1;33m.\u001b[0m\u001b[0m_format_columns\u001b[0m\u001b[1;33m,\u001b[0m\u001b[1;33m\u001b[0m\u001b[1;33m\u001b[0m\u001b[0m\n\u001b[0;32m   1082\u001b[0m             \u001b[0moutput_all_columns\u001b[0m\u001b[1;33m=\u001b[0m\u001b[0mself\u001b[0m\u001b[1;33m.\u001b[0m\u001b[0m_output_all_columns\u001b[0m\u001b[1;33m,\u001b[0m\u001b[1;33m\u001b[0m\u001b[1;33m\u001b[0m\u001b[0m\n\u001b[1;32m-> 1083\u001b[1;33m             \u001b[0mformat_kwargs\u001b[0m\u001b[1;33m=\u001b[0m\u001b[0mself\u001b[0m\u001b[1;33m.\u001b[0m\u001b[0m_format_kwargs\u001b[0m\u001b[1;33m,\u001b[0m\u001b[1;33m\u001b[0m\u001b[1;33m\u001b[0m\u001b[0m\n\u001b[0m\u001b[0;32m   1084\u001b[0m         )\n\u001b[0;32m   1085\u001b[0m \u001b[1;33m\u001b[0m\u001b[0m\n",
      "\u001b[1;32m~\\Anaconda3\\lib\\site-packages\\datasets\\arrow_dataset.py\u001b[0m in \u001b[0;36m_getitem\u001b[1;34m(self, key, format_type, format_columns, output_all_columns, format_kwargs)\u001b[0m\n\u001b[0;32m    946\u001b[0m                 \u001b[0mkey\u001b[0m \u001b[1;33m=\u001b[0m \u001b[0mself\u001b[0m\u001b[1;33m.\u001b[0m\u001b[0mnum_rows\u001b[0m \u001b[1;33m+\u001b[0m \u001b[0mkey\u001b[0m\u001b[1;33m\u001b[0m\u001b[1;33m\u001b[0m\u001b[0m\n\u001b[0;32m    947\u001b[0m             \u001b[1;32mif\u001b[0m \u001b[0mkey\u001b[0m \u001b[1;33m>=\u001b[0m \u001b[0mself\u001b[0m\u001b[1;33m.\u001b[0m\u001b[0mnum_rows\u001b[0m \u001b[1;32mor\u001b[0m \u001b[0mkey\u001b[0m \u001b[1;33m<\u001b[0m \u001b[1;36m0\u001b[0m\u001b[1;33m:\u001b[0m\u001b[1;33m\u001b[0m\u001b[1;33m\u001b[0m\u001b[0m\n\u001b[1;32m--> 948\u001b[1;33m                 \u001b[1;32mraise\u001b[0m \u001b[0mIndexError\u001b[0m\u001b[1;33m(\u001b[0m\u001b[1;34mf\"Index ({key}) outside of table length ({self.num_rows}).\"\u001b[0m\u001b[1;33m)\u001b[0m\u001b[1;33m\u001b[0m\u001b[1;33m\u001b[0m\u001b[0m\n\u001b[0m\u001b[0;32m    949\u001b[0m \u001b[1;33m\u001b[0m\u001b[0m\n\u001b[0;32m    950\u001b[0m             \u001b[1;31m# Check if we need to convert indices\u001b[0m\u001b[1;33m\u001b[0m\u001b[1;33m\u001b[0m\u001b[1;33m\u001b[0m\u001b[0m\n",
      "\u001b[1;31mIndexError\u001b[0m: Index (0) outside of table length (0)."
     ]
    }
   ],
   "source": [
    "train[0]"
   ]
  },
  {
   "cell_type": "markdown",
   "metadata": {},
   "source": [
    "Features are there, but no observations (and not for validation nor test...)"
   ]
  },
  {
   "cell_type": "code",
   "execution_count": 8,
   "metadata": {
    "tags": [
     "outputPrepend"
    ]
   },
   "outputs": [
    {
     "name": "stdout",
     "output_type": "stream",
     "text": [
      "ce.  The novel won the 1926 Pulitzer Prize, which Lewis declined because he felt that it was not awarded for literary merit but for the best presentation of \"wholesome\" American life.  Lewis closed out the decade with DODSWORTH (1929), a novel about the most affluent and successful members of American society.  He portrayed them as leading essentially pointless lives in spite of great wealth and advantages.  After winning the Nobel Prize in 1930, Lewis wrote eleven more novels.  The best remembered is IT CAN\\'T HAPPEN HERE (1935), a novel about the election of a fascist to the American presidency.  In addition to his major novels, this torrent includes a selection of Lewis\\' short stories (I\\'M A STRANGER HERE MYSELF) and essays (THE MAN FROM MAIN STREET), the latter of which reproduces the text of his Nobel Prize address.   The following books are in PDF or ePUB format as indicated:  * ARROWSMITH (HarperPerennial, 2012) -- ePUB  * BABBITT (Bantam Classics, 1998).  Introduction by John Wickersham. -- ePUB  * BABBITT (Barnes & Noble, 2005).  Introduction and Notes by Kenneth Krauss. -- ePUB  * BABBITT (HarperPerennial, 2012) -- ePUB  * BABBITT (Oxford World\\'s Classics, 2010).  Edited with an Introduction and Notes by Gordon Hutner. -- PDF  * BETHEL MERRIDAY (Jonathan Cape, 1940) -- PDF  * DODSWORTH (HarperPerennial, 2012) -- ePUB  * FREE AIR (HarperPerennial, 2012) -- ePUB  * GIDEON PLANISH (Jonathan Cape, 1943) -- PDF  * THE GOD-SEEKER (Popular Library, 1948) -- PDF  * I\\'M A STRANGER HERE MYSELF & OTHER STORIES (Dell, 1962).  Selected by Mark Schorer. -- PDF  * IT CAN\\'T HAPPEN HERE (Signet, 2014).  Introduction by Michael Meyer and a New Afterword by Gary Scharnhorst. -- ePUB  * MAIN STREET (Barnes & Noble, 2003).  Introduction and Notes by Brooke Allen. -- ePUB  * MAIN STREET (HarperPerennial, 2012) -- ePUB  * MAIN STREET (Modern Library, 1999).  Introduction by Carol Kennicott. -- ePUB  * THE MAN FROM MAIN STREET: Selected Essays & Other Writings, 1904-1950 (Pocket Books, 1963).  Edited by Harry E. Maule and Melville H. Cane. -- PDF  * OUR MR. WRENN (Grosset & Dunlap, 1914) -- PDF  * PREMIUM COLLECTION: 7 Novels: Our Mr. Wrenn / The Trail of the Hawk / The Job / The Innocents / Free Air / Main Street / Babbitt (Timeless Wisdom, 2014) -- ePUB  * THE PRODIGAL PARENTS (Doubleday, 1934) -- PDF  * WORK OF ART (Collier, 1934) -- PDF  _____________________________________________________________________________ >> CONTACT ME You may reach me with comments, suggestions, requests, error reports, etc., at TPB\\'s forum, SuprBay (you will need to register an account): https://pirates-forum.org/User-workerbee >> PLEASE HELP TO SEED! If you like these books and want others to have access to them, please consider seeding for as long as you can.  The more you seed, the longer the torrent will live, and the easier it will be for me to upload new content.  Thank you!', \"Sinclair Lewis - Biographical\\nSinclair Lewis\\nThe Nobel Prize in Literature 1930\\nSinclair Lewis\\nShare this:\\nSinclair Lewis - Biographical\\nTo recount my life for the Nobel   Foundation, I would like to present it as possessing some   romantic quality, some unique character, like Kipling 's early adventures in India, or Bernard Shaw 's leadership in the   criticism of British arts and economics. But my life, aside from   such youthful pranks as sailing on cattleships from America to   England during university vacations, trying to find work in   Panama during the building of the Canal, and serving for two   months as janitor of Upton Sinclair's abortive co-operative   colony, Helicon Hall, has been a rather humdrum chronicle of much   reading, constant writing, undistinguished travel à la   tripper, and several years of comfortable servitude as an   editor.\\nI was born in a prairie village in that most Scandinavian part of   America, Minnesota, the son of a country doctor, in 1885. Until I   went East to Yale   University I attended the ordinary public school, along with   many Madsens, Olesons, Nelsons, Hedins, Larsons. Doubtless it was   because of this that I made the hero of my second book, The   Trail of the Hawk, a Norwegian, and Gustaf Sondelius, of Arrowsmith, a Swede - and to me, Dr. Sondelius is the   favorite among all my characters.\\nOf Carl Ericson of The Trail of the Hawk, I wrote -back in   1914, when I was working all day as editor for the George H.   Doran Publishing Company, and all evening trying to write novels   - as follows:\\n«His carpenter father had come from Norway, by way of   steerage and a farm in Wisconsin, changing his name (to   Americanize it) from Ericsen... Carl was second-generation   Norwegian; American-born, American in speech, American in   appearance, save for his flaxen hair and china-blue eyes... When   he was born the ‹typical Americans› of earlier stocks   had moved to city palaces or were marooned on run-down farms. It   was Carl Ericson, not a Trowbridge or a Stuyvesant or a Lee or a   Grant, who was the ‹typical American› of his period.   It was for him to carry on the American destiny of extending the   Western horizon; his to restore the wintry Pilgrim virtues and   the exuberant October, partridge-drumming days of Daniel Boone;   then to add, in his own or another generation, new American   aspirations for beauty.»\\nMy university days at Yale were undistinguished save for   contributions to the Yale Literary Magazine. It may be   interesting to say that these contributions were most of them   reeking with a banal romanticism; that an author who was later to   try to present ordinary pavements trod by real boots should   through university days have written nearly always of Guinevere   and Lancelot - of weary bitterns among sad Irish reeds - of   story-book castles with troubadours vastly indulging in wine, a   commodity of which the author was singularly ignorant. What the   moral is, I do not know. Whether imaginary castles at nineteen   lead always to the sidewalks of Main Street at thirty-five, and   whether the process might be reversed, and whether either of them   is desirable, I leave to psychologists.\\nI drifted for two years after college as a journalist, as a   newspaper reporter in Iowa and in San Francisco, as - incredibly   - a junior editor on a magazine for teachers of the deaf, in   Washington, D.C. The magazine was supported by Alexander Graham   Bell, inventor of the telephone. What I did not know about   teaching the deaf would have included the entire subject, but   that did not vastly matter, as my position was so insignificant   that it included typing hundreds of letters every week begging   for funds for the magazine and, on days when the Negro janitress   did not appear, sweeping out the office.\\nDoubtless this shows the advantages of a university education,   and it was further shown when at the age of twenty-five I managed   to get a position in a New York publishing house at all of   fifteen dollars a week. This was my authentic value on the labor   market, and I have always uncomfortably suspected that it would   never have been much higher had I not, accidentally, possessed   the gift of writing books which so acutely annoyed American   smugness that some thousands of my fellow citizens felt they must   read these scandalous documents, whether they liked them or   not.\\nFrom that New York position till the time five years later when I   was selling enough short stories to the magazines to be able to   live by free-lancing, I had a series of typical white-collar,   unromantic, office literary jobs with two publishing houses, a   magazine (Adventure), and a newspaper syndicate, reading   manuscripts, writing book advertising, writing catalogues,   writing uninspired book reviews - all the carpentry and plumbing   of the city of letters. Nor did my first five novels rouse the   slightest whispers: Our Mr. Wrenn, The Trail of the   Hawk, The Job, The Innocents, and Free   Air they were called, published between 1914 and 1919, and   all of them dead before the ink was dry. I lacked sense enough to   see that, after five failures, I was foolish to continue   writing.\\nMain Street, published late in 1920, was my first novel to   rouse the embattled peasantry and, as I have already hinted, it   had really a success of scandal. One of the most treasured   American myths had been that all American villages were   peculiarly noble and happy, and here an American attacked that   myth. Scandalous. Some hundreds of thousands read the book with   the same masochistic pleasure that one has in sucking an aching   tooth.\\nSince Main Street, the novels have been Babbitt (1922); Arrowsmith (1925); Mantrap (1926); Elmer   Gantry (1927); The Man Who Knew Coolidge (1928); and Dodsworth (1929). The next novel, yet unnamed, will   concern idealism in America through three generations, from 1818   till 1930-an idealism which the outlanders who call Americans «dollar-chasers» do not understand. It will presumably   be published in the autumn of 1932, and the author's chief   difficulty in composing it is that, after having received the   Nobel Prize, he longs to write better than he can.\\nI was married, in England, in 1928, to Dorothy Thompson, an   American who had been the Central European correspondent and chef de bureau of the New York Evening Post. My first   marriage, to Grace Hegger, in New York, in 1914, had been   dissolved.\\nDuring these years of novelwriting since 1915, I have lived a   quite unromantic and unstirring life. I have travelled much; on   the surface it would seem that one who during these fifteen years   had been in forty states of the United States, in Canada, Mexico,   England, Scotland, France, Italy, Sweden, Germany, Austria,   Czechoslovakia, Jugoslavia, Greece, Switzerland, Spain, the West   Indies, Venezuela, Colombia, Panama, Poland, and Russia must have   been adventurous. That, however, would be a typical error of   biography. The fact is that my foreign travelling has been a   quite uninspired recreation, a flight from reality. My real   travelling has been sitting in Pullman smoking cars, in a   Minnesota village, on a Vermont farm, in a hotel in Kansas City   or Savannah, listening to the normal daily drone of what are to   me the most fascinating and exotic people in the world - the   Average Citizens of the United States, with their friendliness to   strangers and their rough teasing, their passion for material   advancement and their shy idealism, their interest in all the   world and their boastful provincialism - the intricate   complexities which an American novelist is privileged to   portray.\\nAnd nowadays, at forty-six, with my first authentic home - a farm   in the pastoral state of Vermont - and a baby born in June 1930,   I am settled down to what I hope to be the beginning of a   novelist's career. I hope the awkward apprenticeship with all its   errors is nearly done.\\n\\xa0\\nBiographical note on Sinclair   Lewis\\nSinclair Lewis (1885-1951) continued to be   a prolific writer, but none of his later writings equalled the   success or stature of his chiefworks of the twenties. After his   divorce from his second wife in 1942, Sinclair Lewis lived   chiefly in Europe. His later novels include Ann Vickers (I933), It Can't Happen Here (1935), The Prodigal   Parents (1938), Gideon Planish (1943), Cass   Timberlane (1945), Kingsblood Royal ( 1947), The   God-Seeker (1949), and World So Wide (1951). From   Main Street to Stockholm: Letters of Sinclair Lewis 1919-1930 was published in 1952, one year after his death in Rome.\\nFrom Nobel Lectures , Literature 1901-1967, Editor Horst Frenz, Elsevier Publishing Company, Amsterdam, 1969\\nThis autobiography/biography was written    at the time of the award and first     published in the book series Les      Prix Nobel .      It was later edited and republished in Nobel Lectures .  To cite this document, always state the source as shown above.\\n\\xa0\\nSinclair Lewis died on January 10, 1951.\", 'Sinclair Lewis Becomes the First American to be Awarded the Nobel Prize for Literature | World History Project\\n1930\\nSinclair Lewis Becomes the First American to be Awarded the Nobel Prize for Literature\\nIn 1930, Lewis won the Nobel Prize in Literature, the first writer from the United States to receive the award.\\nIn the Swedish Academy\\'s presentation speech, special attention was paid to Babbitt. In his Nobel Lecture, Lewis praised Theodore Dreiser, Willa Cather, Ernest Hemingway, and other contemporaries, but also lamented that \"in America most of us — not readers alone, but even writers — are still afraid of any literature which is not a glorification of everything American, a glorification of our faults as well as our virtues,\" and that America is \"the most contradictory, the most depressing, the most stirring, of any land in the world today.\" He also offered a profound criticism of the American literary establishment: \"Our American professors like their literature clear and cold and pure and very dead.\"\\nSource: Wikipedia Added by: Colin Harris\\nIn 1925 Lewis divorced from his first wife and married three years later Dorothy Thompson, a newspaper correspondent, with whom he traveled to London, Berlin, Vienna, and Moscow. At that time Lewis was drinking heavily, and managed to offend most of his friends. Theodore Dreiser, the other American finalist for the Nobel Prize, was bitterly disappointed, when Lewis won the award. Hwmingway said that the prize should have gone to Ezra Pound or James Joyce.\\nSource: \\'(Harry) Sinclair Lewis (1885-1951)\\'; Petri Liukkonen, http://kirjasto.sci.fi/slewis.htm Added by: Colin Harris\\nOn the morning of November 5, 1930, Sinclair Lewis got up very late, and he was wandering about his rented Westport house when the telephone rang and an excited voice with a Swedish accent announced to him that he had been awarded the Nobel Prize in literature. The voice was that of a Swedish newspaper correspondent in New York who had managed to track down Lewis for the Swedish Embassy, but Lewis thought that it was the voice of his friend Ferd Reyher, who liked to do imitations and play jokes. “Oh, yeah?” he replied. “You don’t say! Listen, Ferd, I can say that better than you. Your Swedish accent’s no good. I’ll repeat it to you.” And he repeated it, “You haf de Nobel Brize,” and more. The bewildered Swede protested in vain and finally called an American to the telephone to confirm the news. Lewis fell into a chair.', 'Download Sinclair Lewis - Nobel Prize in Literature, 1930 (20 books) Torrent - kickasstorrents\\nLewis, Sinclair - Work of Art (Collier, 1934).pdf\\n5.13 MB\\nDescription\\nSINCLAIR LEWIS (1885-1951) was an American novelist, short-story writer, and playwright. In 1930, he became the first American writer to receive the Nobel Prize in Literature, which was awarded \"for his vigorous and graphic art of description and his ability to create, with wit and humor, new types of characters.\"\\nHis works are known for their insightful and critical views of American capitalism and materialism between the wars. He is also respected for his strong characterizations of modern working women. H.L. Mencken wrote of him, \"[If] there was ever a novelist among us with an authentic call to the trade ... it is this red-haired tornado from the Minnesota wilds.\"\\nHis first novel, OUR MR. WRENN (1914) is a gently satiric account of a meek New York clerk traveling in Europe. Lewis wrote four more novels and achieved only modest success. But MAIN STREET (1920) caused a sensation and brought him immediate fame. The book is a withering satire on the dullness and lack of culture that exist in a \"typical\" American small town, and the narrow-mindedness and self-satisfaction of its inhabitants.\\nBABBITT (1922) focuses even more effectively Lewis\\' idea of a \"typical\" small city businessman, George F. Babbitt. The novel describes the futile attempt of its central character to break loose from the confining life of a \"solid American citizen\" -- a middle-class, middle-aged realtor, civic booster, and club joiner. Possibly no two works of literature did more to make Americans aware of the limitations of their national life and culture than did MAIN STREET and BABBITT.\\nWith a sharp, satiric eye and a superb gift for mimicry, Lewis continued to examine other aspects of what he considered national inadequacy. ARROWSMITH (1925) describes the frustrations of an idealistic young doctor in conflict with corruption, jealousy, meanness, and prejudice. The novel won the 1926 Pulitzer Prize, which Lewis declined because he felt that it was not awarded for literary merit but for the best presentation of \"wholesome\" American life.\\nLewis closed out the decade with DODSWORTH (1929), a novel about the most affluent and successful members of American society. He portrayed them as leading essentially pointless lives in spite of great wealth and advantages. After winning the Nobel Prize in 1930, Lewis wrote eleven more novels. The best remembered is IT CAN\\'T HAPPEN HERE (1935), a novel about the election of a fascist to the American presidency.\\nIn addition to his major novels, this torrent includes a selection of Lewis\\' short stories (I\\'M A STRANGER HERE MYSELF) and essays (THE MAN FROM MAIN STREET), the latter of which reproduces the text of his Nobel Prize address.\\nThe following books are in PDF or ePUB format as indicated:\\n* ARROWSMITH (HarperPerennial, 2012) -- ePUB\\n* BABBITT (Bantam Classics, 1998). Introduction by John Wickersham. -- ePUB\\n* BABBITT (Barnes & Noble, 2005). Introduction and Notes by Kenneth Krauss. -- ePUB\\n* BABBITT (HarperPerennial, 2012) -- ePUB\\n* BABBITT (Oxford World\\'s Classics, 2010). Edited with an Introduction and Notes by Gordon Hutner. -- PDF\\n* BETHEL MERRIDAY (Jonathan Cape, 1940) -- PDF\\n* DODSWORTH (HarperPerennial, 2012) -- ePUB\\n* FREE AIR (HarperPerennial, 2012) -- ePUB\\n* GIDEON PLANISH (Jonathan Cape, 1943) -- PDF\\n* THE GOD-SEEKER (Popular Library, 1948) -- PDF\\n* I\\'M A STRANGER HERE MYSELF & OTHER STORIES (Dell, 1962). Selected by Mark Schorer. -- PDF\\n* IT CAN\\'T HAPPEN HERE (Signet, 2014). Introduction by Michael Meyer and a New Afterword by Gary Scharnhorst. -- ePUB\\n* MAIN STREET (Barnes & Noble, 2003). Introduction and Notes by Brooke Allen. -- ePUB\\n* MAIN STREET (HarperPerennial, 2012) -- ePUB\\n* MAIN STREET (Modern Library, 1999). Introduction by Carol Kennicott. -- ePUB\\n* THE MAN FROM MAIN STREET: Selected Essays & Other Writings, 1904-1950 (Pocket Books, 1963). Edited by Harry E. Maule and Melville H. Cane. -- PDF\\n* OUR MR. WRENN (Grosset & Dunlap, 1914) -- PDF\\n* PREMIUM COLLECTION: 7 Novels: Our Mr. Wrenn / The Trail of the Hawk / The Job / The Innocents / Free Air / Main Street / Babbitt (Timeless Wisdom, 2014) -- ePUB\\n* THE PRODIGAL PARENTS (Doubleday, 1934) -- PDF\\n* WORK OF ART (Collier, 1934) -- PDF'], 'title': ['The Nobel Prize in Literature 1930', 'Why Don’t More Americans Win the Nobel Prize? - The New Yorker', 'Sinclair Lewis Wins Nobel Prize – on ‘This Date in Central ...', 'Sinclair Lewis - Nobel Prize in Literature, 1930 (20 books ...', 'Sinclair Lewis - Biographical - Nobel Prize', 'Sinclair Lewis Becomes the First American to be Awarded ...', 'Download Sinclair Lewis - Nobel Prize in Literature, 1930 ...'], 'url': ['http://www.nobelprize.org/nobel_prizes/literature/laureates/1930/', 'http://www.newyorker.com/books/page-turner/why-dont-more-americans-win-the-nobel-prize', 'http://wjon.com/sinclair-lewis-wins-nobel-prize-on-this-date-in-central-minnesota-history/', 'https://piratebay.bid/torrent/11997302/Sinclair_Lewis_-_Nobel_Prize_in_Literature__1930_(20_books)', 'http://www.nobelprize.org/nobel_prizes/literature/laureates/1930/lewis-bio.html', 'https://worldhistoryproject.org/1930/sinclair-lewis-becomes-the-first-american-to-be-awarded-the-nobel-prize-for-literature', 'http://kickasstorrents.ee/sinclair-lewis-nobel-prize-in-literature-1930-20-books-t10761358.html']}}\n"
     ]
    }
   ],
   "source": [
    "print(dataset['train'].features)\n",
    "print(dataset['train'][0])"
   ]
  },
  {
   "cell_type": "code",
   "execution_count": 9,
   "metadata": {},
   "outputs": [
    {
     "data": {
      "text/plain": [
       " need a car or taxi to get beyond the last stop of the No. 1 bus, Biet Ghiorghis, to Bar Durfo.\\nAnother place to see is the dramatic highland landscape on the eastern escarpment.  Additionally, one can see a traditional Eritrean highland village in the village of Tselot (which means \\'prayer\\' and is also famous for being the President\\'s village). Tselot lies about 20 km (12 mi) outside the city center and is served by one of the red city buses departing from a section of the marketplace called \"Meda Eritrea\". You should leave as early as possible because there are only a couple of buses per day so you have to make sure you have a way to get back. The rural highland lifestyle in Tselot resembles Biblical times: stone houses, small plots, ancient temples (both Christian and Muslim), people farming and herding with traditional means using little technology, transporting their goods (as well as themselves) on mule- and camelback.\\nWithin walking distance of the village, is the Martyrs National Park, inaugurated in 2000. It is a mountainous forest and wildlife reserve at the ridge of the highland plateau. The landscape consists of an eerily quiet semi-arid plain in a valley, an extension of the highland plateau, interrupted by the dramatic chasm of the eastern ridge which the village center straddles.  The views and scenery are spectacular. The highest viewpoint features chasms, gorges and mountaintops bathed by a sea of clouds, which gives one the impression of standing \"above the clouds\".\\nDo[ edit ][ add listing ]\\nIf you are in Asmara for a short stay, the best thing to do after you\\'re done sightseeing in this city is to head for the outskirts where the scenery is stunning at the very least.\\nUnless you come from a high altitude area yourself, you need a couple of days of strolling in Asmara to get your body used to the thin dry air at 2,600 m (8,530 ft).\\nBring lots of sunscreen lotion but also a sweater as it can get really chilly not only at night but even when standing in the shade (temperatures can vary greatly on different sides of the same street depending on the position of the sun). The sun shines very bright throughout the day in Africa, especially so in Asmara where clouds are rare, so unless you enjoy squinting, bring UV blocking shades.\\nIf you like hiking, rock climbing and mountainbiking, the above mentioned areas outside of town are excellent places to do so, but bring your own gear (incuding bike) as there are no rental bikes and a very limited supply of safety equipment (shoes, ropes, etc.) in Asmara.  However, tents and mosquito nets are readily available at an affordable price in the marketplace downtown. Also consult the locals and bring a guide, because it is good to have someone familiar with the place who speaks the local language in case of an accident or any other eventuality (like what is legal and not legal). For example, taking pictures around any government installation or authority (police, airport, ministries etc.) is strictly forbidden, and your guide can help you get out of such sticky situations.\\nFinally, take time to savor some good food in Asmara. Don\\'t drink any \"fresh\" fruit juices or eat any ice cream unless you want health issues to mess up your time. Stick to bottled drinks, unpeeled fruits and cooked food.\\nThe Eritrean Festival is definitely one of, if not, the biggest event a tourist must see during their stay within the country. Better known as “Festival Eritrea”, it is identified as cultural festivity week within the country. The Eritrea community in the diaspora created the even in 1884 in Bologna-Italy. The event gathered Eritrean communities from around the globe to memorialize the “Struggle for Independence” movement. The first official festival started inside the now free and independent Eritrea in August 2002, which after that point its been annually celebrated as the “Expo” in Asmara and different major cities around the world such as London, Washington DC, and so on. Within the festival you witness and learn about Eritrean culture. The different types of clothing between the different tribes, the different dances, and the food from all nine Eritrean ethnic groups, as well as the development work going on in the country are just some of the things found at the “Expo”. url=”( http://www.ucl.ac.uk/atlas/tigrinya/festival_eritrea.html)”\\nBuy[ edit ][ add listing ]\\nGold and silver jewellery is cheap in Asmara and is definitely a bargain by world standards. So are frankincense and myrrh (if you have any use for them).\\nOtherwise most of the souvenirs bought by tourists are the local home-spun and gold-thread embroidered cotton garments, traditional goat-skin rugs, olivewood carvings, clay coffee-pots and other traditional knick-knacks - all of which are found at the marketplace.\\nIt is definitely recommended that tourists go around the main cities and go see what they can find around the local stores. Souvenirs can be found almost anywhere amongst the several shops found with in the country. Anywhere from jewelry like Gold and Silver, which is what you, will most commonly find in terms of jewelry. Then you range of to other miscellaneous objects and relics such as pottery, swords, daggers, baskets, and other great souvenirs within the marketplace. Food definitely is one-thing tourists will find themselves spending money on. With the diversity of restaurants from local traditional food, to Chinese and Indian cuisine, different options are available\\nEat[ edit ][ add listing ]\\nEritrea is big on Italian food, due to having been an Italian colony between 1890 and 1940. There is a huge range of restaurants in Asmara serving Italian food with Albergo Italia being the best in quality, closely followed by the outdoor setting of Casa Degli Italiani, Alba Bistro opposite the post office also offers a quality, wide range, of food not forgetting Castello behind the Nyala Hotel. The Spagetti and Pizza House on Harnet Av. offers a great choice of pizza and pasta dishes as well as its signature Chilli red snapper.\\nMost traditional Eritrean food is quite spicy, and consists generally of very hot meat and/or vegetable stews, eaten over the staple called \"injera\" a kind of sour-dough pancake or flatbread. Blue Bird and Milano are generally considered the best places for traditional food.\\nOn the up-side, there are many restaurants which make hamburgers using quality organic beef or lamb, such as The Mask Restaurant.\\nFor Indian and Far East cuisine you can visit the Rooftop Garden or The China Star\\nFor a taste of home and a fantastic steak visit the weekend only restaurant at the Asmara Palace Hotel although avoid their buffets.\\nDrink a lot because Asmara will dry you out. Mineral water is there in abundance and that is really the only water you can drink. Don\\'t drink the tapwater if you value your health. Similarly, there are also a lot of bottled fruit juices, \\'Fresh\\' juices are typically safe to drink in the cleaner bars and restaurants.\\nEritreans, especially Asmarinos, love their coffee. Like so much else it is imbibed Italian-style and the city\\'s favorite coffee drink is the macchiato (makyato) ie. \\'stained\\' (that is coffee stained with a touch of steamed milk-froth) which is definitely worth a try if you like strong, sweet coffee.\\nDrink[ edit ][ add listing ]\\nEritrea is not a big wine country, even though it used to have a wine-making tradition during the colonial period. On the other hand, Eritrea is a big beer-drinking country, and the Eritrean beer is definitely a good one if you like lager, pilsner or dark beer.  All three varieties are made by the country\\'s only brewery, which is in Asmara and is aptly called \"Asmara Beer\".  Asmara Beer is great, quenches your thirsty throat and has a good taste. Between early 2008 and May 2009 it was not available, due to a lack of hard currency for buying imported malt.  As of June 2009, nationwide distribution was back. Asmara brewers have proven they produce a good Pilsner beer. Most varieties have around 5% alcohol per volume and a nice hop flavour in the well known bottle. Enjoy!\\nNightlife in Asmara is often considered quieter than most other country capitals, but there are a good range of local bars and also the infamous Zara Bar near the Blue Bird restaurant is a popular haunt with expats.\\nAsmara is an extremely safe city, safe enough for a stroll in the middle of the night. Most people are genuinely friendly, without wanting anything in exchange, beggary and hustling is not as common as in most other third world countries and neither is tourism. Prostitution is legal and rife.\\nAfter the Zara Bar closes there are few choices of night clubs although they do exist. Mocambo is in a basement in the downtown area and is popular with young locals. The Warsai is out of the way and a little seedy. The Asmara Palace Hotel boasts The Green Pub which has disco\\'s on Wednesday, Friday and Saturday nights. In the Expo grounds there is the Benifer which is a restaurant by day but a busy club by night, and the Shamrock which used to be popular with UN staff.  Word of warning, entry is normally priced at 100 Nacfa + and beer is similarly priced.\\nSleep[ edit ][ add listing ]\\nAsmara Palace Hotel (formally the Intercontinental Hotel) out by the airport. The odd spaceship-looking hotel probably has the comfiest beds. But why commute from so far away at such an outrageous price? One can be just as comfortable for much less in the middle of the city where there are plenty of cheap or moderately-priced hotels ranging from US$10-60.\\nSome examples are:\\nAlbergo Italia (formally the Keren Hotel), by the central post office.\\nNyala Hotel, (the city\\'s highest building on Martyrs Avenue).\\nEmbasoira Hotel, behind Independence Avenue (on the east side).\\nHamassien Hotel, right next door to the Embasoira. The Swiss-cottage-looking building.\\nSunshine Hotel, near the Roof Garden restaurant.\\nSelam Hotel, a few blocks away from the Presidential Palace and the National Museum and has a nice garden.\\nThe Buon Respiro is a very cosy Bed and Breakfast in an ornate Italian villa with a nice patio in the middle of the city just a few blocks from Cinema Odeon.\\nThe Crystal Hotel behind Cinema Roma, similar to the Sunshine Hotel.\\nEmbassies[ edit ]\\nEgypt, 5 Moursi Fatma street, ☎ +2911 124935 ( embassy-asmara@mfa.gov.eg , fax: +2911 123294), [1] . 9:00 AM - 16:00 PM. \\xa0 edit\\nGermany, Saba Development Bldg. 8th fl. Warsay Street, ☎ 00-29-11-186670/71 ( info@asmara.diplo.de , fax: 00-29-11-186900). Mon - Thu 7.30 - 16.45, Fri 7.30 - 13.30. \\xa0 edit\\nGreece, P.O. Box 4173, ☎ +291 1 12-19-76 (fax: +291 1 12-20-17). \\xa0 edit\\nNorway, Street 173-1 # 11, P.O. Box 5801, ☎ +291 1 12 21 38 ( emb.asmara@mfa.no , fax: +291 1 12 21 80). \\xa0 edit\\nUnited States of America, 179 Ala St, ☎ +291 1 12-00-04 ( usembassyasmara@state.gov; consularasmara@state.gov , fax: +291 1 12-75-84), [2] . Mon - Thu 8AM-6PM, Fri 8AM-noon. \\xa0 edit\\nGet out[ edit ]\\nTo leave Asmara to go anywhere else in the country you need a traveler\\'s permit which can be obtained from the Ministry of Immigration and Nationality opposite the Cathedral Compound on Harnet Av. downtown.\\nIf you intend to leave by Air, see the \"Getting In\" section. There are two domestic flight routes as of date and they go to the port cities of Massawa (half an hour\\'s flight and only 110 km northeast) and Assab at the southwest tip of the country by the borders of Djibouti and Ethiopia (an hour and half\\'s flight and nearly 1000 km away).\\nThere are roads heading in 4 directions from Asmara. At Asmara\\'s city limits on each of these roads, there are also military-police roadblocks (called \"blocco\" locally) where you will be checked for your ID and traveller\\'s permit. Always carry these or certified copies of these with you. The blocco for the road towards the coast is placed past the village of Durfo and is called \"blocco Batsi\" (Batsi is another name for Massawa). The blocco for the road heading west towards the country\\'s second largest town Keren and the western lowlands (bordering Sudan) is called \"blocco Keren\" and the blocco for the two roads heading south is called \"blocco Godaeif\" (Asmara\\'s southernmost suburb) which later divides at a fork with one road towards the southwestern highlands and the Mereb river border crossing (now closed) to Ethiopia and the other road towards the southeastern highlands and the \"Zalambessa\" border crossing to Ethiopia (closed). Besides the bloccos, there are also mobile and random checkpoints on the roads and both inside and outside the limits of nearly all towns and communities in Eritrea. So you will be asked more than once for your papers.\\nBuses are the main means of transport in Eritrea other than camelback or your own car.  Buses run to all main towns and villages from Asmara, some several times a day, others only once a day or a couple of times a week, requiring you to sleepover for one or more nights there or even on the way, before returning. Buses don\\'t run after dusk because of road safety (Eritrea is a very mountainous country). Fog and mist can severely delay traffic as well.\\nRenting a car or chartering a taxi is possible in Eritrea, but both cost about the same and are extremely expensive, as is the price of fuel. There is one narrow-gauge train line, from Asmara to Massawa, but it is driven by a slow steam-engine which only runs for chartered tours.',\n",
       "   \"Asmara Airport ~ Asmara International Airport ~ Asmara Airport Eritrea\\nAsmara Airport\\n<h1>Asmara Airport</h1>\\nFormerly known as Yohannes IV International Airport, Asmara International Airport is the airport serving the capital city of Eritrea, Asmara, although it is too small to serve many of the larger aircraft and airlines being restricted to just EgyptAir, Lufthansa, Nasair,                  Saudi Arabian Airlines, Sudan Airlines and Yemenia Airlines                  amongst others. The airport has a                  dual civilian and military function.\\nWhilst called an international airport, Asmara airport has                  the look and feel of a smaller, provincial airport, boasting                  just a short runway, cafe, bookshop and giftstore. Oh, and                  there's lots of marble covering most of the floor and wall                  space. Exact figures for its usage are not known, but it is                  believed to be used by around 150,000 travellers each year,                  around half of that of Durham Tees Valley Airport.\\n<h1>Asmara International Airport</h1>\",\n",
       "   'Asmara International Airport\\nAsmara International Airport\\nAirport serving the capital of Eritrea, formerly known as Yohannes IV International Airport\\nLocal time GMT (winter/summer):\\xa0+3/+3\\nGeographic coordinates:\\xa0 Latitude (15.29), Longitude (38.91)\\nIATA code:\\xa0ASM',\n",
       "   'Airports in Eritrea, Eritrea Airports Map\\nMassawa International Airport\\nFlights to Eritrea\\nFlights to Eritrea are managed by the many national and international airlines that function from the various airports of Eritrea. Like most African countries the flight infrastructure is not fully developed. Yet the progress in Eritrea is commendable and relatively better than in most other\\ndeveloping countries of Africa. The Flights to Eritrea though limited, do not compromise on the quality of service that they provide. Passengers are guaranteed satisfaction and safety, whichever flight they prefer to choose. Presently, the European cities connected to Eritrea by flights are Rome, Milan, Nairobi, Amsterdam and Frankfurt. Regular flights are fixed from these cities to Eritrea and also from Eritrea to these cities.\\nA major problem with the aviation industry in Africa is that not all-important African cities are interconnected by airways. Hence passengers are forced to travel to some European countries to take flights to the desired cities. The Eritrean Airlines is planning a solution to this problem by increasing the number of trans African flights to and from Eritrea. Presently the flights to Eritrea ferry passengers from the African cities of Nairobi and Khortam.\\nThe Flights to Eritrea can be booked on line and this gives clients special discounts. Also, cheap flights to Eritrea are availed on special occasions but this does not mean compromising on the quality of service.\\nEritrea Airline\\nEritrea Airlines is among the chief airlines that are functional in Eritrea, the other two being the Saudi Arabian Airlines and the Dallo Airlines. Airlines are the chief mode of transportation to Eritrea from overseas countries. There are three international airports, the Asmara Airport, the Massawa International Airport and the Assab International Airport. The Eritrean Airlines, though ordinary when compared to other international airlines, is a big achievement for the Eritrean people. The Eritrean Airlines has been doing a laudable job.\\nThe service of the Eritrea Airlines has set an example for all other Airlines, serving in the African continent as well as those outside. The service provided by the Eritrea Airlines when East African Air Safari was banned is an example of their sincere dedication and professionalism. The passengers who got stranded in Mombasa, Rome and Nairobi were rescued by this airline. Till today, the trans African airways are not entirely developed and traveling by air from one country to another might mean making a break journey via some European country. To cut down on this additional cost and time of clients, the Eritrea Airlines is working hard towards growing in the variety of air routes and number of flights.\\nEritrea Air Travel is by the far the best means of travel to the country from foreign countries. Though the air travel facility is in its nascent state of development, it has already made an international mark in serving passengers in the time of emergency. There are three airports that operate from the three most important cities of Eritrea. These are the Asmara International Airport, the Assab international airport and the Massawa International Airport. The Massawa is the latest among the airports and is in charge of the few domestic air routes in Eritrea. The regional flights of Eritrea also ferry passengers to Khortam and Nairobi.\\nThough presently, the trans African routes are not fully developed, talks are on for the same. Once developed, it would be a milestone in the aviation history of Africa, as very few African countries provide air travel to the important African cities. The international cities, which are now connected to Eritrea by air route, are Milan, Rome, Nairobi, Amsterdam and Frankfurt.\\nThe Eritrea Airlines is the leading among all the airlines operational from Eritrean airports. The others are Dallo Airlines, Saudi Arabian Airlines, Nasair, Lufthansa, Egypt Air, Ethiopian, Yemenia and the British Airways. Eritrea airtravel is the most preferred means of transport to the country.'],\n",
       "  'title': ['Asmara International Airport profile - Aviation Safety Network',\n",
       "   'Asmara International - Eritrea - World Airport Codes',\n",
       "   'Profile on Asmara International Airport | CAPA - Centre ...',\n",
       "   'Asmara International Airport - Air Miles Calculator',\n",
       "   'Asmara travel guide - Wikitravel',\n",
       "   'Asmara Airport ~ Asmara International Airport ~ Asmara ...',\n",
       "   'Asmara International Airport - Airlines Inform',\n",
       "   'Airports in Eritrea, Eritrea Airports Map - Maps of World'],\n",
       "  'url': ['http://aviation-safety.net/database/airport/airport.php?id=ASM',\n",
       "   'https://www.world-airport-codes.com/eritrea/yohannes-iv-397.html',\n",
       "   'http://centreforaviation.com/profiles/airports/asmara-international-airport-asm',\n",
       "   'http://www.airmilescalculator.com/airport/asm/',\n",
       "   'http://wikitravel.org/en/Asmara',\n",
       "   'http://www.african-volunteer.net/asmara_airport.html',\n",
       "   'http://airport.airlines-inform.com/Asmara-International.html',\n",
       "   'http://www.mapsofworld.com/international-airports/africa/eritrea.html']}}"
      ]
     },
     "execution_count": 9,
     "metadata": {},
     "output_type": "execute_result"
    }
   ],
   "source": [
    "dataset['test'][0]"
   ]
  },
  {
   "cell_type": "code",
   "execution_count": 10,
   "metadata": {},
   "outputs": [
    {
     "data": {
      "text/plain": [
       "{'answer': {'aliases': ['Kamal kahn',\n",
       "   'List of Bond girls in Octopussy',\n",
       "   'Magda (James Bond)',\n",
       "   'List of James Bond allies in Octopussy',\n",
       "   'Vijay (James Bond)',\n",
       "   'Bond 13',\n",
       "   'Octopussy (character)',\n",
       "   'Penelope Smallbone',\n",
       "   'Octopussy',\n",
       "   'General Orlov',\n",
       "   'Kamal Khan',\n",
       "   'Octopussy (film)',\n",
       "   'List of James Bond villains in Octopussy',\n",
       "   'Jim Fanning (James Bond)'],\n",
       "  'matched_wiki_entity_name': '',\n",
       "  'normalized_aliases': ['list of bond girls in octopussy',\n",
       "   'bond 13',\n",
       "   'list of james bond allies in octopussy',\n",
       "   'magda james bond',\n",
       "   'penelope smallbone',\n",
       "   'kamal kahn',\n",
       "   'octopussy',\n",
       "   'list of james bond villains in octopussy',\n",
       "   'vijay james bond',\n",
       "   'jim fanning james bond',\n",
       "   'general orlov',\n",
       "   'kamal khan',\n",
       "   'octopussy character',\n",
       "   'octopussy film'],\n",
       "  'normalized_matched_wiki_entity_name': '',\n",
       "  'normalized_value': 'octopussy',\n",
       "  'type': 'WikipediaEntity',\n",
       "  'value': 'Octopussy'},\n",
       " 'entity_pages': {'doc_source': [],\n",
       "  'filename': [],\n",
       "  'title': [],\n",
       "  'wiki_context': []},\n",
       " 'question': 'Rita Coolidge sang the title song for which Bond film?',\n",
       " 'question_id': 'tc_69',\n",
       " 'question_source': 'http://www.triviacountry.com/',\n",
       " 'search_results': {'description': ['... Rita Coolidge Performing The title track to the JAMES BOND film OCTOPUSSY. Clip from THE VAL DOONICAN MUSIC SHOW 1983 Featuring Rita Coolidge ... HIGH ...'],\n",
       "  'filename': ['158/158_2486.txt'],\n",
       "  'rank': [0],\n",
       "  'search_context': ['RITA COOLIDGE  ALL TIME HIGH James Bond 007 OCTOPUSSY The val doonican show 1983 - YouTube\\nRITA COOLIDGE  ALL TIME HIGH James Bond 007 OCTOPUSSY The val doonican show 1983\\nWant to watch this again later?\\nSign in to add this video to a playlist.\\nNeed to report the video?\\nSign in to report inappropriate content.\\nRating is available when the video has been rented.\\nThis feature is not available right now. Please try again later.\\nPublished on Sep 17, 2012\\nClip from THE VAL DOONICAN MUSIC SHOW 1983 Featuring Rita Coolidge Performing The title track to the JAMES BOND film OCTOPUSSY.\\nCategory'],\n",
       "  'title': ['RITA COOLIDGE ALL TIME HIGH James Bond 007 OCTOPUSSY The ...'],\n",
       "  'url': ['http://www.youtube.com/watch?v=CQ2rD2ZTCB0']}}"
      ]
     },
     "execution_count": 10,
     "metadata": {},
     "output_type": "execute_result"
    }
   ],
   "source": [
    "dataset['validation'][0]"
   ]
  },
  {
   "cell_type": "code",
   "execution_count": null,
   "metadata": {},
   "outputs": [],
   "source": [
    "tmp_data = tmp_data.map({lambda example: 'wiki_text_lower': example['wiki_text'].lower()})"
   ]
  },
  {
   "cell_type": "code",
   "execution_count": null,
   "metadata": {},
   "outputs": [],
   "source": [
    "tmp_data = tmp_data.map(lambda example: 'seq_length': len())"
   ]
  },
  {
   "cell_type": "code",
   "execution_count": null,
   "metadata": {},
   "outputs": [],
   "source": []
  }
 ],
 "metadata": {
  "kernelspec": {
   "display_name": "Python 3",
   "language": "python",
   "name": "python3"
  },
  "language_info": {
   "codemirror_mode": {
    "name": "ipython",
    "version": 3
   },
   "file_extension": ".py",
   "mimetype": "text/x-python",
   "name": "python",
   "nbconvert_exporter": "python",
   "pygments_lexer": "ipython3",
   "version": "3.7.7"
  }
 },
 "nbformat": 4,
 "nbformat_minor": 4
}
