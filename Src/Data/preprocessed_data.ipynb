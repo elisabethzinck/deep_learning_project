{
 "metadata": {
  "language_info": {
   "codemirror_mode": {
    "name": "ipython",
    "version": 3
   },
   "file_extension": ".py",
   "mimetype": "text/x-python",
   "name": "python",
   "nbconvert_exporter": "python",
   "pygments_lexer": "ipython3",
   "version": "3.8.2-final"
  },
  "orig_nbformat": 2,
  "kernelspec": {
   "name": "python3",
   "display_name": "Python 3"
  }
 },
 "nbformat": 4,
 "nbformat_minor": 2,
 "cells": [
  {
   "cell_type": "code",
   "execution_count": 1,
   "metadata": {},
   "outputs": [],
   "source": [
    "from datasets import load_dataset"
   ]
  },
  {
   "cell_type": "code",
   "execution_count": 2,
   "metadata": {},
   "outputs": [
    {
     "output_type": "stream",
     "name": "stderr",
     "text": [
      "Reusing dataset trivia_qa (/Users/IdaRiis/.cache/huggingface/datasets/trivia_qa/rc/1.1.0/e734e28133f4d9a353af322aa52b9f266f6f27cbf2f072690a1694e577546b0d)\n"
     ]
    }
   ],
   "source": [
    "dataset = load_dataset('trivia_qa', name = 'rc')  # name = 'rc' to get reading comprehension version (with full texts)"
   ]
  },
  {
   "cell_type": "code",
   "execution_count": 3,
   "metadata": {},
   "outputs": [],
   "source": [
    "train = dataset['train']\n",
    "test = dataset['test']\n",
    "validation = dataset['validation']"
   ]
  },
  {
   "cell_type": "code",
   "execution_count": 5,
   "metadata": {},
   "outputs": [
    {
     "output_type": "stream",
     "name": "stderr",
     "text": [
      " 63%|██████▎   | 86999/138384 [09:51<05:49, 146.99ex/s]\n"
     ]
    },
    {
     "output_type": "error",
     "ename": "OSError",
     "evalue": "[Errno 28] Error writing bytes to file. Detail: [errno 28] No space left on device",
     "traceback": [
      "\u001b[0;31m---------------------------------------------------------------------------\u001b[0m",
      "\u001b[0;31mOSError\u001b[0m                                   Traceback (most recent call last)",
      "\u001b[0;32m/usr/local/Caskroom/miniconda/base/envs/Case2/lib/python3.8/site-packages/datasets/arrow_dataset.py\u001b[0m in \u001b[0;36m_map_single\u001b[0;34m(self, function, with_indices, input_columns, batched, batch_size, drop_last_batch, remove_columns, keep_in_memory, load_from_cache_file, cache_file_name, writer_batch_size, features, disable_nullable, fn_kwargs, new_fingerprint, rank, offset, update_data)\u001b[0m\n\u001b[1;32m   1507\u001b[0m                         \u001b[0mexample\u001b[0m \u001b[0;34m=\u001b[0m \u001b[0mcast_to_python_objects\u001b[0m\u001b[0;34m(\u001b[0m\u001b[0mexample\u001b[0m\u001b[0;34m)\u001b[0m\u001b[0;34m\u001b[0m\u001b[0;34m\u001b[0m\u001b[0m\n\u001b[0;32m-> 1508\u001b[0;31m                         \u001b[0mwriter\u001b[0m\u001b[0;34m.\u001b[0m\u001b[0mwrite\u001b[0m\u001b[0;34m(\u001b[0m\u001b[0mexample\u001b[0m\u001b[0;34m)\u001b[0m\u001b[0;34m\u001b[0m\u001b[0;34m\u001b[0m\u001b[0m\n\u001b[0m\u001b[1;32m   1509\u001b[0m             \u001b[0;32melse\u001b[0m\u001b[0;34m:\u001b[0m\u001b[0;34m\u001b[0m\u001b[0;34m\u001b[0m\u001b[0m\n",
      "\u001b[0;32m/usr/local/Caskroom/miniconda/base/envs/Case2/lib/python3.8/site-packages/datasets/arrow_writer.py\u001b[0m in \u001b[0;36mwrite\u001b[0;34m(self, example, writer_batch_size)\u001b[0m\n\u001b[1;32m    257\u001b[0m         \u001b[0;32mif\u001b[0m \u001b[0mwriter_batch_size\u001b[0m \u001b[0;32mis\u001b[0m \u001b[0;32mnot\u001b[0m \u001b[0;32mNone\u001b[0m \u001b[0;32mand\u001b[0m \u001b[0mlen\u001b[0m\u001b[0;34m(\u001b[0m\u001b[0mself\u001b[0m\u001b[0;34m.\u001b[0m\u001b[0mcurrent_rows\u001b[0m\u001b[0;34m)\u001b[0m \u001b[0;34m>=\u001b[0m \u001b[0mwriter_batch_size\u001b[0m\u001b[0;34m:\u001b[0m\u001b[0;34m\u001b[0m\u001b[0;34m\u001b[0m\u001b[0m\n\u001b[0;32m--> 258\u001b[0;31m             \u001b[0mself\u001b[0m\u001b[0;34m.\u001b[0m\u001b[0mwrite_on_file\u001b[0m\u001b[0;34m(\u001b[0m\u001b[0;34m)\u001b[0m\u001b[0;34m\u001b[0m\u001b[0;34m\u001b[0m\u001b[0m\n\u001b[0m\u001b[1;32m    259\u001b[0m \u001b[0;34m\u001b[0m\u001b[0m\n",
      "\u001b[0;32m/usr/local/Caskroom/miniconda/base/envs/Case2/lib/python3.8/site-packages/datasets/arrow_writer.py\u001b[0m in \u001b[0;36mwrite_on_file\u001b[0;34m(self)\u001b[0m\n\u001b[1;32m    244\u001b[0m         \u001b[0mtable\u001b[0m \u001b[0;34m=\u001b[0m \u001b[0mpa\u001b[0m\u001b[0;34m.\u001b[0m\u001b[0mTable\u001b[0m\u001b[0;34m.\u001b[0m\u001b[0mfrom_arrays\u001b[0m\u001b[0;34m(\u001b[0m\u001b[0marrays\u001b[0m\u001b[0;34m,\u001b[0m \u001b[0mschema\u001b[0m\u001b[0;34m=\u001b[0m\u001b[0mschema\u001b[0m\u001b[0;34m)\u001b[0m\u001b[0;34m\u001b[0m\u001b[0;34m\u001b[0m\u001b[0m\n\u001b[0;32m--> 245\u001b[0;31m         \u001b[0mself\u001b[0m\u001b[0;34m.\u001b[0m\u001b[0mwrite_table\u001b[0m\u001b[0;34m(\u001b[0m\u001b[0mtable\u001b[0m\u001b[0;34m)\u001b[0m\u001b[0;34m\u001b[0m\u001b[0;34m\u001b[0m\u001b[0m\n\u001b[0m\u001b[1;32m    246\u001b[0m         \u001b[0mself\u001b[0m\u001b[0;34m.\u001b[0m\u001b[0mcurrent_rows\u001b[0m \u001b[0;34m=\u001b[0m \u001b[0;34m[\u001b[0m\u001b[0;34m]\u001b[0m\u001b[0;34m\u001b[0m\u001b[0;34m\u001b[0m\u001b[0m\n",
      "\u001b[0;32m/usr/local/Caskroom/miniconda/base/envs/Case2/lib/python3.8/site-packages/datasets/arrow_writer.py\u001b[0m in \u001b[0;36mwrite_table\u001b[0;34m(self, pa_table, writer_batch_size)\u001b[0m\n\u001b[1;32m    295\u001b[0m         \u001b[0;32mfor\u001b[0m \u001b[0mbatch\u001b[0m \u001b[0;32min\u001b[0m \u001b[0mbatches\u001b[0m\u001b[0;34m:\u001b[0m\u001b[0;34m\u001b[0m\u001b[0;34m\u001b[0m\u001b[0m\n\u001b[0;32m--> 296\u001b[0;31m             \u001b[0mself\u001b[0m\u001b[0;34m.\u001b[0m\u001b[0mpa_writer\u001b[0m\u001b[0;34m.\u001b[0m\u001b[0mwrite_batch\u001b[0m\u001b[0;34m(\u001b[0m\u001b[0mbatch\u001b[0m\u001b[0;34m)\u001b[0m\u001b[0;34m\u001b[0m\u001b[0;34m\u001b[0m\u001b[0m\n\u001b[0m\u001b[1;32m    297\u001b[0m \u001b[0;34m\u001b[0m\u001b[0m\n",
      "\u001b[0;32m/usr/local/Caskroom/miniconda/base/envs/Case2/lib/python3.8/site-packages/pyarrow/ipc.pxi\u001b[0m in \u001b[0;36mpyarrow.lib._CRecordBatchWriter.write_batch\u001b[0;34m()\u001b[0m\n",
      "\u001b[0;32m/usr/local/Caskroom/miniconda/base/envs/Case2/lib/python3.8/site-packages/pyarrow/error.pxi\u001b[0m in \u001b[0;36mpyarrow.lib.check_status\u001b[0;34m()\u001b[0m\n",
      "\u001b[0;31mOSError\u001b[0m: [Errno 28] Error writing bytes to file. Detail: [errno 28] No space left on device",
      "\nDuring handling of the above exception, another exception occurred:\n",
      "\u001b[0;31mOSError\u001b[0m                                   Traceback (most recent call last)",
      "\u001b[0;32m<ipython-input-5-fead7269c289>\u001b[0m in \u001b[0;36m<module>\u001b[0;34m\u001b[0m\n\u001b[0;32m----> 1\u001b[0;31m \u001b[0mtmp_data\u001b[0m \u001b[0;34m=\u001b[0m \u001b[0mtrain\u001b[0m\u001b[0;34m.\u001b[0m\u001b[0mmap\u001b[0m\u001b[0;34m(\u001b[0m\u001b[0;32mlambda\u001b[0m \u001b[0mexample\u001b[0m\u001b[0;34m:\u001b[0m \u001b[0;34m{\u001b[0m\u001b[0;34m'wiki_text'\u001b[0m\u001b[0;34m:\u001b[0m \u001b[0mexample\u001b[0m\u001b[0;34m[\u001b[0m\u001b[0;34m'entity_pages'\u001b[0m\u001b[0;34m]\u001b[0m\u001b[0;34m[\u001b[0m\u001b[0;34m'wiki_context'\u001b[0m\u001b[0;34m]\u001b[0m\u001b[0;34m,\u001b[0m \u001b[0;34m'answer'\u001b[0m\u001b[0;34m:\u001b[0m \u001b[0mexample\u001b[0m\u001b[0;34m[\u001b[0m\u001b[0;34m'answer'\u001b[0m\u001b[0;34m]\u001b[0m\u001b[0;34m[\u001b[0m\u001b[0;34m'normalized_value'\u001b[0m\u001b[0;34m]\u001b[0m\u001b[0;34m}\u001b[0m\u001b[0;34m,\u001b[0m \u001b[0mremove_columns\u001b[0m\u001b[0;34m=\u001b[0m\u001b[0;34m[\u001b[0m\u001b[0;34m'search_results'\u001b[0m\u001b[0;34m,\u001b[0m \u001b[0;34m'question_source'\u001b[0m\u001b[0;34m,\u001b[0m \u001b[0;34m'answer'\u001b[0m\u001b[0;34m]\u001b[0m\u001b[0;34m)\u001b[0m\u001b[0;34m\u001b[0m\u001b[0;34m\u001b[0m\u001b[0m\n\u001b[0m",
      "\u001b[0;32m/usr/local/Caskroom/miniconda/base/envs/Case2/lib/python3.8/site-packages/datasets/arrow_dataset.py\u001b[0m in \u001b[0;36mmap\u001b[0;34m(self, function, with_indices, input_columns, batched, batch_size, drop_last_batch, remove_columns, keep_in_memory, load_from_cache_file, cache_file_name, writer_batch_size, features, disable_nullable, fn_kwargs, num_proc, suffix_template, new_fingerprint)\u001b[0m\n\u001b[1;32m   1238\u001b[0m \u001b[0;34m\u001b[0m\u001b[0m\n\u001b[1;32m   1239\u001b[0m         \u001b[0;32mif\u001b[0m \u001b[0mnum_proc\u001b[0m \u001b[0;32mis\u001b[0m \u001b[0;32mNone\u001b[0m \u001b[0;32mor\u001b[0m \u001b[0mnum_proc\u001b[0m \u001b[0;34m==\u001b[0m \u001b[0;36m1\u001b[0m\u001b[0;34m:\u001b[0m\u001b[0;34m\u001b[0m\u001b[0;34m\u001b[0m\u001b[0m\n\u001b[0;32m-> 1240\u001b[0;31m             return self._map_single(\n\u001b[0m\u001b[1;32m   1241\u001b[0m                 \u001b[0mfunction\u001b[0m\u001b[0;34m=\u001b[0m\u001b[0mfunction\u001b[0m\u001b[0;34m,\u001b[0m\u001b[0;34m\u001b[0m\u001b[0;34m\u001b[0m\u001b[0m\n\u001b[1;32m   1242\u001b[0m                 \u001b[0mwith_indices\u001b[0m\u001b[0;34m=\u001b[0m\u001b[0mwith_indices\u001b[0m\u001b[0;34m,\u001b[0m\u001b[0;34m\u001b[0m\u001b[0;34m\u001b[0m\u001b[0m\n",
      "\u001b[0;32m/usr/local/Caskroom/miniconda/base/envs/Case2/lib/python3.8/site-packages/datasets/arrow_dataset.py\u001b[0m in \u001b[0;36mwrapper\u001b[0;34m(*args, **kwargs)\u001b[0m\n\u001b[1;32m    154\u001b[0m             \u001b[0;34m\"output_all_columns\"\u001b[0m\u001b[0;34m:\u001b[0m \u001b[0mself\u001b[0m\u001b[0;34m.\u001b[0m\u001b[0m_output_all_columns\u001b[0m\u001b[0;34m,\u001b[0m\u001b[0;34m\u001b[0m\u001b[0;34m\u001b[0m\u001b[0m\n\u001b[1;32m    155\u001b[0m         }\n\u001b[0;32m--> 156\u001b[0;31m         \u001b[0mout\u001b[0m\u001b[0;34m:\u001b[0m \u001b[0mUnion\u001b[0m\u001b[0;34m[\u001b[0m\u001b[0;34m\"Dataset\"\u001b[0m\u001b[0;34m,\u001b[0m \u001b[0;34m\"DatasetDict\"\u001b[0m\u001b[0;34m]\u001b[0m \u001b[0;34m=\u001b[0m \u001b[0mfunc\u001b[0m\u001b[0;34m(\u001b[0m\u001b[0mself\u001b[0m\u001b[0;34m,\u001b[0m \u001b[0;34m*\u001b[0m\u001b[0margs\u001b[0m\u001b[0;34m,\u001b[0m \u001b[0;34m**\u001b[0m\u001b[0mkwargs\u001b[0m\u001b[0;34m)\u001b[0m\u001b[0;34m\u001b[0m\u001b[0;34m\u001b[0m\u001b[0m\n\u001b[0m\u001b[1;32m    157\u001b[0m         \u001b[0;32mif\u001b[0m \u001b[0mnew_format\u001b[0m\u001b[0;34m[\u001b[0m\u001b[0;34m\"columns\"\u001b[0m\u001b[0;34m]\u001b[0m \u001b[0;32mis\u001b[0m \u001b[0;32mnot\u001b[0m \u001b[0;32mNone\u001b[0m\u001b[0;34m:\u001b[0m\u001b[0;34m\u001b[0m\u001b[0;34m\u001b[0m\u001b[0m\n\u001b[1;32m    158\u001b[0m             \u001b[0mnew_format\u001b[0m\u001b[0;34m[\u001b[0m\u001b[0;34m\"columns\"\u001b[0m\u001b[0;34m]\u001b[0m \u001b[0;34m=\u001b[0m \u001b[0mlist\u001b[0m\u001b[0;34m(\u001b[0m\u001b[0mset\u001b[0m\u001b[0;34m(\u001b[0m\u001b[0mout\u001b[0m\u001b[0;34m.\u001b[0m\u001b[0mcolumn_names\u001b[0m\u001b[0;34m)\u001b[0m \u001b[0;34m-\u001b[0m \u001b[0munformatted_columns\u001b[0m\u001b[0;34m)\u001b[0m\u001b[0;34m\u001b[0m\u001b[0;34m\u001b[0m\u001b[0m\n",
      "\u001b[0;32m/usr/local/Caskroom/miniconda/base/envs/Case2/lib/python3.8/site-packages/datasets/fingerprint.py\u001b[0m in \u001b[0;36mwrapper\u001b[0;34m(*args, **kwargs)\u001b[0m\n\u001b[1;32m    161\u001b[0m             \u001b[0;31m# Call actual function\u001b[0m\u001b[0;34m\u001b[0m\u001b[0;34m\u001b[0m\u001b[0;34m\u001b[0m\u001b[0m\n\u001b[1;32m    162\u001b[0m \u001b[0;34m\u001b[0m\u001b[0m\n\u001b[0;32m--> 163\u001b[0;31m             \u001b[0mout\u001b[0m \u001b[0;34m=\u001b[0m \u001b[0mfunc\u001b[0m\u001b[0;34m(\u001b[0m\u001b[0mself\u001b[0m\u001b[0;34m,\u001b[0m \u001b[0;34m*\u001b[0m\u001b[0margs\u001b[0m\u001b[0;34m,\u001b[0m \u001b[0;34m**\u001b[0m\u001b[0mkwargs\u001b[0m\u001b[0;34m)\u001b[0m\u001b[0;34m\u001b[0m\u001b[0;34m\u001b[0m\u001b[0m\n\u001b[0m\u001b[1;32m    164\u001b[0m \u001b[0;34m\u001b[0m\u001b[0m\n\u001b[1;32m    165\u001b[0m             \u001b[0;31m# Update fingerprint of in-place transforms + update in-place history of transforms\u001b[0m\u001b[0;34m\u001b[0m\u001b[0;34m\u001b[0m\u001b[0;34m\u001b[0m\u001b[0m\n",
      "\u001b[0;32m/usr/local/Caskroom/miniconda/base/envs/Case2/lib/python3.8/site-packages/datasets/arrow_dataset.py\u001b[0m in \u001b[0;36m_map_single\u001b[0;34m(self, function, with_indices, input_columns, batched, batch_size, drop_last_batch, remove_columns, keep_in_memory, load_from_cache_file, cache_file_name, writer_batch_size, features, disable_nullable, fn_kwargs, new_fingerprint, rank, offset, update_data)\u001b[0m\n\u001b[1;32m   1528\u001b[0m         \u001b[0;32mexcept\u001b[0m \u001b[0;34m(\u001b[0m\u001b[0mException\u001b[0m\u001b[0;34m,\u001b[0m \u001b[0mKeyboardInterrupt\u001b[0m\u001b[0;34m)\u001b[0m\u001b[0;34m:\u001b[0m\u001b[0;34m\u001b[0m\u001b[0;34m\u001b[0m\u001b[0m\n\u001b[1;32m   1529\u001b[0m             \u001b[0;32mif\u001b[0m \u001b[0mupdate_data\u001b[0m\u001b[0;34m:\u001b[0m\u001b[0;34m\u001b[0m\u001b[0;34m\u001b[0m\u001b[0m\n\u001b[0;32m-> 1530\u001b[0;31m                 \u001b[0mwriter\u001b[0m\u001b[0;34m.\u001b[0m\u001b[0mfinalize\u001b[0m\u001b[0;34m(\u001b[0m\u001b[0;34m)\u001b[0m\u001b[0;34m\u001b[0m\u001b[0;34m\u001b[0m\u001b[0m\n\u001b[0m\u001b[1;32m   1531\u001b[0m             \u001b[0;32mif\u001b[0m \u001b[0mupdate_data\u001b[0m \u001b[0;32mand\u001b[0m \u001b[0mtmp_file\u001b[0m \u001b[0;32mis\u001b[0m \u001b[0;32mnot\u001b[0m \u001b[0;32mNone\u001b[0m\u001b[0;34m:\u001b[0m\u001b[0;34m\u001b[0m\u001b[0;34m\u001b[0m\u001b[0m\n\u001b[1;32m   1532\u001b[0m                 \u001b[0mtmp_file\u001b[0m\u001b[0;34m.\u001b[0m\u001b[0mclose\u001b[0m\u001b[0;34m(\u001b[0m\u001b[0;34m)\u001b[0m\u001b[0;34m\u001b[0m\u001b[0;34m\u001b[0m\u001b[0m\n",
      "\u001b[0;32m/usr/local/Caskroom/miniconda/base/envs/Case2/lib/python3.8/site-packages/datasets/arrow_writer.py\u001b[0m in \u001b[0;36mfinalize\u001b[0;34m(self, close_stream)\u001b[0m\n\u001b[1;32m    297\u001b[0m \u001b[0;34m\u001b[0m\u001b[0m\n\u001b[1;32m    298\u001b[0m     \u001b[0;32mdef\u001b[0m \u001b[0mfinalize\u001b[0m\u001b[0;34m(\u001b[0m\u001b[0mself\u001b[0m\u001b[0;34m,\u001b[0m \u001b[0mclose_stream\u001b[0m\u001b[0;34m=\u001b[0m\u001b[0;32mTrue\u001b[0m\u001b[0;34m)\u001b[0m\u001b[0;34m:\u001b[0m\u001b[0;34m\u001b[0m\u001b[0;34m\u001b[0m\u001b[0m\n\u001b[0;32m--> 299\u001b[0;31m         \u001b[0mself\u001b[0m\u001b[0;34m.\u001b[0m\u001b[0mwrite_on_file\u001b[0m\u001b[0;34m(\u001b[0m\u001b[0;34m)\u001b[0m\u001b[0;34m\u001b[0m\u001b[0;34m\u001b[0m\u001b[0m\n\u001b[0m\u001b[1;32m    300\u001b[0m         \u001b[0;32mif\u001b[0m \u001b[0mself\u001b[0m\u001b[0;34m.\u001b[0m\u001b[0mpa_writer\u001b[0m \u001b[0;32mis\u001b[0m \u001b[0;32mNone\u001b[0m\u001b[0;34m:\u001b[0m\u001b[0;34m\u001b[0m\u001b[0;34m\u001b[0m\u001b[0m\n\u001b[1;32m    301\u001b[0m             \u001b[0;32mif\u001b[0m \u001b[0mself\u001b[0m\u001b[0;34m.\u001b[0m\u001b[0m_schema\u001b[0m \u001b[0;32mis\u001b[0m \u001b[0;32mnot\u001b[0m \u001b[0;32mNone\u001b[0m\u001b[0;34m:\u001b[0m\u001b[0;34m\u001b[0m\u001b[0;34m\u001b[0m\u001b[0m\n",
      "\u001b[0;32m/usr/local/Caskroom/miniconda/base/envs/Case2/lib/python3.8/site-packages/datasets/arrow_writer.py\u001b[0m in \u001b[0;36mwrite_on_file\u001b[0;34m(self)\u001b[0m\n\u001b[1;32m    243\u001b[0m         \u001b[0mschema\u001b[0m \u001b[0;34m=\u001b[0m \u001b[0mpa\u001b[0m\u001b[0;34m.\u001b[0m\u001b[0mschema\u001b[0m\u001b[0;34m(\u001b[0m\u001b[0mzip\u001b[0m\u001b[0;34m(\u001b[0m\u001b[0mcols\u001b[0m\u001b[0;34m,\u001b[0m \u001b[0minferred_types\u001b[0m\u001b[0;34m)\u001b[0m\u001b[0;34m)\u001b[0m \u001b[0;32mif\u001b[0m \u001b[0mself\u001b[0m\u001b[0;34m.\u001b[0m\u001b[0mpa_writer\u001b[0m \u001b[0;32mis\u001b[0m \u001b[0;32mNone\u001b[0m \u001b[0;32melse\u001b[0m \u001b[0mself\u001b[0m\u001b[0;34m.\u001b[0m\u001b[0m_schema\u001b[0m\u001b[0;34m\u001b[0m\u001b[0;34m\u001b[0m\u001b[0m\n\u001b[1;32m    244\u001b[0m         \u001b[0mtable\u001b[0m \u001b[0;34m=\u001b[0m \u001b[0mpa\u001b[0m\u001b[0;34m.\u001b[0m\u001b[0mTable\u001b[0m\u001b[0;34m.\u001b[0m\u001b[0mfrom_arrays\u001b[0m\u001b[0;34m(\u001b[0m\u001b[0marrays\u001b[0m\u001b[0;34m,\u001b[0m \u001b[0mschema\u001b[0m\u001b[0;34m=\u001b[0m\u001b[0mschema\u001b[0m\u001b[0;34m)\u001b[0m\u001b[0;34m\u001b[0m\u001b[0;34m\u001b[0m\u001b[0m\n\u001b[0;32m--> 245\u001b[0;31m         \u001b[0mself\u001b[0m\u001b[0;34m.\u001b[0m\u001b[0mwrite_table\u001b[0m\u001b[0;34m(\u001b[0m\u001b[0mtable\u001b[0m\u001b[0;34m)\u001b[0m\u001b[0;34m\u001b[0m\u001b[0;34m\u001b[0m\u001b[0m\n\u001b[0m\u001b[1;32m    246\u001b[0m         \u001b[0mself\u001b[0m\u001b[0;34m.\u001b[0m\u001b[0mcurrent_rows\u001b[0m \u001b[0;34m=\u001b[0m \u001b[0;34m[\u001b[0m\u001b[0;34m]\u001b[0m\u001b[0;34m\u001b[0m\u001b[0;34m\u001b[0m\u001b[0m\n\u001b[1;32m    247\u001b[0m \u001b[0;34m\u001b[0m\u001b[0m\n",
      "\u001b[0;32m/usr/local/Caskroom/miniconda/base/envs/Case2/lib/python3.8/site-packages/datasets/arrow_writer.py\u001b[0m in \u001b[0;36mwrite_table\u001b[0;34m(self, pa_table, writer_batch_size)\u001b[0m\n\u001b[1;32m    294\u001b[0m         \u001b[0mself\u001b[0m\u001b[0;34m.\u001b[0m\u001b[0m_num_examples\u001b[0m \u001b[0;34m+=\u001b[0m \u001b[0mpa_table\u001b[0m\u001b[0;34m.\u001b[0m\u001b[0mnum_rows\u001b[0m\u001b[0;34m\u001b[0m\u001b[0;34m\u001b[0m\u001b[0m\n\u001b[1;32m    295\u001b[0m         \u001b[0;32mfor\u001b[0m \u001b[0mbatch\u001b[0m \u001b[0;32min\u001b[0m \u001b[0mbatches\u001b[0m\u001b[0;34m:\u001b[0m\u001b[0;34m\u001b[0m\u001b[0;34m\u001b[0m\u001b[0m\n\u001b[0;32m--> 296\u001b[0;31m             \u001b[0mself\u001b[0m\u001b[0;34m.\u001b[0m\u001b[0mpa_writer\u001b[0m\u001b[0;34m.\u001b[0m\u001b[0mwrite_batch\u001b[0m\u001b[0;34m(\u001b[0m\u001b[0mbatch\u001b[0m\u001b[0;34m)\u001b[0m\u001b[0;34m\u001b[0m\u001b[0;34m\u001b[0m\u001b[0m\n\u001b[0m\u001b[1;32m    297\u001b[0m \u001b[0;34m\u001b[0m\u001b[0m\n\u001b[1;32m    298\u001b[0m     \u001b[0;32mdef\u001b[0m \u001b[0mfinalize\u001b[0m\u001b[0;34m(\u001b[0m\u001b[0mself\u001b[0m\u001b[0;34m,\u001b[0m \u001b[0mclose_stream\u001b[0m\u001b[0;34m=\u001b[0m\u001b[0;32mTrue\u001b[0m\u001b[0;34m)\u001b[0m\u001b[0;34m:\u001b[0m\u001b[0;34m\u001b[0m\u001b[0;34m\u001b[0m\u001b[0m\n",
      "\u001b[0;32m/usr/local/Caskroom/miniconda/base/envs/Case2/lib/python3.8/site-packages/pyarrow/ipc.pxi\u001b[0m in \u001b[0;36mpyarrow.lib._CRecordBatchWriter.write_batch\u001b[0;34m()\u001b[0m\n",
      "\u001b[0;32m/usr/local/Caskroom/miniconda/base/envs/Case2/lib/python3.8/site-packages/pyarrow/error.pxi\u001b[0m in \u001b[0;36mpyarrow.lib.check_status\u001b[0;34m()\u001b[0m\n",
      "\u001b[0;31mOSError\u001b[0m: [Errno 28] Error writing bytes to file. Detail: [errno 28] No space left on device"
     ]
    }
   ],
   "source": [
    "tmp_data = train.map(lambda example: {'wiki_text': example['entity_pages']['wiki_context'], 'answer': example['answer']['normalized_value']}, remove_columns=['search_results', 'question_source', 'answer'])"
   ]
  },
  {
   "cell_type": "code",
   "execution_count": 7,
   "metadata": {},
   "outputs": [
    {
     "output_type": "error",
     "ename": "AttributeError",
     "evalue": "'dict' object has no attribute 'map'",
     "traceback": [
      "\u001b[0;31m---------------------------------------------------------------------------\u001b[0m",
      "\u001b[0;31mAttributeError\u001b[0m                            Traceback (most recent call last)",
      "\u001b[0;32m<ipython-input-7-4b7a8b38bdf4>\u001b[0m in \u001b[0;36m<module>\u001b[0;34m\u001b[0m\n\u001b[1;32m      1\u001b[0m \u001b[0mtmp_data\u001b[0m \u001b[0;34m=\u001b[0m \u001b[0mtrain\u001b[0m\u001b[0;34m[\u001b[0m\u001b[0;36m1\u001b[0m\u001b[0;34m:\u001b[0m\u001b[0;36m11\u001b[0m\u001b[0;34m]\u001b[0m\u001b[0;34m\u001b[0m\u001b[0;34m\u001b[0m\u001b[0m\n\u001b[0;32m----> 2\u001b[0;31m \u001b[0mtmp_data\u001b[0m \u001b[0;34m=\u001b[0m \u001b[0mtmp_data\u001b[0m\u001b[0;34m.\u001b[0m\u001b[0mmap\u001b[0m\u001b[0;34m(\u001b[0m\u001b[0;32mlambda\u001b[0m \u001b[0mexample\u001b[0m\u001b[0;34m:\u001b[0m \u001b[0;34m{\u001b[0m\u001b[0;34m'wiki_text'\u001b[0m\u001b[0;34m:\u001b[0m \u001b[0mexample\u001b[0m\u001b[0;34m[\u001b[0m\u001b[0;34m'entity_pages'\u001b[0m\u001b[0;34m]\u001b[0m\u001b[0;34m[\u001b[0m\u001b[0;34m'wiki_context'\u001b[0m\u001b[0;34m]\u001b[0m\u001b[0;34m,\u001b[0m \u001b[0;34m'answer'\u001b[0m\u001b[0;34m:\u001b[0m \u001b[0mexample\u001b[0m\u001b[0;34m[\u001b[0m\u001b[0;34m'answer'\u001b[0m\u001b[0;34m]\u001b[0m\u001b[0;34m[\u001b[0m\u001b[0;34m'normalized_value'\u001b[0m\u001b[0;34m]\u001b[0m\u001b[0;34m}\u001b[0m\u001b[0;34m,\u001b[0m \u001b[0mremove_columns\u001b[0m\u001b[0;34m=\u001b[0m\u001b[0;34m[\u001b[0m\u001b[0;34m'search_results'\u001b[0m\u001b[0;34m,\u001b[0m \u001b[0;34m'question_source'\u001b[0m\u001b[0;34m,\u001b[0m \u001b[0;34m'answer'\u001b[0m\u001b[0;34m]\u001b[0m\u001b[0;34m)\u001b[0m\u001b[0;34m\u001b[0m\u001b[0;34m\u001b[0m\u001b[0m\n\u001b[0m",
      "\u001b[0;31mAttributeError\u001b[0m: 'dict' object has no attribute 'map'"
     ]
    }
   ],
   "source": [
    "tmp_data = train.select(range(11))\n",
    "tmp_data = tmp_data.map(lambda example: {'wiki_text': example['entity_pages']['wiki_context'], 'answer': example['answer']['normalized_value']}, remove_columns=['search_results', 'question_source', 'answer', 'entity_pages'])"
   ]
  },
  {
   "cell_type": "code",
   "execution_count": 30,
   "metadata": {},
   "outputs": [],
   "source": []
  },
  {
   "cell_type": "code",
   "execution_count": 31,
   "metadata": {},
   "outputs": [
    {
     "output_type": "execute_result",
     "data": {
      "text/plain": [
       "11"
      ]
     },
     "metadata": {},
     "execution_count": 31
    }
   ],
   "source": [
    "len(tmp_data)"
   ]
  },
  {
   "cell_type": "code",
   "execution_count": 44,
   "metadata": {},
   "outputs": [
    {
     "output_type": "execute_result",
     "data": {
      "text/plain": [
       "{'answer': Value(dtype='string', id=None),\n",
       " 'question': Value(dtype='string', id=None),\n",
       " 'question_id': Value(dtype='string', id=None),\n",
       " 'wiki_text': Sequence(feature=Value(dtype='string', id=None), length=-1, id=None)}"
      ]
     },
     "metadata": {},
     "execution_count": 44
    }
   ],
   "source": [
    "tmp_data.features"
   ]
  },
  {
   "cell_type": "code",
   "execution_count": 46,
   "metadata": {},
   "outputs": [
    {
     "output_type": "stream",
     "name": "stderr",
     "text": [
      "100%|██████████| 11/11 [00:00<00:00, 1124.51ex/s]\n"
     ]
    }
   ],
   "source": [
    "tmp_data = tmp_data.map(lambda example: {'seq_len': len(example['wiki_text'])})"
   ]
  },
  {
   "cell_type": "code",
   "execution_count": 48,
   "metadata": {},
   "outputs": [
    {
     "output_type": "execute_result",
     "data": {
      "text/plain": [
       "[0, 2, 0, 3, 1, 1, 2, 1, 1, 1, 1]"
      ]
     },
     "metadata": {},
     "execution_count": 48
    }
   ],
   "source": [
    "tmp_data['seq_len']"
   ]
  },
  {
   "cell_type": "code",
   "execution_count": 52,
   "metadata": {},
   "outputs": [
    {
     "output_type": "execute_result",
     "data": {
      "text/plain": [
       "'Where in England was Dame Judi Dench born?'"
      ]
     },
     "metadata": {},
     "execution_count": 52
    }
   ],
   "source": [
    "tmp_data['question'][1]"
   ]
  },
  {
   "cell_type": "code",
   "execution_count": 58,
   "metadata": {},
   "outputs": [
    {
     "output_type": "stream",
     "name": "stderr",
     "text": [
      "Loading cached processed dataset at /Users/IdaRiis/.cache/huggingface/datasets/trivia_qa/rc/1.1.0/e734e28133f4d9a353af322aa52b9f266f6f27cbf2f072690a1694e577546b0d/cache-46e45beffe321c8b.arrow\n"
     ]
    }
   ],
   "source": [
    "tmp_data = tmp_data.filter(lambda example: len(example['wiki_text']) == 1)"
   ]
  },
  {
   "cell_type": "code",
   "execution_count": 60,
   "metadata": {},
   "outputs": [
    {
     "output_type": "stream",
     "name": "stderr",
     "text": [
      "100%|██████████| 6/6 [00:00<00:00, 387.20ex/s]\n"
     ]
    }
   ],
   "source": [
    "tmp_data = tmp_data.map(lambda example: {'wiki_text_lower': example['wiki_text'][0].lower()})"
   ]
  },
  {
   "cell_type": "code",
   "execution_count": 63,
   "metadata": {},
   "outputs": [
    {
     "output_type": "execute_result",
     "data": {
      "text/plain": [
       "s of the members of a boys\\' choir, led by the red-headed jack merridew. ralph asserts three primary goals: to have fun, survive, and to maintain a smoke signal that could alert passing ships to their presence on the island. the boys declare that whoever holds the conch shall also be able to speak at their formal gatherings and receive the attentive silence of the larger group.\\n\\njack organises his choir group into a hunting party responsible for discovering a food source. ralph, jack, and a quiet, dreamy boy named simon soon form a loose triumvirate of leaders. though he is ralph\\'s only confidant, piggy is quickly made into an outcast by his fellow \"biguns\" (older boys) and becomes an unwilling source of laughs for the other children. simon, in addition to supervising the project of constructing shelters, feels an instinctive need to protect the \"littluns\" (younger boys).\\n\\nthe semblance of order quickly deteriorates as the majority of the boys turn idle, giving little aid in building shelters, and begin to develop paranoias about the island, referring to a supposed monster, the \"beast\", which they believe to exist on the island. ralph insists that no such beast exists, but jack, who has started a power struggle with ralph, gains control of the discussion by boldly promising to kill the beast. at one point, jack summons all of his hunters to hunt down a wild pig, drawing away those assigned to maintain the signal fire. a ship travels by the island, but without the boys\\' smoke signal to alert the ship\\'s crew, the ship continues by without stopping. angered by the failure of the boys to attract potential rescuers, ralph considers relinquishing his position, but is convinced not to do so by piggy.\\n\\none night, an aerial battle occurs over the island while the boys sleep, during which a fighter pilot ejects from his plane and dies during the descent. his body drifts down to the island in his parachute; both get tangled in a tree near the top of the mountain. later on, while jack schemes against ralph, twins sam and eric, now assigned to the maintenance of the signal fire, see the corpse of the fighter pilot and his parachute in the dark. mistaking the corpse for the beast, they run to the cluster of shelters that ralph and simon have erected and warn the others. this unexpected meeting again raises tensions between jack and ralph. shortly thereafter, jack decides to lead a party to the other side of the island, where a mountain of stones, later called castle rock, forms a place where he claims the beast resides. only ralph and jack\\'s sadistic supporter roger agree to go; ralph turns back shortly before the other two boys. when they arrive at the shelters, jack calls an assembly and tries to turn the others against ralph, asking for them to remove him from his position. receiving little support, jack, roger, and another boy leave the shelters to form their own tribe. this tribe lures in recruits from the main group by providing a feast of cooked pig and its members begin to paint their faces and enact bizarre rituals including sacrifices to the beast.\\n\\nsimon, who faints frequently and is likely an epileptic,   has a secret hideaway where he goes to be alone.  one day while he is there, jack and his followers erect a faux sacrifice to the beast nearby: a severed pig\\'s head, mounted on a sharpened stick, and soon swarming with scavenging flies. simon conducts an imaginary dialog with the head, which he dubs the \"lord of the flies\".  the head mocks simon\\'s notion that the beast is a real entity, \"something you could hunt and kill\", and reveals the truth: they, the boys, are the beast; it is inside them all.  the lord of the flies also warns simon that he is in danger, because he represents the soul and spirit of man, and predicts that the others will kill him.  sure enough, during a ritual dance, the frenzied boys mistake simon for the beast, attack him, and beat him to death.\\n\\njack and his rebel band decide that the real symbol of power on the island is not the conch, but piggy\\'s glasses—the only means the boys have of starting a fire.  they raid ralph\\'s camp, confiscate the glasses, and return to their abode on castle rock. ralph, now deserted by most of his supporters, journeys to castle rock to confront jack and secure the glasses. taking the conch and accompanied only by piggy, sam, and eric, ralph finds the tribe and demands that they return the valuable object. turning against ralph, the tribe captures sam and eric while roger drops a boulder from his vantage point above, killing piggy and shattering the conch. ralph manages to escape, but sam and eric are tortured until they agree to join jack\\'s tribe.\\n\\nthe following morning, jack orders his tribe to begin a manhunt for ralph. jack\\'s savages set fire to the forest while ralph desperately weighs his options for survival. following a long chase, most of the island is consumed in flames. with the hunters closely behind him ralph trips and falls. he looks up at a uniformed adult – a naval officer whose party has landed from a passing warship to investigate the fire. ralph bursts into tears over the death of piggy and the \"end of innocence\".   jack and the other children, filthy and unkempt, also revert to their true ages and erupt into sobs.  the officer expresses his disappointment at seeing british boys exhibiting such feral, warlike behavior; then turns to stare awkwardly at his own warship.\\n\\nadaptations \\n\\nthere have been these film adaptations:\\n\\n* lord of the flies (1963), directed by peter brook\\n* alkitrang dugo (1976), a filipino film, with female cast members\\n* lord of the flies (1990), directed by harry hook\\n\\nnigel williams adapted the text for the stage.\\nit was debuted by the royal shakespeare company in july 1996.\\nthe pilot theatre company has toured it extensively in the united kingdom and abroad.\\n\\nin october 2014 it was announced that the 2011 production   of lord of the flies would return to conclude the 2015 season at the regent\\'s park open air theatre ahead of a major uk tour. the production is to be directed by the artistic director timothy sheader who won the 2014 whatsonstage.com awards best play revival for  to kill a mockingbird.\\n\\nin june 2013, bbc radio 4 extra broadcast a dramatization by judith adams in four 30-minute episodes directed by sasha yevtushenko.  the cast included ruth wilson as \"the narrator\", finn bennett as \"ralph\", richard linnel as \"jack\", caspar hilton-hilley as \"piggy\" and jack caine as \"simon\".\\n\\n# fire on the mountain\\n# painted faces\\n# beast from the air\\n# gift for darkness\\n\\ninfluence \\n\\nmany writers have borrowed plot elements from lord of the flies. by the early 1960s, it was required reading in many schools and colleges.\\n\\nfilm\\n\\nstephen king\\'s fictional town of castle rock, inspired by the fictional mountain fort of the same name in lord of the flies, in turn inspired the name of rob reiner\\'s production company, castle rock entertainment, which produced the film lord of the flies (1990). \\n\\nliterature\\n\\nstephen king got the name castle rock from the fictional mountain fort of the same name in lord of the flies and used the name to refer to a fictional town that has appeared in a number of his novels.  the book itself appears prominently in his novels hearts in atlantis (1999), misery (1987), and cujo (1981).\\n\\nstephen king wrote an introduction for a new edition of lord of the flies (2011) to mark the centenary of william golding\\'s birth in 2011.\\n\\nthe novel garden lakes by jaime clarke is an homage to lord of the flies.\\n\\nmusic\\n\\nthe final song on u2\\'s debut album boy (1980) takes its title, \"shadows and tall trees\", from chapter 7 in the book.\\n\\niron maiden wrote a song inspired by the book, included in their 1995 album the x factor.',\n",
       " 'prinz albert wilhelm heinrich von preußen or prince henry of prussia, generalinspekteur der marine (born albert wilhelm heinrich, 14 august 1862 – 20 april 1929) was a younger brother of german emperor william ii and a prince of prussia. he was also a grandson of queen victoria. a career naval officer, he held various commands in the imperial german navy and eventually rose to the rank of grand admiral.\\n\\nbiography\\n\\nborn in berlin, prince henry of prussia was the third of eight children born to crown prince frederick (later emperor frederick iii), and victoria, princess royal of the united kingdom (later empress victoria and in widowhood empress frederick), eldest daughter of the british queen victoria. henry was three years younger than his brother, the future emperor william ii (born 27 january 1859).\\n\\nafter attending the gymnasium in kassel, which he left in the middle grades in 1877, the 15-year-old henry entered the imperial navy cadet program. his naval education included a two-year voyage around the world (1878 to 1880), the naval officer examination (seeoffizierhauptprüfung) in october 1880, and attending the german naval academy (1884 to 1886).\\n\\nearly commands\\n\\nas an imperial prince, henry quickly achieved command. in 1887, he commanded a torpedo boat and simultaneously the first torpedo boat division; in 1888 the imperial yacht smy hohenzollern; from 1889 to 1890 the second-class cruiser sms irene, the armored coastal defense ship sms beowulf, and the capital ships sms sachsen and sms wörth.\\n\\nsquadron commands\\n\\nfrom 1897, prince henry commanded several naval task forces; these included an improvised squadron that took part with the east asia squadron in consolidating and securing the german hold on the region of kiaochow and the port of tsingtao in 1898. the prince’s success was more of the diplomatic than the military variety; he became the first european potentate ever to be received at the chinese imperial court. in 1899 he became officially the commander of the east asia squadron, later of a capital-ship squadron and in 1903 commander of the baltic sea naval station. from 1906 to 1909, henry was commander of the high seas fleet. in 1909, he was promoted to grand admiral.\\n\\nworld war i\\n\\nat the beginning of world war i, prince henry was named commander-in-chief of the baltic fleet. although the means provided him were far inferior to russia’s baltic fleet, he succeeded, until the 1917 revolution, in putting russia’s naval forces far on the defensive, and hindered them from making attacks on the german coast. after the end of hostilities with russia, his mission was ended, and prince henry simply left active duty. with the war’s end and the dissolution of the monarchy in germany, prince henry left the navy.\\n\\nfamily\\n\\non 24 may 1888, henry married princess irene of hesse and by rhine, his first cousin. the marriage produced three children:\\n\\ntheir sons waldemar and heinrich were both hemophiliacs, a disease which they inherited through irene from the maternal grandmother of both of their parents, queen victoria, who was a carrier.\\n\\npersonality and private life\\n\\nhenry had little in common with his brother, the german emperor. he lacked, for example, william ii\\'s erratic nature and egotism. the prince was truly popular in northern germany, and on account of his humble and open manner was beloved by those under his command. on foreign travels, he was a good diplomat, who, unlike his brother, was able to strike the right tone. thus, on his 1902 trip to the united states, henry made a favorable impression with the critical american press and succeeded in winning the sympathy of more than just the numerous german-american segment of the population.\\n\\nas a naval officer, henry had a profession that completely satisfied him and that he loved. he was thoroughly a pragmatist. he received one of the first pilot’s licenses in germany, and was judged a spirited and excellent seaman. he was dedicated to modern technology and was able to understand quickly the practical value of technical innovations. a yachting enthusiast, prince henry became one of the first members of the yacht club of kiel, established by a group of naval officers in 1887, and quickly became the club\\'s patron.\\n\\nhenry was interested in motor cars as well and supposedly invented a windshield wiper  and, according to other sources, the car horn. in his honor, the prinz-heinrich-fahrt (prince heinrich tour) was established in 1908, like the earlier kaiserpreis a precursor to the german grand prix. henry and his brother william gave patronage to the kaiserlicher automobilclub (imperial automobile club).\\n\\nhenry also was an early proponent of introducing submarines and airplanes. he had a steamship converted into a primitive aircraft carrier for operations in the baltic sea.\\n\\nhenry respected his brother, but this attitude was not returned in the same measure. william kept his younger brother far from politics, although henry served as his representative as long as the crown prince was still in his minority. henry complied with this, for he did not interest himself in either politics or grand strategy. he did not recognize what political effect the german naval build-up would entail, and also would not have been in the position to move his brother toward a different policy.\\n\\nafter the german revolution, henry lived with his family in hemmelmark near eckernförde, in schleswig-holstein. he continued with motor sports and sailing and even in old age was a very successful participant in regattas. he popularized the prinz-heinrich-mütze (\"prince henry cap\"), which is still worn, especially by older sailors.\\n\\nin 1899, henry received an honorary doctorate (doctor of engineering honoris causa) from the technical university of berlin. also in foreign countries he received numerous similar honors, including an honorary doctorate (ll.d.) from harvard university in march 1902, during his visit to the united states.\\n\\nprince henry died of throat cancer, as his father had, in hemmelmark on 20 april 1929. \\n\\ngeorge burroughs torrey painted a portrait of him.\\n\\nnaval career and advancement\\n\\n* unterleutnant zur see, 14 august 1872; basic training and naval academy 1877-1878\\n* leutnant zur see, 18 october 1881; training cruises and naval academy 1878-1882\\n* kapitänleutnant, 18 october 1884; executive officer, armored cruiser sms oldenburg, 1886\\n* korvettenkapitän, 18 october 1887; commander, 1st torpedo boat division, 1887; commander, imperial yacht smy hohenzollern, 1888\\n* kapitän zur see, 27 januar 1889; ; commander, cruiser sms irene, 1889–1890; commander, armored coastal defense ship sms beowulf, 1892; commander, armored cruiser sms sachsen, 1892–1894; commander, armored ship of the line sms wörth, 1894–1895\\n* konteradmiral, 15 september 1895; commander, 2nd division, 1st battle squadron, 1896–1897; commander, 2nd division, cruiser squadron, 1897–1899\\n* vizeadmiral, 5 december 1899; commander, cruiser squadron, 1899–1900; commander, 1st battle squadron, 1900–1903\\n* admiral, 13 september 1901; commanding admiral, baltic sea naval command, 1903–1906, commander, high seas fleet, 1906–1909\\n* großadmiral, 4 september 1909; inspector general of the imperial navy, 1909–1918; commander-in-chief, baltic fleet, 1914–1918\\n\\nregimental commissions and honorary ranks\\n\\ngerman\\n\\n* 1. garde-regiment zu fuß (royal prussian 1st regiment of foot guards) – leutnant (second lieutenant) through generaloberst im range eines generalfeldmarschalls (colonel-general in the rank of field marshal), 1871 - 1918 \\n* kgl. sächs. 2. grenadier-regiment kaiser wilhelm, könig von preußen nr. 101 (royal saxon 2nd grenadier regiment)\\n* kgl. bayerisches artillerie-regiment nr. 8 (royal bavarian 8th artillery regiment) – generaloberst im range eines generalfeldmarschalls and chef (colonel in chief) \\n* 1. großherzogl. hessisches feldartilleree-regiment 25 (grand duchy of hesse 2nd artillery regiment)\\n* fußilier-regiment “prinz heinrich von preußen” (brandenburgisches) nr 35 (the brandenburg fusilier regiment) - generaloberst im range eines generalfeldmarschalls and chef (colonel in chief) \\n\\nforeign\\n\\n* austria-hungary k.u.k. infantry regiment nr. 20 – oberstinhaber (colonel in chief)\\n* austria-hungary k.u.k. kriegsmarine (navy) – vizeadmiral (vice admiral)\\n** austria-hungary k.u.k. kriegsmarine - konteradmiral (rear-admiral) 1899 \\n* british royal navy – admiral (honorary) 13 september 1901\\n** british royal navy - vice-admiral (honorary) 5 february 1901. \\n* russian imperial dragoon regiment nr. 33 – colonel\\nkorean empire: order of the gold cheok(대훈위금척대수장， 大勳位金尺大綬章,1904)\\n\\ntitles, styles, and honours \\n\\ntitles\\n\\n*14 aug 1862 – 20 april 1929 – his royal highness prince henry of prussia\\n\\nprussian\\n\\n* order of the black eagle, knight, 1872\\n* order of the red eagle, knight grand cross, 1872 (by statute of the order of the black eagle, for princes of prussia)\\n* prussian crown order, knight first class, 1872 (by statute of the order of the black eagle, for princes of prussia)\\n* royal house order of hohenzollern, grand commander with collar chain\\n* princely house order of hohenzollern, knight first class\\n* johanniterorden (order of st. john, bailiwick of brandenburg)\\n\\nnon-prussian german\\n\\n* order of albert the bear (anhalt), knight grand cross\\n* house order of fidelity (baden), knight grand cross\\n* order of berthold i (baden), knight grand cross\\n* knight grand cross of the order of the zähringer lion (baden)\\n* order of st. hubert (bavaria), knight\\n* order of henry the lion (brunswick), knight first class\\n* house order of the golden lion (hesse-kassel), knight\\n* ludwig order (hesse-darmstadt), knight grand cross\\n* order of the wendish crown (mecklenburg), knight grand cross, with crown and diamonds\\n* house merit order of peter friedrich ludwig (oldenburg), knight grand cross with golden crown\\n* order of the rue crown (saxony), knight\\n* order of the white falcon (saxe-weimar-eisenach), knight grand cross\\n* saxe-ernestine house order (saxe-altenburg, saxe-coburg & gotha, and saxe-meiningen), knight grand cross\\n* order of the württemberg crown (württemberg), knight grand cross\\n\\nforeign\\n\\n* royal hungarian order of st. stephen (austria-hungary), knight grand cross\\n* order of leopold (belgium), grand cordon\\n* order of christ\\'s cross (brazil), knight grand cross\\n* order of the double dragon (china), 1st grade ii class\\n* order of the elephant (denmark), knight\\n* order of the redeemer (greece), knight grand cross\\n* royal order of kalākaua i (kingdom of hawaii), knight grand cross, 1881\\n* order of the annunciation (italy), knight\\n* order of saints maurice and lazarus (italy), knight grand cross\\n* order of st. joseph (italian grand duchy of tuscany), knight grand cross\\n* order of the chrysanthemum (japan), grand cordon\\n* order of the gold cheok(korean empire),\\ngrand cordon\\n* order of the netherlands lion (netherlands), knight grand cross\\n* royal norwegian order of st. olav (norway), knight grand cross\\n* military order of christ (portugal), grand cross\\n* order of the tower and sword (portugal), grand cross\\n* order of the star of romania (romania), knight grand cross\\n* order of st. andrew the first called (russia), knight\\n* order of the white eagle (serbia), knight grand cross\\n* order of the golden fleece (spain), knight\\n* order of naval merit (spain), knight fourth class (grand cross)\\n* order of seraphim (sweden), knight\\n* order of osmanie (ottoman turkey), knight grand cross\\n* order of the garter (united kingdom), knight (expelled in 1915)\\n* order of the bath (united kingdom), knight grand cross (civil)\\n* royal victorian chain (uk) - 1902\\n* supreme order of christ (vatican), knight\\n* order of the liberator simon bolivar (venezuela), collar\\n\\nhonorary degrees and offices\\n\\n* freedom of the city of new york, 25 february 1902, during his visit to the city. \\n*freedom of the city of philadelphia, 10 march 1902, during his visit to the city. \\n* honorary doctorate (ll.d.) from harvard university, 6 march 1902.\\n\\nancestry']"
      ]
     },
     "metadata": {},
     "execution_count": 63
    }
   ],
   "source": [
    "tmp_data['wiki_text_lower']"
   ]
  },
  {
   "cell_type": "code",
   "execution_count": 64,
   "metadata": {},
   "outputs": [
    {
     "output_type": "execute_result",
     "data": {
      "text/plain": [
       "list"
      ]
     },
     "metadata": {},
     "execution_count": 64
    }
   ],
   "source": [
    "type(tmp_data['wiki_text'])"
   ]
  },
  {
   "cell_type": "code",
   "execution_count": 65,
   "metadata": {},
   "outputs": [],
   "source": [
    "from nltk.tokenize import RegexpTokenizer"
   ]
  },
  {
   "cell_type": "code",
   "execution_count": 69,
   "metadata": {},
   "outputs": [
    {
     "output_type": "stream",
     "name": "stderr",
     "text": [
      "100%|██████████| 6/6 [00:00<00:00, 64.80ex/s]\n"
     ]
    }
   ],
   "source": [
    "tokenizer = RegexpTokenizer(r'\\w+')\n",
    "\n",
    "# Remove punctuation\n",
    "tmp_data = tmp_data.map(lambda example: {'tokens': tokenizer.tokenize(example['wiki_text_lower']), 'question_token': tokenizer.tokenize(example['question'].lower())})"
   ]
  },
  {
   "cell_type": "code",
   "execution_count": 71,
   "metadata": {},
   "outputs": [
    {
     "output_type": "execute_result",
     "data": {
      "text/plain": [
       "['which', 'city', 'does', 'david', 'soul', 'come', 'from']"
      ]
     },
     "metadata": {},
     "execution_count": 71
    }
   ],
   "source": [
    "tmp_data['question_token'][0]"
   ]
  },
  {
   "cell_type": "code",
   "execution_count": 72,
   "metadata": {},
   "outputs": [],
   "source": [
    "tmp_data.save_to_disk('/Users/IdaRiis/Dropbox/DTU/MMC 2. semester/02456 Deep Learning/deep_learning_project/Data/Processed')"
   ]
  },
  {
   "cell_type": "code",
   "execution_count": null,
   "metadata": {},
   "outputs": [],
   "source": []
  }
 ]
}